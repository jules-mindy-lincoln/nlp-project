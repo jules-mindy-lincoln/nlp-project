{
 "cells": [
  {
   "cell_type": "code",
   "execution_count": 1,
   "id": "f3000e28",
   "metadata": {},
   "outputs": [
    {
     "name": "stderr",
     "output_type": "stream",
     "text": [
      "/Users/mindyshiben/codeup-data-science/nlp-project/prepare.py:67: SettingWithCopyWarning: \n",
      "A value is trying to be set on a copy of a slice from a DataFrame.\n",
      "Try using .loc[row_indexer,col_indexer] = value instead\n",
      "\n",
      "See the caveats in the documentation: https://pandas.pydata.org/pandas-docs/stable/user_guide/indexing.html#returning-a-view-versus-a-copy\n",
      "  df['stemmed'] = clean_tokens.apply(stem)\n"
     ]
    },
    {
     "name": "stdout",
     "output_type": "stream",
     "text": [
      "<class 'pandas.core.frame.DataFrame'>\n",
      "Int64Index: 1627 entries, 0 to 2142\n",
      "Data columns (total 6 columns):\n",
      " #   Column           Non-Null Count  Dtype \n",
      "---  ------           --------------  ----- \n",
      " 0   repo             1627 non-null   object\n",
      " 1   language         1627 non-null   object\n",
      " 2   readme_contents  1627 non-null   object\n",
      " 3   stemmed          1627 non-null   object\n",
      " 4   lemmatized       1627 non-null   object\n",
      " 5   total_words      1627 non-null   int64 \n",
      "dtypes: int64(1), object(5)\n",
      "memory usage: 89.0+ KB\n"
     ]
    },
    {
     "name": "stderr",
     "output_type": "stream",
     "text": [
      "/Users/mindyshiben/codeup-data-science/nlp-project/prepare.py:68: SettingWithCopyWarning: \n",
      "A value is trying to be set on a copy of a slice from a DataFrame.\n",
      "Try using .loc[row_indexer,col_indexer] = value instead\n",
      "\n",
      "See the caveats in the documentation: https://pandas.pydata.org/pandas-docs/stable/user_guide/indexing.html#returning-a-view-versus-a-copy\n",
      "  df['lemmatized'] = clean_tokens.apply(lemmatize)\n",
      "/Users/mindyshiben/codeup-data-science/nlp-project/prepare.py:69: SettingWithCopyWarning: \n",
      "A value is trying to be set on a copy of a slice from a DataFrame.\n",
      "Try using .loc[row_indexer,col_indexer] = value instead\n",
      "\n",
      "See the caveats in the documentation: https://pandas.pydata.org/pandas-docs/stable/user_guide/indexing.html#returning-a-view-versus-a-copy\n",
      "  df['total_words'] = df['lemmatized'].str.split().str.len()\n"
     ]
    }
   ],
   "source": [
    "import unicodedata\n",
    "import re\n",
    "import json\n",
    "\n",
    "import nltk\n",
    "from nltk.tokenize.toktok import ToktokTokenizer\n",
    "from nltk.corpus import stopwords\n",
    "from nltk import trigrams\n",
    "from nltk import bigrams\n",
    "from collections import Counter\n",
    "\n",
    "import pandas as pd\n",
    "import numpy as np\n",
    "import os\n",
    "import time\n",
    "import csv\n",
    "import json\n",
    "from typing import Dict, List, Optional, Union, cast\n",
    "import requests\n",
    "import prepare\n",
    "\n",
    "import seaborn as sns\n",
    "import matplotlib as plt\n",
    "\n",
    "from bs4 import BeautifulSoup\n",
    "\n",
    "df = prepare.wrangle_data()\n",
    "df.info()"
   ]
  },
  {
   "cell_type": "markdown",
   "id": "ebbc7188",
   "metadata": {},
   "source": [
    "#### prepare notes-\n",
    "- talk about handling nulls, decision to drop langs with < 5 records, and JN\n",
    "- talk about steps to get lemmatized column"
   ]
  },
  {
   "cell_type": "code",
   "execution_count": 2,
   "id": "0831e806",
   "metadata": {},
   "outputs": [],
   "source": [
    "df = prepare.wrangle_data()"
   ]
  },
  {
   "cell_type": "code",
   "execution_count": 3,
   "id": "e4d0039b",
   "metadata": {},
   "outputs": [
    {
     "name": "stdout",
     "output_type": "stream",
     "text": [
      "<class 'pandas.core.frame.DataFrame'>\n",
      "Int64Index: 1627 entries, 0 to 2142\n",
      "Data columns (total 6 columns):\n",
      " #   Column           Non-Null Count  Dtype \n",
      "---  ------           --------------  ----- \n",
      " 0   repo             1627 non-null   object\n",
      " 1   language         1627 non-null   object\n",
      " 2   readme_contents  1627 non-null   object\n",
      " 3   stemmed          1627 non-null   object\n",
      " 4   lemmatized       1627 non-null   object\n",
      " 5   total_words      1627 non-null   int64 \n",
      "dtypes: int64(1), object(5)\n",
      "memory usage: 89.0+ KB\n"
     ]
    }
   ],
   "source": [
    "df.info()"
   ]
  },
  {
   "cell_type": "code",
   "execution_count": 4,
   "id": "df00db4e",
   "metadata": {},
   "outputs": [
    {
     "data": {
      "text/plain": [
       "JavaScript    600\n",
       "HTML          396\n",
       "Python        320\n",
       "R             162\n",
       "Java          149\n",
       "Name: language, dtype: int64"
      ]
     },
     "execution_count": 4,
     "metadata": {},
     "output_type": "execute_result"
    }
   ],
   "source": [
    "df.language.value_counts()"
   ]
  },
  {
   "cell_type": "markdown",
   "id": "a3d426e5",
   "metadata": {},
   "source": [
    "#### show counts and percentage of languages\n",
    "\n",
    "- put this in function"
   ]
  },
  {
   "cell_type": "code",
   "execution_count": 5,
   "id": "684c8a6b",
   "metadata": {},
   "outputs": [
    {
     "data": {
      "text/html": [
       "<div>\n",
       "<style scoped>\n",
       "    .dataframe tbody tr th:only-of-type {\n",
       "        vertical-align: middle;\n",
       "    }\n",
       "\n",
       "    .dataframe tbody tr th {\n",
       "        vertical-align: top;\n",
       "    }\n",
       "\n",
       "    .dataframe thead th {\n",
       "        text-align: right;\n",
       "    }\n",
       "</style>\n",
       "<table border=\"1\" class=\"dataframe\">\n",
       "  <thead>\n",
       "    <tr style=\"text-align: right;\">\n",
       "      <th></th>\n",
       "      <th>counts</th>\n",
       "      <th>percent</th>\n",
       "    </tr>\n",
       "  </thead>\n",
       "  <tbody>\n",
       "    <tr>\n",
       "      <th>JavaScript</th>\n",
       "      <td>600</td>\n",
       "      <td>0.368777</td>\n",
       "    </tr>\n",
       "    <tr>\n",
       "      <th>HTML</th>\n",
       "      <td>396</td>\n",
       "      <td>0.243393</td>\n",
       "    </tr>\n",
       "    <tr>\n",
       "      <th>Python</th>\n",
       "      <td>320</td>\n",
       "      <td>0.196681</td>\n",
       "    </tr>\n",
       "    <tr>\n",
       "      <th>R</th>\n",
       "      <td>162</td>\n",
       "      <td>0.099570</td>\n",
       "    </tr>\n",
       "    <tr>\n",
       "      <th>Java</th>\n",
       "      <td>149</td>\n",
       "      <td>0.091580</td>\n",
       "    </tr>\n",
       "  </tbody>\n",
       "</table>\n",
       "</div>"
      ],
      "text/plain": [
       "            counts   percent\n",
       "JavaScript     600  0.368777\n",
       "HTML           396  0.243393\n",
       "Python         320  0.196681\n",
       "R              162  0.099570\n",
       "Java           149  0.091580"
      ]
     },
     "execution_count": 5,
     "metadata": {},
     "output_type": "execute_result"
    }
   ],
   "source": [
    "langs = pd.concat([df.language.value_counts(),\n",
    "                    df.language.value_counts(normalize=True)], axis=1)\n",
    "langs.columns = ['counts', 'percent']\n",
    "langs"
   ]
  },
  {
   "cell_type": "code",
   "execution_count": 6,
   "id": "0c8ffea3",
   "metadata": {},
   "outputs": [],
   "source": [
    "ADDITIONAL = ['The', 'I', 'This', 'app', 'run', 'project', 'user', 'use', 'mental', 'file', 'health',\n",
    "       'create', 'using', 'page', 'code', 'also', 'data', 'help', 'used']\n",
    "             \n",
    "#'app', 'run', 'project', 'user', 'use', 'file', 'page', 'using', 'code',\n",
    "       #'also', 'data', 'help', '1', 'used', '2']\n",
    "              \n",
    "#'run', 'page', 'use', '1', 'br', 'user', '3', 'install', '2', 'website',\n",
    "#'start', 'time', 'p', 'make', 'feature']\n",
    "def clean(readme_contents):\n",
    "    'A simple function to cleanup text data'\n",
    "    wnl = nltk.stem.WordNetLemmatizer()\n",
    "    stopwords = nltk.corpus.stopwords.words('english') + ADDITIONAL\n",
    "    text = (unicodedata.normalize('NFKD', readme_contents)\n",
    "             .encode('ascii', 'ignore')\n",
    "             .decode('utf-8', 'ignore')\n",
    "             .lower())\n",
    "    #words = re.sub(r'[^a-z\\s]', '', text).split()\n",
    "    words = re.sub (r'([^a-zA-Z ]+?)', \"\", text).split()\n",
    "    #words = re.sub(r'[\\D]', '', words).split()\n",
    "    \n",
    "    \n",
    "    return [wnl.lemmatize(word) for word in words if word not in stopwords]"
   ]
  },
  {
   "cell_type": "code",
   "execution_count": 7,
   "id": "0585a3ea",
   "metadata": {},
   "outputs": [],
   "source": [
    "JavaScript_words = clean(' '.join(df[df.language == 'JavaScript'].readme_contents))\n",
    "HTML_words = clean(' '.join(df[df.language == 'HTML'].readme_contents))\n",
    "Python_words = clean(' '.join(df[df.language == 'Python'].readme_contents))\n",
    "Java_words = clean(' '.join(df[df.language == 'Java'].readme_contents))\n",
    "R_words = clean(' '.join(df[df.language == 'R'].readme_contents))\n",
    "all_words = clean(' '.join(df.readme_contents))"
   ]
  },
  {
   "cell_type": "code",
   "execution_count": 8,
   "id": "9fba21b1",
   "metadata": {},
   "outputs": [
    {
     "data": {
      "text/html": [
       "<div>\n",
       "<style scoped>\n",
       "    .dataframe tbody tr th:only-of-type {\n",
       "        vertical-align: middle;\n",
       "    }\n",
       "\n",
       "    .dataframe tbody tr th {\n",
       "        vertical-align: top;\n",
       "    }\n",
       "\n",
       "    .dataframe thead th {\n",
       "        text-align: right;\n",
       "    }\n",
       "</style>\n",
       "<table border=\"1\" class=\"dataframe\">\n",
       "  <thead>\n",
       "    <tr style=\"text-align: right;\">\n",
       "      <th></th>\n",
       "      <th>repo</th>\n",
       "      <th>language</th>\n",
       "      <th>readme_contents</th>\n",
       "      <th>stemmed</th>\n",
       "      <th>lemmatized</th>\n",
       "      <th>total_words</th>\n",
       "    </tr>\n",
       "  </thead>\n",
       "  <tbody>\n",
       "    <tr>\n",
       "      <th>0</th>\n",
       "      <td>kharrigian/mental-health-datasets</td>\n",
       "      <td>Python</td>\n",
       "      <td>\\n# Mental Health Datasets\\n\\nThe information ...</td>\n",
       "      <td>mental health datasetsth inform evolv list dat...</td>\n",
       "      <td>mental health datasetsthe information evolving...</td>\n",
       "      <td>2716</td>\n",
       "    </tr>\n",
       "    <tr>\n",
       "      <th>1</th>\n",
       "      <td>behavioral-data/Empathy-Mental-Health</td>\n",
       "      <td>Python</td>\n",
       "      <td># Empathy in Text-based Mental Health Support\\...</td>\n",
       "      <td>empathi textbas mental health supportthi repos...</td>\n",
       "      <td>empathy textbased mental health supportthis re...</td>\n",
       "      <td>400</td>\n",
       "    </tr>\n",
       "    <tr>\n",
       "      <th>2</th>\n",
       "      <td>stutisehgal/RASA-Mental-Health-Chatbot</td>\n",
       "      <td>Python</td>\n",
       "      <td># RASA-Mental-Health-Chatbot\\n\\nMental health ...</td>\n",
       "      <td>rasamentalhealthchatbotment health chatbot dev...</td>\n",
       "      <td>rasamentalhealthchatbotmental health chatbot d...</td>\n",
       "      <td>55</td>\n",
       "    </tr>\n",
       "    <tr>\n",
       "      <th>3</th>\n",
       "      <td>openeobs/openeobs</td>\n",
       "      <td>Python</td>\n",
       "      <td># Open-eObs\\n[![Codacy Badge](https://api.coda...</td>\n",
       "      <td>openeobscodaci badgeutmmediumreferralamputmcon...</td>\n",
       "      <td>openeobscodacy badgeutmmediumreferralamputmcon...</td>\n",
       "      <td>223</td>\n",
       "    </tr>\n",
       "    <tr>\n",
       "      <th>4</th>\n",
       "      <td>kharrigian/mental-health-keywords</td>\n",
       "      <td>Python</td>\n",
       "      <td># Mental Health Keywords for Twitter\\n\\nThis r...</td>\n",
       "      <td>mental health keyword twitterthi repositori co...</td>\n",
       "      <td>mental health keywords twitterthis repository ...</td>\n",
       "      <td>468</td>\n",
       "    </tr>\n",
       "  </tbody>\n",
       "</table>\n",
       "</div>"
      ],
      "text/plain": [
       "                                     repo language  \\\n",
       "0       kharrigian/mental-health-datasets   Python   \n",
       "1   behavioral-data/Empathy-Mental-Health   Python   \n",
       "2  stutisehgal/RASA-Mental-Health-Chatbot   Python   \n",
       "3                       openeobs/openeobs   Python   \n",
       "4       kharrigian/mental-health-keywords   Python   \n",
       "\n",
       "                                     readme_contents  \\\n",
       "0  \\n# Mental Health Datasets\\n\\nThe information ...   \n",
       "1  # Empathy in Text-based Mental Health Support\\...   \n",
       "2  # RASA-Mental-Health-Chatbot\\n\\nMental health ...   \n",
       "3  # Open-eObs\\n[![Codacy Badge](https://api.coda...   \n",
       "4  # Mental Health Keywords for Twitter\\n\\nThis r...   \n",
       "\n",
       "                                             stemmed  \\\n",
       "0  mental health datasetsth inform evolv list dat...   \n",
       "1  empathi textbas mental health supportthi repos...   \n",
       "2  rasamentalhealthchatbotment health chatbot dev...   \n",
       "3  openeobscodaci badgeutmmediumreferralamputmcon...   \n",
       "4  mental health keyword twitterthi repositori co...   \n",
       "\n",
       "                                          lemmatized  total_words  \n",
       "0  mental health datasetsthe information evolving...         2716  \n",
       "1  empathy textbased mental health supportthis re...          400  \n",
       "2  rasamentalhealthchatbotmental health chatbot d...           55  \n",
       "3  openeobscodacy badgeutmmediumreferralamputmcon...          223  \n",
       "4  mental health keywords twitterthis repository ...          468  "
      ]
     },
     "execution_count": 8,
     "metadata": {},
     "output_type": "execute_result"
    }
   ],
   "source": [
    "df.head()"
   ]
  },
  {
   "cell_type": "code",
   "execution_count": 9,
   "id": "48c7d599",
   "metadata": {},
   "outputs": [
    {
     "data": {
      "text/plain": [
       "<AxesSubplot:>"
      ]
     },
     "execution_count": 9,
     "metadata": {},
     "output_type": "execute_result"
    },
    {
     "data": {
      "image/png": "[encoded data removed]",
      "text/plain": [
       "<Figure size 432x288 with 1 Axes>"
      ]
     },
     "metadata": {
      "needs_background": "light"
     },
     "output_type": "display_data"
    }
   ],
   "source": [
    "df.language.value_counts().plot(kind='bar')"
   ]
  },
  {
   "cell_type": "code",
   "execution_count": 10,
   "id": "550708a7",
   "metadata": {},
   "outputs": [
    {
     "data": {
      "text/plain": [
       "<AxesSubplot:xlabel='language'>"
      ]
     },
     "execution_count": 10,
     "metadata": {},
     "output_type": "execute_result"
    },
    {
     "data": {
      "image/png": "[encoded data removed]",
      "text/plain": [
       "<Figure size 432x288 with 1 Axes>"
      ]
     },
     "metadata": {
      "needs_background": "light"
     },
     "output_type": "display_data"
    }
   ],
   "source": [
    "df.total_words.groupby(df.language).mean().plot(kind='bar')"
   ]
  },
  {
   "cell_type": "code",
   "execution_count": 11,
   "id": "96790a0c",
   "metadata": {},
   "outputs": [
    {
     "data": {
      "text/plain": [
       "171.0"
      ]
     },
     "execution_count": 11,
     "metadata": {},
     "output_type": "execute_result"
    }
   ],
   "source": [
    "df.total_words.quantile(.66)"
   ]
  },
  {
   "cell_type": "code",
   "execution_count": 12,
   "id": "d6aa3048",
   "metadata": {},
   "outputs": [],
   "source": [
    "conditions = [(df.total_words > 171),\n",
    "              (df.total_words >= 51) & (df.total_words <= 171),\n",
    "              (df.total_words < 51)]\n",
    "choices = ['high_count', 'med_count', 'low_count']\n",
    "\n",
    "df['count_bin'] = np.select(conditions, choices)"
   ]
  },
  {
   "cell_type": "code",
   "execution_count": 13,
   "id": "d0358ad4",
   "metadata": {},
   "outputs": [],
   "source": [
    "df_plot = df.groupby(['language', 'count_bin']).size().reset_index().pivot(columns='count_bin', index='language', values=0)"
   ]
  },
  {
   "cell_type": "code",
   "execution_count": 14,
   "id": "e211156c",
   "metadata": {},
   "outputs": [
    {
     "data": {
      "text/plain": [
       "<AxesSubplot:xlabel='language'>"
      ]
     },
     "execution_count": 14,
     "metadata": {},
     "output_type": "execute_result"
    },
    {
     "data": {
      "image/png": "[encoded data removed]",
      "text/plain": [
       "<Figure size 432x288 with 1 Axes>"
      ]
     },
     "metadata": {
      "needs_background": "light"
     },
     "output_type": "display_data"
    }
   ],
   "source": [
    "df_plot.plot(kind='bar')"
   ]
  },
  {
   "cell_type": "code",
   "execution_count": 15,
   "id": "0cb65a18",
   "metadata": {},
   "outputs": [
    {
     "data": {
      "text/plain": [
       "JavaScript    600\n",
       "HTML          396\n",
       "Python        320\n",
       "R             162\n",
       "Java          149\n",
       "Name: language, dtype: int64"
      ]
     },
     "execution_count": 15,
     "metadata": {},
     "output_type": "execute_result"
    }
   ],
   "source": [
    "df.language.value_counts()"
   ]
  },
  {
   "cell_type": "code",
   "execution_count": 16,
   "id": "3bc71556",
   "metadata": {},
   "outputs": [],
   "source": [
    "JavaScript_freq = pd.Series(JavaScript_words).value_counts()\n",
    "HTML_freq = pd.Series(HTML_words).value_counts()\n",
    "Python_freq = pd.Series(Python_words).value_counts()\n",
    "Java_freq = pd.Series(Java_words).value_counts()\n",
    "R_freq = pd.Series(R_words).value_counts()\n",
    "all_freq = pd.Series(all_words).value_counts()"
   ]
  },
  {
   "cell_type": "code",
   "execution_count": 18,
   "id": "05f95a20",
   "metadata": {},
   "outputs": [
    {
     "data": {
      "text/html": [
       "<div>\n",
       "<style scoped>\n",
       "    .dataframe tbody tr th:only-of-type {\n",
       "        vertical-align: middle;\n",
       "    }\n",
       "\n",
       "    .dataframe tbody tr th {\n",
       "        vertical-align: top;\n",
       "    }\n",
       "\n",
       "    .dataframe thead th {\n",
       "        text-align: right;\n",
       "    }\n",
       "</style>\n",
       "<table border=\"1\" class=\"dataframe\">\n",
       "  <thead>\n",
       "    <tr style=\"text-align: right;\">\n",
       "      <th></th>\n",
       "      <th>all</th>\n",
       "      <th>JavaScript</th>\n",
       "      <th>HTML</th>\n",
       "      <th>Python</th>\n",
       "      <th>Java</th>\n",
       "      <th>R</th>\n",
       "    </tr>\n",
       "  </thead>\n",
       "  <tbody>\n",
       "    <tr>\n",
       "      <th>aa</th>\n",
       "      <td>2</td>\n",
       "      <td>0</td>\n",
       "      <td>1</td>\n",
       "      <td>0</td>\n",
       "      <td>1</td>\n",
       "      <td>0</td>\n",
       "    </tr>\n",
       "    <tr>\n",
       "      <th>aaa</th>\n",
       "      <td>1</td>\n",
       "      <td>0</td>\n",
       "      <td>0</td>\n",
       "      <td>0</td>\n",
       "      <td>1</td>\n",
       "      <td>0</td>\n",
       "    </tr>\n",
       "    <tr>\n",
       "      <th>aaaa</th>\n",
       "      <td>3</td>\n",
       "      <td>0</td>\n",
       "      <td>0</td>\n",
       "      <td>1</td>\n",
       "      <td>0</td>\n",
       "      <td>2</td>\n",
       "    </tr>\n",
       "    <tr>\n",
       "      <th>aac</th>\n",
       "      <td>1</td>\n",
       "      <td>0</td>\n",
       "      <td>0</td>\n",
       "      <td>0</td>\n",
       "      <td>1</td>\n",
       "      <td>0</td>\n",
       "    </tr>\n",
       "    <tr>\n",
       "      <th>aachal</th>\n",
       "      <td>2</td>\n",
       "      <td>2</td>\n",
       "      <td>0</td>\n",
       "      <td>0</td>\n",
       "      <td>0</td>\n",
       "      <td>0</td>\n",
       "    </tr>\n",
       "  </tbody>\n",
       "</table>\n",
       "</div>"
      ],
      "text/plain": [
       "        all  JavaScript  HTML  Python  Java  R\n",
       "aa        2           0     1       0     1  0\n",
       "aaa       1           0     0       0     1  0\n",
       "aaaa      3           0     0       1     0  2\n",
       "aac       1           0     0       0     1  0\n",
       "aachal    2           2     0       0     0  0"
      ]
     },
     "execution_count": 18,
     "metadata": {},
     "output_type": "execute_result"
    }
   ],
   "source": [
    "word_counts = (pd.concat([all_freq, JavaScript_freq, HTML_freq, Python_freq, \n",
    "                    Java_freq, R_freq], axis=1, sort=True)\n",
    "                .set_axis(['all', 'JavaScript', 'HTML', 'Python', 'Java', 'R'], axis=1, inplace=False)\n",
    "                .fillna(0)\n",
    "                .apply(lambda s: s.astype(int)))\n",
    "\n",
    "word_counts.head()"
   ]
  },
  {
   "cell_type": "code",
   "execution_count": 19,
   "id": "63770d31",
   "metadata": {},
   "outputs": [
    {
     "data": {
      "text/html": [
       "<div>\n",
       "<style scoped>\n",
       "    .dataframe tbody tr th:only-of-type {\n",
       "        vertical-align: middle;\n",
       "    }\n",
       "\n",
       "    .dataframe tbody tr th {\n",
       "        vertical-align: top;\n",
       "    }\n",
       "\n",
       "    .dataframe thead th {\n",
       "        text-align: right;\n",
       "    }\n",
       "</style>\n",
       "<table border=\"1\" class=\"dataframe\">\n",
       "  <thead>\n",
       "    <tr style=\"text-align: right;\">\n",
       "      <th></th>\n",
       "      <th>all</th>\n",
       "      <th>JavaScript</th>\n",
       "      <th>HTML</th>\n",
       "      <th>Python</th>\n",
       "      <th>Java</th>\n",
       "      <th>R</th>\n",
       "    </tr>\n",
       "  </thead>\n",
       "  <tbody>\n",
       "    <tr>\n",
       "      <th>build</th>\n",
       "      <td>1475</td>\n",
       "      <td>1268</td>\n",
       "      <td>90</td>\n",
       "      <td>54</td>\n",
       "      <td>41</td>\n",
       "      <td>22</td>\n",
       "    </tr>\n",
       "    <tr>\n",
       "      <th>npm</th>\n",
       "      <td>1348</td>\n",
       "      <td>1207</td>\n",
       "      <td>93</td>\n",
       "      <td>15</td>\n",
       "      <td>33</td>\n",
       "      <td>0</td>\n",
       "    </tr>\n",
       "    <tr>\n",
       "      <th>react</th>\n",
       "      <td>1302</td>\n",
       "      <td>1209</td>\n",
       "      <td>47</td>\n",
       "      <td>22</td>\n",
       "      <td>24</td>\n",
       "      <td>0</td>\n",
       "    </tr>\n",
       "    <tr>\n",
       "      <th>section</th>\n",
       "      <td>1130</td>\n",
       "      <td>843</td>\n",
       "      <td>219</td>\n",
       "      <td>42</td>\n",
       "      <td>8</td>\n",
       "      <td>18</td>\n",
       "    </tr>\n",
       "    <tr>\n",
       "      <th>test</th>\n",
       "      <td>1115</td>\n",
       "      <td>782</td>\n",
       "      <td>125</td>\n",
       "      <td>127</td>\n",
       "      <td>55</td>\n",
       "      <td>26</td>\n",
       "    </tr>\n",
       "    <tr>\n",
       "      <th>user</th>\n",
       "      <td>1043</td>\n",
       "      <td>482</td>\n",
       "      <td>216</td>\n",
       "      <td>187</td>\n",
       "      <td>141</td>\n",
       "      <td>17</td>\n",
       "    </tr>\n",
       "    <tr>\n",
       "      <th>feature</th>\n",
       "      <td>1015</td>\n",
       "      <td>520</td>\n",
       "      <td>147</td>\n",
       "      <td>264</td>\n",
       "      <td>63</td>\n",
       "      <td>21</td>\n",
       "    </tr>\n",
       "    <tr>\n",
       "      <th>install</th>\n",
       "      <td>973</td>\n",
       "      <td>573</td>\n",
       "      <td>113</td>\n",
       "      <td>218</td>\n",
       "      <td>36</td>\n",
       "      <td>33</td>\n",
       "    </tr>\n",
       "    <tr>\n",
       "      <th>need</th>\n",
       "      <td>928</td>\n",
       "      <td>539</td>\n",
       "      <td>160</td>\n",
       "      <td>135</td>\n",
       "      <td>48</td>\n",
       "      <td>46</td>\n",
       "    </tr>\n",
       "    <tr>\n",
       "      <th>make</th>\n",
       "      <td>919</td>\n",
       "      <td>554</td>\n",
       "      <td>178</td>\n",
       "      <td>124</td>\n",
       "      <td>40</td>\n",
       "      <td>23</td>\n",
       "    </tr>\n",
       "    <tr>\n",
       "      <th>people</th>\n",
       "      <td>891</td>\n",
       "      <td>296</td>\n",
       "      <td>318</td>\n",
       "      <td>155</td>\n",
       "      <td>53</td>\n",
       "      <td>69</td>\n",
       "    </tr>\n",
       "    <tr>\n",
       "      <th>information</th>\n",
       "      <td>849</td>\n",
       "      <td>405</td>\n",
       "      <td>203</td>\n",
       "      <td>106</td>\n",
       "      <td>74</td>\n",
       "      <td>61</td>\n",
       "    </tr>\n",
       "    <tr>\n",
       "      <th>time</th>\n",
       "      <td>842</td>\n",
       "      <td>410</td>\n",
       "      <td>185</td>\n",
       "      <td>152</td>\n",
       "      <td>64</td>\n",
       "      <td>31</td>\n",
       "    </tr>\n",
       "    <tr>\n",
       "      <th>application</th>\n",
       "      <td>831</td>\n",
       "      <td>353</td>\n",
       "      <td>150</td>\n",
       "      <td>128</td>\n",
       "      <td>157</td>\n",
       "      <td>43</td>\n",
       "    </tr>\n",
       "    <tr>\n",
       "      <th>like</th>\n",
       "      <td>788</td>\n",
       "      <td>495</td>\n",
       "      <td>137</td>\n",
       "      <td>92</td>\n",
       "      <td>36</td>\n",
       "      <td>28</td>\n",
       "    </tr>\n",
       "    <tr>\n",
       "      <th>file</th>\n",
       "      <td>764</td>\n",
       "      <td>404</td>\n",
       "      <td>119</td>\n",
       "      <td>132</td>\n",
       "      <td>37</td>\n",
       "      <td>72</td>\n",
       "    </tr>\n",
       "    <tr>\n",
       "      <th>get</th>\n",
       "      <td>743</td>\n",
       "      <td>392</td>\n",
       "      <td>138</td>\n",
       "      <td>127</td>\n",
       "      <td>67</td>\n",
       "      <td>19</td>\n",
       "    </tr>\n",
       "    <tr>\n",
       "      <th>see</th>\n",
       "      <td>741</td>\n",
       "      <td>477</td>\n",
       "      <td>119</td>\n",
       "      <td>93</td>\n",
       "      <td>28</td>\n",
       "      <td>24</td>\n",
       "    </tr>\n",
       "    <tr>\n",
       "      <th>website</th>\n",
       "      <td>724</td>\n",
       "      <td>212</td>\n",
       "      <td>447</td>\n",
       "      <td>47</td>\n",
       "      <td>6</td>\n",
       "      <td>12</td>\n",
       "    </tr>\n",
       "    <tr>\n",
       "      <th>start</th>\n",
       "      <td>718</td>\n",
       "      <td>513</td>\n",
       "      <td>72</td>\n",
       "      <td>72</td>\n",
       "      <td>39</td>\n",
       "      <td>22</td>\n",
       "    </tr>\n",
       "  </tbody>\n",
       "</table>\n",
       "</div>"
      ],
      "text/plain": [
       "              all  JavaScript  HTML  Python  Java   R\n",
       "build        1475        1268    90      54    41  22\n",
       "npm          1348        1207    93      15    33   0\n",
       "react        1302        1209    47      22    24   0\n",
       "section      1130         843   219      42     8  18\n",
       "test         1115         782   125     127    55  26\n",
       "user         1043         482   216     187   141  17\n",
       "feature      1015         520   147     264    63  21\n",
       "install       973         573   113     218    36  33\n",
       "need          928         539   160     135    48  46\n",
       "make          919         554   178     124    40  23\n",
       "people        891         296   318     155    53  69\n",
       "information   849         405   203     106    74  61\n",
       "time          842         410   185     152    64  31\n",
       "application   831         353   150     128   157  43\n",
       "like          788         495   137      92    36  28\n",
       "file          764         404   119     132    37  72\n",
       "get           743         392   138     127    67  19\n",
       "see           741         477   119      93    28  24\n",
       "website       724         212   447      47     6  12\n",
       "start         718         513    72      72    39  22"
      ]
     },
     "execution_count": 19,
     "metadata": {},
     "output_type": "execute_result"
    }
   ],
   "source": [
    "word_counts.sort_values(by='all', ascending=False).head(20)"
   ]
  },
  {
   "cell_type": "code",
   "execution_count": 20,
   "id": "5888da54",
   "metadata": {},
   "outputs": [
    {
     "data": {
      "text/html": [
       "<div>\n",
       "<style scoped>\n",
       "    .dataframe tbody tr th:only-of-type {\n",
       "        vertical-align: middle;\n",
       "    }\n",
       "\n",
       "    .dataframe tbody tr th {\n",
       "        vertical-align: top;\n",
       "    }\n",
       "\n",
       "    .dataframe thead th {\n",
       "        text-align: right;\n",
       "    }\n",
       "</style>\n",
       "<table border=\"1\" class=\"dataframe\">\n",
       "  <thead>\n",
       "    <tr style=\"text-align: right;\">\n",
       "      <th></th>\n",
       "      <th>all</th>\n",
       "      <th>JavaScript</th>\n",
       "      <th>HTML</th>\n",
       "      <th>Python</th>\n",
       "      <th>Java</th>\n",
       "      <th>R</th>\n",
       "    </tr>\n",
       "  </thead>\n",
       "  <tbody>\n",
       "    <tr>\n",
       "      <th>python</th>\n",
       "      <td>515</td>\n",
       "      <td>75</td>\n",
       "      <td>82</td>\n",
       "      <td>346</td>\n",
       "      <td>2</td>\n",
       "      <td>10</td>\n",
       "    </tr>\n",
       "    <tr>\n",
       "      <th>model</th>\n",
       "      <td>597</td>\n",
       "      <td>82</td>\n",
       "      <td>35</td>\n",
       "      <td>316</td>\n",
       "      <td>10</td>\n",
       "      <td>154</td>\n",
       "    </tr>\n",
       "    <tr>\n",
       "      <th>feature</th>\n",
       "      <td>1015</td>\n",
       "      <td>520</td>\n",
       "      <td>147</td>\n",
       "      <td>264</td>\n",
       "      <td>63</td>\n",
       "      <td>21</td>\n",
       "    </tr>\n",
       "    <tr>\n",
       "      <th>install</th>\n",
       "      <td>973</td>\n",
       "      <td>573</td>\n",
       "      <td>113</td>\n",
       "      <td>218</td>\n",
       "      <td>36</td>\n",
       "      <td>33</td>\n",
       "    </tr>\n",
       "    <tr>\n",
       "      <th>user</th>\n",
       "      <td>1043</td>\n",
       "      <td>482</td>\n",
       "      <td>216</td>\n",
       "      <td>187</td>\n",
       "      <td>141</td>\n",
       "      <td>17</td>\n",
       "    </tr>\n",
       "    <tr>\n",
       "      <th>bot</th>\n",
       "      <td>327</td>\n",
       "      <td>68</td>\n",
       "      <td>56</td>\n",
       "      <td>186</td>\n",
       "      <td>15</td>\n",
       "      <td>2</td>\n",
       "    </tr>\n",
       "    <tr>\n",
       "      <th>depression</th>\n",
       "      <td>509</td>\n",
       "      <td>103</td>\n",
       "      <td>148</td>\n",
       "      <td>173</td>\n",
       "      <td>42</td>\n",
       "      <td>43</td>\n",
       "    </tr>\n",
       "    <tr>\n",
       "      <th>people</th>\n",
       "      <td>891</td>\n",
       "      <td>296</td>\n",
       "      <td>318</td>\n",
       "      <td>155</td>\n",
       "      <td>53</td>\n",
       "      <td>69</td>\n",
       "    </tr>\n",
       "    <tr>\n",
       "      <th>time</th>\n",
       "      <td>842</td>\n",
       "      <td>410</td>\n",
       "      <td>185</td>\n",
       "      <td>152</td>\n",
       "      <td>64</td>\n",
       "      <td>31</td>\n",
       "    </tr>\n",
       "    <tr>\n",
       "      <th>twitter</th>\n",
       "      <td>220</td>\n",
       "      <td>16</td>\n",
       "      <td>40</td>\n",
       "      <td>145</td>\n",
       "      <td>1</td>\n",
       "      <td>18</td>\n",
       "    </tr>\n",
       "    <tr>\n",
       "      <th>dataset</th>\n",
       "      <td>295</td>\n",
       "      <td>7</td>\n",
       "      <td>37</td>\n",
       "      <td>144</td>\n",
       "      <td>3</td>\n",
       "      <td>104</td>\n",
       "    </tr>\n",
       "    <tr>\n",
       "      <th>analysis</th>\n",
       "      <td>426</td>\n",
       "      <td>64</td>\n",
       "      <td>53</td>\n",
       "      <td>144</td>\n",
       "      <td>22</td>\n",
       "      <td>143</td>\n",
       "    </tr>\n",
       "    <tr>\n",
       "      <th>command</th>\n",
       "      <td>622</td>\n",
       "      <td>394</td>\n",
       "      <td>50</td>\n",
       "      <td>143</td>\n",
       "      <td>23</td>\n",
       "      <td>12</td>\n",
       "    </tr>\n",
       "    <tr>\n",
       "      <th>following</th>\n",
       "      <td>556</td>\n",
       "      <td>253</td>\n",
       "      <td>75</td>\n",
       "      <td>136</td>\n",
       "      <td>22</td>\n",
       "      <td>70</td>\n",
       "    </tr>\n",
       "    <tr>\n",
       "      <th>database</th>\n",
       "      <td>457</td>\n",
       "      <td>218</td>\n",
       "      <td>46</td>\n",
       "      <td>135</td>\n",
       "      <td>45</td>\n",
       "      <td>13</td>\n",
       "    </tr>\n",
       "    <tr>\n",
       "      <th>need</th>\n",
       "      <td>928</td>\n",
       "      <td>539</td>\n",
       "      <td>160</td>\n",
       "      <td>135</td>\n",
       "      <td>48</td>\n",
       "      <td>46</td>\n",
       "    </tr>\n",
       "    <tr>\n",
       "      <th>file</th>\n",
       "      <td>764</td>\n",
       "      <td>404</td>\n",
       "      <td>119</td>\n",
       "      <td>132</td>\n",
       "      <td>37</td>\n",
       "      <td>72</td>\n",
       "    </tr>\n",
       "    <tr>\n",
       "      <th>value</th>\n",
       "      <td>301</td>\n",
       "      <td>81</td>\n",
       "      <td>39</td>\n",
       "      <td>131</td>\n",
       "      <td>9</td>\n",
       "      <td>41</td>\n",
       "    </tr>\n",
       "    <tr>\n",
       "      <th>disorder</th>\n",
       "      <td>355</td>\n",
       "      <td>63</td>\n",
       "      <td>95</td>\n",
       "      <td>129</td>\n",
       "      <td>15</td>\n",
       "      <td>53</td>\n",
       "    </tr>\n",
       "    <tr>\n",
       "      <th>set</th>\n",
       "      <td>640</td>\n",
       "      <td>355</td>\n",
       "      <td>70</td>\n",
       "      <td>129</td>\n",
       "      <td>32</td>\n",
       "      <td>54</td>\n",
       "    </tr>\n",
       "  </tbody>\n",
       "</table>\n",
       "</div>"
      ],
      "text/plain": [
       "             all  JavaScript  HTML  Python  Java    R\n",
       "python       515          75    82     346     2   10\n",
       "model        597          82    35     316    10  154\n",
       "feature     1015         520   147     264    63   21\n",
       "install      973         573   113     218    36   33\n",
       "user        1043         482   216     187   141   17\n",
       "bot          327          68    56     186    15    2\n",
       "depression   509         103   148     173    42   43\n",
       "people       891         296   318     155    53   69\n",
       "time         842         410   185     152    64   31\n",
       "twitter      220          16    40     145     1   18\n",
       "dataset      295           7    37     144     3  104\n",
       "analysis     426          64    53     144    22  143\n",
       "command      622         394    50     143    23   12\n",
       "following    556         253    75     136    22   70\n",
       "database     457         218    46     135    45   13\n",
       "need         928         539   160     135    48   46\n",
       "file         764         404   119     132    37   72\n",
       "value        301          81    39     131     9   41\n",
       "disorder     355          63    95     129    15   53\n",
       "set          640         355    70     129    32   54"
      ]
     },
     "execution_count": 20,
     "metadata": {},
     "output_type": "execute_result"
    }
   ],
   "source": [
    "word_counts.sort_values(by='Python', ascending=False).head(20)"
   ]
  },
  {
   "cell_type": "code",
   "execution_count": 21,
   "id": "f9e9f014",
   "metadata": {},
   "outputs": [],
   "source": [
    "js_top = word_counts.sort_values(by='JavaScript', ascending=False).head(20)\n",
    "html_top = word_counts.sort_values(by='HTML', ascending=False).head(20)\n",
    "python_top = word_counts.sort_values(by='Python', ascending=False).head(20)\n",
    "java_top = word_counts.sort_values(by='Java', ascending=False).head(20)\n",
    "r_top = word_counts.sort_values(by='R', ascending=False).head(20)"
   ]
  },
  {
   "cell_type": "code",
   "execution_count": 22,
   "id": "3c61a4c7",
   "metadata": {},
   "outputs": [
    {
     "data": {
      "text/html": [
       "<div>\n",
       "<style scoped>\n",
       "    .dataframe tbody tr th:only-of-type {\n",
       "        vertical-align: middle;\n",
       "    }\n",
       "\n",
       "    .dataframe tbody tr th {\n",
       "        vertical-align: top;\n",
       "    }\n",
       "\n",
       "    .dataframe thead th {\n",
       "        text-align: right;\n",
       "    }\n",
       "</style>\n",
       "<table border=\"1\" class=\"dataframe\">\n",
       "  <thead>\n",
       "    <tr style=\"text-align: right;\">\n",
       "      <th></th>\n",
       "      <th>HTML</th>\n",
       "      <th>Java</th>\n",
       "      <th>JavaScript</th>\n",
       "      <th>Python</th>\n",
       "      <th>R</th>\n",
       "      <th>all</th>\n",
       "    </tr>\n",
       "  </thead>\n",
       "  <tbody>\n",
       "    <tr>\n",
       "      <th>build</th>\n",
       "      <td>90</td>\n",
       "      <td>41</td>\n",
       "      <td>1268</td>\n",
       "      <td>54</td>\n",
       "      <td>22</td>\n",
       "      <td>1475</td>\n",
       "    </tr>\n",
       "    <tr>\n",
       "      <th>react</th>\n",
       "      <td>47</td>\n",
       "      <td>24</td>\n",
       "      <td>1209</td>\n",
       "      <td>22</td>\n",
       "      <td>0</td>\n",
       "      <td>1302</td>\n",
       "    </tr>\n",
       "    <tr>\n",
       "      <th>npm</th>\n",
       "      <td>93</td>\n",
       "      <td>33</td>\n",
       "      <td>1207</td>\n",
       "      <td>15</td>\n",
       "      <td>0</td>\n",
       "      <td>1348</td>\n",
       "    </tr>\n",
       "    <tr>\n",
       "      <th>section</th>\n",
       "      <td>219</td>\n",
       "      <td>8</td>\n",
       "      <td>843</td>\n",
       "      <td>42</td>\n",
       "      <td>18</td>\n",
       "      <td>1130</td>\n",
       "    </tr>\n",
       "    <tr>\n",
       "      <th>test</th>\n",
       "      <td>125</td>\n",
       "      <td>55</td>\n",
       "      <td>782</td>\n",
       "      <td>127</td>\n",
       "      <td>26</td>\n",
       "      <td>1115</td>\n",
       "    </tr>\n",
       "  </tbody>\n",
       "</table>\n",
       "</div>"
      ],
      "text/plain": [
       "         HTML  Java  JavaScript  Python   R   all\n",
       "build      90    41        1268      54  22  1475\n",
       "react      47    24        1209      22   0  1302\n",
       "npm        93    33        1207      15   0  1348\n",
       "section   219     8         843      42  18  1130\n",
       "test      125    55         782     127  26  1115"
      ]
     },
     "execution_count": 22,
     "metadata": {},
     "output_type": "execute_result"
    }
   ],
   "source": [
    "top_words = (pd.concat([js_top, html_top, python_top, java_top,\n",
    "                    r_top], axis=0, sort=True)\n",
    "                .fillna(0)\n",
    "                .apply(lambda s: s.astype(int)))\n",
    "\n",
    "top_words.head()"
   ]
  },
  {
   "cell_type": "code",
   "execution_count": 23,
   "id": "661465ab",
   "metadata": {},
   "outputs": [],
   "source": [
    "top_words= top_words.drop(columns=['all'])"
   ]
  },
  {
   "cell_type": "code",
   "execution_count": 24,
   "id": "807321da",
   "metadata": {},
   "outputs": [
    {
     "data": {
      "text/html": [
       "<div>\n",
       "<style scoped>\n",
       "    .dataframe tbody tr th:only-of-type {\n",
       "        vertical-align: middle;\n",
       "    }\n",
       "\n",
       "    .dataframe tbody tr th {\n",
       "        vertical-align: top;\n",
       "    }\n",
       "\n",
       "    .dataframe thead th {\n",
       "        text-align: right;\n",
       "    }\n",
       "</style>\n",
       "<table border=\"1\" class=\"dataframe\">\n",
       "  <thead>\n",
       "    <tr style=\"text-align: right;\">\n",
       "      <th></th>\n",
       "      <th>HTML</th>\n",
       "      <th>Java</th>\n",
       "      <th>JavaScript</th>\n",
       "      <th>Python</th>\n",
       "      <th>R</th>\n",
       "    </tr>\n",
       "  </thead>\n",
       "  <tbody>\n",
       "    <tr>\n",
       "      <th>build</th>\n",
       "      <td>90</td>\n",
       "      <td>41</td>\n",
       "      <td>1268</td>\n",
       "      <td>54</td>\n",
       "      <td>22</td>\n",
       "    </tr>\n",
       "    <tr>\n",
       "      <th>react</th>\n",
       "      <td>47</td>\n",
       "      <td>24</td>\n",
       "      <td>1209</td>\n",
       "      <td>22</td>\n",
       "      <td>0</td>\n",
       "    </tr>\n",
       "    <tr>\n",
       "      <th>npm</th>\n",
       "      <td>93</td>\n",
       "      <td>33</td>\n",
       "      <td>1207</td>\n",
       "      <td>15</td>\n",
       "      <td>0</td>\n",
       "    </tr>\n",
       "    <tr>\n",
       "      <th>section</th>\n",
       "      <td>219</td>\n",
       "      <td>8</td>\n",
       "      <td>843</td>\n",
       "      <td>42</td>\n",
       "      <td>18</td>\n",
       "    </tr>\n",
       "    <tr>\n",
       "      <th>test</th>\n",
       "      <td>125</td>\n",
       "      <td>55</td>\n",
       "      <td>782</td>\n",
       "      <td>127</td>\n",
       "      <td>26</td>\n",
       "    </tr>\n",
       "    <tr>\n",
       "      <th>...</th>\n",
       "      <td>...</td>\n",
       "      <td>...</td>\n",
       "      <td>...</td>\n",
       "      <td>...</td>\n",
       "      <td>...</td>\n",
       "    </tr>\n",
       "    <tr>\n",
       "      <th>width</th>\n",
       "      <td>66</td>\n",
       "      <td>22</td>\n",
       "      <td>129</td>\n",
       "      <td>31</td>\n",
       "      <td>76</td>\n",
       "    </tr>\n",
       "    <tr>\n",
       "      <th>folder</th>\n",
       "      <td>72</td>\n",
       "      <td>14</td>\n",
       "      <td>318</td>\n",
       "      <td>92</td>\n",
       "      <td>73</td>\n",
       "    </tr>\n",
       "    <tr>\n",
       "      <th>file</th>\n",
       "      <td>119</td>\n",
       "      <td>37</td>\n",
       "      <td>404</td>\n",
       "      <td>132</td>\n",
       "      <td>72</td>\n",
       "    </tr>\n",
       "    <tr>\n",
       "      <th>following</th>\n",
       "      <td>75</td>\n",
       "      <td>22</td>\n",
       "      <td>253</td>\n",
       "      <td>136</td>\n",
       "      <td>70</td>\n",
       "    </tr>\n",
       "    <tr>\n",
       "      <th>company</th>\n",
       "      <td>38</td>\n",
       "      <td>4</td>\n",
       "      <td>21</td>\n",
       "      <td>21</td>\n",
       "      <td>69</td>\n",
       "    </tr>\n",
       "  </tbody>\n",
       "</table>\n",
       "<p>100 rows × 5 columns</p>\n",
       "</div>"
      ],
      "text/plain": [
       "           HTML  Java  JavaScript  Python   R\n",
       "build        90    41        1268      54  22\n",
       "react        47    24        1209      22   0\n",
       "npm          93    33        1207      15   0\n",
       "section     219     8         843      42  18\n",
       "test        125    55         782     127  26\n",
       "...         ...   ...         ...     ...  ..\n",
       "width        66    22         129      31  76\n",
       "folder       72    14         318      92  73\n",
       "file        119    37         404     132  72\n",
       "following    75    22         253     136  70\n",
       "company      38     4          21      21  69\n",
       "\n",
       "[100 rows x 5 columns]"
      ]
     },
     "execution_count": 24,
     "metadata": {},
     "output_type": "execute_result"
    }
   ],
   "source": [
    "top_words"
   ]
  },
  {
   "cell_type": "code",
   "execution_count": null,
   "id": "bf575bb5",
   "metadata": {},
   "outputs": [],
   "source": [
    "tops = top_words[top_words.index.value_counts() > 2]"
   ]
  },
  {
   "cell_type": "code",
   "execution_count": null,
   "id": "ecf85f17",
   "metadata": {},
   "outputs": [],
   "source": [
    "tops.index.unique()"
   ]
  },
  {
   "cell_type": "code",
   "execution_count": null,
   "id": "ddd5a9f1",
   "metadata": {},
   "outputs": [],
   "source": [
    "tops.groupby(tops.index).sum()"
   ]
  },
  {
   "cell_type": "code",
   "execution_count": null,
   "id": "ae4c323b",
   "metadata": {},
   "outputs": [],
   "source": [
    "len(word_counts[word_counts['all'] > 1000])"
   ]
  },
  {
   "cell_type": "code",
   "execution_count": null,
   "id": "e8b05f54",
   "metadata": {},
   "outputs": [],
   "source": [
    "most_freq_1200 = word_counts[word_counts['all'] > 1000] \n",
    "most_freq_1200 = most_freq_1200[most_freq_1200['all'] < 1200]\n",
    "most_freq_1700 = word_counts[word_counts['all'] >= 1200]\n",
    "most_freq_1700 = most_freq_1700[most_freq_1700['all'] < 1700]\n",
    "most_freq = word_counts[word_counts['all'] >= 1700]"
   ]
  },
  {
   "cell_type": "code",
   "execution_count": null,
   "id": "b8cf4ee2",
   "metadata": {},
   "outputs": [],
   "source": [
    "most_freq.head()"
   ]
  },
  {
   "cell_type": "code",
   "execution_count": 25,
   "id": "8c7f0193",
   "metadata": {},
   "outputs": [
    {
     "ename": "NameError",
     "evalue": "name 'most_freq' is not defined",
     "output_type": "error",
     "traceback": [
      "\u001b[0;31m---------------------------------------------------------------------------\u001b[0m",
      "\u001b[0;31mNameError\u001b[0m                                 Traceback (most recent call last)",
      "\u001b[0;32m/var/folders/s4/hmz6ljm533vgpm_bhv59yw0m0000gn/T/ipykernel_38916/2771702366.py\u001b[0m in \u001b[0;36m<module>\u001b[0;34m\u001b[0m\n\u001b[1;32m      1\u001b[0m \u001b[0mword_perc\u001b[0m \u001b[0;34m=\u001b[0m \u001b[0mpd\u001b[0m\u001b[0;34m.\u001b[0m\u001b[0mDataFrame\u001b[0m\u001b[0;34m(\u001b[0m\u001b[0;34m)\u001b[0m\u001b[0;34m\u001b[0m\u001b[0;34m\u001b[0m\u001b[0m\n\u001b[0;32m----> 2\u001b[0;31m \u001b[0;32mfor\u001b[0m \u001b[0mcol\u001b[0m \u001b[0;32min\u001b[0m \u001b[0mmost_freq\u001b[0m\u001b[0;34m.\u001b[0m\u001b[0mcolumns\u001b[0m\u001b[0;34m:\u001b[0m\u001b[0;34m\u001b[0m\u001b[0;34m\u001b[0m\u001b[0m\n\u001b[0m\u001b[1;32m      3\u001b[0m     \u001b[0mword_perc\u001b[0m \u001b[0;34m=\u001b[0m \u001b[0mword_perc\u001b[0m\u001b[0;34m.\u001b[0m\u001b[0mappend\u001b[0m\u001b[0;34m(\u001b[0m\u001b[0mmost_freq\u001b[0m\u001b[0;34m[\u001b[0m\u001b[0mcol\u001b[0m\u001b[0;34m]\u001b[0m\u001b[0;34m.\u001b[0m\u001b[0msort_values\u001b[0m\u001b[0;34m(\u001b[0m\u001b[0mascending\u001b[0m\u001b[0;34m=\u001b[0m\u001b[0;32mFalse\u001b[0m\u001b[0;34m)\u001b[0m\u001b[0;34m/\u001b[0m\u001b[0mmost_freq\u001b[0m\u001b[0;34m[\u001b[0m\u001b[0mcol\u001b[0m\u001b[0;34m]\u001b[0m\u001b[0;34m.\u001b[0m\u001b[0msum\u001b[0m\u001b[0;34m(\u001b[0m\u001b[0;34m)\u001b[0m\u001b[0;34m)\u001b[0m\u001b[0;34m\u001b[0m\u001b[0;34m\u001b[0m\u001b[0m\n\u001b[1;32m      4\u001b[0m \u001b[0;34m\u001b[0m\u001b[0m\n\u001b[1;32m      5\u001b[0m \u001b[0mword_perc_1200\u001b[0m \u001b[0;34m=\u001b[0m \u001b[0mpd\u001b[0m\u001b[0;34m.\u001b[0m\u001b[0mDataFrame\u001b[0m\u001b[0;34m(\u001b[0m\u001b[0;34m)\u001b[0m\u001b[0;34m\u001b[0m\u001b[0;34m\u001b[0m\u001b[0m\n",
      "\u001b[0;31mNameError\u001b[0m: name 'most_freq' is not defined"
     ]
    }
   ],
   "source": [
    "word_perc = pd.DataFrame()\n",
    "for col in most_freq.columns:\n",
    "    word_perc = word_perc.append(most_freq[col].sort_values(ascending=False)/most_freq[col].sum())\n",
    "\n",
    "word_perc_1200 = pd.DataFrame()\n",
    "for col in most_freq_1200.columns:\n",
    "    word_perc_1200 = word_perc_1200.append(most_freq_1200[col].sort_values(ascending=False)/most_freq_1200[col].sum())\n",
    "    \n",
    "word_perc_1700 = pd.DataFrame()\n",
    "for col in most_freq_1700.columns:\n",
    "    word_perc_1700 = word_perc_1700.append(most_freq_1700[col].sort_values(ascending=False)/most_freq_1700[col].sum())"
   ]
  },
  {
   "cell_type": "code",
   "execution_count": null,
   "id": "c959d4af",
   "metadata": {},
   "outputs": [],
   "source": [
    "word_perc"
   ]
  },
  {
   "cell_type": "code",
   "execution_count": null,
   "id": "db581b04",
   "metadata": {},
   "outputs": [],
   "source": [
    "plt.rcParams[\"figure.figsize\"] = (20,10)\n",
    "most_freq.plot(kind='bar')"
   ]
  },
  {
   "cell_type": "code",
   "execution_count": null,
   "id": "a399536d",
   "metadata": {},
   "outputs": [],
   "source": [
    "plt.rcParams[\"figure.figsize\"] = (20,10)\n",
    "word_perc.plot(kind='bar')"
   ]
  },
  {
   "cell_type": "code",
   "execution_count": null,
   "id": "f2b9ff42",
   "metadata": {},
   "outputs": [],
   "source": [
    "word_perc_T = word_perc.T\n",
    "word_perc_1200_T = word_perc_1200.T\n",
    "word_perc_1700_T = word_perc_1700.T"
   ]
  },
  {
   "cell_type": "markdown",
   "id": "ee507785",
   "metadata": {},
   "source": [
    "to look at similarities, we simple look at bars w similar heights. That will show they have a similar distribution of that specific word"
   ]
  },
  {
   "cell_type": "code",
   "execution_count": null,
   "id": "a24d2ca8",
   "metadata": {},
   "outputs": [],
   "source": [
    "plt.rcParams[\"figure.figsize\"] = (20,8)\n",
    "word_perc_T.plot(kind='bar')"
   ]
  },
  {
   "cell_type": "code",
   "execution_count": null,
   "id": "58c63810",
   "metadata": {},
   "outputs": [],
   "source": [
    "plt.rcParams[\"figure.figsize\"] = (20,8)\n",
    "word_perc_1200_T.plot(kind='bar')"
   ]
  },
  {
   "cell_type": "code",
   "execution_count": null,
   "id": "c15fe70e",
   "metadata": {},
   "outputs": [],
   "source": [
    "word_perc_T"
   ]
  },
  {
   "cell_type": "code",
   "execution_count": null,
   "id": "32e2e53d",
   "metadata": {},
   "outputs": [],
   "source": [
    "plt.rcParams[\"figure.figsize\"] = (20,8)\n",
    "word_perc_1700_T.plot(kind='bar')"
   ]
  },
  {
   "cell_type": "code",
   "execution_count": null,
   "id": "a64fbaab",
   "metadata": {},
   "outputs": [],
   "source": [
    "langs = pd.concat([df.language.value_counts(),\n",
    "                    df.language.value_counts(normalize=True)], axis=1)\n",
    "langs.columns = ['counts', 'percent']\n",
    "langs"
   ]
  },
  {
   "cell_type": "code",
   "execution_count": null,
   "id": "02d77523",
   "metadata": {},
   "outputs": [],
   "source": [
    "df"
   ]
  },
  {
   "cell_type": "code",
   "execution_count": null,
   "id": "f5448568",
   "metadata": {},
   "outputs": [],
   "source": [
    "trigrams = [x for x in df['lemmatized'] for x in trigrams(x.split())]\n",
    "trigrams"
   ]
  },
  {
   "cell_type": "code",
   "execution_count": null,
   "id": "de5fc0ef",
   "metadata": {},
   "outputs": [],
   "source": [
    "tri_counts = Counter(trigrams)\n",
    "print (tri_counts)"
   ]
  },
  {
   "cell_type": "code",
   "execution_count": null,
   "id": "b5cab036",
   "metadata": {},
   "outputs": [],
   "source": [
    "top = tri_counts.most_common(10)\n",
    "print (top)"
   ]
  },
  {
   "cell_type": "code",
   "execution_count": null,
   "id": "6dda671a",
   "metadata": {},
   "outputs": [],
   "source": [
    "from nltk.util import ngrams\n",
    "\n",
    "# n = 2\n",
    "# bigrams = all_words.apply(lambda x:\" \".join(x for x in x.split(), n))"
   ]
  },
  {
   "cell_type": "code",
   "execution_count": null,
   "id": "c8241d49",
   "metadata": {},
   "outputs": [],
   "source": [
    "df"
   ]
  },
  {
   "cell_type": "code",
   "execution_count": null,
   "id": "a3644ed4",
   "metadata": {},
   "outputs": [],
   "source": [
    "top_20_bigrams = (pd.Series(nltk.ngrams(all_words, 2))\n",
    "                      .value_counts()\n",
    "                      .head(20))\n",
    "\n",
    "top_20_bigrams.head(20)"
   ]
  },
  {
   "cell_type": "code",
   "execution_count": 27,
   "id": "bb011d11",
   "metadata": {},
   "outputs": [],
   "source": [
    "from sklearn.feature_extraction.text import TfidfVectorizer\n",
    "from pprint import pprint"
   ]
  },
  {
   "cell_type": "code",
   "execution_count": 28,
   "id": "d528bcae",
   "metadata": {},
   "outputs": [],
   "source": [
    "from sklearn.model_selection import train_test_split\n",
    "from sklearn.linear_model import LogisticRegression\n",
    "from sklearn.metrics import classification_report, accuracy_score\n",
    "from sklearn.model_selection import train_test_split\n",
    "from sklearn.tree import DecisionTreeClassifier, export_graphviz\n",
    "from sklearn.metrics import classification_report\n",
    "\n",
    "\n",
    "tfidf = TfidfVectorizer()\n",
    "X = tfidf.fit_transform(df.lemmatized)\n",
    "y = df.language\n",
    "\n",
    "X_train, X_test, y_train, y_test = train_test_split(X, y, stratify=y, test_size=.2)\n",
    "\n",
    "train = pd.DataFrame(dict(actual=y_train))\n",
    "test = pd.DataFrame(dict(actual=y_test))\n",
    "\n",
    "lm = LogisticRegression().fit(X_train, y_train)\n",
    "\n",
    "train['predicted'] = lm.predict(X_train)\n",
    "test['predicted'] = lm.predict(X_test)\n"
   ]
  },
  {
   "cell_type": "code",
   "execution_count": 29,
   "id": "ece2d65a",
   "metadata": {},
   "outputs": [
    {
     "name": "stdout",
     "output_type": "stream",
     "text": [
      "Accuracy: 92.24%\n",
      "---\n",
      "Confusion Matrix\n",
      "actual      HTML  Java  JavaScript  Python    R\n",
      "predicted                                      \n",
      "HTML         301    11           4       4    4\n",
      "Java           0    70           0       0    0\n",
      "JavaScript    13    32         474      14    5\n",
      "Python         2     6           2     237    2\n",
      "R              1     0           0       1  118\n",
      "---\n",
      "              precision    recall  f1-score   support\n",
      "\n",
      "        HTML       0.93      0.95      0.94       317\n",
      "        Java       1.00      0.59      0.74       119\n",
      "  JavaScript       0.88      0.99      0.93       480\n",
      "      Python       0.95      0.93      0.94       256\n",
      "           R       0.98      0.91      0.95       129\n",
      "\n",
      "    accuracy                           0.92      1301\n",
      "   macro avg       0.95      0.87      0.90      1301\n",
      "weighted avg       0.93      0.92      0.92      1301\n",
      "\n"
     ]
    }
   ],
   "source": [
    "print('Accuracy: {:.2%}'.format(accuracy_score(train.actual, train.predicted)))\n",
    "print('---')\n",
    "print('Confusion Matrix')\n",
    "print(pd.crosstab(train.predicted, train.actual))\n",
    "print('---')\n",
    "print(classification_report(train.actual, train.predicted))"
   ]
  },
  {
   "cell_type": "code",
   "execution_count": 30,
   "id": "174832ac",
   "metadata": {},
   "outputs": [
    {
     "name": "stdout",
     "output_type": "stream",
     "text": [
      "Accuracy: 56.13%\n",
      "---\n",
      "Confusion Matrix\n",
      "actual      HTML  Java  JavaScript  Python   R\n",
      "predicted                                     \n",
      "HTML          48    10          19      13  11\n",
      "Java           0     4           0       1   0\n",
      "JavaScript    23    13          93      22   5\n",
      "Python         4     3           6      24   3\n",
      "R              4     0           2       4  14\n",
      "---\n",
      "              precision    recall  f1-score   support\n",
      "\n",
      "        HTML       0.93      0.95      0.94       317\n",
      "        Java       1.00      0.59      0.74       119\n",
      "  JavaScript       0.88      0.99      0.93       480\n",
      "      Python       0.95      0.93      0.94       256\n",
      "           R       0.98      0.91      0.95       129\n",
      "\n",
      "    accuracy                           0.92      1301\n",
      "   macro avg       0.95      0.87      0.90      1301\n",
      "weighted avg       0.93      0.92      0.92      1301\n",
      "\n"
     ]
    }
   ],
   "source": [
    "print('Accuracy: {:.2%}'.format(accuracy_score(test.actual, test.predicted)))\n",
    "print('---')\n",
    "print('Confusion Matrix')\n",
    "print(pd.crosstab(test.predicted, test.actual))\n",
    "print('---')\n",
    "print(classification_report(train.actual, train.predicted))"
   ]
  },
  {
   "cell_type": "code",
   "execution_count": 31,
   "id": "78d8f494",
   "metadata": {},
   "outputs": [
    {
     "name": "stdout",
     "output_type": "stream",
     "text": [
      "Accuracy Score: 68.95%\n"
     ]
    }
   ],
   "source": [
    "tfidf = TfidfVectorizer()\n",
    "X = tfidf.fit_transform(df.lemmatized)\n",
    "y = df.language\n",
    "\n",
    "X_train, X_test, y_train, y_test = train_test_split(X, y, stratify=y, test_size=.2, random_state=123)\n",
    "\n",
    "tree = DecisionTreeClassifier(max_depth=10, random_state=123)\n",
    "tree.fit(X_train, y_train)\n",
    "\n",
    "print(f'Accuracy Score: {tree.score(X_train, y_train) * 100:.2f}%')"
   ]
  },
  {
   "cell_type": "code",
   "execution_count": 32,
   "id": "20f6b7d5",
   "metadata": {},
   "outputs": [],
   "source": [
    "from sklearn.feature_extraction.text import CountVectorizer\n",
    "from sklearn.feature_extraction.text import TfidfVectorizer\n",
    "from sklearn.model_selection import train_test_split\n",
    "from sklearn.tree import DecisionTreeClassifier, export_graphviz\n",
    "from sklearn.metrics import classification_report\n",
    "from sklearn import tree"
   ]
  },
  {
   "cell_type": "code",
   "execution_count": 33,
   "id": "1ac665f4",
   "metadata": {},
   "outputs": [
    {
     "name": "stdout",
     "output_type": "stream",
     "text": [
      "Accuracy Score: 66.33%\n"
     ]
    }
   ],
   "source": [
    "cv = CountVectorizer()\n",
    "X = cv.fit_transform(df.lemmatized)\n",
    "y = df.language\n",
    "\n",
    "X_train, X_test, y_train, y_test = train_test_split(X, y, stratify=y, test_size=.2, random_state=123)\n",
    "\n",
    "tree = DecisionTreeClassifier(max_depth=10, random_state=123)\n",
    "tree.fit(X_train, y_train)\n",
    "\n",
    "print(f'Accuracy Score: {tree.score(X_train, y_train) * 100:.2f}%')"
   ]
  },
  {
   "cell_type": "code",
   "execution_count": null,
   "id": "0cee7f80",
   "metadata": {},
   "outputs": [],
   "source": [
    "cv = CountVectorizer(ngram_range=(2, 2))\n",
    "X = cv.fit_transform(df.lemmatized)\n",
    "y = df.language\n",
    "\n",
    "X_train, X_test, y_train, y_test = train_test_split(X, y, stratify=y, test_size=.2)\n",
    "\n",
    "tree = DecisionTreeClassifier(max_depth=8, random_state=123)\n",
    "tree.fit(X_train, y_train)\n",
    "\n",
    "print(f'Accuracy Score: {tree.score(X_test, y_test) * 100:.2f}%')"
   ]
  },
  {
   "cell_type": "code",
   "execution_count": null,
   "id": "ef2bc615",
   "metadata": {},
   "outputs": [],
   "source": [
    "cv = CountVectorizer(ngram_range=(3, 3))\n",
    "X = cv.fit_transform(df.stemmed)\n",
    "y = df.language\n",
    "\n",
    "# X_train, X_test, y_train, y_test = train_test_split(X, y, test_size=.2, random_state=13)\n",
    "# X_train, X_val, y_train, y_val = train_test_split(X_train, y_train, test_size = .25, random_state=13)\n",
    "X_train, X_test, y_train, y_test = train_test_split(X, y, stratify=y, test_size=.2)\n",
    "\n",
    "tree = DecisionTreeClassifier(max_depth=10, random_state=123)\n",
    "tree.fit(X_train, y_train)\n",
    "\n",
    "print(f'Accuracy Score: {tree.score(X_train, y_train) * 100:.2f}%')"
   ]
  },
  {
   "cell_type": "code",
   "execution_count": null,
   "id": "f5b38ee4",
   "metadata": {},
   "outputs": [],
   "source": []
  },
  {
   "cell_type": "code",
   "execution_count": null,
   "id": "745b8122",
   "metadata": {},
   "outputs": [],
   "source": []
  },
  {
   "cell_type": "code",
   "execution_count": null,
   "id": "e488e6cd",
   "metadata": {},
   "outputs": [],
   "source": []
  },
  {
   "cell_type": "code",
   "execution_count": null,
   "id": "c59d67c7",
   "metadata": {},
   "outputs": [],
   "source": [
    "qfjwaivchE3"
   ]
  },
  {
   "cell_type": "code",
   "execution_count": null,
   "id": "5ea3d183",
   "metadata": {},
   "outputs": [],
   "source": []
  },
  {
   "cell_type": "code",
   "execution_count": null,
   "id": "dc4215d2",
   "metadata": {},
   "outputs": [],
   "source": [
    "all_words = re.sub(r'[^\\w\\s]', '', (' '.join(df.lemmatized))).split()\n",
    "all_freq = pd.Series(all_words).value_counts()\n",
    "    \n",
    "    mask = all_freq > 1\n",
    "    all_not_unique = list(all_freq[mask].index)"
   ]
  },
  {
   "cell_type": "code",
   "execution_count": null,
   "id": "79ebb193",
   "metadata": {},
   "outputs": [],
   "source": [
    "bigrams = df.apply(lambda x : list(nltk.ngrams(x, 2)))"
   ]
  },
  {
   "cell_type": "code",
   "execution_count": null,
   "id": "7b7ec97f",
   "metadata": {},
   "outputs": [],
   "source": [
    "bigrams"
   ]
  },
  {
   "cell_type": "code",
   "execution_count": null,
   "id": "423413b6",
   "metadata": {},
   "outputs": [],
   "source": [
    "def make_word_list(df):\n",
    "    \"\"\" creates a list of every not unique word in dataframe\"\"\"\n",
    "    all_words = re.sub(r'[^\\w\\s]', '', (' '.join(df.lemmatized))).split()\n",
    "    all_freq = pd.Series(all_words).value_counts()\n",
    "    \n",
    "    mask = all_freq > 1\n",
    "    all_not_unique = list(all_freq[mask].index)\n",
    "    \n",
    "    return all_not_unique\n",
    "\n",
    "def finding_non_single_words(x):\n",
    "    \"\"\"finds all words in column that appear in df more than one time\n",
    "    will be used to make a column that counts words that appear more than once\"\"\"\n",
    "    all_not_unique = make_word_list(df)\n",
    "    l = []\n",
    "    for w in x:\n",
    "        if w in all_not_unique:\n",
    "            l.append(w)\n",
    "    return l\n",
    "\n",
    "\n",
    "def feature_engineering(df):\n",
    "    \"\"\"creates calculated columns for df subsetted by type of column\"\"\"\n",
    "    \n",
    "    #list making features \n",
    "    df['word_list'] = df.lemmatized.apply(lambda x: re.sub(r'[^\\w\\s]', '', x).split())\n",
    "    df['unique_words'] = df.word_list.apply(lambda x: pd.Series(x).unique())\n",
    "    df['non_single_words'] = df.word_list.apply(lambda x: finding_non_single_words(x))\n",
    "\n",
    "    # counting\n",
    "    df['word_count_simple'] = df.lemmatized.str.count(\" \") + 1\n",
    "    df['word_count'] = df.word_list.apply(lambda x: len(x))\n",
    "    df['unique_count'] = df.unique_words.apply(lambda x: len(x))\n",
    "    df['non_single_count'] = df.non_single_words.apply(lambda x: len(x))\n",
    "\n",
    "    # calculating\n",
    "    df['percent_unique'] = (df.unique_count / df.word_count)\n",
    "    df['percent_repeat'] = (1 - df.unique_count / df.word_count)\n",
    "    df['percent_one_word'] = df.word_list.apply(lambda x: (pd.Series(x).value_counts() == 1).mean())\n",
    "    df['percent_non_single'] = (df.non_single_count / df.word_count)\n",
    "\n",
    "    return df\n",
    "\n",
    "# new dataframes\n",
    "\n",
    "def language_series(df):\n",
    "    \"\"\"makes df with words and frequency of words for each programming language\"\"\"\n",
    "\n",
    "    all_words = (' '.join(df.lemmatized))\n",
    "    all_words = re.sub(r'[^\\w\\s]', '', all_words).split()\n",
    "    all_freq = pd.Series(all_words).value_counts()\n",
    "\n",
    "    php_words = (' '.join(df[df.language == 'PHP'].lemmatized))\n",
    "    php_words = re.sub(r'[^\\w\\s]', '', php_words).split()\n",
    "    php_freq = pd.Series(php_words).value_counts()\n",
    "\n",
    "    python_words = (' '.join(df[df.language == 'Python'].lemmatized))\n",
    "    python_words = re.sub(r'[^\\w\\s]', '', python_words).split()\n",
    "    python_freq = pd.Series(python_words).value_counts()\n",
    "\n",
    "    java_words = (' '.join(df[df.language == 'Java'].lemmatized))\n",
    "    java_words = re.sub(r'[^\\w\\s]', '', java_words).split()\n",
    "    java_freq = pd.Series(java_words).value_counts()\n",
    "\n",
    "    js_words = (' '.join(df[df.language == 'JavaScript'].lemmatized))\n",
    "    js_words = re.sub(r'[^\\w\\s]', '', js_words).split()\n",
    "    js_freq = pd.Series(js_words).value_counts()\n",
    "\n",
    "    freq_df = pd.DataFrame({'all': all_freq,\n",
    "                       'php': php_freq,\n",
    "                       'python': python_freq,\n",
    "                       'java': java_freq,\n",
    "                       'java_script': js_freq\n",
    "                        })\n",
    "    freq_df = freq_df.fillna(0)\n",
    "    freq_df = freq_df.astype(int)\n",
    "\n",
    "    return freq_df\n",
    "\n",
    "def make_language_df(df=df):\n",
    "    \"\"\"creates a data frame of words in rows\"\"\"\n",
    "    freq_df = language_series(df)\n",
    "    \n",
    "    freq_list = freq_df['all'].sort_values(ascending = False).head(15).index\n",
    "    \n",
    "    df_js = df[0:200]\n",
    "    df_python = df[200:400]\n",
    "    df_java = df[400:600]\n",
    "    df_php= df[600:800]\n",
    "    \n",
    "    all_list = []\n",
    "    js_list = []\n",
    "    python_list = []\n",
    "    php_list = []\n",
    "    java_list = []\n",
    "    \n",
    "    for i in freq_list:\n",
    "        v = len(pd.DataFrame({'loc_index' :df[df.lemmatized.apply(lambda x: len(re.findall(i, x))) > 0].index}))\n",
    "        all_list.append(v)\n",
    "    \n",
    "        js = len(pd.DataFrame({'loc_index' :df_js[df_js.lemmatized.apply(lambda x: len(re.findall(i, x))) > 0].index}))\n",
    "        js_list.append(js)\n",
    "   \n",
    "        py = len(pd.DataFrame({'loc_index' :df_python[df_python.lemmatized.apply(lambda x: len(re.findall(i, x))) > 0].index}))\n",
    "        python_list.append(py)\n",
    "    \n",
    "        php = len(pd.DataFrame({'loc_index' :df_php[df_php.lemmatized.apply(lambda x: len(re.findall(i, x))) > 0].index}))\n",
    "        php_list.append(php)\n",
    "    \n",
    "        jv = len(pd.DataFrame({'loc_index' :df_java[df_java.lemmatized.apply(lambda x: len(re.findall(i, x))) > 0].index}))\n",
    "        java_list.append(jv)\n",
    "        \n",
    "    language_df = pd.DataFrame({'word': freq_list,\n",
    "                         'all_languages': all_list,\n",
    "                        'javascript': js_list,\n",
    "                         'python': python_list,\n",
    "                        'php': php_list,\n",
    "                            'java': java_list\n",
    "                        })\n",
    "        \n",
    "    return language_df"
   ]
  }
 ],
 "metadata": {
  "kernelspec": {
   "display_name": "Python 3 (ipykernel)",
   "language": "python",
   "name": "python3"
  },
  "language_info": {
   "codemirror_mode": {
    "name": "ipython",
    "version": 3
   },
   "file_extension": ".py",
   "mimetype": "text/x-python",
   "name": "python",
   "nbconvert_exporter": "python",
   "pygments_lexer": "ipython3",
   "version": "3.9.7"
  }
 },
 "nbformat": 4,
 "nbformat_minor": 5
}
