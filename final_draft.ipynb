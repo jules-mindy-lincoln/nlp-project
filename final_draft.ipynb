{
 "cells": [
  {
   "cell_type": "code",
   "execution_count": 1,
   "id": "2c7d1fca",
   "metadata": {},
   "outputs": [],
   "source": [
    "#imports necessary libraries \n",
    "#ignore warnings\n",
    "import warnings\n",
    "warnings.filterwarnings(\"ignore\")\n",
    "\n",
    "import pandas as pd\n",
    "import numpy as np\n",
    "\n",
    "import seaborn as sns\n",
    "import matplotlib.pyplot as plt\n",
    "\n",
    "import unicodedata\n",
    "import re\n",
    "import json\n",
    "\n",
    "import nltk\n",
    "from nltk.tokenize.toktok import ToktokTokenizer\n",
    "from nltk.corpus import stopwords\n",
    "from nltk import trigrams\n",
    "from nltk import bigrams\n",
    "from collections import Counter\n",
    "from typing import Dict, List, Optional, Union, cast\n",
    "\n",
    "from sklearn.feature_extraction.text import TfidfVectorizer\n",
    "from sklearn.feature_extraction.text import CountVectorizer\n",
    "\n",
    "from pprint import pprint\n",
    "\n",
    "from sklearn.model_selection import train_test_split\n",
    "from sklearn.linear_model import LogisticRegression\n",
    "from sklearn.metrics import classification_report, accuracy_score\n",
    "from sklearn.model_selection import train_test_split\n",
    "from sklearn.tree import DecisionTreeClassifier, export_graphviz\n",
    "from sklearn.metrics import classification_report\n",
    "\n",
    "import os\n",
    "import time\n",
    "import csv\n",
    "\n",
    "\n",
    "import requests\n",
    "import prepare\n",
    "import explore\n",
    "import modeling \n",
    "from sklearn.model_selection import train_test_split\n",
    "\n",
    "#statistical testing\n",
    "from scipy import stats\n",
    "from scipy.stats import pearsonr, spearmanr"
   ]
  },
  {
   "cell_type": "markdown",
   "id": "43d232ba",
   "metadata": {},
   "source": [
    "# Project Planning"
   ]
  },
  {
   "cell_type": "markdown",
   "id": "8e58c446",
   "metadata": {},
   "source": [
    "The goal of this project is to use Natural Language Processing in order to build a predictive model of programming languages using the text from a users Github repository's readme.md. Planning for this project involved:\n",
    "\n",
    "- Acquire data by web scraping Github to obtain enough text from repository readme's to build a robust corpus.\n",
    "\n",
    "- Create a readme.md, data dictionary, visualizations to accompany a formal presentation, and a Final Report Notebook.\n",
    "\n",
    "- Clean and prepare the data for the first iteration through the data science pipeline, and automate these processes by storing as functions where applicable.\n",
    "\n",
    "- Clearly define at least two hypotheses, set an alpha, run statistical tests as needed, reject or fail to reject the Null Hypothesis, and document findings and takeaways.\n",
    "\n",
    "- Establish the baseline accuracy and document well.\n",
    "\n",
    "- Train several classification models.\n",
    "\n",
    "- Evaluate models on train and validate datasets.\n",
    "\n",
    "- Document executive summary, conclusions, takeaways, and next steps in the Final Report Notebook.\n",
    "\n",
    "- Upload readme.md, data dictionary, prepare.py, acquire.py, and Final Report Notebook."
   ]
  },
  {
   "cell_type": "markdown",
   "id": "4f3f21b5",
   "metadata": {},
   "source": [
    "---"
   ]
  },
  {
   "cell_type": "markdown",
   "id": "3bbc6950",
   "metadata": {},
   "source": [
    "# Executive Summary"
   ]
  },
  {
   "cell_type": "markdown",
   "id": "f2642922",
   "metadata": {},
   "source": [
    "- For this project our team chose to focus on the topic of mental health, and formed an initial hypothesis that due to the academic quantitative analysis of mental health, that certain languages, such as R, would be robust in the scrapped data.\n",
    "\n",
    "- After some initial exploration of Github, we chose Python, Java, R, HTML, and JavaScript as the only languages of focus to build the predictive model. \n",
    "\n",
    "- The models used were a TFIDF and Count Vectorizer Logistic Regression and a TFIDF and Count Vectorizer Decision Tree model. The best performing model for this dataset was the Count Vectorized Decision Tree.\n",
    "\n",
    "- The model did beat the baseline accuracy of 37%, and improving programming language prediction by 48%. \n",
    "\n",
    "- Although JavaScript was the most represented language in this dataset, certain words proved useful and unique to specific programming languages, additional study could prove useful in building a better predictive model in future iterations of this project."
   ]
  },
  {
   "cell_type": "markdown",
   "id": "65469e4f",
   "metadata": {},
   "source": [
    "![image_finished.png](image_finished.png)"
   ]
  },
  {
   "cell_type": "markdown",
   "id": "10b8f592",
   "metadata": {},
   "source": [
    "# Acquire\n",
    "\n",
    "- This data was obtained from Github repositories using those that appeared in the results after searching for mental health.\n",
    "\n",
    "- Approximately 290 search results pages were scraped to obtain a robust dataset.\n",
    "\n",
    "- The readme's from the repositories that fit our search criteria were added to our corpus."
   ]
  },
  {
   "cell_type": "code",
   "execution_count": 2,
   "id": "2677bd00",
   "metadata": {},
   "outputs": [
    {
     "name": "stdout",
     "output_type": "stream",
     "text": [
      "<class 'pandas.core.frame.DataFrame'>\n",
      "Int64Index: 1627 entries, 0 to 2142\n",
      "Data columns (total 6 columns):\n",
      " #   Column           Non-Null Count  Dtype \n",
      "---  ------           --------------  ----- \n",
      " 0   repo             1627 non-null   object\n",
      " 1   language         1627 non-null   object\n",
      " 2   readme_contents  1627 non-null   object\n",
      " 3   stemmed          1627 non-null   object\n",
      " 4   lemmatized       1627 non-null   object\n",
      " 5   total_words      1627 non-null   int64 \n",
      "dtypes: int64(1), object(5)\n",
      "memory usage: 89.0+ KB\n"
     ]
    }
   ],
   "source": [
    "df = prepare.wrangle_data()\n",
    "#pre-defined user function that concatenates, cleans, and prepares acquired data \n",
    "df.info() #shows columns, data types, and counts"
   ]
  },
  {
   "cell_type": "markdown",
   "id": "2f27732d",
   "metadata": {},
   "source": [
    "# Prepare\n",
    "\n",
    "- We scraped approximately 2,867 Github repositories to get a sufficient body of text.\n",
    "\n",
    "- After dropping empty readme's, we were left with 1,627 with which to explore and build a predictive model.\n",
    "\n",
    "- In order to improve accuracy during the modeling process, this project focused on some of the top five programming languages that came up in the repository search mental health, which are:\n",
    "\n",
    "    - Java\n",
    "    - HTML\n",
    "    - Python\n",
    "    - R\n",
    "    - JavaScript"
   ]
  },
  {
   "cell_type": "markdown",
   "id": "03f0994e",
   "metadata": {},
   "source": [
    "# Explore"
   ]
  },
  {
   "cell_type": "markdown",
   "id": "213602b2",
   "metadata": {},
   "source": [
    "### Initial Thoughts to Lead Exploration:\n",
    "\n",
    "- Do certain languages have a higher average readme word count than others?\n",
    "- Are certain frequently occuring words shared across more than one language?\n",
    "- What words, if any, are frequently occuring in readmes for certain langauges that are barely prevelant in other language readmes?\n",
    "- Can small groups of sequential words (bigrams and trigrams) in readmes be predictive of the target variable?"
   ]
  },
  {
   "cell_type": "markdown",
   "id": "00d27989",
   "metadata": {},
   "source": [
    "### Analyzing Target Variable Distributions through a Hisogram"
   ]
  },
  {
   "cell_type": "code",
   "execution_count": 3,
   "id": "2bdaaae5",
   "metadata": {
    "scrolled": true
   },
   "outputs": [
    {
     "data": {
      "text/plain": [
       "Text(0.5, 1.0, 'Distibution of Programming Languages')"
      ]
     },
     "execution_count": 3,
     "metadata": {},
     "output_type": "execute_result"
    },
    {
     "data": {
      "image/png": "[encoded data removed]",
      "text/plain": [
       "<Figure size 432x288 with 1 Axes>"
      ]
     },
     "metadata": {
      "needs_background": "light"
     },
     "output_type": "display_data"
    }
   ],
   "source": [
    "df.language.hist() #plots histogram of target\n",
    "plt.title('Distibution of Programming Languages', size=20)"
   ]
  },
  {
   "cell_type": "markdown",
   "id": "87a519dc",
   "metadata": {},
   "source": [
    "### Visualize Word Counts per Programming Language"
   ]
  },
  {
   "cell_type": "code",
   "execution_count": 4,
   "id": "e45bd034",
   "metadata": {},
   "outputs": [
    {
     "data": {
      "text/plain": [
       "Text(0.5, 1.0, 'Word Counts per Programming Language')"
      ]
     },
     "execution_count": 4,
     "metadata": {},
     "output_type": "execute_result"
    },
    {
     "data": {
      "image/png": "[encoded data removed]",
      "text/plain": [
       "<Figure size 360x360 with 1 Axes>"
      ]
     },
     "metadata": {
      "needs_background": "light"
     },
     "output_type": "display_data"
    }
   ],
   "source": [
    "plt.fig_size = (10, 8)\n",
    "sns.catplot(data = df,\n",
    "           x = 'total_words',\n",
    "           y = 'language',\n",
    "           kind = 'swarm')\n",
    "plt.title('Word Counts per Programming Language', size=20)"
   ]
  },
  {
   "cell_type": "code",
   "execution_count": 5,
   "id": "29c1a453",
   "metadata": {},
   "outputs": [
    {
     "data": {
      "text/plain": [
       "Text(0.5, 1.0, 'Violin Plots: Word Counts per Programming Language')"
      ]
     },
     "execution_count": 5,
     "metadata": {},
     "output_type": "execute_result"
    },
    {
     "data": {
      "image/png": "[encoded data removed]",
      "text/plain": [
       "<Figure size 360x360 with 1 Axes>"
      ]
     },
     "metadata": {
      "needs_background": "light"
     },
     "output_type": "display_data"
    }
   ],
   "source": [
    "plt.fig_size = (10, 8)\n",
    "sns.catplot(data = df,\n",
    "           x = 'total_words',\n",
    "           y = 'language',\n",
    "           kind = 'violin')\n",
    "plt.title('Violin Plots: Word Counts per Programming Language', size=20)"
   ]
  },
  {
   "cell_type": "markdown",
   "id": "5452d2ee",
   "metadata": {},
   "source": [
    "---"
   ]
  },
  {
   "cell_type": "code",
   "execution_count": 6,
   "id": "cf154c1b",
   "metadata": {},
   "outputs": [],
   "source": [
    "JavaScript_words, HTML_words, Python_words, Java_words, R_words, all_words = explore.made_dfs(df)\n",
    "word_counts = explore.make_df_freqs(JavaScript_words, HTML_words, Python_words, Java_words, R_words, all_words)\n",
    "#makes dataframe of word counts per language"
   ]
  },
  {
   "cell_type": "markdown",
   "id": "b4748ff9",
   "metadata": {},
   "source": [
    "### Question 1: Do certain languages have a higher average readme word count than others?"
   ]
  },
  {
   "cell_type": "code",
   "execution_count": 7,
   "id": "da5342de",
   "metadata": {},
   "outputs": [
    {
     "data": {
      "text/plain": [
       "language\n",
       "HTML          167.0\n",
       "Java          140.0\n",
       "JavaScript    245.0\n",
       "Python        196.0\n",
       "R             169.0\n",
       "Name: total_words, dtype: float64"
      ]
     },
     "execution_count": 7,
     "metadata": {},
     "output_type": "execute_result"
    }
   ],
   "source": [
    "#show averages with group by:\n",
    "df.total_words.groupby(df.language).mean().round()"
   ]
  },
  {
   "cell_type": "code",
   "execution_count": 8,
   "id": "ba11ca92",
   "metadata": {},
   "outputs": [
    {
     "data": {
      "text/html": [
       "<div>\n",
       "<style scoped>\n",
       "    .dataframe tbody tr th:only-of-type {\n",
       "        vertical-align: middle;\n",
       "    }\n",
       "\n",
       "    .dataframe tbody tr th {\n",
       "        vertical-align: top;\n",
       "    }\n",
       "\n",
       "    .dataframe thead th {\n",
       "        text-align: right;\n",
       "    }\n",
       "</style>\n",
       "<table border=\"1\" class=\"dataframe\">\n",
       "  <thead>\n",
       "    <tr style=\"text-align: right;\">\n",
       "      <th></th>\n",
       "      <th>total_words</th>\n",
       "    </tr>\n",
       "    <tr>\n",
       "      <th>language</th>\n",
       "      <th></th>\n",
       "    </tr>\n",
       "  </thead>\n",
       "  <tbody>\n",
       "    <tr>\n",
       "      <th>HTML</th>\n",
       "      <td>167.0</td>\n",
       "    </tr>\n",
       "    <tr>\n",
       "      <th>Java</th>\n",
       "      <td>140.0</td>\n",
       "    </tr>\n",
       "    <tr>\n",
       "      <th>JavaScript</th>\n",
       "      <td>245.0</td>\n",
       "    </tr>\n",
       "    <tr>\n",
       "      <th>Python</th>\n",
       "      <td>196.0</td>\n",
       "    </tr>\n",
       "    <tr>\n",
       "      <th>R</th>\n",
       "      <td>169.0</td>\n",
       "    </tr>\n",
       "  </tbody>\n",
       "</table>\n",
       "</div>"
      ],
      "text/plain": [
       "            total_words\n",
       "language               \n",
       "HTML              167.0\n",
       "Java              140.0\n",
       "JavaScript        245.0\n",
       "Python            196.0\n",
       "R                 169.0"
      ]
     },
     "execution_count": 8,
     "metadata": {},
     "output_type": "execute_result"
    }
   ],
   "source": [
    "#shows average total word counts by language\n",
    "total_words = pd.DataFrame(df.total_words.groupby(df.language).mean().round())\n",
    "total_words"
   ]
  },
  {
   "cell_type": "code",
   "execution_count": 9,
   "id": "d59b4b35",
   "metadata": {},
   "outputs": [
    {
     "data": {
      "image/png": "[encoded data removed]",
      "text/plain": [
       "<Figure size 432x288 with 1 Axes>"
      ]
     },
     "metadata": {
      "needs_background": "light"
     },
     "output_type": "display_data"
    }
   ],
   "source": [
    "explore.plot_bins(df)\n",
    "#user-defined function that plots word counts of languages per counts bins"
   ]
  },
  {
   "cell_type": "markdown",
   "id": "d2d1ceb6",
   "metadata": {},
   "source": [
    "#### Takeaways:\n",
    "\n",
    "- There are certain languages that have a higher average readme word count than others.\n",
    "- Java has the lowest average word count while those from repositories using JavaScript have considerably more words than the other four programming languages. "
   ]
  },
  {
   "cell_type": "markdown",
   "id": "9d0db0a1",
   "metadata": {},
   "source": [
    "### Are the word counts for JavaScript significantly higher than the mean word counts of all languages?\n",
    "\n",
    "One Sample T-Test\n",
    "\n",
    "$\\alpha$ = .05\n",
    "\n",
    "$𝐻_{0}$: JavaScript's mean word count is <= than the combined mean word count of all languages.\n",
    "\n",
    "𝐻𝑎: JavaScript's mean word count is > than the combined mean word count of all programming languages."
   ]
  },
  {
   "cell_type": "code",
   "execution_count": 10,
   "id": "0f311489",
   "metadata": {},
   "outputs": [
    {
     "name": "stdout",
     "output_type": "stream",
     "text": [
      "P Value: 0.000\n",
      "Fail to reject the null hypothesis.\n"
     ]
    }
   ],
   "source": [
    "explore.stats_test_1(word_counts)\n",
    "#user-defined function to run a one-sample T-test"
   ]
  },
  {
   "cell_type": "markdown",
   "id": "6c4072bc",
   "metadata": {},
   "source": [
    "### Are the word counts for JavaScript significantly higher than the word counts of Python?\n",
    "\n",
    "Two Sample T-Test\n",
    "\n",
    "$\\alpha$ = .05\n",
    "\n",
    "$𝐻_{0}$: Javascript's mean word count is <= than the mean word count of Python.\n",
    "\n",
    "𝐻𝑎: Javascript's mean word count is > the mean word count of Python."
   ]
  },
  {
   "cell_type": "code",
   "execution_count": 11,
   "id": "faeaefed",
   "metadata": {},
   "outputs": [
    {
     "name": "stdout",
     "output_type": "stream",
     "text": [
      "Levene's F-statistic: 285.039\n",
      "P-value: 0.000\n",
      "Reject the null hypothesis.\n"
     ]
    }
   ],
   "source": [
    "explore.stats_test_2(word_counts)\n",
    "#user function for Levene test on two groups"
   ]
  },
  {
   "cell_type": "code",
   "execution_count": 12,
   "id": "a5b585b6",
   "metadata": {},
   "outputs": [
    {
     "name": "stdout",
     "output_type": "stream",
     "text": [
      "P Value: 0.000\n",
      "Reject the null hypothesis.\n"
     ]
    }
   ],
   "source": [
    "explore.stats_test_2_t(word_counts)\n",
    "#function that perform T-test"
   ]
  },
  {
   "cell_type": "markdown",
   "id": "46ac42c5",
   "metadata": {},
   "source": [
    "### Are the word counts for R significantly lower than the word counts of Python?\n",
    "\n",
    "Two Sample T-Test\n",
    "\n",
    "$\\alpha$ = .05\n",
    "\n",
    "$𝐻_{0}$: R's mean word count is >= than the mean word count of Python.\n",
    "\n",
    "𝐻𝑎: R's mean word count is < the mean word count of Python."
   ]
  },
  {
   "cell_type": "code",
   "execution_count": 13,
   "id": "749393f1",
   "metadata": {},
   "outputs": [
    {
     "name": "stdout",
     "output_type": "stream",
     "text": [
      "Levene's F-statistic: 267.514\n",
      "P-value: 0.000\n",
      "Reject the null hypothesis.\n"
     ]
    }
   ],
   "source": [
    "explore.stats_test_3(word_counts)\n",
    "#levene test to determine variance"
   ]
  },
  {
   "cell_type": "code",
   "execution_count": 14,
   "id": "8486ab71",
   "metadata": {},
   "outputs": [
    {
     "name": "stdout",
     "output_type": "stream",
     "text": [
      "P Value: 0.000\n",
      "Reject the null hypothesis.\n"
     ]
    }
   ],
   "source": [
    "explore.stats_test_4(word_counts)\n",
    "#function that perform T-test"
   ]
  },
  {
   "cell_type": "markdown",
   "id": "28193af4",
   "metadata": {},
   "source": [
    "### Question 2: Are certain frequently occurring words shared across more than one language?"
   ]
  },
  {
   "cell_type": "code",
   "execution_count": 15,
   "id": "9b536ed4",
   "metadata": {},
   "outputs": [
    {
     "data": {
      "text/plain": [
       "Index(['section', 'test', 'using', 'install', 'make', 'need', 'feature',\n",
       "       'user', 'time', 'information', 'file', 'data', 'people', 'one',\n",
       "       'application', 'model', 'analysis', 'dataset'],\n",
       "      dtype='object')"
      ]
     },
     "execution_count": 15,
     "metadata": {},
     "output_type": "execute_result"
    }
   ],
   "source": [
    "top_words = explore.top_words(word_counts)\n",
    "#makes data frame and show top occuring words\n",
    "top_words"
   ]
  },
  {
   "cell_type": "markdown",
   "id": "f24e32cd",
   "metadata": {},
   "source": [
    "#### Takeaways: \n",
    "\n",
    "- There are words that occur frequently and are shared across several languages.\n",
    "\n",
    "- The following words are amongst the top 20 frequently occurring words (with the exception of stop words) in two or more languages:\n",
    "\n",
    "'section', 'test', 'install', 'make', 'need', 'feature', 'user', 'time',\n",
    "       'information', 'file', 'command', 'people', 'one', 'application',\n",
    "       'model', 'dataset', 'analysis', 'following'"
   ]
  },
  {
   "cell_type": "markdown",
   "id": "c54135c2",
   "metadata": {},
   "source": [
    "### Question 3: What words, if any, are frequently occurring in readme's for certain languages that are barely prevalent in other language readme's?"
   ]
  },
  {
   "cell_type": "code",
   "execution_count": 16,
   "id": "d28bf218",
   "metadata": {},
   "outputs": [
    {
     "data": {
      "image/png": "[encoded data removed]",
      "text/plain": [
       "<Figure size 720x576 with 1 Axes>"
      ]
     },
     "metadata": {
      "needs_background": "light"
     },
     "output_type": "display_data"
    }
   ],
   "source": [
    "explore.plot_word_perc(word_counts)\n",
    "#creates df and plots stacked bar chart"
   ]
  },
  {
   "cell_type": "markdown",
   "id": "2f56d2c1",
   "metadata": {},
   "source": [
    "#### Takeaways: \n",
    "\n",
    "- There are words that frequently occur in some programming languages and are otherwise note prevalent in other programming languages. Certain words, like test, have a relatively similar distribution across languages while other words, like data, have a higher proportionality to languages like R and Python.\n",
    "\n",
    "These top occurring words that may be helpful in identifying programming languages:\n",
    "\n",
    "- 'data' : R\n",
    "- 'file': R\n",
    "- 'website': HTML\n",
    "- 'application': Java\n",
    "- 'react', 'build', 'npm': JavaScript"
   ]
  },
  {
   "cell_type": "markdown",
   "id": "c528fdae",
   "metadata": {},
   "source": [
    "### Question 4: Can small groups of sequential words (bigrams and trigrams) in readme's be predictive of the target variable?"
   ]
  },
  {
   "cell_type": "code",
   "execution_count": 17,
   "id": "bb071e8e",
   "metadata": {},
   "outputs": [
    {
     "data": {
      "text/html": [
       "<div>\n",
       "<style scoped>\n",
       "    .dataframe tbody tr th:only-of-type {\n",
       "        vertical-align: middle;\n",
       "    }\n",
       "\n",
       "    .dataframe tbody tr th {\n",
       "        vertical-align: top;\n",
       "    }\n",
       "\n",
       "    .dataframe thead th {\n",
       "        text-align: right;\n",
       "    }\n",
       "</style>\n",
       "<table border=\"1\" class=\"dataframe\">\n",
       "  <thead>\n",
       "    <tr style=\"text-align: right;\">\n",
       "      <th></th>\n",
       "      <th>JavaScript</th>\n",
       "      <th>HTML</th>\n",
       "      <th>Python</th>\n",
       "      <th>Java</th>\n",
       "      <th>R</th>\n",
       "    </tr>\n",
       "  </thead>\n",
       "  <tbody>\n",
       "    <tr>\n",
       "      <th>(section, moved)</th>\n",
       "      <td>0.175986</td>\n",
       "      <td>0.078125</td>\n",
       "      <td>0.027273</td>\n",
       "      <td>0.000000</td>\n",
       "      <td>0.000000</td>\n",
       "    </tr>\n",
       "    <tr>\n",
       "      <th>(npm, install)</th>\n",
       "      <td>0.060932</td>\n",
       "      <td>0.062500</td>\n",
       "      <td>0.031818</td>\n",
       "      <td>0.119048</td>\n",
       "      <td>0.000000</td>\n",
       "    </tr>\n",
       "    <tr>\n",
       "      <th>(npm, build)</th>\n",
       "      <td>0.071326</td>\n",
       "      <td>0.013021</td>\n",
       "      <td>0.004545</td>\n",
       "      <td>0.000000</td>\n",
       "      <td>0.000000</td>\n",
       "    </tr>\n",
       "    <tr>\n",
       "      <th>(environment, variable)</th>\n",
       "      <td>0.061649</td>\n",
       "      <td>0.007812</td>\n",
       "      <td>0.045455</td>\n",
       "      <td>0.023810</td>\n",
       "      <td>0.166667</td>\n",
       "    </tr>\n",
       "    <tr>\n",
       "      <th>(learn, react)</th>\n",
       "      <td>0.060573</td>\n",
       "      <td>0.026042</td>\n",
       "      <td>0.009091</td>\n",
       "      <td>0.000000</td>\n",
       "      <td>0.000000</td>\n",
       "    </tr>\n",
       "    <tr>\n",
       "      <th>(make, sure)</th>\n",
       "      <td>0.044086</td>\n",
       "      <td>0.044271</td>\n",
       "      <td>0.095455</td>\n",
       "      <td>0.214286</td>\n",
       "      <td>0.092593</td>\n",
       "    </tr>\n",
       "    <tr>\n",
       "      <th>(would, like)</th>\n",
       "      <td>0.031900</td>\n",
       "      <td>0.122396</td>\n",
       "      <td>0.077273</td>\n",
       "      <td>0.071429</td>\n",
       "      <td>0.111111</td>\n",
       "    </tr>\n",
       "    <tr>\n",
       "      <th>(production, build)</th>\n",
       "      <td>0.053763</td>\n",
       "      <td>0.018229</td>\n",
       "      <td>0.013636</td>\n",
       "      <td>0.000000</td>\n",
       "      <td>0.000000</td>\n",
       "    </tr>\n",
       "    <tr>\n",
       "      <th>(social, medium)</th>\n",
       "      <td>0.011470</td>\n",
       "      <td>0.111979</td>\n",
       "      <td>0.290909</td>\n",
       "      <td>0.119048</td>\n",
       "      <td>0.222222</td>\n",
       "    </tr>\n",
       "    <tr>\n",
       "      <th>(npm, start)</th>\n",
       "      <td>0.050896</td>\n",
       "      <td>0.018229</td>\n",
       "      <td>0.009091</td>\n",
       "      <td>0.047619</td>\n",
       "      <td>0.000000</td>\n",
       "    </tr>\n",
       "    <tr>\n",
       "      <th>(information, npm)</th>\n",
       "      <td>0.051613</td>\n",
       "      <td>0.020833</td>\n",
       "      <td>0.000000</td>\n",
       "      <td>0.000000</td>\n",
       "      <td>0.000000</td>\n",
       "    </tr>\n",
       "    <tr>\n",
       "      <th>(machine, learning)</th>\n",
       "      <td>0.011470</td>\n",
       "      <td>0.044271</td>\n",
       "      <td>0.222727</td>\n",
       "      <td>0.071429</td>\n",
       "      <td>0.351852</td>\n",
       "    </tr>\n",
       "    <tr>\n",
       "      <th>(getting, started)</th>\n",
       "      <td>0.035125</td>\n",
       "      <td>0.015625</td>\n",
       "      <td>0.040909</td>\n",
       "      <td>0.071429</td>\n",
       "      <td>0.000000</td>\n",
       "    </tr>\n",
       "    <tr>\n",
       "      <th>(test, runner)</th>\n",
       "      <td>0.036918</td>\n",
       "      <td>0.028646</td>\n",
       "      <td>0.004545</td>\n",
       "      <td>0.023810</td>\n",
       "      <td>0.000000</td>\n",
       "    </tr>\n",
       "    <tr>\n",
       "      <th>(html, cs)</th>\n",
       "      <td>0.011111</td>\n",
       "      <td>0.195312</td>\n",
       "      <td>0.031818</td>\n",
       "      <td>0.000000</td>\n",
       "      <td>0.000000</td>\n",
       "    </tr>\n",
       "    <tr>\n",
       "      <th>(configuration, file)</th>\n",
       "      <td>0.034767</td>\n",
       "      <td>0.018229</td>\n",
       "      <td>0.009091</td>\n",
       "      <td>0.119048</td>\n",
       "      <td>0.000000</td>\n",
       "    </tr>\n",
       "    <tr>\n",
       "      <th>(progressive, web)</th>\n",
       "      <td>0.037276</td>\n",
       "      <td>0.013021</td>\n",
       "      <td>0.004545</td>\n",
       "      <td>0.000000</td>\n",
       "      <td>0.000000</td>\n",
       "    </tr>\n",
       "    <tr>\n",
       "      <th>(build, tool)</th>\n",
       "      <td>0.036201</td>\n",
       "      <td>0.015625</td>\n",
       "      <td>0.004545</td>\n",
       "      <td>0.023810</td>\n",
       "      <td>0.000000</td>\n",
       "    </tr>\n",
       "    <tr>\n",
       "      <th>(httplocalhosthttplocalhost, view)</th>\n",
       "      <td>0.036201</td>\n",
       "      <td>0.015625</td>\n",
       "      <td>0.004545</td>\n",
       "      <td>0.000000</td>\n",
       "      <td>0.000000</td>\n",
       "    </tr>\n",
       "    <tr>\n",
       "      <th>(startruns, development)</th>\n",
       "      <td>0.035125</td>\n",
       "      <td>0.013021</td>\n",
       "      <td>0.004545</td>\n",
       "      <td>0.023810</td>\n",
       "      <td>0.000000</td>\n",
       "    </tr>\n",
       "    <tr>\n",
       "      <th>(web, application)</th>\n",
       "      <td>0.016129</td>\n",
       "      <td>0.104167</td>\n",
       "      <td>0.063636</td>\n",
       "      <td>0.071429</td>\n",
       "      <td>0.055556</td>\n",
       "    </tr>\n",
       "    <tr>\n",
       "      <th>(build, fails)</th>\n",
       "      <td>0.035484</td>\n",
       "      <td>0.013021</td>\n",
       "      <td>0.004545</td>\n",
       "      <td>0.000000</td>\n",
       "      <td>0.000000</td>\n",
       "    </tr>\n",
       "  </tbody>\n",
       "</table>\n",
       "</div>"
      ],
      "text/plain": [
       "                                    JavaScript      HTML    Python      Java  \\\n",
       "(section, moved)                      0.175986  0.078125  0.027273  0.000000   \n",
       "(npm, install)                        0.060932  0.062500  0.031818  0.119048   \n",
       "(npm, build)                          0.071326  0.013021  0.004545  0.000000   \n",
       "(environment, variable)               0.061649  0.007812  0.045455  0.023810   \n",
       "(learn, react)                        0.060573  0.026042  0.009091  0.000000   \n",
       "(make, sure)                          0.044086  0.044271  0.095455  0.214286   \n",
       "(would, like)                         0.031900  0.122396  0.077273  0.071429   \n",
       "(production, build)                   0.053763  0.018229  0.013636  0.000000   \n",
       "(social, medium)                      0.011470  0.111979  0.290909  0.119048   \n",
       "(npm, start)                          0.050896  0.018229  0.009091  0.047619   \n",
       "(information, npm)                    0.051613  0.020833  0.000000  0.000000   \n",
       "(machine, learning)                   0.011470  0.044271  0.222727  0.071429   \n",
       "(getting, started)                    0.035125  0.015625  0.040909  0.071429   \n",
       "(test, runner)                        0.036918  0.028646  0.004545  0.023810   \n",
       "(html, cs)                            0.011111  0.195312  0.031818  0.000000   \n",
       "(configuration, file)                 0.034767  0.018229  0.009091  0.119048   \n",
       "(progressive, web)                    0.037276  0.013021  0.004545  0.000000   \n",
       "(build, tool)                         0.036201  0.015625  0.004545  0.023810   \n",
       "(httplocalhosthttplocalhost, view)    0.036201  0.015625  0.004545  0.000000   \n",
       "(startruns, development)              0.035125  0.013021  0.004545  0.023810   \n",
       "(web, application)                    0.016129  0.104167  0.063636  0.071429   \n",
       "(build, fails)                        0.035484  0.013021  0.004545  0.000000   \n",
       "\n",
       "                                           R  \n",
       "(section, moved)                    0.000000  \n",
       "(npm, install)                      0.000000  \n",
       "(npm, build)                        0.000000  \n",
       "(environment, variable)             0.166667  \n",
       "(learn, react)                      0.000000  \n",
       "(make, sure)                        0.092593  \n",
       "(would, like)                       0.111111  \n",
       "(production, build)                 0.000000  \n",
       "(social, medium)                    0.222222  \n",
       "(npm, start)                        0.000000  \n",
       "(information, npm)                  0.000000  \n",
       "(machine, learning)                 0.351852  \n",
       "(getting, started)                  0.000000  \n",
       "(test, runner)                      0.000000  \n",
       "(html, cs)                          0.000000  \n",
       "(configuration, file)               0.000000  \n",
       "(progressive, web)                  0.000000  \n",
       "(build, tool)                       0.000000  \n",
       "(httplocalhosthttplocalhost, view)  0.000000  \n",
       "(startruns, development)            0.000000  \n",
       "(web, application)                  0.055556  \n",
       "(build, fails)                      0.000000  "
      ]
     },
     "execution_count": 17,
     "metadata": {},
     "output_type": "execute_result"
    }
   ],
   "source": [
    "explore.plot_bigrams(all_words, JavaScript_words, HTML_words, Python_words, Java_words, R_words)\n",
    "#this shows the 20 top most frequently occuring birgrams"
   ]
  },
  {
   "cell_type": "code",
   "execution_count": 18,
   "id": "110673b7",
   "metadata": {},
   "outputs": [
    {
     "data": {
      "image/png": "[encoded data removed]",
      "text/plain": [
       "<Figure size 720x576 with 1 Axes>"
      ]
     },
     "metadata": {
      "needs_background": "light"
     },
     "output_type": "display_data"
    },
    {
     "data": {
      "image/png": "[encoded data removed]",
      "text/plain": [
       "<Figure size 720x576 with 1 Axes>"
      ]
     },
     "metadata": {
      "needs_background": "light"
     },
     "output_type": "display_data"
    }
   ],
   "source": [
    "word_perc_bigrams_T = explore.plot_bigrams(all_words, JavaScript_words, HTML_words, Python_words, Java_words, R_words)\n",
    "explore.plot_bigrams_10(word_perc_bigrams_T)\n",
    "#This shows bigrams that have higher distribution (above 10%) in a certain languages"
   ]
  },
  {
   "cell_type": "markdown",
   "id": "e37a1c17",
   "metadata": {},
   "source": [
    "#### Bigram Takeaways: \n",
    "Here this graph shows the most useful bigrams, although many of the most identifiable bigrams are shared with two or more languages. \n",
    "\n",
    "Therefore, we will attempt to build on the notion of grouping words together for predictive potential and explore the value of trigrams."
   ]
  },
  {
   "cell_type": "code",
   "execution_count": 19,
   "id": "30c50114",
   "metadata": {},
   "outputs": [
    {
     "data": {
      "image/png": "[encoded data removed]",
      "text/plain": [
       "<Figure size 1080x216 with 1 Axes>"
      ]
     },
     "metadata": {
      "needs_background": "light"
     },
     "output_type": "display_data"
    }
   ],
   "source": [
    "explore.plot_trigrams(all_words, HTML_words, Python_words, Java_words, R_words)\n",
    "#This shows trigrams that have higher distribution (above 5%) in a certain languages"
   ]
  },
  {
   "cell_type": "markdown",
   "id": "31de7236",
   "metadata": {},
   "source": [
    "#### Trigram Takeaways:\n",
    "\n",
    "- The above graph shows the most useful trigrams. JavaScript does not have any highly predictive trigrams, but the other four languages so have at least one trigram that seems distinctive to their programming language. The following explores the findings of this graph with statisitcal tests"
   ]
  },
  {
   "cell_type": "markdown",
   "id": "705d880a",
   "metadata": {},
   "source": [
    "---"
   ]
  },
  {
   "cell_type": "markdown",
   "id": "a8bf504e",
   "metadata": {},
   "source": [
    "$Chi^{2}$ Hypothesis\n",
    "\n",
    "$\\alpha$ = .05\n",
    "\n",
    "$𝐻_{0}$: The trigram 'html, cs, javascriptand' and language HTML are independent of one another.\n",
    "\n",
    "𝐻𝑎: The trigram 'html, cs, javascriptand' and language HTML have a relationship."
   ]
  },
  {
   "cell_type": "code",
   "execution_count": 20,
   "id": "15c80e4a",
   "metadata": {},
   "outputs": [
    {
     "name": "stdout",
     "output_type": "stream",
     "text": [
      "Reject the null hypothesis.\n"
     ]
    }
   ],
   "source": [
    "explore.tri_test_1()\n",
    "#runs chi squared test"
   ]
  },
  {
   "cell_type": "markdown",
   "id": "839722d7",
   "metadata": {},
   "source": [
    "---"
   ]
  },
  {
   "cell_type": "markdown",
   "id": "c0a13922",
   "metadata": {},
   "source": [
    "$Chi^{2}$ Hypothesis\n",
    "\n",
    "$\\alpha$ = .05\n",
    "\n",
    "$𝐻_{0}$: The trigram 'install, r, requirementstxt' and language Python are independent of one another.\n",
    "\n",
    "𝐻𝑎: The trigram 'install, r, requirementstxt' and language Python have a relationship."
   ]
  },
  {
   "cell_type": "code",
   "execution_count": 21,
   "id": "2e07f506",
   "metadata": {},
   "outputs": [
    {
     "name": "stdout",
     "output_type": "stream",
     "text": [
      "Reject the null hypothesis.\n"
     ]
    }
   ],
   "source": [
    "explore.tri_test_2()\n",
    "#runs chi squared test"
   ]
  },
  {
   "cell_type": "markdown",
   "id": "cb32c507",
   "metadata": {},
   "source": [
    "---"
   ]
  },
  {
   "cell_type": "markdown",
   "id": "59ebc68a",
   "metadata": {},
   "source": [
    "$Chi^{2}$ Hypothesis\n",
    "\n",
    "$\\alpha$ = .05\n",
    "\n",
    "$𝐻_{0}$: The trigram 'pip, install, r' and language HTML are independent of one another.\n",
    "\n",
    "𝐻𝑎: The trigram 'pip, install, r' and language HTML have a relationship."
   ]
  },
  {
   "cell_type": "code",
   "execution_count": 22,
   "id": "84f487d9",
   "metadata": {},
   "outputs": [
    {
     "name": "stdout",
     "output_type": "stream",
     "text": [
      "Reject the null hypothesis.\n"
     ]
    }
   ],
   "source": [
    "explore.tri_test_3()\n",
    "#runs chi squared test"
   ]
  },
  {
   "cell_type": "markdown",
   "id": "8adab8c3",
   "metadata": {},
   "source": [
    "---"
   ]
  },
  {
   "cell_type": "markdown",
   "id": "b1323cb4",
   "metadata": {},
   "source": [
    "$Chi^{2}$ Hypothesis\n",
    "\n",
    "$\\alpha$ = .05\n",
    "\n",
    "$𝐻_{0}$: The trigram 'startruns, development, modeopen' and language HTML are independent of one another.\n",
    "\n",
    "𝐻𝑎: The trigram 'startruns, development, modeopen' and language HTML have a relationship."
   ]
  },
  {
   "cell_type": "code",
   "execution_count": 23,
   "id": "3a7d7f55",
   "metadata": {},
   "outputs": [
    {
     "name": "stdout",
     "output_type": "stream",
     "text": [
      "Reject the null hypothesis.\n"
     ]
    }
   ],
   "source": [
    "explore.tri_test_4()\n",
    "#runs chi squared test"
   ]
  },
  {
   "cell_type": "markdown",
   "id": "98bb8a6e",
   "metadata": {},
   "source": [
    "#### Takeaways:\n",
    "- The 4 trigrams that visually showed the most predictive potential also all performed well in Chi^{2} testing, confirming that these five trigrams are likely useful in predicting the target."
   ]
  },
  {
   "cell_type": "markdown",
   "id": "7e72792d",
   "metadata": {},
   "source": [
    "# Modeling"
   ]
  },
  {
   "cell_type": "markdown",
   "id": "d419a9ee",
   "metadata": {},
   "source": [
    "#### Our approach is to:\n",
    "- Split the data into train, validate and test sets\n",
    "- Use the TFIDF and the Count Vectorizers to encode the values \n",
    "- Use the Logistic Regression, and the Decision Trees for modeling (predicting the language)\n",
    "- Use the confusion matrix to dissect the accuracy of our models\n",
    "- Use the the best performing model on test"
   ]
  },
  {
   "cell_type": "code",
   "execution_count": 24,
   "id": "dedec3d7",
   "metadata": {},
   "outputs": [
    {
     "name": "stdout",
     "output_type": "stream",
     "text": [
      "Baseline is:  36.88%\n"
     ]
    }
   ],
   "source": [
    "langs = pd.concat([df.language.value_counts(),\n",
    "                    df.language.value_counts(normalize=True)], axis=1)\n",
    "langs.columns = ['counts', 'percent']\n",
    "langs\n",
    "#establish baseline\n",
    "baseline = langs.loc['JavaScript', 'percent']\n",
    "\n",
    "print(f'Baseline is: ',  f'{baseline * 100:.2f}%')"
   ]
  },
  {
   "cell_type": "code",
   "execution_count": 25,
   "id": "292d4873",
   "metadata": {},
   "outputs": [
    {
     "data": {
      "text/plain": [
       "((910, 7), (391, 7), (326, 7))"
      ]
     },
     "execution_count": 25,
     "metadata": {},
     "output_type": "execute_result"
    }
   ],
   "source": [
    "#splitting the data to train validate split\n",
    "train,validate,test = prepare.split_df(df)\n",
    "train.shape,validate.shape, test.shape"
   ]
  },
  {
   "cell_type": "code",
   "execution_count": 26,
   "id": "1a294e5a",
   "metadata": {},
   "outputs": [],
   "source": [
    "# split the X variables\n",
    "X_train, X_validate,X_test = modeling.x_variables(train,validate,test)\n"
   ]
  },
  {
   "cell_type": "code",
   "execution_count": 27,
   "id": "266d1819",
   "metadata": {},
   "outputs": [],
   "source": [
    "# split the y variables\n",
    "y_train, y_validate,y_test = modeling.y_variables(train,validate,test)\n"
   ]
  },
  {
   "cell_type": "code",
   "execution_count": 28,
   "id": "97e304b5",
   "metadata": {},
   "outputs": [],
   "source": [
    "# creating the modeling objects\n",
    "X_train_vectorized, X_validate_vectorized,X_test_vectorized = modeling.tfidf_object(X_train,X_validate,X_test)"
   ]
  },
  {
   "cell_type": "markdown",
   "id": "f52804b9",
   "metadata": {},
   "source": [
    "---"
   ]
  },
  {
   "cell_type": "markdown",
   "id": "05ea4bd8",
   "metadata": {},
   "source": [
    "### Logistic Regression  (TFIDF Vectorizer)"
   ]
  },
  {
   "cell_type": "code",
   "execution_count": 29,
   "id": "76dc2db2",
   "metadata": {},
   "outputs": [
    {
     "data": {
      "text/plain": [
       "LogisticRegression()"
      ]
     },
     "execution_count": 29,
     "metadata": {},
     "output_type": "execute_result"
    }
   ],
   "source": [
    "#after vectorizing, we are ready to model\n",
    "lm = LogisticRegression()\n",
    "\n",
    "# Fit the classification model to vectorized train data\n",
    "lm.fit(X_train_vectorized, y_train)"
   ]
  },
  {
   "cell_type": "code",
   "execution_count": 30,
   "id": "9509cc49",
   "metadata": {},
   "outputs": [],
   "source": [
    "#creating a dataframes that will be used to append any values\n",
    "train_app , validate_app , test_app  = modeling.df_append(y_train, y_validate, y_test)"
   ]
  },
  {
   "cell_type": "code",
   "execution_count": 31,
   "id": "6f82d1d1",
   "metadata": {
    "scrolled": true
   },
   "outputs": [
    {
     "name": "stdout",
     "output_type": "stream",
     "text": [
      "Train Accuracy Score: 91.21%\n",
      "Validate Accuracy Score: 59.59%\n"
     ]
    }
   ],
   "source": [
    "# modeling log regression on tfidf vectorizer\n",
    "modeling.log_reg_tfidf_model(X_train_vectorized,y_train,X_validate_vectorized, y_validate,train_app,validate_app)"
   ]
  },
  {
   "cell_type": "markdown",
   "id": "6a00d817",
   "metadata": {},
   "source": [
    "#### Training Accuracy Matrix"
   ]
  },
  {
   "cell_type": "code",
   "execution_count": 32,
   "id": "06aa7e66",
   "metadata": {},
   "outputs": [
    {
     "name": "stdout",
     "output_type": "stream",
     "text": [
      "Accuracy: 91.21%\n",
      "---\n",
      "Confusion Matrix\n",
      "actual        HTML  Java  JavaScript  Python   R\n",
      "predicted_lm                                    \n",
      "HTML           210     7           4       4   3\n",
      "Java             0    46           0       0   0\n",
      "JavaScript      10    27         331      10   6\n",
      "Python           1     3           1     165   3\n",
      "R                1     0           0       0  78\n",
      "---\n",
      "              precision    recall  f1-score   support\n",
      "\n",
      "        HTML       0.92      0.95      0.93       222\n",
      "        Java       1.00      0.55      0.71        83\n",
      "  JavaScript       0.86      0.99      0.92       336\n",
      "      Python       0.95      0.92      0.94       179\n",
      "           R       0.99      0.87      0.92        90\n",
      "\n",
      "    accuracy                           0.91       910\n",
      "   macro avg       0.94      0.85      0.89       910\n",
      "weighted avg       0.92      0.91      0.91       910\n",
      "\n"
     ]
    }
   ],
   "source": [
    "# Training Accuracy Matrix log regression on tfidf vectorizer\n",
    "modeling.log_reg_tfidf_acc_matrix(train_app)"
   ]
  },
  {
   "cell_type": "markdown",
   "id": "9647d1fc",
   "metadata": {},
   "source": [
    "#### Validate Accuracy Matrix"
   ]
  },
  {
   "cell_type": "code",
   "execution_count": 33,
   "id": "841b21ef",
   "metadata": {},
   "outputs": [
    {
     "name": "stdout",
     "output_type": "stream",
     "text": [
      "Accuracy: 59.59%\n",
      "---\n",
      "Confusion Matrix\n",
      "actual        HTML  Java  JavaScript  Python   R\n",
      "predicted_lm                                    \n",
      "HTML            54    10          20      14   7\n",
      "Java             0     5           0       0   0\n",
      "JavaScript      34    18         117      20   7\n",
      "Python           5     3           7      38   6\n",
      "R                2     0           0       5  19\n",
      "---\n",
      "              precision    recall  f1-score   support\n",
      "\n",
      "        HTML       0.51      0.57      0.54        95\n",
      "        Java       1.00      0.14      0.24        36\n",
      "  JavaScript       0.60      0.81      0.69       144\n",
      "      Python       0.64      0.49      0.56        77\n",
      "           R       0.73      0.49      0.58        39\n",
      "\n",
      "    accuracy                           0.60       391\n",
      "   macro avg       0.70      0.50      0.52       391\n",
      "weighted avg       0.64      0.60      0.58       391\n",
      "\n"
     ]
    }
   ],
   "source": [
    "modeling.log_reg_tfidf_acc_val_matrix(validate_app)\n"
   ]
  },
  {
   "cell_type": "markdown",
   "id": "778e4df3",
   "metadata": {},
   "source": [
    "#### The logistic regression model with the TDIF Vectorizer yields a 91% accuracy on the train set and 59% on validate the validate set. This clearly shows the model is over-fitting on the train data.\n",
    "\n",
    "As illustrated by the f1-score for Java, there is a small representation of the sample, so the model is not very accurate when it comes to predicting languages. Due to over-fitting, this model will not be used."
   ]
  },
  {
   "cell_type": "markdown",
   "id": "5c1c7b40",
   "metadata": {},
   "source": [
    "---"
   ]
  },
  {
   "cell_type": "markdown",
   "id": "348eff2c",
   "metadata": {},
   "source": [
    "### Decision Tree Classifier (TFIDF Vectorizer)"
   ]
  },
  {
   "cell_type": "code",
   "execution_count": 34,
   "id": "6f79c1f8",
   "metadata": {
    "scrolled": false
   },
   "outputs": [
    {
     "name": "stdout",
     "output_type": "stream",
     "text": [
      "Train Accuracy Score: 57.47%\n",
      "Validate Accuracy Score: 50.90%\n"
     ]
    }
   ],
   "source": [
    "# #decision tree classifier\n",
    "modeling.decision_tree_classifier_tfidf(X_train_vectorized,y_train,X_validate_vectorized, y_validate,train_app, validate_app)"
   ]
  },
  {
   "cell_type": "markdown",
   "id": "94a2a2fd",
   "metadata": {},
   "source": [
    "#### Train accuracy matrix Decision Tree Classifier (tfidf vectorizer)\n"
   ]
  },
  {
   "cell_type": "code",
   "execution_count": 35,
   "id": "8327e185",
   "metadata": {},
   "outputs": [
    {
     "name": "stdout",
     "output_type": "stream",
     "text": [
      "Accuracy: 57.47%\n",
      "---\n",
      "Confusion Matrix\n",
      "actual       HTML  Java  JavaScript  Python   R\n",
      "predicted_t                                    \n",
      "HTML           74     1          15      12   1\n",
      "Java            0    32           2       0   0\n",
      "JavaScript    119    50         299      70  42\n",
      "Python          6     0           8      73   2\n",
      "R              23     0          12      24  45\n",
      "---\n",
      "              precision    recall  f1-score   support\n",
      "\n",
      "        HTML       0.72      0.33      0.46       222\n",
      "        Java       0.94      0.39      0.55        83\n",
      "  JavaScript       0.52      0.89      0.65       336\n",
      "      Python       0.82      0.41      0.54       179\n",
      "           R       0.43      0.50      0.46        90\n",
      "\n",
      "    accuracy                           0.57       910\n",
      "   macro avg       0.69      0.50      0.53       910\n",
      "weighted avg       0.66      0.57      0.56       910\n",
      "\n"
     ]
    }
   ],
   "source": [
    "# decision tree accuracy matrix on train\n",
    "modeling.acc_mat_decision_tree_tfidf(train_app)"
   ]
  },
  {
   "cell_type": "markdown",
   "id": "fdc6ea9d",
   "metadata": {},
   "source": [
    "#### validate decision tree accuracy matrix on \n"
   ]
  },
  {
   "cell_type": "code",
   "execution_count": 36,
   "id": "91038d66",
   "metadata": {},
   "outputs": [
    {
     "name": "stdout",
     "output_type": "stream",
     "text": [
      "Accuracy: 50.90%\n",
      "---\n",
      "Confusion Matrix\n",
      "actual       HTML  Java  JavaScript  Python   R\n",
      "predicted_t                                    \n",
      "HTML           26     3          17       5   0\n",
      "Java            1    12           3       1   0\n",
      "JavaScript     54    19         113      34  17\n",
      "Python          4     0           8      28   2\n",
      "R              10     2           3       9  20\n",
      "---\n",
      "              precision    recall  f1-score   support\n",
      "\n",
      "        HTML       0.51      0.27      0.36        95\n",
      "        Java       0.71      0.33      0.45        36\n",
      "  JavaScript       0.48      0.78      0.59       144\n",
      "      Python       0.67      0.36      0.47        77\n",
      "           R       0.45      0.51      0.48        39\n",
      "\n",
      "    accuracy                           0.51       391\n",
      "   macro avg       0.56      0.45      0.47       391\n",
      "weighted avg       0.54      0.51      0.49       391\n",
      "\n"
     ]
    }
   ],
   "source": [
    "# decision tree accuracy matrix on validate\n",
    "modeling.acc_mat_decision_tree_val_tfidf(validate_app)"
   ]
  },
  {
   "cell_type": "markdown",
   "id": "0164f089",
   "metadata": {},
   "source": [
    "#### Takeways:\n",
    "- Decision Tree Classifier (TFIDF Vectorizer)  had an accuracy of 57% and 50% on validate. \n",
    "\n",
    "- The model had a max depth of five, and although the accuracy is low, the model does not seem to be over-fit.\n",
    "\n",
    "- Not our best model therefore we will not run it on test"
   ]
  },
  {
   "cell_type": "markdown",
   "id": "6dd4ac9b",
   "metadata": {},
   "source": [
    "### Logistic Regression ( CountVectorizer)"
   ]
  },
  {
   "cell_type": "code",
   "execution_count": 37,
   "id": "cb129278",
   "metadata": {},
   "outputs": [
    {
     "data": {
      "text/plain": [
       "LogisticRegression()"
      ]
     },
     "execution_count": 37,
     "metadata": {},
     "output_type": "execute_result"
    }
   ],
   "source": [
    "#modeling - Logistic Regression (count Vectorizer)\n",
    "X_train_cv, X_validate_cv,X_test_cv = modeling.count_vec_object(X_train,X_validate,X_test)\n",
    "#after vectorizing, we are ready to model\n",
    "lm = LogisticRegression()\n",
    "# Fit the classification model to vectorized train data\n",
    "lm.fit(X_train_cv, y_train)"
   ]
  },
  {
   "cell_type": "code",
   "execution_count": 38,
   "id": "9015101a",
   "metadata": {},
   "outputs": [
    {
     "name": "stdout",
     "output_type": "stream",
     "text": [
      "Train Accuracy Score: 99.78%\n",
      "Validate Accuracy Score: 60.36%\n"
     ]
    }
   ],
   "source": [
    "# model accuracy score logistic regression count vectorizer\n",
    "modeling.log_reg_count_vec(X_train_cv,y_train,X_validate_cv, y_validate,train_app, validate_app)\n"
   ]
  },
  {
   "cell_type": "markdown",
   "id": "2fb75db6",
   "metadata": {},
   "source": [
    "#### train Accuracy Confusion Matrix"
   ]
  },
  {
   "cell_type": "code",
   "execution_count": 39,
   "id": "69d992a9",
   "metadata": {},
   "outputs": [
    {
     "name": "stdout",
     "output_type": "stream",
     "text": [
      "Train Accuracy: 99.78%\n",
      "---\n",
      "Confusion Matrix\n",
      "actual        HTML  Java  JavaScript  Python   R\n",
      "predicted_cv                                    \n",
      "HTML           220     0           0       0   0\n",
      "Java             0    83           0       0   0\n",
      "JavaScript       2     0         336       0   0\n",
      "Python           0     0           0     179   0\n",
      "R                0     0           0       0  90\n",
      "---\n",
      "              precision    recall  f1-score   support\n",
      "\n",
      "        HTML       1.00      0.99      1.00       222\n",
      "        Java       1.00      1.00      1.00        83\n",
      "  JavaScript       0.99      1.00      1.00       336\n",
      "      Python       1.00      1.00      1.00       179\n",
      "           R       1.00      1.00      1.00        90\n",
      "\n",
      "    accuracy                           1.00       910\n",
      "   macro avg       1.00      1.00      1.00       910\n",
      "weighted avg       1.00      1.00      1.00       910\n",
      "\n"
     ]
    }
   ],
   "source": [
    "modeling.cv_log_reg_matrix(train_app)\n"
   ]
  },
  {
   "cell_type": "markdown",
   "id": "b532ed93",
   "metadata": {},
   "source": [
    "#### validate accuracy confusion matrix"
   ]
  },
  {
   "cell_type": "code",
   "execution_count": 40,
   "id": "e654935f",
   "metadata": {},
   "outputs": [
    {
     "name": "stdout",
     "output_type": "stream",
     "text": [
      "Train Accuracy: 60.36%\n",
      "---\n",
      "Confusion Matrix\n",
      "actual        HTML  Java  JavaScript  Python   R\n",
      "predicted_cv                                    \n",
      "HTML            63    14          25      16   8\n",
      "Java             3     9           4       3   0\n",
      "JavaScript      19    13         107      18   2\n",
      "Python           4     0           8      33   5\n",
      "R                6     0           0       7  24\n",
      "---\n",
      "              precision    recall  f1-score   support\n",
      "\n",
      "        HTML       0.50      0.66      0.57        95\n",
      "        Java       0.47      0.25      0.33        36\n",
      "  JavaScript       0.67      0.74      0.71       144\n",
      "      Python       0.66      0.43      0.52        77\n",
      "           R       0.65      0.62      0.63        39\n",
      "\n",
      "    accuracy                           0.60       391\n",
      "   macro avg       0.59      0.54      0.55       391\n",
      "weighted avg       0.61      0.60      0.59       391\n",
      "\n"
     ]
    }
   ],
   "source": [
    "modeling.cv_log_reg_matrix_val(validate_app)\n"
   ]
  },
  {
   "cell_type": "markdown",
   "id": "59d44de1",
   "metadata": {},
   "source": [
    "#### Takeaways: \n",
    "The logistic regression model with the Count Vectorizer yields a 99% accuracy on the train set and 60% on the validate set. The sizable difference from the training and validation set shows that this model is prone to over-fitting, we will not move forward this this modeldata with this model\n"
   ]
  },
  {
   "cell_type": "markdown",
   "id": "58be85b9",
   "metadata": {},
   "source": [
    "---"
   ]
  },
  {
   "cell_type": "markdown",
   "id": "30c29b08",
   "metadata": {},
   "source": [
    "### Decision Tree Classifier (CountVectorizer)"
   ]
  },
  {
   "cell_type": "code",
   "execution_count": 41,
   "id": "8ca9f7ee",
   "metadata": {},
   "outputs": [
    {
     "name": "stdout",
     "output_type": "stream",
     "text": [
      "Train Accuracy Score: 52.20%\n",
      "Validate Accuracy Score: 53.96%\n",
      "Test Accuracy Score: 54.60%\n"
     ]
    }
   ],
   "source": [
    "# #decision tree classifier\n",
    "modeling.decision_tree_classifier_cv_(X_train_cv,y_train,X_validate_cv, y_validate,X_test_cv,y_test, train_app, validate_app,test_app)\n"
   ]
  },
  {
   "cell_type": "markdown",
   "id": "e35d82de",
   "metadata": {},
   "source": [
    "#### Training Confusion Matrix"
   ]
  },
  {
   "cell_type": "code",
   "execution_count": 42,
   "id": "0d303734",
   "metadata": {},
   "outputs": [
    {
     "name": "stdout",
     "output_type": "stream",
     "text": [
      "Accuracy: 52.20%\n",
      "---\n",
      "Confusion Matrix\n",
      "actual           HTML  Java  JavaScript  Python   R\n",
      "predicted_cv_dt                                    \n",
      "HTML              203    49         150     110  87\n",
      "Java                0    32           2       0   0\n",
      "JavaScript          9     2         174       3   0\n",
      "Python             10     0          10      66   3\n",
      "---\n",
      "              precision    recall  f1-score   support\n",
      "\n",
      "        HTML       0.34      0.91      0.49       222\n",
      "        Java       0.94      0.39      0.55        83\n",
      "  JavaScript       0.93      0.52      0.66       336\n",
      "      Python       0.74      0.37      0.49       179\n",
      "           R       0.00      0.00      0.00        90\n",
      "\n",
      "    accuracy                           0.52       910\n",
      "   macro avg       0.59      0.44      0.44       910\n",
      "weighted avg       0.66      0.52      0.51       910\n",
      "\n"
     ]
    }
   ],
   "source": [
    "modeling.cv_dec_tree_matrix(train_app)\n"
   ]
  },
  {
   "cell_type": "markdown",
   "id": "c75de3d9",
   "metadata": {},
   "source": [
    "#### Validate Confusion Matrix"
   ]
  },
  {
   "cell_type": "code",
   "execution_count": 43,
   "id": "31673395",
   "metadata": {},
   "outputs": [
    {
     "name": "stdout",
     "output_type": "stream",
     "text": [
      "Accuracy: 53.96%\n",
      "---\n",
      "Confusion Matrix\n",
      "actual           HTML  Java  JavaScript  Python   R\n",
      "predicted_cv_dt                                    \n",
      "HTML               88    22          57      43  38\n",
      "Java                1    14           1       1   0\n",
      "JavaScript          4     0          78       2   0\n",
      "Python              2     0           8      31   1\n",
      "---\n",
      "              precision    recall  f1-score   support\n",
      "\n",
      "        HTML       0.35      0.93      0.51        95\n",
      "        Java       0.82      0.39      0.53        36\n",
      "  JavaScript       0.93      0.54      0.68       144\n",
      "      Python       0.74      0.40      0.52        77\n",
      "           R       0.00      0.00      0.00        39\n",
      "\n",
      "    accuracy                           0.54       391\n",
      "   macro avg       0.57      0.45      0.45       391\n",
      "weighted avg       0.65      0.54      0.53       391\n",
      "\n"
     ]
    }
   ],
   "source": [
    "modeling.cv_dec_tree_matrix_val(validate_app)\n"
   ]
  },
  {
   "cell_type": "markdown",
   "id": "f3425f87",
   "metadata": {},
   "source": [
    "#### Test Confusion Matrix\n"
   ]
  },
  {
   "cell_type": "code",
   "execution_count": 44,
   "id": "a9e3fa81",
   "metadata": {},
   "outputs": [
    {
     "name": "stdout",
     "output_type": "stream",
     "text": [
      "Accuracy: 54.60%\n",
      "---\n",
      "Confusion Matrix\n",
      "actual           HTML  Java  JavaScript  Python   R\n",
      "predicted_cv_dt                                    \n",
      "HTML               69    17          44      34  33\n",
      "Java                1    11           0       0   0\n",
      "JavaScript          6     2          71       3   0\n",
      "Python              3     0           5      27   0\n",
      "---\n",
      "              precision    recall  f1-score   support\n",
      "\n",
      "        HTML       0.35      0.87      0.50        79\n",
      "        Java       0.92      0.37      0.52        30\n",
      "  JavaScript       0.87      0.59      0.70       120\n",
      "      Python       0.77      0.42      0.55        64\n",
      "           R       0.00      0.00      0.00        33\n",
      "\n",
      "    accuracy                           0.55       326\n",
      "   macro avg       0.58      0.45      0.45       326\n",
      "weighted avg       0.64      0.55      0.54       326\n",
      "\n"
     ]
    }
   ],
   "source": [
    "modeling.cv_dec_tree_matrix_test(test_app)\n"
   ]
  },
  {
   "cell_type": "markdown",
   "id": "8c894f47",
   "metadata": {},
   "source": [
    "#### Decision Tree Classifier (tfidf vectorizer)  had an accuracy of 52% , 53% on validate and 54% on test.\n",
    "- the model is a decision tree with a max depth of 5\n",
    "- the accuracy was low, however, it doesnt seem to be overfitting\n",
    "- since the train and validate results on the model are almost identical in accuracy, we went ahead and tested it on test data \n",
    "- this yeilded an accuracy of 54%, similar to the vlidate test set\n"
   ]
  },
  {
   "cell_type": "markdown",
   "id": "020a1db3",
   "metadata": {},
   "source": [
    "---"
   ]
  },
  {
   "cell_type": "code",
   "execution_count": 47,
   "id": "4d2086dd",
   "metadata": {
    "scrolled": true
   },
   "outputs": [
    {
     "name": "stdout",
     "output_type": "stream",
     "text": [
      "Overall Percentage Change:  48.06%\n"
     ]
    }
   ],
   "source": [
    "# calculating the percent change\n",
    "tree = DecisionTreeClassifier(max_depth=5, random_state=123)\n",
    "tree.fit(X_train_cv, y_train)\n",
    "score = tree.score(X_test_cv, y_test)\n",
    "percent_change = ((score - baseline) / baseline) * 100\n",
    "print(f'Overall Percentage Change: ', f'{percent_change:.2f}%')"
   ]
  },
  {
   "cell_type": "markdown",
   "id": "5ec5a330",
   "metadata": {},
   "source": [
    "### Takeaways:\n",
    "\n",
    "This Decision Tree Classifier (Count Vectorizer) had an accuracy of 52%, 53% on validate, and 54% on test. Similar to the TDIDF version of this model, over-fitting was not an issue. This model was chosen as the model to use on test due to an almost identical accuracy in the train and validate sets. The model beat the baseline accuracy of approximately 37% and showed an overall improvement in predictive ability of approximately 48%."
   ]
  },
  {
   "cell_type": "markdown",
   "id": "8d685b39",
   "metadata": {},
   "source": [
    "# Conclusion and Next Steps"
   ]
  },
  {
   "cell_type": "markdown",
   "id": "61a96a6d",
   "metadata": {},
   "source": [
    "Predicting programming languages based on readme's was not as intuitive as we hoped. Certain words are prevalent in some languages and rare in others, which is helpful for predictions. Although the initial hypothesis was that programming languages like R, and more recently, Python, would be over-represented due to the search topic, this proved not to be the case. While the model did outperform the baseline, there is still room for improvement. \n",
    "\n",
    "Given more time, we would like gather more samples to add to the corpus, explore mental health sub-topics, and take more time to analyze which individual words, bi-grams, and trigrams are the most predictive to increase predictive potential in future iterations."
   ]
  }
 ],
 "metadata": {
  "hide_input": false,
  "kernelspec": {
   "display_name": "Python 3 (ipykernel)",
   "language": "python",
   "name": "python3"
  },
  "language_info": {
   "codemirror_mode": {
    "name": "ipython",
    "version": 3
   },
   "file_extension": ".py",
   "mimetype": "text/x-python",
   "name": "python",
   "nbconvert_exporter": "python",
   "pygments_lexer": "ipython3",
   "version": "3.9.7"
  }
 },
 "nbformat": 4,
 "nbformat_minor": 5
}
