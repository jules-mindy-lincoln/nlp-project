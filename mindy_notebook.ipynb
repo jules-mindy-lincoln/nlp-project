{
 "cells": [
  {
   "cell_type": "code",
   "execution_count": 1,
   "id": "454d036c",
   "metadata": {},
   "outputs": [
    {
     "name": "stdout",
     "output_type": "stream",
     "text": [
      "<class 'pandas.core.frame.DataFrame'>\n",
      "Int64Index: 256 entries, 0 to 391\n",
      "Data columns (total 5 columns):\n",
      " #   Column           Non-Null Count  Dtype \n",
      "---  ------           --------------  ----- \n",
      " 0   repo             256 non-null    object\n",
      " 1   language         256 non-null    object\n",
      " 2   readme_contents  256 non-null    object\n",
      " 3   stemmed          256 non-null    object\n",
      " 4   lemmatized       256 non-null    object\n",
      "dtypes: object(5)\n",
      "memory usage: 12.0+ KB\n"
     ]
    }
   ],
   "source": [
    "import unicodedata\n",
    "import re\n",
    "import json\n",
    "\n",
    "import nltk\n",
    "from nltk.tokenize.toktok import ToktokTokenizer\n",
    "from nltk.corpus import stopwords\n",
    "\n",
    "import pandas as pd\n",
    "import os\n",
    "import time\n",
    "import csv\n",
    "import json\n",
    "from typing import Dict, List, Optional, Union, cast\n",
    "import requests\n",
    "import prepare\n",
    "\n",
    "from bs4 import BeautifulSoup\n",
    "\n",
    "df = prepare.wrangle_data()\n",
    "df.info()"
   ]
  },
  {
   "cell_type": "code",
   "execution_count": 2,
   "id": "a2e76fb6",
   "metadata": {},
   "outputs": [
    {
     "data": {
      "text/html": [
       "<div>\n",
       "<style scoped>\n",
       "    .dataframe tbody tr th:only-of-type {\n",
       "        vertical-align: middle;\n",
       "    }\n",
       "\n",
       "    .dataframe tbody tr th {\n",
       "        vertical-align: top;\n",
       "    }\n",
       "\n",
       "    .dataframe thead th {\n",
       "        text-align: right;\n",
       "    }\n",
       "</style>\n",
       "<table border=\"1\" class=\"dataframe\">\n",
       "  <thead>\n",
       "    <tr style=\"text-align: right;\">\n",
       "      <th></th>\n",
       "      <th>repo</th>\n",
       "      <th>language</th>\n",
       "      <th>readme_contents</th>\n",
       "      <th>stemmed</th>\n",
       "      <th>lemmatized</th>\n",
       "    </tr>\n",
       "  </thead>\n",
       "  <tbody>\n",
       "    <tr>\n",
       "      <th>0</th>\n",
       "      <td>dreamingechoes/awesome-mental-health</td>\n",
       "      <td>HTML</td>\n",
       "      <td>\\n&lt;p align=\"center\"&gt;&lt;img src=\"./media/logo.png...</td>\n",
       "      <td>aboutsparkl curat list awesom articl websit re...</td>\n",
       "      <td>aboutsparkles curated list awesome article web...</td>\n",
       "    </tr>\n",
       "    <tr>\n",
       "      <th>1</th>\n",
       "      <td>Flaque/quirk</td>\n",
       "      <td>TypeScript</td>\n",
       "      <td>🚧🚧🚧\\n\\n**Quirk is no longer being maintained.*...</td>\n",
       "      <td>quirk longer maintainedquirk start littl thing...</td>\n",
       "      <td>quirk longer maintainedquirk started little th...</td>\n",
       "    </tr>\n",
       "    <tr>\n",
       "      <th>4</th>\n",
       "      <td>sepandhaghighi/nafas</td>\n",
       "      <td>Python</td>\n",
       "      <td>&lt;div align=\"center\"&gt;\\n&lt;img src=\"https://github...</td>\n",
       "      <td>nafa &amp;#9; tabl content overview instal usag is...</td>\n",
       "      <td>nafas &amp;#9; table content overview installation...</td>\n",
       "    </tr>\n",
       "    <tr>\n",
       "      <th>5</th>\n",
       "      <td>youarerad/youareradweb</td>\n",
       "      <td>TypeScript</td>\n",
       "      <td>&lt;div align=\"center\"&gt;&lt;img src=\"https://res.clou...</td>\n",
       "      <td>welcom rise disord ' websit repow nonprofit co...</td>\n",
       "      <td>welcome rise disorder ' website repowe nonprof...</td>\n",
       "    </tr>\n",
       "    <tr>\n",
       "      <th>7</th>\n",
       "      <td>OSMIHelp/osmi-survey-graph</td>\n",
       "      <td>PHP</td>\n",
       "      <td># 2016 OSMI Survey Graph\\n\\n## Installing and ...</td>\n",
       "      <td>2016 osmi survey graph instal run copi envexam...</td>\n",
       "      <td>2016 osmi survey graph installing running copy...</td>\n",
       "    </tr>\n",
       "  </tbody>\n",
       "</table>\n",
       "</div>"
      ],
      "text/plain": [
       "                                   repo    language  \\\n",
       "0  dreamingechoes/awesome-mental-health        HTML   \n",
       "1                          Flaque/quirk  TypeScript   \n",
       "4                  sepandhaghighi/nafas      Python   \n",
       "5                youarerad/youareradweb  TypeScript   \n",
       "7            OSMIHelp/osmi-survey-graph         PHP   \n",
       "\n",
       "                                     readme_contents  \\\n",
       "0  \\n<p align=\"center\"><img src=\"./media/logo.png...   \n",
       "1  🚧🚧🚧\\n\\n**Quirk is no longer being maintained.*...   \n",
       "4  <div align=\"center\">\\n<img src=\"https://github...   \n",
       "5  <div align=\"center\"><img src=\"https://res.clou...   \n",
       "7  # 2016 OSMI Survey Graph\\n\\n## Installing and ...   \n",
       "\n",
       "                                             stemmed  \\\n",
       "0  aboutsparkl curat list awesom articl websit re...   \n",
       "1  quirk longer maintainedquirk start littl thing...   \n",
       "4  nafa &#9; tabl content overview instal usag is...   \n",
       "5  welcom rise disord ' websit repow nonprofit co...   \n",
       "7  2016 osmi survey graph instal run copi envexam...   \n",
       "\n",
       "                                          lemmatized  \n",
       "0  aboutsparkles curated list awesome article web...  \n",
       "1  quirk longer maintainedquirk started little th...  \n",
       "4  nafas &#9; table content overview installation...  \n",
       "5  welcome rise disorder ' website repowe nonprof...  \n",
       "7  2016 osmi survey graph installing running copy...  "
      ]
     },
     "execution_count": 2,
     "metadata": {},
     "output_type": "execute_result"
    }
   ],
   "source": [
    "df.head()"
   ]
  },
  {
   "cell_type": "code",
   "execution_count": null,
   "id": "e8e268cf",
   "metadata": {},
   "outputs": [],
   "source": [
    "df.language.value_counts()"
   ]
  },
  {
   "cell_type": "code",
   "execution_count": null,
   "id": "e4d0039b",
   "metadata": {},
   "outputs": [],
   "source": [
    "df = df[df.language != 'Jupyter Notebook']"
   ]
  },
  {
   "cell_type": "code",
   "execution_count": null,
   "id": "c0649541",
   "metadata": {},
   "outputs": [],
   "source": [
    "df.info()"
   ]
  },
  {
   "cell_type": "code",
   "execution_count": null,
   "id": "1af26bf1",
   "metadata": {},
   "outputs": [],
   "source": [
    "df.info()"
   ]
  },
  {
   "cell_type": "code",
   "execution_count": null,
   "id": "d3d58a74",
   "metadata": {},
   "outputs": [],
   "source": [
    "df = df.dropna()\n",
    "df = df[df['language'].map(df['language'].value_counts()) >= 5]"
   ]
  },
  {
   "cell_type": "code",
   "execution_count": null,
   "id": "12aaffe4",
   "metadata": {},
   "outputs": [],
   "source": []
  },
  {
   "cell_type": "code",
   "execution_count": null,
   "id": "04b89201",
   "metadata": {},
   "outputs": [],
   "source": [
    "df.language.value_counts()"
   ]
  },
  {
   "cell_type": "code",
   "execution_count": null,
   "id": "1a9fd2c1",
   "metadata": {},
   "outputs": [],
   "source": [
    "df = df.dropna()"
   ]
  },
  {
   "cell_type": "code",
   "execution_count": null,
   "id": "0b3a69be",
   "metadata": {},
   "outputs": [],
   "source": [
    "df.info()"
   ]
  },
  {
   "cell_type": "code",
   "execution_count": null,
   "id": "cb91d6ac",
   "metadata": {},
   "outputs": [],
   "source": [
    "df['readme_original'] = df['readme_contents']"
   ]
  },
  {
   "cell_type": "code",
   "execution_count": null,
   "id": "26e95f75",
   "metadata": {},
   "outputs": [],
   "source": [
    "def basic_clean(string):\n",
    "    string = string.lower()\n",
    "    string = (unicodedata.normalize('NFKD', string)\n",
    "                         .encode('ascii', 'ignore')\n",
    "                         .decode('utf-8', 'ignore')\n",
    "             )\n",
    "    string = re.sub(r\"[^a-z0-9'\\s]\", '', string)\n",
    "    return string"
   ]
  },
  {
   "cell_type": "code",
   "execution_count": null,
   "id": "36aef050",
   "metadata": {},
   "outputs": [],
   "source": [
    "df['readme_contents'] = df['readme_contents'].apply(basic_clean)"
   ]
  },
  {
   "cell_type": "code",
   "execution_count": null,
   "id": "0d7fd25d",
   "metadata": {},
   "outputs": [],
   "source": [
    "df.head()"
   ]
  },
  {
   "cell_type": "code",
   "execution_count": null,
   "id": "af815b29",
   "metadata": {},
   "outputs": [],
   "source": [
    "def clean_html(string):\n",
    "    string = re.sub(r'<[^>]*>', '', string)\n",
    "    string = re.sub(r\"https?:\\/\\/(www\\.)?[-a-zA-Z0-9@:%._\\+~#=]{1,256}\\.[a-zA-Z0-9()]{1,6}\\b([-a-zA-Z0-9()@:%_\\+.~#?&//=]*)\", '', string)\n",
    "    string = re.sub(r'\\n', '', string)\n",
    "    string = re.sub(r'\\s\\s', '', string)\n",
    "    return string"
   ]
  },
  {
   "cell_type": "code",
   "execution_count": null,
   "id": "16891dbf",
   "metadata": {},
   "outputs": [],
   "source": [
    "df['readme_contents'] = df['readme_contents'].apply(clean_html)"
   ]
  },
  {
   "cell_type": "code",
   "execution_count": null,
   "id": "41ea1c01",
   "metadata": {},
   "outputs": [],
   "source": [
    "df.head()"
   ]
  },
  {
   "cell_type": "code",
   "execution_count": null,
   "id": "25ab5c4e",
   "metadata": {},
   "outputs": [],
   "source": [
    "def tokenize(string):\n",
    "    tokenizer = nltk.tokenize.ToktokTokenizer()\n",
    "    return tokenizer.tokenize(string, return_str=True)"
   ]
  },
  {
   "cell_type": "code",
   "execution_count": null,
   "id": "f078b815",
   "metadata": {},
   "outputs": [],
   "source": [
    "df['readme_contents'] = df['readme_contents'].apply(tokenize)"
   ]
  },
  {
   "cell_type": "code",
   "execution_count": null,
   "id": "fdef28a3",
   "metadata": {},
   "outputs": [],
   "source": [
    "def stem(string):\n",
    "    ps = nltk.porter.PorterStemmer()\n",
    "    stems = [ps.stem(word) for word in string.split()]\n",
    "    return ' '.join(stems)"
   ]
  },
  {
   "cell_type": "code",
   "execution_count": null,
   "id": "081fa778",
   "metadata": {},
   "outputs": [],
   "source": [
    "df['readme_contents'] = df['readme_contents'].apply(stem)"
   ]
  },
  {
   "cell_type": "code",
   "execution_count": null,
   "id": "43091fde",
   "metadata": {},
   "outputs": [],
   "source": [
    "df['readme_contents']"
   ]
  },
  {
   "cell_type": "code",
   "execution_count": null,
   "id": "7b37c855",
   "metadata": {},
   "outputs": [],
   "source": [
    "def lemmatize(string):\n",
    "    wnl = nltk.stem.WordNetLemmatizer()\n",
    "    lemmas = [wnl.lemmatize(word) for word in string.split()]\n",
    "    return ' '.join(lemmas)"
   ]
  },
  {
   "cell_type": "code",
   "execution_count": null,
   "id": "fbe5f81b",
   "metadata": {},
   "outputs": [],
   "source": [
    "df['readme_contents'] = df['readme_contents'].apply(lemmatize)"
   ]
  },
  {
   "cell_type": "code",
   "execution_count": null,
   "id": "3a5ab1fb",
   "metadata": {},
   "outputs": [],
   "source": [
    "def remove_stopwords(string, extra_words=[], exclude_words=[]):\n",
    "    stopword_list = stopwords.words('english')\n",
    "    \n",
    "    for word in extra_words:\n",
    "        stopword_list.append(word)\n",
    "    \n",
    "    for word in exclude_words:\n",
    "        stopword_list.remove(word)\n",
    "        \n",
    "    words = string.split()\n",
    "    filtered_words = [word for word in words if word not in stopword_list]\n",
    "    return ' '.join(filtered_words)"
   ]
  },
  {
   "cell_type": "code",
   "execution_count": null,
   "id": "f476b9e2",
   "metadata": {},
   "outputs": [],
   "source": [
    "df['readme_contents'] = df['readme_contents'].apply(remove_stopwords)"
   ]
  },
  {
   "cell_type": "code",
   "execution_count": null,
   "id": "707de63a",
   "metadata": {},
   "outputs": [],
   "source": [
    "df['readme_contents']"
   ]
  },
  {
   "cell_type": "code",
   "execution_count": null,
   "id": "5e8c945a",
   "metadata": {},
   "outputs": [],
   "source": [
    "\n",
    "\n",
    "def prepare_readme_data(df, column):\n",
    "    clean_tokens = (df[column].apply(clean_html)\n",
    "                              .apply(basic_clean)\n",
    "                              .apply(tokenize)\n",
    "                              .apply(remove_stopwords)\n",
    "                   )\n",
    "    \n",
    "    for token in clean_tokens:\n",
    "        token = ' '.join(token).split()\n",
    "    \n",
    "    df['stemmed'] = clean_tokens.apply(stem)\n",
    "    df['lemmatized'] = clean_tokens.apply(lemmatize)\n",
    "    return df\n",
    "\n",
    "def wrangle_data():\n",
    "    data = pd.read_json('data.json')\n",
    "    return prepare_readme_data(data, 'readme_contents')"
   ]
  }
 ],
 "metadata": {
  "kernelspec": {
   "display_name": "Python 3 (ipykernel)",
   "language": "python",
   "name": "python3"
  },
  "language_info": {
   "codemirror_mode": {
    "name": "ipython",
    "version": 3
   },
   "file_extension": ".py",
   "mimetype": "text/x-python",
   "name": "python",
   "nbconvert_exporter": "python",
   "pygments_lexer": "ipython3",
   "version": "3.9.7"
  }
 },
 "nbformat": 4,
 "nbformat_minor": 5
}
