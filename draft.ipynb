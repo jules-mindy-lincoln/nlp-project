{
 "cells": [
  {
   "cell_type": "code",
   "execution_count": 12,
   "id": "649c0e8d",
   "metadata": {},
   "outputs": [],
   "source": [
    "#ignore warnings\n",
    "import warnings\n",
    "warnings.filterwarnings(\"ignore\")\n",
    "\n",
    "import pandas as pd\n",
    "import numpy as np\n",
    "\n",
    "import seaborn as sns\n",
    "import matplotlib as plt\n",
    "\n",
    "import unicodedata\n",
    "import re\n",
    "import json\n",
    "\n",
    "import nltk\n",
    "from nltk.tokenize.toktok import ToktokTokenizer\n",
    "from nltk.corpus import stopwords\n",
    "from nltk import trigrams\n",
    "from nltk import bigrams\n",
    "from collections import Counter\n",
    "from typing import Dict, List, Optional, Union, cast\n",
    "\n",
    "\n",
    "import os\n",
    "import time\n",
    "import csv\n",
    "\n",
    "\n",
    "import requests\n",
    "import prepare\n",
    "\n",
    "from sklearn.model_selection import train_test_split\n",
    "\n",
    "#statistical testing\n",
    "from scipy import stats\n",
    "from scipy.stats import pearsonr, spearmanr"
   ]
  },
  {
   "cell_type": "markdown",
   "id": "d8acec5c",
   "metadata": {},
   "source": [
    "# Project Planning"
   ]
  },
  {
   "cell_type": "markdown",
   "id": "8932e8cb",
   "metadata": {},
   "source": [
    "The goal of this project is to use Natural Language Processing in order to build a predictive model of programming languages using the text from a users Github repository's readme.md. Planning for this project involved:\n",
    "\n",
    "- Acquire data by webscraping Github to obtain enough text from repositories of *finish this sentence\n",
    "\n",
    "- Create a readme.md, data dictionary, visualizations to accompany a formal presentation, and a Final Report Notebook.\n",
    "\n",
    "- Clean and prepare the data for the first iteration through the data science pipeline, and automate these processes by storing as functions where applicable.\n",
    "\n",
    "- Clearly define at least two hypotheses, set an alpha, run statistical tests as needed, reject or fail to reject the Null Hypothesis, and document findings and takeaways.\n",
    "\n",
    "- Establish the baseline accuracy and document well.\n",
    "\n",
    "- Train several classification models.\n",
    "\n",
    "- Evaluate models on train and validate datasets.\n",
    "\n",
    "- Document executive summary, conclusions, takeaways, and next steps in the Final Report Notebook.\n",
    "\n",
    "- Upload readme.md, data dictionary, prepare.py, acquire.py, and Final Report Notebook."
   ]
  },
  {
   "cell_type": "markdown",
   "id": "45ad9287",
   "metadata": {},
   "source": [
    "# Executive Summary"
   ]
  },
  {
   "cell_type": "markdown",
   "id": "2ccc591f",
   "metadata": {},
   "source": [
    "- The languages chosen to build the predictive model were: Python,Java, R, HTML, and JavaScript. \n",
    "\n",
    "- The models used were *insert model names here* with the best performing model being *insert model here*\n",
    "\n",
    "    - *if applicable insert features included in the model here*:\n",
    "    \n",
    "        - feature\n",
    "        - feature \n",
    "        - feature\n",
    "   \n",
    "- *insert interesting observation/takeaway*\n",
    "\n",
    "- *insert whether or not the model beat baseline*\n",
    "\n",
    "- *insert insights from eda/statistical testing here*"
   ]
  },
  {
   "cell_type": "markdown",
   "id": "dcf0d09e",
   "metadata": {},
   "source": [
    "# Acquire\n",
    "\n",
    "- This data was obtained from Github *finish sentence*\n",
    "\n",
    "- *something, something dark side*\n",
    "\n",
    "- *something, something Darth Maul*"
   ]
  },
  {
   "cell_type": "code",
   "execution_count": 98,
   "id": "2e514f26",
   "metadata": {},
   "outputs": [
    {
     "data": {
      "text/html": [
       "<div>\n",
       "<style scoped>\n",
       "    .dataframe tbody tr th:only-of-type {\n",
       "        vertical-align: middle;\n",
       "    }\n",
       "\n",
       "    .dataframe tbody tr th {\n",
       "        vertical-align: top;\n",
       "    }\n",
       "\n",
       "    .dataframe thead th {\n",
       "        text-align: right;\n",
       "    }\n",
       "</style>\n",
       "<table border=\"1\" class=\"dataframe\">\n",
       "  <thead>\n",
       "    <tr style=\"text-align: right;\">\n",
       "      <th></th>\n",
       "      <th>repo</th>\n",
       "      <th>language</th>\n",
       "      <th>readme_contents</th>\n",
       "      <th>stemmed</th>\n",
       "      <th>lemmatized</th>\n",
       "      <th>total_words</th>\n",
       "    </tr>\n",
       "  </thead>\n",
       "  <tbody>\n",
       "    <tr>\n",
       "      <th>433</th>\n",
       "      <td>vjcho/lemonade</td>\n",
       "      <td>HTML</td>\n",
       "      <td># lemonade\\n\\n“I was served lemons, but I made...</td>\n",
       "      <td>lemonadei serv lemon made lemonad despit pain ...</td>\n",
       "      <td>lemonadei served lemon made lemonade despite p...</td>\n",
       "      <td>41</td>\n",
       "    </tr>\n",
       "    <tr>\n",
       "      <th>1804</th>\n",
       "      <td>Henry-Cook/NYS-Mental-Health-Services-Locator</td>\n",
       "      <td>JavaScript</td>\n",
       "      <td># New York State Mental Health Services Locato...</td>\n",
       "      <td>new york state mental health servic locat proj...</td>\n",
       "      <td>new york state mental health service locator p...</td>\n",
       "      <td>590</td>\n",
       "    </tr>\n",
       "    <tr>\n",
       "      <th>204</th>\n",
       "      <td>Paulwamaria/whisper-blog</td>\n",
       "      <td>Python</td>\n",
       "      <td># WHISPER BLOG\\n\\n## Description\\n\\nWHISPERING...</td>\n",
       "      <td>whisper blog descriptionwhisperingi web applic...</td>\n",
       "      <td>whisper blog descriptionwhisperingis web appli...</td>\n",
       "      <td>121</td>\n",
       "    </tr>\n",
       "    <tr>\n",
       "      <th>1492</th>\n",
       "      <td>ChanceYoung/MentalHealthSurvey</td>\n",
       "      <td>JavaScript</td>\n",
       "      <td># MentalHealthSurvey\\nMental Health Survey for...</td>\n",
       "      <td>mentalhealthsurveyment health survey snow coll...</td>\n",
       "      <td>mentalhealthsurveymental health survey snow co...</td>\n",
       "      <td>56</td>\n",
       "    </tr>\n",
       "    <tr>\n",
       "      <th>959</th>\n",
       "      <td>Etan01/CalmMind-quickhack</td>\n",
       "      <td>HTML</td>\n",
       "      <td># QuickHack 2021 - Calm Mind \\n\\n#### &lt;u&gt;Open ...</td>\n",
       "      <td>quickhack 2021 calm mind open categoryteam mem...</td>\n",
       "      <td>quickhack 2021 calm mind open categoryteam mem...</td>\n",
       "      <td>210</td>\n",
       "    </tr>\n",
       "  </tbody>\n",
       "</table>\n",
       "</div>"
      ],
      "text/plain": [
       "                                               repo    language  \\\n",
       "433                                  vjcho/lemonade        HTML   \n",
       "1804  Henry-Cook/NYS-Mental-Health-Services-Locator  JavaScript   \n",
       "204                        Paulwamaria/whisper-blog      Python   \n",
       "1492                 ChanceYoung/MentalHealthSurvey  JavaScript   \n",
       "959                       Etan01/CalmMind-quickhack        HTML   \n",
       "\n",
       "                                        readme_contents  \\\n",
       "433   # lemonade\\n\\n“I was served lemons, but I made...   \n",
       "1804  # New York State Mental Health Services Locato...   \n",
       "204   # WHISPER BLOG\\n\\n## Description\\n\\nWHISPERING...   \n",
       "1492  # MentalHealthSurvey\\nMental Health Survey for...   \n",
       "959   # QuickHack 2021 - Calm Mind \\n\\n#### <u>Open ...   \n",
       "\n",
       "                                                stemmed  \\\n",
       "433   lemonadei serv lemon made lemonad despit pain ...   \n",
       "1804  new york state mental health servic locat proj...   \n",
       "204   whisper blog descriptionwhisperingi web applic...   \n",
       "1492  mentalhealthsurveyment health survey snow coll...   \n",
       "959   quickhack 2021 calm mind open categoryteam mem...   \n",
       "\n",
       "                                             lemmatized  total_words  \n",
       "433   lemonadei served lemon made lemonade despite p...           41  \n",
       "1804  new york state mental health service locator p...          590  \n",
       "204   whisper blog descriptionwhisperingis web appli...          121  \n",
       "1492  mentalhealthsurveymental health survey snow co...           56  \n",
       "959   quickhack 2021 calm mind open categoryteam mem...          210  "
      ]
     },
     "execution_count": 98,
     "metadata": {},
     "output_type": "execute_result"
    }
   ],
   "source": [
    "  #train, test, split\n",
    "train_validate, test = train_test_split(df, test_size = .2, random_state = 123, stratify = df.language)\n",
    "train, validate = train_test_split(train_validate, test_size = .3, random_state = 123, stratify = train_validate.language)\n",
    "\n",
    "train.head()"
   ]
  },
  {
   "cell_type": "markdown",
   "id": "a1288b5a",
   "metadata": {},
   "source": [
    "# Prepare\n",
    "\n",
    "- We scraped *insert how many* Github repositories\n",
    "\n",
    "- Initially, *insert how many languages* were included\n",
    "\n",
    "- In order to improve accuracy during the modeling process, this project focused on the top five programming languages that came up in the repository search *insert topic here if applicable*, which are:\n",
    "\n",
    "    - Java\n",
    "    - HTML\n",
    "    - Python\n",
    "    - R\n",
    "    - JavaScript"
   ]
  },
  {
   "cell_type": "markdown",
   "id": "751277de",
   "metadata": {},
   "source": [
    "# Explore"
   ]
  },
  {
   "cell_type": "markdown",
   "id": "5d273e42",
   "metadata": {},
   "source": [
    "### Language Histograms/ Visualization?"
   ]
  },
  {
   "cell_type": "code",
   "execution_count": 82,
   "id": "047d7b1f",
   "metadata": {
    "scrolled": true
   },
   "outputs": [
    {
     "data": {
      "text/plain": [
       "<AxesSubplot:>"
      ]
     },
     "execution_count": 82,
     "metadata": {},
     "output_type": "execute_result"
    },
    {
     "data": {
      "image/png": "[encoded data removed]",
      "text/plain": [
       "<Figure size 432x288 with 1 Axes>"
      ]
     },
     "metadata": {
      "needs_background": "light"
     },
     "output_type": "display_data"
    }
   ],
   "source": [
    "train.language.hist()"
   ]
  },
  {
   "cell_type": "code",
   "execution_count": 97,
   "id": "201fb9df",
   "metadata": {},
   "outputs": [
    {
     "data": {
      "text/plain": [
       "array([[<AxesSubplot:title={'center':'total_words'}>]], dtype=object)"
      ]
     },
     "execution_count": 97,
     "metadata": {},
     "output_type": "execute_result"
    },
    {
     "data": {
      "image/png": "[encoded data removed]",
      "text/plain": [
       "<Figure size 432x288 with 1 Axes>"
      ]
     },
     "metadata": {
      "needs_background": "light"
     },
     "output_type": "display_data"
    }
   ],
   "source": [
    "train.loc[train['language'] == 'HTML'].hist()"
   ]
  },
  {
   "cell_type": "code",
   "execution_count": 95,
   "id": "4b0ba9da",
   "metadata": {},
   "outputs": [
    {
     "data": {
      "text/plain": [
       "<seaborn.axisgrid.FacetGrid at 0x1630e6be0>"
      ]
     },
     "execution_count": 95,
     "metadata": {},
     "output_type": "execute_result"
    },
    {
     "data": {
      "image/png": "[encoded data removed]",
      "text/plain": [
       "<Figure size 360x360 with 1 Axes>"
      ]
     },
     "metadata": {
      "needs_background": "light"
     },
     "output_type": "display_data"
    }
   ],
   "source": [
    "#plt.figure(fig_size = (10, 8))\n",
    "sns.catplot(data = train,\n",
    "           x = 'total_words',\n",
    "           y = 'language',\n",
    "           kind = 'swarm')"
   ]
  },
  {
   "cell_type": "code",
   "execution_count": 90,
   "id": "1b2bdd36",
   "metadata": {},
   "outputs": [
    {
     "data": {
      "text/plain": [
       "<seaborn.axisgrid.FacetGrid at 0x16300c550>"
      ]
     },
     "execution_count": 90,
     "metadata": {},
     "output_type": "execute_result"
    },
    {
     "data": {
      "image/png": "[encoded data removed]",
      "text/plain": [
       "<Figure size 360x360 with 1 Axes>"
      ]
     },
     "metadata": {
      "needs_background": "light"
     },
     "output_type": "display_data"
    }
   ],
   "source": [
    "sns.catplot(data = train,\n",
    "           x = 'total_words',\n",
    "           y = 'language',\n",
    "           kind = 'violin')"
   ]
  },
  {
   "cell_type": "markdown",
   "id": "e421107d",
   "metadata": {},
   "source": [
    "---"
   ]
  },
  {
   "cell_type": "markdown",
   "id": "63287e58",
   "metadata": {},
   "source": [
    "- Put this in a function"
   ]
  },
  {
   "cell_type": "code",
   "execution_count": 75,
   "id": "b5732a7f",
   "metadata": {},
   "outputs": [
    {
     "data": {
      "text/html": [
       "<div>\n",
       "<style scoped>\n",
       "    .dataframe tbody tr th:only-of-type {\n",
       "        vertical-align: middle;\n",
       "    }\n",
       "\n",
       "    .dataframe tbody tr th {\n",
       "        vertical-align: top;\n",
       "    }\n",
       "\n",
       "    .dataframe thead th {\n",
       "        text-align: right;\n",
       "    }\n",
       "</style>\n",
       "<table border=\"1\" class=\"dataframe\">\n",
       "  <thead>\n",
       "    <tr style=\"text-align: right;\">\n",
       "      <th></th>\n",
       "      <th>counts</th>\n",
       "      <th>percent</th>\n",
       "    </tr>\n",
       "  </thead>\n",
       "  <tbody>\n",
       "    <tr>\n",
       "      <th>JavaScript</th>\n",
       "      <td>600</td>\n",
       "      <td>0.368777</td>\n",
       "    </tr>\n",
       "    <tr>\n",
       "      <th>HTML</th>\n",
       "      <td>396</td>\n",
       "      <td>0.243393</td>\n",
       "    </tr>\n",
       "    <tr>\n",
       "      <th>Python</th>\n",
       "      <td>320</td>\n",
       "      <td>0.196681</td>\n",
       "    </tr>\n",
       "    <tr>\n",
       "      <th>R</th>\n",
       "      <td>162</td>\n",
       "      <td>0.099570</td>\n",
       "    </tr>\n",
       "    <tr>\n",
       "      <th>Java</th>\n",
       "      <td>149</td>\n",
       "      <td>0.091580</td>\n",
       "    </tr>\n",
       "  </tbody>\n",
       "</table>\n",
       "</div>"
      ],
      "text/plain": [
       "            counts   percent\n",
       "JavaScript     600  0.368777\n",
       "HTML           396  0.243393\n",
       "Python         320  0.196681\n",
       "R              162  0.099570\n",
       "Java           149  0.091580"
      ]
     },
     "execution_count": 75,
     "metadata": {},
     "output_type": "execute_result"
    }
   ],
   "source": [
    "langs = pd.concat([df.language.value_counts(),\n",
    "                    df.language.value_counts(normalize=True)], axis=1)\n",
    "langs.columns = ['counts', 'percent']\n",
    "langs\n",
    "\n",
    "#maybe show this as histograms or count plots"
   ]
  },
  {
   "cell_type": "code",
   "execution_count": null,
   "id": "ed0ad1fb",
   "metadata": {},
   "outputs": [],
   "source": []
  },
  {
   "cell_type": "markdown",
   "id": "1eb4cbd5",
   "metadata": {},
   "source": [
    "- Function?"
   ]
  },
  {
   "cell_type": "code",
   "execution_count": 39,
   "id": "5bfd5952",
   "metadata": {},
   "outputs": [
    {
     "data": {
      "text/html": [
       "<div>\n",
       "<style scoped>\n",
       "    .dataframe tbody tr th:only-of-type {\n",
       "        vertical-align: middle;\n",
       "    }\n",
       "\n",
       "    .dataframe tbody tr th {\n",
       "        vertical-align: top;\n",
       "    }\n",
       "\n",
       "    .dataframe thead th {\n",
       "        text-align: right;\n",
       "    }\n",
       "</style>\n",
       "<table border=\"1\" class=\"dataframe\">\n",
       "  <thead>\n",
       "    <tr style=\"text-align: right;\">\n",
       "      <th></th>\n",
       "      <th>all_words</th>\n",
       "      <th>JavaScript</th>\n",
       "      <th>HTML</th>\n",
       "      <th>Python</th>\n",
       "      <th>Java</th>\n",
       "      <th>R</th>\n",
       "    </tr>\n",
       "  </thead>\n",
       "  <tbody>\n",
       "    <tr>\n",
       "      <th>aa</th>\n",
       "      <td>2</td>\n",
       "      <td>0</td>\n",
       "      <td>1</td>\n",
       "      <td>0</td>\n",
       "      <td>1</td>\n",
       "      <td>0</td>\n",
       "    </tr>\n",
       "    <tr>\n",
       "      <th>aaa</th>\n",
       "      <td>1</td>\n",
       "      <td>0</td>\n",
       "      <td>0</td>\n",
       "      <td>0</td>\n",
       "      <td>1</td>\n",
       "      <td>0</td>\n",
       "    </tr>\n",
       "    <tr>\n",
       "      <th>aaaa</th>\n",
       "      <td>3</td>\n",
       "      <td>0</td>\n",
       "      <td>0</td>\n",
       "      <td>1</td>\n",
       "      <td>0</td>\n",
       "      <td>2</td>\n",
       "    </tr>\n",
       "    <tr>\n",
       "      <th>aac</th>\n",
       "      <td>1</td>\n",
       "      <td>0</td>\n",
       "      <td>0</td>\n",
       "      <td>0</td>\n",
       "      <td>1</td>\n",
       "      <td>0</td>\n",
       "    </tr>\n",
       "    <tr>\n",
       "      <th>aachal</th>\n",
       "      <td>2</td>\n",
       "      <td>2</td>\n",
       "      <td>0</td>\n",
       "      <td>0</td>\n",
       "      <td>0</td>\n",
       "      <td>0</td>\n",
       "    </tr>\n",
       "  </tbody>\n",
       "</table>\n",
       "</div>"
      ],
      "text/plain": [
       "        all_words  JavaScript  HTML  Python  Java  R\n",
       "aa              2           0     1       0     1  0\n",
       "aaa             1           0     0       0     1  0\n",
       "aaaa            3           0     0       1     0  2\n",
       "aac             1           0     0       0     1  0\n",
       "aachal          2           2     0       0     0  0"
      ]
     },
     "execution_count": 39,
     "metadata": {},
     "output_type": "execute_result"
    }
   ],
   "source": [
    "ADDITIONAL = ['The', 'I', 'This', 'app', 'run', 'project', 'user', 'use', 'mental', 'file', 'health',\n",
    "       'create', 'page', 'code', 'also', 'help', 'used']\n",
    "             \n",
    "def clean(readme_contents):\n",
    "    'A simple function to cleanup text data'\n",
    "    wnl = nltk.stem.WordNetLemmatizer()\n",
    "    stopwords = nltk.corpus.stopwords.words('english') + ADDITIONAL\n",
    "    text = (unicodedata.normalize('NFKD', readme_contents)\n",
    "             .encode('ascii', 'ignore')\n",
    "             .decode('utf-8', 'ignore')\n",
    "             .lower())\n",
    "    #words = re.sub(r'[^a-z\\s]', '', text).split()\n",
    "    words = re.sub (r'([^a-zA-Z ]+?)', \"\", text).split()\n",
    "    #words = re.sub(r'[\\D]', '', words).split()\n",
    "    \n",
    "    \n",
    "    return [wnl.lemmatize(word) for word in words if word not in stopwords]\n",
    "\n",
    "\n",
    "#making dfs with clean function for all langs\n",
    "JavaScript_words = clean(' '.join(df[df.language == 'JavaScript'].readme_contents))\n",
    "HTML_words = clean(' '.join(df[df.language == 'HTML'].readme_contents))\n",
    "Python_words = clean(' '.join(df[df.language == 'Python'].readme_contents))\n",
    "Java_words = clean(' '.join(df[df.language == 'Java'].readme_contents))\n",
    "R_words = clean(' '.join(df[df.language == 'R'].readme_contents))\n",
    "all_words = clean(' '.join(df.readme_contents))\n",
    "\n",
    "\n",
    "#make dfs to show frequencies of words\n",
    "\n",
    "JavaScript_freq = pd.Series(JavaScript_words).value_counts()\n",
    "HTML_freq = pd.Series(HTML_words).value_counts()\n",
    "Python_freq = pd.Series(Python_words).value_counts()\n",
    "Java_freq = pd.Series(Java_words).value_counts()\n",
    "R_freq = pd.Series(R_words).value_counts()\n",
    "all_freq = pd.Series(all_words).value_counts()\n",
    "\n",
    "\n",
    "word_counts = (pd.concat([all_freq, JavaScript_freq, HTML_freq, Python_freq, \n",
    "                    Java_freq, R_freq], axis=1, sort=True)\n",
    "                .set_axis(['all_words', 'JavaScript', 'HTML', 'Python', 'Java', 'R'], axis=1, inplace=False)\n",
    "                .fillna(0)\n",
    "                .apply(lambda s: s.astype(int)))\n",
    "\n",
    "word_counts.head()"
   ]
  },
  {
   "cell_type": "code",
   "execution_count": null,
   "id": "58755356",
   "metadata": {},
   "outputs": [],
   "source": []
  },
  {
   "cell_type": "code",
   "execution_count": null,
   "id": "1f6242d3",
   "metadata": {},
   "outputs": [],
   "source": []
  },
  {
   "cell_type": "code",
   "execution_count": 5,
   "id": "8912a73a",
   "metadata": {},
   "outputs": [
    {
     "name": "stdout",
     "output_type": "stream",
     "text": [
      "<class 'pandas.core.frame.DataFrame'>\n",
      "Int64Index: 1627 entries, 0 to 2142\n",
      "Data columns (total 6 columns):\n",
      " #   Column           Non-Null Count  Dtype \n",
      "---  ------           --------------  ----- \n",
      " 0   repo             1627 non-null   object\n",
      " 1   language         1627 non-null   object\n",
      " 2   readme_contents  1627 non-null   object\n",
      " 3   stemmed          1627 non-null   object\n",
      " 4   lemmatized       1627 non-null   object\n",
      " 5   total_words      1627 non-null   int64 \n",
      "dtypes: int64(1), object(5)\n",
      "memory usage: 89.0+ KB\n"
     ]
    }
   ],
   "source": [
    "df = prepare.wrangle_data()\n",
    "df.info()"
   ]
  },
  {
   "cell_type": "code",
   "execution_count": 8,
   "id": "1a821f9a",
   "metadata": {},
   "outputs": [
    {
     "data": {
      "text/html": [
       "<div>\n",
       "<style scoped>\n",
       "    .dataframe tbody tr th:only-of-type {\n",
       "        vertical-align: middle;\n",
       "    }\n",
       "\n",
       "    .dataframe tbody tr th {\n",
       "        vertical-align: top;\n",
       "    }\n",
       "\n",
       "    .dataframe thead th {\n",
       "        text-align: right;\n",
       "    }\n",
       "</style>\n",
       "<table border=\"1\" class=\"dataframe\">\n",
       "  <thead>\n",
       "    <tr style=\"text-align: right;\">\n",
       "      <th></th>\n",
       "      <th>repo</th>\n",
       "      <th>language</th>\n",
       "      <th>readme_contents</th>\n",
       "      <th>stemmed</th>\n",
       "      <th>lemmatized</th>\n",
       "      <th>total_words</th>\n",
       "    </tr>\n",
       "  </thead>\n",
       "  <tbody>\n",
       "    <tr>\n",
       "      <th>0</th>\n",
       "      <td>kharrigian/mental-health-datasets</td>\n",
       "      <td>Python</td>\n",
       "      <td>\\n# Mental Health Datasets\\n\\nThe information ...</td>\n",
       "      <td>mental health datasetsth inform evolv list dat...</td>\n",
       "      <td>mental health datasetsthe information evolving...</td>\n",
       "      <td>2716</td>\n",
       "    </tr>\n",
       "    <tr>\n",
       "      <th>1</th>\n",
       "      <td>behavioral-data/Empathy-Mental-Health</td>\n",
       "      <td>Python</td>\n",
       "      <td># Empathy in Text-based Mental Health Support\\...</td>\n",
       "      <td>empathi textbas mental health supportthi repos...</td>\n",
       "      <td>empathy textbased mental health supportthis re...</td>\n",
       "      <td>400</td>\n",
       "    </tr>\n",
       "    <tr>\n",
       "      <th>2</th>\n",
       "      <td>stutisehgal/RASA-Mental-Health-Chatbot</td>\n",
       "      <td>Python</td>\n",
       "      <td># RASA-Mental-Health-Chatbot\\n\\nMental health ...</td>\n",
       "      <td>rasamentalhealthchatbotment health chatbot dev...</td>\n",
       "      <td>rasamentalhealthchatbotmental health chatbot d...</td>\n",
       "      <td>55</td>\n",
       "    </tr>\n",
       "    <tr>\n",
       "      <th>3</th>\n",
       "      <td>openeobs/openeobs</td>\n",
       "      <td>Python</td>\n",
       "      <td># Open-eObs\\n[![Codacy Badge](https://api.coda...</td>\n",
       "      <td>openeobscodaci badgeutmmediumreferralamputmcon...</td>\n",
       "      <td>openeobscodacy badgeutmmediumreferralamputmcon...</td>\n",
       "      <td>223</td>\n",
       "    </tr>\n",
       "    <tr>\n",
       "      <th>4</th>\n",
       "      <td>kharrigian/mental-health-keywords</td>\n",
       "      <td>Python</td>\n",
       "      <td># Mental Health Keywords for Twitter\\n\\nThis r...</td>\n",
       "      <td>mental health keyword twitterthi repositori co...</td>\n",
       "      <td>mental health keywords twitterthis repository ...</td>\n",
       "      <td>468</td>\n",
       "    </tr>\n",
       "  </tbody>\n",
       "</table>\n",
       "</div>"
      ],
      "text/plain": [
       "                                     repo language  \\\n",
       "0       kharrigian/mental-health-datasets   Python   \n",
       "1   behavioral-data/Empathy-Mental-Health   Python   \n",
       "2  stutisehgal/RASA-Mental-Health-Chatbot   Python   \n",
       "3                       openeobs/openeobs   Python   \n",
       "4       kharrigian/mental-health-keywords   Python   \n",
       "\n",
       "                                     readme_contents  \\\n",
       "0  \\n# Mental Health Datasets\\n\\nThe information ...   \n",
       "1  # Empathy in Text-based Mental Health Support\\...   \n",
       "2  # RASA-Mental-Health-Chatbot\\n\\nMental health ...   \n",
       "3  # Open-eObs\\n[![Codacy Badge](https://api.coda...   \n",
       "4  # Mental Health Keywords for Twitter\\n\\nThis r...   \n",
       "\n",
       "                                             stemmed  \\\n",
       "0  mental health datasetsth inform evolv list dat...   \n",
       "1  empathi textbas mental health supportthi repos...   \n",
       "2  rasamentalhealthchatbotment health chatbot dev...   \n",
       "3  openeobscodaci badgeutmmediumreferralamputmcon...   \n",
       "4  mental health keyword twitterthi repositori co...   \n",
       "\n",
       "                                          lemmatized  total_words  \n",
       "0  mental health datasetsthe information evolving...         2716  \n",
       "1  empathy textbased mental health supportthis re...          400  \n",
       "2  rasamentalhealthchatbotmental health chatbot d...           55  \n",
       "3  openeobscodacy badgeutmmediumreferralamputmcon...          223  \n",
       "4  mental health keywords twitterthis repository ...          468  "
      ]
     },
     "execution_count": 8,
     "metadata": {},
     "output_type": "execute_result"
    }
   ],
   "source": [
    "df.head()"
   ]
  },
  {
   "cell_type": "markdown",
   "id": "9c588823",
   "metadata": {},
   "source": [
    "### hypos/questions\n",
    "\n",
    "- QUESTION 1: do certain languages have a higher average readme word count than others?\n",
    "- QUESTION 2: are certain frequently occuring words share across more than one language?\n",
    "- QUESTION 3: what words, if any, are frequently occuring in readmes for certain langauges that are barely prevelant in other language readmes?\n",
    "- QUESTION 4: what language's readme trends are closest related to the trends of all readmes?"
   ]
  },
  {
   "cell_type": "markdown",
   "id": "620f10a7",
   "metadata": {},
   "source": [
    "### QUESTION 1\n",
    "\n",
    "- do certain languages have a higher average readme word count than others?\n",
    "\n",
    "   \n",
    "   - in this section: \n",
    "            - make bins of high, med, and low readme word counts\n",
    "            - graph these counts for comparison \n",
    "            - run T-test/s on language vs. total counts column\n",
    "            - summarize findings"
   ]
  },
  {
   "cell_type": "code",
   "execution_count": null,
   "id": "063cb716",
   "metadata": {},
   "outputs": [],
   "source": [
    "#show averages with group by:\n",
    "df.total_words.groupby(df.language).mean().round()"
   ]
  },
  {
   "cell_type": "code",
   "execution_count": null,
   "id": "dd492a6e",
   "metadata": {},
   "outputs": [],
   "source": [
    "#prep to make bins for the better visual\n",
    "conditions = [(df.total_words > 171),\n",
    "              (df.total_words >= 51) & (df.total_words <= 171),\n",
    "              (df.total_words < 51)]\n",
    "choices = ['high_count', 'med_count', 'low_count']\n",
    "\n",
    "df['count_bin'] = np.select(conditions, choices)"
   ]
  },
  {
   "cell_type": "code",
   "execution_count": null,
   "id": "b423b3ab",
   "metadata": {},
   "outputs": [],
   "source": [
    "df_plot = df.groupby(['language', 'count_bin']).size().reset_index().pivot(columns='count_bin', index='language', values=0)"
   ]
  },
  {
   "cell_type": "code",
   "execution_count": null,
   "id": "0d7812a2",
   "metadata": {},
   "outputs": [],
   "source": [
    "#I like this to show lang counts with bins\n",
    "\n",
    "df_plot.plot(kind='bar')"
   ]
  },
  {
   "cell_type": "markdown",
   "id": "437a1b2b",
   "metadata": {},
   "source": [
    "#### Takeaways:\n",
    "\n",
    "- There are certain languages that have a higher average readme word count than others.\n",
    "- Java has the lowest average word count while those from repositories using JavaScript have considerably more words than the other four programming languages. "
   ]
  },
  {
   "cell_type": "markdown",
   "id": "67a7907e",
   "metadata": {},
   "source": [
    "### Are the word counts for JavaScript significantly higher than the mean word counts of all languages?\n",
    "\n",
    "One Sample T-Test\n",
    "\n",
    "$\\alpha$ = .05\n",
    "\n",
    "$𝐻_{0}$: JavaScript's mean word count is <= than the combined mean word count of all languages.\n",
    "\n",
    "𝐻𝑎: JavaScript's mean word count is > than the combined mean word count of all programming languages."
   ]
  },
  {
   "cell_type": "code",
   "execution_count": 67,
   "id": "e7b410bf",
   "metadata": {},
   "outputs": [
    {
     "name": "stdout",
     "output_type": "stream",
     "text": [
      "P Value: 0.000\n",
      "Fail to reject the null hypothesis.\n"
     ]
    }
   ],
   "source": [
    "α = 0.05\n",
    "\n",
    "js_sample = word_counts.JavaScript\n",
    "\n",
    "overall_mean = word_counts.all_words.mean()\n",
    "\n",
    "t, p = stats.ttest_1samp(js_sample, overall_mean)\n",
    "\n",
    "print(f'P Value: {p/2:.3f}')\n",
    "\n",
    "if p/2 < α and t > 0:\n",
    "    print('Reject the null hypothesis')\n",
    "else:\n",
    "    print('Fail to reject the null hypothesis.')"
   ]
  },
  {
   "cell_type": "markdown",
   "id": "d3146b17",
   "metadata": {},
   "source": [
    "---"
   ]
  },
  {
   "cell_type": "markdown",
   "id": "849f88dd",
   "metadata": {},
   "source": [
    "### Are the word counts for JavaScript significantly higher than the word counts of Python?\n",
    "\n",
    "Two Sample T-Test\n",
    "\n",
    "$\\alpha$ = .05\n",
    "\n",
    "$𝐻_{0}$: Javascript's mean word count is <= than the mean word count of Python.\n",
    "\n",
    "𝐻𝑎: Javascript's mean word count is > the mean word count of Python."
   ]
  },
  {
   "cell_type": "code",
   "execution_count": 73,
   "id": "a995fb83",
   "metadata": {},
   "outputs": [
    {
     "name": "stdout",
     "output_type": "stream",
     "text": [
      "Levene's F-statistic: 285.039\n",
      "P-value: 0.000\n",
      "Reject the null hypothesis.\n"
     ]
    }
   ],
   "source": [
    "#test for equal variance \n",
    "#H0 is that the variances are equal\n",
    "#Ha is that the variances are not equal\n",
    "# if p > .05, variances are not significantly different and set argument to equal_var = True\n",
    "#if p < .05, variances are significantly different and set argument to equal_var = False\n",
    "#Levene test on two groups\n",
    "\n",
    "\n",
    "#set alpha\n",
    "α = 0.05\n",
    "\n",
    "#perform test to determine variance\n",
    "f, p = stats.levene(word_counts.JavaScript,\n",
    "             word_counts.Python)\n",
    "\n",
    "#evaluate coefficient and p-value\n",
    "print(f'Levene\\'s F-statistic: {f:.3f}\\nP-value: {p:.3f}')\n",
    "\n",
    "\n",
    "#evaluate if \n",
    "if p < α:\n",
    "    print('Reject the null hypothesis.')\n",
    "else:\n",
    "    print('Fail to reject the null hypothesis.')"
   ]
  },
  {
   "cell_type": "code",
   "execution_count": 74,
   "id": "a29859a7",
   "metadata": {},
   "outputs": [
    {
     "name": "stdout",
     "output_type": "stream",
     "text": [
      "P Value: 0.000\n",
      "Reject the null hypothesis.\n"
     ]
    }
   ],
   "source": [
    "#set alpha\n",
    "α = 0.05\n",
    "\n",
    "#perform test\n",
    "t, p = stats.ttest_ind(word_counts.JavaScript, word_counts.Python, equal_var = False)\n",
    "\n",
    "#print p-value\n",
    "print(f'P Value: {p/2:.3f}')\n",
    "\n",
    "#evaluate if mean of the word counts associated w/ JavaScript is significantly higher than the mean \n",
    "# of the mean word counts associated with Python, is p/2 < a and t > 0?\n",
    "if p/2 < α and t > 0:\n",
    "    print('Reject the null hypothesis.')\n",
    "else:\n",
    "    print('Fail to reject the null hypothesis.')"
   ]
  },
  {
   "cell_type": "markdown",
   "id": "46c839ff",
   "metadata": {},
   "source": [
    "---"
   ]
  },
  {
   "cell_type": "markdown",
   "id": "be11629b",
   "metadata": {},
   "source": [
    "### Are the word counts for R significantly lower than the word counts of Python?\n",
    "\n",
    "Two Sample T-Test\n",
    "\n",
    "$\\alpha$ = .05\n",
    "\n",
    "$𝐻_{0}$: R's mean word count is >= than the mean word count of Python.\n",
    "\n",
    "𝐻𝑎: R's mean word count is < the mean word count of Python."
   ]
  },
  {
   "cell_type": "code",
   "execution_count": 70,
   "id": "e7bc1487",
   "metadata": {},
   "outputs": [
    {
     "name": "stdout",
     "output_type": "stream",
     "text": [
      "Levene's F-statistic: 267.514\n",
      "P-value: 0.000\n",
      "Reject the null hypothesis.\n"
     ]
    }
   ],
   "source": [
    "#test for equal variance \n",
    "#H0 is that the variances are equal\n",
    "#Ha is that the variances are not equal\n",
    "# if p > .05, variances are not significantly different and set argument to equal_var = True\n",
    "#if p < .05, variances are significantly different and set argument to equal_var = False\n",
    "#Levene test on two groups\n",
    "\n",
    "\n",
    "#set alpha\n",
    "α = 0.05\n",
    "\n",
    "#perform test to determine variance\n",
    "f, p = stats.levene(word_counts.R,\n",
    "             word_counts.Python)\n",
    "\n",
    "#evaluate coefficient and p-value\n",
    "print(f'Levene\\'s F-statistic: {f:.3f}\\nP-value: {p:.3f}')\n",
    "\n",
    "\n",
    "#evaluate if \n",
    "if p < α:\n",
    "    print('Reject the null hypothesis.')\n",
    "else:\n",
    "    print('Fail to reject the null hypothesis.')"
   ]
  },
  {
   "cell_type": "code",
   "execution_count": 72,
   "id": "ce1aa010",
   "metadata": {},
   "outputs": [
    {
     "name": "stdout",
     "output_type": "stream",
     "text": [
      "P Value: 0.000\n",
      "Reject the null hypothesis.\n"
     ]
    }
   ],
   "source": [
    "#set alpha\n",
    "α = 0.05\n",
    "\n",
    "#perform test\n",
    "t, p = stats.ttest_ind(word_counts.R, word_counts.Python, equal_var = False)\n",
    "\n",
    "#print p-value\n",
    "print(f'P Value: {p/2:.3f}')\n",
    "\n",
    "#evaluate if mean of the word counts associated w/ R is significantly lower than the mean \n",
    "# of the mean word counts associated with Python, is p/2 < a and t < 0?\n",
    "if p/2 < α and t < 0:\n",
    "    print('Reject the null hypothesis.')\n",
    "else:\n",
    "    print('Fail to reject the null hypothesis.')"
   ]
  },
  {
   "cell_type": "markdown",
   "id": "1e0507f1",
   "metadata": {},
   "source": [
    "### QUESTION 2: \n",
    "- are certain frequently occurring words share across more than one language?\n",
    "\n",
    "   - in this section: \n",
    "   \n",
    "            - make a top_words dataframe that includes the top 20 most frequently occureing words in each language\n",
    "            - see if any of of a language's top 20 readme words (not including stopwords) are shared with other language's/s' top 20\n",
    "            - summarize findings"
   ]
  },
  {
   "cell_type": "code",
   "execution_count": null,
   "id": "8601b09f",
   "metadata": {},
   "outputs": [],
   "source": [
    "#makes dfs for arranging top words by the diff langs to help compare\n",
    "#if tops in some langs may be way different than tops in others\n",
    "js_top = word_counts.sort_values(by='JavaScript', ascending=False).head(20)\n",
    "html_top = word_counts.sort_values(by='HTML', ascending=False).head(20)\n",
    "python_top = word_counts.sort_values(by='Python', ascending=False).head(20)\n",
    "java_top = word_counts.sort_values(by='Java', ascending=False).head(20)\n",
    "r_top = word_counts.sort_values(by='R', ascending=False).head(20)"
   ]
  },
  {
   "cell_type": "code",
   "execution_count": null,
   "id": "ed972797",
   "metadata": {},
   "outputs": [],
   "source": [
    "#makes one df of the top 20 words in all dfs \n",
    "top_words = (pd.concat([js_top, html_top, python_top, java_top,\n",
    "                    r_top], axis=0, sort=True)\n",
    "                .fillna(0)\n",
    "                .apply(lambda s: s.astype(int)))\n",
    "\n",
    "top_words.head()"
   ]
  },
  {
   "cell_type": "code",
   "execution_count": null,
   "id": "33a36f51",
   "metadata": {},
   "outputs": [],
   "source": [
    "#drops all as we don't need that to compare for next step\n",
    "top_words= top_words.drop(columns=['all'])"
   ]
  },
  {
   "cell_type": "markdown",
   "id": "6c76083b",
   "metadata": {},
   "source": [
    "### Graph this?"
   ]
  },
  {
   "cell_type": "code",
   "execution_count": null,
   "id": "00dbcfb6",
   "metadata": {},
   "outputs": [],
   "source": [
    "#if you want to graph somehow, but not super necessary to include this\n",
    "top_words"
   ]
  },
  {
   "cell_type": "code",
   "execution_count": null,
   "id": "387f94b6",
   "metadata": {},
   "outputs": [],
   "source": [
    "#these are the frequent words that are shared amongst 2 or more programming languages\n",
    "tops = top_words[top_words.index.value_counts() > 1]\n",
    "tops.index.unique()"
   ]
  },
  {
   "cell_type": "markdown",
   "id": "c61b76a6",
   "metadata": {},
   "source": [
    "### QUESTION 2 summary: \n",
    "\n",
    "- are certain frequently occurring words share across more than one language?\n",
    "\n",
    "The following words are amongst the top 20 frequently occurring words (excluding stop words) in 2 or more languages:\n",
    "\n",
    "'section', 'test', 'install', 'make', 'need', 'feature', 'user', 'time',\n",
    "       'information', 'file', 'command', 'people', 'one', 'application',\n",
    "       'model', 'dataset', 'analysis', 'following'"
   ]
  },
  {
   "cell_type": "markdown",
   "id": "d25263e4",
   "metadata": {},
   "source": [
    "---"
   ]
  },
  {
   "cell_type": "markdown",
   "id": "20f60fa2",
   "metadata": {},
   "source": [
    "# Mindy Redoing, wait!"
   ]
  },
  {
   "cell_type": "markdown",
   "id": "0a5f6ec0",
   "metadata": {},
   "source": [
    "### QUESTION 3: \n",
    "- what words, if any, are frequently occuring in readmes for certain langauges that are barely prevelant in other language readmes?\n",
    "\n",
    "   - in this section: \n",
    "   \n",
    "            - make dfs (divided for graphing) that looks at the top 20 most frequently occuring words (in all records)\n",
    "            -change the counts to percentages to show word prevelance per language of the top words\n",
    "            - graph the relationships\n",
    "            - run statistical tests to see what top words, if any, have a significant frequency difference in different languages\n",
    "            - summarize findings"
   ]
  },
  {
   "cell_type": "code",
   "execution_count": null,
   "id": "b8ea9b20",
   "metadata": {},
   "outputs": [],
   "source": [
    "#just makes dfs of some of the most freq words. divided like this just to make graphs\n",
    "#look nicer\n",
    "#most_freq_700 is 700-799 words\n",
    "#most_freq_800 is 800-999 words\n",
    "#most_freq is is 1000+\n",
    "most_freq_700 = word_counts[word_counts['all'] > 700] \n",
    "most_freq_700 = most_freq_700[most_freq_700['all'] < 800]\n",
    "most_freq_800 = word_counts[word_counts['all'] >= 800]\n",
    "most_freq_800 = most_freq_800[most_freq_800['all'] < 1000]\n",
    "most_freq = word_counts[word_counts['all'] >= 1000]"
   ]
  },
  {
   "cell_type": "code",
   "execution_count": null,
   "id": "a00bb9fd",
   "metadata": {},
   "outputs": [],
   "source": [
    "#making dfs to look at these as a percentage and give each language\n",
    "#equal weight looking at word importance as our records are evenly \n",
    "#distributed\n",
    "word_perc = pd.DataFrame()\n",
    "for col in most_freq.columns:\n",
    "    word_perc = word_perc.append(most_freq[col].sort_values(ascending=False)/most_freq[col].sum())\n",
    "\n",
    "word_perc_700 = pd.DataFrame()\n",
    "for col in most_freq_700.columns:\n",
    "    word_perc_700 = word_perc_700.append(most_freq_700[col].sort_values(ascending=False)/most_freq_700[col].sum())\n",
    "    \n",
    "word_perc_800 = pd.DataFrame()\n",
    "for col in most_freq_800.columns:\n",
    "    word_perc_800 = word_perc_800.append(most_freq_800[col].sort_values(ascending=False)/most_freq_800[col].sum())"
   ]
  },
  {
   "cell_type": "code",
   "execution_count": null,
   "id": "849b6cc8",
   "metadata": {},
   "outputs": [],
   "source": [
    "#incase we wanted to use the counts (can do with the 3 most_freq dfs, but I\n",
    "#think we could skip this and just do the word_perc dfs for the graphs\n",
    "#as I think they are more meaningful)\n",
    "plt.rcParams[\"figure.figsize\"] = (20,10)\n",
    "most_freq.plot(kind='bar')"
   ]
  },
  {
   "cell_type": "code",
   "execution_count": null,
   "id": "b0595e23",
   "metadata": {},
   "outputs": [],
   "source": [
    "#transponsing dfs to make better graphs\n",
    "word_perc_T = word_perc.T\n",
    "word_perc_700_T = word_perc_700.T\n",
    "word_perc_800_T = word_perc_800.T"
   ]
  },
  {
   "cell_type": "markdown",
   "id": "75694583",
   "metadata": {},
   "source": [
    "to look at similarities, we simple look at bars w similar heights. That will show they have a similar distribution of that specific word"
   ]
  },
  {
   "cell_type": "code",
   "execution_count": null,
   "id": "2c8deb27",
   "metadata": {},
   "outputs": [],
   "source": [
    "#the next 3 would make sense to do subplots. I'll make a function\n",
    "#for them, I think we should get rid of all here too\n",
    "plt.rcParams[\"figure.figsize\"] = (20,8)\n",
    "word_perc_T.plot(kind='bar')"
   ]
  },
  {
   "cell_type": "code",
   "execution_count": null,
   "id": "721a44e4",
   "metadata": {},
   "outputs": [],
   "source": [
    "plt.rcParams[\"figure.figsize\"] = (20,8)\n",
    "word_perc_700_T.plot(kind='bar')"
   ]
  },
  {
   "cell_type": "code",
   "execution_count": null,
   "id": "031a17e5",
   "metadata": {},
   "outputs": [],
   "source": [
    "plt.rcParams[\"figure.figsize\"] = (20,8)\n",
    "word_perc_800_T.plot(kind='bar')"
   ]
  },
  {
   "cell_type": "markdown",
   "id": "68344d88",
   "metadata": {},
   "source": [
    "### QUESTION 3 summary: \n",
    "\n",
    "- what words, if any, are frequently occuring in readmes for certain langauges that are barely prevelant in other language readmes?\n",
    "\n",
    "Looking at graphs (and stat tests), these top occuring words may be helpful in identifying said languages:\n",
    "\n",
    "- 'file': R\n",
    "- 'website': HTML\n",
    "- 'application': Java"
   ]
  },
  {
   "cell_type": "markdown",
   "id": "b6efb7ac",
   "metadata": {},
   "source": [
    "# Bigrams/Trigrams?"
   ]
  },
  {
   "cell_type": "markdown",
   "id": "8583cee0",
   "metadata": {},
   "source": [
    "# Wordcloud?"
   ]
  },
  {
   "cell_type": "markdown",
   "id": "a35b5835",
   "metadata": {},
   "source": [
    "### QUESTION 4: \n",
    "- what language's readme trends are closest related to the trends of all readmes?"
   ]
  },
  {
   "cell_type": "code",
   "execution_count": null,
   "id": "324b5685",
   "metadata": {},
   "outputs": [],
   "source": []
  },
  {
   "cell_type": "markdown",
   "id": "554d0919",
   "metadata": {},
   "source": [
    "# Modeling"
   ]
  },
  {
   "cell_type": "code",
   "execution_count": null,
   "id": "9db4bad2",
   "metadata": {},
   "outputs": [],
   "source": []
  },
  {
   "cell_type": "code",
   "execution_count": null,
   "id": "6f89407a",
   "metadata": {},
   "outputs": [],
   "source": []
  },
  {
   "cell_type": "code",
   "execution_count": null,
   "id": "d5904a17",
   "metadata": {},
   "outputs": [],
   "source": []
  }
 ],
 "metadata": {
  "kernelspec": {
   "display_name": "Python 3 (ipykernel)",
   "language": "python",
   "name": "python3"
  },
  "language_info": {
   "codemirror_mode": {
    "name": "ipython",
    "version": 3
   },
   "file_extension": ".py",
   "mimetype": "text/x-python",
   "name": "python",
   "nbconvert_exporter": "python",
   "pygments_lexer": "ipython3",
   "version": "3.9.12"
  }
 },
 "nbformat": 4,
 "nbformat_minor": 5
}
