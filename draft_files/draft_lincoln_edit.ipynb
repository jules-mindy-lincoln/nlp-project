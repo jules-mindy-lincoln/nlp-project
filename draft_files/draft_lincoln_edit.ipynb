{
 "cells": [
  {
   "cell_type": "code",
   "execution_count": 55,
   "id": "2c7d1fca",
   "metadata": {},
   "outputs": [],
   "source": [
    "#ignore warnings\n",
    "import warnings\n",
    "warnings.filterwarnings(\"ignore\")\n",
    "\n",
    "import pandas as pd\n",
    "import numpy as np\n",
    "\n",
    "import seaborn as sns\n",
    "import matplotlib as plt\n",
    "\n",
    "import unicodedata\n",
    "import re\n",
    "import json\n",
    "\n",
    "import nltk\n",
    "from nltk.tokenize.toktok import ToktokTokenizer\n",
    "from nltk.corpus import stopwords\n",
    "from nltk import trigrams\n",
    "from nltk import bigrams\n",
    "from collections import Counter\n",
    "from typing import Dict, List, Optional, Union, cast\n",
    "\n",
    "from sklearn.feature_extraction.text import TfidfVectorizer\n",
    "from sklearn.feature_extraction.text import CountVectorizer\n",
    "\n",
    "from pprint import pprint\n",
    "\n",
    "from sklearn.model_selection import train_test_split\n",
    "from sklearn.linear_model import LogisticRegression\n",
    "from sklearn.metrics import classification_report, accuracy_score\n",
    "from sklearn.model_selection import train_test_split\n",
    "from sklearn.tree import DecisionTreeClassifier, export_graphviz\n",
    "from sklearn.ensemble import RandomForestClassifier\n",
    "from sklearn.metrics import classification_report\n",
    "\n",
    "import os\n",
    "import time\n",
    "import csv\n",
    "\n",
    "\n",
    "import requests\n",
    "import prepare\n",
    "\n",
    "from sklearn.model_selection import train_test_split\n",
    "\n",
    "#statistical testing\n",
    "from scipy import stats\n",
    "from scipy.stats import pearsonr, spearmanr"
   ]
  },
  {
   "cell_type": "markdown",
   "id": "43d232ba",
   "metadata": {},
   "source": [
    "# Project Planning"
   ]
  },
  {
   "cell_type": "markdown",
   "id": "8e58c446",
   "metadata": {},
   "source": [
    "The goal of this project is to use Natural Language Processing in order to build a predictive model of programming languages using the text from a users Github repository's readme.md. Planning for this project involved:\n",
    "\n",
    "- Acquire data by webscraping Github to obtain enough text from repositories of *finish this sentence\n",
    "\n",
    "- Create a readme.md, data dictionary, visualizations to accompany a formal presentation, and a Final Report Notebook.\n",
    "\n",
    "- Clean and prepare the data for the first iteration through the data science pipeline, and automate these processes by storing as functions where applicable.\n",
    "\n",
    "- Clearly define at least two hypotheses, set an alpha, run statistical tests as needed, reject or fail to reject the Null Hypothesis, and document findings and takeaways.\n",
    "\n",
    "- Establish the baseline accuracy and document well.\n",
    "\n",
    "- Train several classification models.\n",
    "\n",
    "- Evaluate models on train and validate datasets.\n",
    "\n",
    "- Document executive summary, conclusions, takeaways, and next steps in the Final Report Notebook.\n",
    "\n",
    "- Upload readme.md, data dictionary, prepare.py, acquire.py, and Final Report Notebook."
   ]
  },
  {
   "cell_type": "markdown",
   "id": "3bbc6950",
   "metadata": {},
   "source": [
    "# Executive Summary"
   ]
  },
  {
   "cell_type": "markdown",
   "id": "f2642922",
   "metadata": {},
   "source": [
    "- The languages chosen to build the predictive model were: Python,Java, R, HTML, and JavaScript. \n",
    "\n",
    "- The models used were *insert model names here* with the best performing model being *insert model here*\n",
    "\n",
    "    - *if applicable insert features included in the model here*:\n",
    "    \n",
    "        - feature\n",
    "        - feature \n",
    "        - feature\n",
    "   \n",
    "- *insert interesting observation/takeaway*\n",
    "\n",
    "- *insert whether or not the model beat baseline*\n",
    "\n",
    "- *insert insights from eda/statistical testing here*"
   ]
  },
  {
   "cell_type": "markdown",
   "id": "10b8f592",
   "metadata": {},
   "source": [
    "# Acquire\n",
    "\n",
    "- This data was obtained from Github *finish sentence*\n",
    "\n",
    "- *something, something dark side*\n",
    "\n",
    "- *something, something Darth Maul*"
   ]
  },
  {
   "cell_type": "code",
   "execution_count": 2,
   "id": "2677bd00",
   "metadata": {},
   "outputs": [
    {
     "name": "stdout",
     "output_type": "stream",
     "text": [
      "<class 'pandas.core.frame.DataFrame'>\n",
      "Int64Index: 1627 entries, 0 to 2142\n",
      "Data columns (total 6 columns):\n",
      " #   Column           Non-Null Count  Dtype \n",
      "---  ------           --------------  ----- \n",
      " 0   repo             1627 non-null   object\n",
      " 1   language         1627 non-null   object\n",
      " 2   readme_contents  1627 non-null   object\n",
      " 3   stemmed          1627 non-null   object\n",
      " 4   lemmatized       1627 non-null   object\n",
      " 5   total_words      1627 non-null   int64 \n",
      "dtypes: int64(1), object(5)\n",
      "memory usage: 89.0+ KB\n"
     ]
    }
   ],
   "source": [
    "df = prepare.wrangle_data()\n",
    "df.info()"
   ]
  },
  {
   "cell_type": "code",
   "execution_count": 3,
   "id": "8a619e10",
   "metadata": {},
   "outputs": [
    {
     "data": {
      "text/html": [
       "<div>\n",
       "<style scoped>\n",
       "    .dataframe tbody tr th:only-of-type {\n",
       "        vertical-align: middle;\n",
       "    }\n",
       "\n",
       "    .dataframe tbody tr th {\n",
       "        vertical-align: top;\n",
       "    }\n",
       "\n",
       "    .dataframe thead th {\n",
       "        text-align: right;\n",
       "    }\n",
       "</style>\n",
       "<table border=\"1\" class=\"dataframe\">\n",
       "  <thead>\n",
       "    <tr style=\"text-align: right;\">\n",
       "      <th></th>\n",
       "      <th>repo</th>\n",
       "      <th>language</th>\n",
       "      <th>readme_contents</th>\n",
       "      <th>stemmed</th>\n",
       "      <th>lemmatized</th>\n",
       "      <th>total_words</th>\n",
       "    </tr>\n",
       "  </thead>\n",
       "  <tbody>\n",
       "    <tr>\n",
       "      <th>433</th>\n",
       "      <td>vjcho/lemonade</td>\n",
       "      <td>HTML</td>\n",
       "      <td># lemonade\\n\\n“I was served lemons, but I made...</td>\n",
       "      <td>lemonadei serv lemon made lemonad despit pain ...</td>\n",
       "      <td>lemonadei served lemon made lemonade despite p...</td>\n",
       "      <td>41</td>\n",
       "    </tr>\n",
       "    <tr>\n",
       "      <th>1804</th>\n",
       "      <td>Henry-Cook/NYS-Mental-Health-Services-Locator</td>\n",
       "      <td>JavaScript</td>\n",
       "      <td># New York State Mental Health Services Locato...</td>\n",
       "      <td>new york state mental health servic locat proj...</td>\n",
       "      <td>new york state mental health service locator p...</td>\n",
       "      <td>590</td>\n",
       "    </tr>\n",
       "    <tr>\n",
       "      <th>204</th>\n",
       "      <td>Paulwamaria/whisper-blog</td>\n",
       "      <td>Python</td>\n",
       "      <td># WHISPER BLOG\\n\\n## Description\\n\\nWHISPERING...</td>\n",
       "      <td>whisper blog descriptionwhisperingi web applic...</td>\n",
       "      <td>whisper blog descriptionwhisperingis web appli...</td>\n",
       "      <td>121</td>\n",
       "    </tr>\n",
       "    <tr>\n",
       "      <th>1492</th>\n",
       "      <td>ChanceYoung/MentalHealthSurvey</td>\n",
       "      <td>JavaScript</td>\n",
       "      <td># MentalHealthSurvey\\nMental Health Survey for...</td>\n",
       "      <td>mentalhealthsurveyment health survey snow coll...</td>\n",
       "      <td>mentalhealthsurveymental health survey snow co...</td>\n",
       "      <td>56</td>\n",
       "    </tr>\n",
       "    <tr>\n",
       "      <th>959</th>\n",
       "      <td>Etan01/CalmMind-quickhack</td>\n",
       "      <td>HTML</td>\n",
       "      <td># QuickHack 2021 - Calm Mind \\n\\n#### &lt;u&gt;Open ...</td>\n",
       "      <td>quickhack 2021 calm mind open categoryteam mem...</td>\n",
       "      <td>quickhack 2021 calm mind open categoryteam mem...</td>\n",
       "      <td>210</td>\n",
       "    </tr>\n",
       "  </tbody>\n",
       "</table>\n",
       "</div>"
      ],
      "text/plain": [
       "                                               repo    language  \\\n",
       "433                                  vjcho/lemonade        HTML   \n",
       "1804  Henry-Cook/NYS-Mental-Health-Services-Locator  JavaScript   \n",
       "204                        Paulwamaria/whisper-blog      Python   \n",
       "1492                 ChanceYoung/MentalHealthSurvey  JavaScript   \n",
       "959                       Etan01/CalmMind-quickhack        HTML   \n",
       "\n",
       "                                        readme_contents  \\\n",
       "433   # lemonade\\n\\n“I was served lemons, but I made...   \n",
       "1804  # New York State Mental Health Services Locato...   \n",
       "204   # WHISPER BLOG\\n\\n## Description\\n\\nWHISPERING...   \n",
       "1492  # MentalHealthSurvey\\nMental Health Survey for...   \n",
       "959   # QuickHack 2021 - Calm Mind \\n\\n#### <u>Open ...   \n",
       "\n",
       "                                                stemmed  \\\n",
       "433   lemonadei serv lemon made lemonad despit pain ...   \n",
       "1804  new york state mental health servic locat proj...   \n",
       "204   whisper blog descriptionwhisperingi web applic...   \n",
       "1492  mentalhealthsurveyment health survey snow coll...   \n",
       "959   quickhack 2021 calm mind open categoryteam mem...   \n",
       "\n",
       "                                             lemmatized  total_words  \n",
       "433   lemonadei served lemon made lemonade despite p...           41  \n",
       "1804  new york state mental health service locator p...          590  \n",
       "204   whisper blog descriptionwhisperingis web appli...          121  \n",
       "1492  mentalhealthsurveymental health survey snow co...           56  \n",
       "959   quickhack 2021 calm mind open categoryteam mem...          210  "
      ]
     },
     "execution_count": 3,
     "metadata": {},
     "output_type": "execute_result"
    }
   ],
   "source": [
    "#train, test, split\n",
    "train_validate, test = train_test_split(df, test_size = .2, random_state = 123, stratify = df.language)\n",
    "train, validate = train_test_split(train_validate, test_size = .3, random_state = 123, stratify = train_validate.language)\n",
    "\n",
    "train.head()"
   ]
  },
  {
   "cell_type": "markdown",
   "id": "2f27732d",
   "metadata": {},
   "source": [
    "# Prepare\n",
    "\n",
    "- We scraped *insert how many* Github repositories\n",
    "\n",
    "- Initially, *insert how many languages* were included\n",
    "\n",
    "- In order to improve accuracy during the modeling process, this project focused on the top five programming languages that came up in the repository search *insert topic here if applicable*, which are:\n",
    "\n",
    "    - Java\n",
    "    - HTML\n",
    "    - Python\n",
    "    - R\n",
    "    - JavaScript"
   ]
  },
  {
   "cell_type": "markdown",
   "id": "03f0994e",
   "metadata": {},
   "source": [
    "# Explore"
   ]
  },
  {
   "cell_type": "markdown",
   "id": "213602b2",
   "metadata": {},
   "source": [
    "### Language Histograms/ Visualization?"
   ]
  },
  {
   "cell_type": "code",
   "execution_count": 4,
   "id": "2bdaaae5",
   "metadata": {
    "scrolled": true
   },
   "outputs": [
    {
     "data": {
      "text/plain": [
       "<AxesSubplot:>"
      ]
     },
     "execution_count": 4,
     "metadata": {},
     "output_type": "execute_result"
    },
    {
     "data": {
      "image/png": "[encoded data removed]",
      "text/plain": [
       "<Figure size 432x288 with 1 Axes>"
      ]
     },
     "metadata": {
      "needs_background": "light"
     },
     "output_type": "display_data"
    }
   ],
   "source": [
    "train.language.hist()"
   ]
  },
  {
   "cell_type": "code",
   "execution_count": 5,
   "id": "45ee954f",
   "metadata": {},
   "outputs": [
    {
     "data": {
      "text/plain": [
       "array([[<AxesSubplot:title={'center':'total_words'}>]], dtype=object)"
      ]
     },
     "execution_count": 5,
     "metadata": {},
     "output_type": "execute_result"
    },
    {
     "data": {
      "image/png": "[encoded data removed]",
      "text/plain": [
       "<Figure size 432x288 with 1 Axes>"
      ]
     },
     "metadata": {
      "needs_background": "light"
     },
     "output_type": "display_data"
    }
   ],
   "source": [
    "train.loc[train['language'] == 'HTML'].hist()"
   ]
  },
  {
   "cell_type": "code",
   "execution_count": 6,
   "id": "e45bd034",
   "metadata": {},
   "outputs": [
    {
     "data": {
      "text/plain": [
       "<seaborn.axisgrid.FacetGrid at 0x7ff78363a280>"
      ]
     },
     "execution_count": 6,
     "metadata": {},
     "output_type": "execute_result"
    },
    {
     "data": {
      "image/png": "[encoded data removed]",
      "text/plain": [
       "<Figure size 360x360 with 1 Axes>"
      ]
     },
     "metadata": {
      "needs_background": "light"
     },
     "output_type": "display_data"
    }
   ],
   "source": [
    "#plt.figure(fig_size = (10, 8))\n",
    "sns.catplot(data = train,\n",
    "           x = 'total_words',\n",
    "           y = 'language',\n",
    "           kind = 'swarm')"
   ]
  },
  {
   "cell_type": "code",
   "execution_count": 7,
   "id": "29c1a453",
   "metadata": {},
   "outputs": [
    {
     "data": {
      "text/plain": [
       "<seaborn.axisgrid.FacetGrid at 0x7ff7646c6f40>"
      ]
     },
     "execution_count": 7,
     "metadata": {},
     "output_type": "execute_result"
    },
    {
     "data": {
      "image/png": "[encoded data removed]",
      "text/plain": [
       "<Figure size 360x360 with 1 Axes>"
      ]
     },
     "metadata": {
      "needs_background": "light"
     },
     "output_type": "display_data"
    }
   ],
   "source": [
    "sns.catplot(data = train,\n",
    "           x = 'total_words',\n",
    "           y = 'language',\n",
    "           kind = 'violin')"
   ]
  },
  {
   "cell_type": "code",
   "execution_count": null,
   "id": "b558077f",
   "metadata": {},
   "outputs": [],
   "source": []
  },
  {
   "cell_type": "code",
   "execution_count": null,
   "id": "9c590b16",
   "metadata": {},
   "outputs": [],
   "source": []
  },
  {
   "cell_type": "markdown",
   "id": "74ca8f54",
   "metadata": {},
   "source": [
    "---"
   ]
  },
  {
   "cell_type": "markdown",
   "id": "5d6209d2",
   "metadata": {},
   "source": [
    "- Put this in a function"
   ]
  },
  {
   "cell_type": "code",
   "execution_count": 8,
   "id": "1925b385",
   "metadata": {},
   "outputs": [
    {
     "data": {
      "text/html": [
       "<div>\n",
       "<style scoped>\n",
       "    .dataframe tbody tr th:only-of-type {\n",
       "        vertical-align: middle;\n",
       "    }\n",
       "\n",
       "    .dataframe tbody tr th {\n",
       "        vertical-align: top;\n",
       "    }\n",
       "\n",
       "    .dataframe thead th {\n",
       "        text-align: right;\n",
       "    }\n",
       "</style>\n",
       "<table border=\"1\" class=\"dataframe\">\n",
       "  <thead>\n",
       "    <tr style=\"text-align: right;\">\n",
       "      <th></th>\n",
       "      <th>counts</th>\n",
       "      <th>percent</th>\n",
       "    </tr>\n",
       "  </thead>\n",
       "  <tbody>\n",
       "    <tr>\n",
       "      <th>JavaScript</th>\n",
       "      <td>600</td>\n",
       "      <td>0.368777</td>\n",
       "    </tr>\n",
       "    <tr>\n",
       "      <th>HTML</th>\n",
       "      <td>396</td>\n",
       "      <td>0.243393</td>\n",
       "    </tr>\n",
       "    <tr>\n",
       "      <th>Python</th>\n",
       "      <td>320</td>\n",
       "      <td>0.196681</td>\n",
       "    </tr>\n",
       "    <tr>\n",
       "      <th>R</th>\n",
       "      <td>162</td>\n",
       "      <td>0.099570</td>\n",
       "    </tr>\n",
       "    <tr>\n",
       "      <th>Java</th>\n",
       "      <td>149</td>\n",
       "      <td>0.091580</td>\n",
       "    </tr>\n",
       "  </tbody>\n",
       "</table>\n",
       "</div>"
      ],
      "text/plain": [
       "            counts   percent\n",
       "JavaScript     600  0.368777\n",
       "HTML           396  0.243393\n",
       "Python         320  0.196681\n",
       "R              162  0.099570\n",
       "Java           149  0.091580"
      ]
     },
     "execution_count": 8,
     "metadata": {},
     "output_type": "execute_result"
    }
   ],
   "source": [
    "langs = pd.concat([df.language.value_counts(),\n",
    "                    df.language.value_counts(normalize=True)], axis=1)\n",
    "langs.columns = ['counts', 'percent']\n",
    "langs\n",
    "\n",
    "#maybe show this as histograms or count plots"
   ]
  },
  {
   "cell_type": "code",
   "execution_count": null,
   "id": "2cdc7be6",
   "metadata": {},
   "outputs": [],
   "source": []
  },
  {
   "cell_type": "markdown",
   "id": "efea8196",
   "metadata": {},
   "source": [
    "- Function?"
   ]
  },
  {
   "cell_type": "code",
   "execution_count": 9,
   "id": "26946bd7",
   "metadata": {},
   "outputs": [
    {
     "data": {
      "text/html": [
       "<div>\n",
       "<style scoped>\n",
       "    .dataframe tbody tr th:only-of-type {\n",
       "        vertical-align: middle;\n",
       "    }\n",
       "\n",
       "    .dataframe tbody tr th {\n",
       "        vertical-align: top;\n",
       "    }\n",
       "\n",
       "    .dataframe thead th {\n",
       "        text-align: right;\n",
       "    }\n",
       "</style>\n",
       "<table border=\"1\" class=\"dataframe\">\n",
       "  <thead>\n",
       "    <tr style=\"text-align: right;\">\n",
       "      <th></th>\n",
       "      <th>all_words</th>\n",
       "      <th>JavaScript</th>\n",
       "      <th>HTML</th>\n",
       "      <th>Python</th>\n",
       "      <th>Java</th>\n",
       "      <th>R</th>\n",
       "    </tr>\n",
       "  </thead>\n",
       "  <tbody>\n",
       "    <tr>\n",
       "      <th>aa</th>\n",
       "      <td>2</td>\n",
       "      <td>0</td>\n",
       "      <td>1</td>\n",
       "      <td>0</td>\n",
       "      <td>1</td>\n",
       "      <td>0</td>\n",
       "    </tr>\n",
       "    <tr>\n",
       "      <th>aaa</th>\n",
       "      <td>1</td>\n",
       "      <td>0</td>\n",
       "      <td>0</td>\n",
       "      <td>0</td>\n",
       "      <td>1</td>\n",
       "      <td>0</td>\n",
       "    </tr>\n",
       "    <tr>\n",
       "      <th>aaaa</th>\n",
       "      <td>3</td>\n",
       "      <td>0</td>\n",
       "      <td>0</td>\n",
       "      <td>1</td>\n",
       "      <td>0</td>\n",
       "      <td>2</td>\n",
       "    </tr>\n",
       "    <tr>\n",
       "      <th>aac</th>\n",
       "      <td>1</td>\n",
       "      <td>0</td>\n",
       "      <td>0</td>\n",
       "      <td>0</td>\n",
       "      <td>1</td>\n",
       "      <td>0</td>\n",
       "    </tr>\n",
       "    <tr>\n",
       "      <th>aachal</th>\n",
       "      <td>2</td>\n",
       "      <td>2</td>\n",
       "      <td>0</td>\n",
       "      <td>0</td>\n",
       "      <td>0</td>\n",
       "      <td>0</td>\n",
       "    </tr>\n",
       "  </tbody>\n",
       "</table>\n",
       "</div>"
      ],
      "text/plain": [
       "        all_words  JavaScript  HTML  Python  Java  R\n",
       "aa              2           0     1       0     1  0\n",
       "aaa             1           0     0       0     1  0\n",
       "aaaa            3           0     0       1     0  2\n",
       "aac             1           0     0       0     1  0\n",
       "aachal          2           2     0       0     0  0"
      ]
     },
     "execution_count": 9,
     "metadata": {},
     "output_type": "execute_result"
    }
   ],
   "source": [
    "ADDITIONAL = ['The', 'I', 'This', 'app', 'run', 'project', 'user', 'use', 'mental', 'file', 'health',\n",
    "       'create', 'page', 'code', 'also', 'help', 'used']\n",
    "             \n",
    "def clean(readme_contents):\n",
    "    'A simple function to cleanup text data'\n",
    "    wnl = nltk.stem.WordNetLemmatizer()\n",
    "    stopwords = nltk.corpus.stopwords.words('english') + ADDITIONAL\n",
    "    text = (unicodedata.normalize('NFKD', readme_contents)\n",
    "             .encode('ascii', 'ignore')\n",
    "             .decode('utf-8', 'ignore')\n",
    "             .lower())\n",
    "    #words = re.sub(r'[^a-z\\s]', '', text).split()\n",
    "    words = re.sub (r'([^a-zA-Z ]+?)', \"\", text).split()\n",
    "    #words = re.sub(r'[\\D]', '', words).split()\n",
    "    \n",
    "    \n",
    "    return [wnl.lemmatize(word) for word in words if word not in stopwords]\n",
    "\n",
    "\n",
    "#making dfs with clean function for all langs\n",
    "JavaScript_words = clean(' '.join(df[df.language == 'JavaScript'].readme_contents))\n",
    "HTML_words = clean(' '.join(df[df.language == 'HTML'].readme_contents))\n",
    "Python_words = clean(' '.join(df[df.language == 'Python'].readme_contents))\n",
    "Java_words = clean(' '.join(df[df.language == 'Java'].readme_contents))\n",
    "R_words = clean(' '.join(df[df.language == 'R'].readme_contents))\n",
    "all_words = clean(' '.join(df.readme_contents))\n",
    "\n",
    "\n",
    "#make dfs to show frequencies of words\n",
    "\n",
    "JavaScript_freq = pd.Series(JavaScript_words).value_counts()\n",
    "HTML_freq = pd.Series(HTML_words).value_counts()\n",
    "Python_freq = pd.Series(Python_words).value_counts()\n",
    "Java_freq = pd.Series(Java_words).value_counts()\n",
    "R_freq = pd.Series(R_words).value_counts()\n",
    "all_freq = pd.Series(all_words).value_counts()\n",
    "\n",
    "\n",
    "word_counts = (pd.concat([all_freq, JavaScript_freq, HTML_freq, Python_freq, \n",
    "                    Java_freq, R_freq], axis=1, sort=True)\n",
    "                .set_axis(['all_words', 'JavaScript', 'HTML', 'Python', 'Java', 'R'], axis=1, inplace=False)\n",
    "                .fillna(0)\n",
    "                .apply(lambda s: s.astype(int)))\n",
    "\n",
    "word_counts.head()"
   ]
  },
  {
   "cell_type": "markdown",
   "id": "654fbd1b",
   "metadata": {},
   "source": [
    "### hypos/questions\n",
    "\n",
    "- QUESTION 1: do certain languages have a higher average readme word count than others?\n",
    "- QUESTION 2: are certain frequently occuring words share across more than one language?\n",
    "- QUESTION 3: what words, if any, are frequently occuring in readmes for certain langauges that are barely prevelant in other language readmes?\n",
    "- QUESTION 4: what language's readme trends are closest related to the trends of all readmes?"
   ]
  },
  {
   "cell_type": "markdown",
   "id": "b4748ff9",
   "metadata": {},
   "source": [
    "### QUESTION 1\n",
    "\n",
    "- do certain languages have a higher average readme word count than others?\n",
    "\n",
    "   \n",
    "   - in this section: \n",
    "            - make bins of high, med, and low readme word counts\n",
    "            - graph these counts for comparison \n",
    "            - run T-test/s on language vs. total counts column\n",
    "            - summarize findings"
   ]
  },
  {
   "cell_type": "code",
   "execution_count": 10,
   "id": "da5342de",
   "metadata": {},
   "outputs": [
    {
     "data": {
      "text/plain": [
       "language\n",
       "HTML          167.0\n",
       "Java          140.0\n",
       "JavaScript    245.0\n",
       "Python        196.0\n",
       "R             169.0\n",
       "Name: total_words, dtype: float64"
      ]
     },
     "execution_count": 10,
     "metadata": {},
     "output_type": "execute_result"
    }
   ],
   "source": [
    "#show averages with group by:\n",
    "df.total_words.groupby(df.language).mean().round()"
   ]
  },
  {
   "cell_type": "code",
   "execution_count": 11,
   "id": "ba11ca92",
   "metadata": {},
   "outputs": [
    {
     "data": {
      "text/html": [
       "<div>\n",
       "<style scoped>\n",
       "    .dataframe tbody tr th:only-of-type {\n",
       "        vertical-align: middle;\n",
       "    }\n",
       "\n",
       "    .dataframe tbody tr th {\n",
       "        vertical-align: top;\n",
       "    }\n",
       "\n",
       "    .dataframe thead th {\n",
       "        text-align: right;\n",
       "    }\n",
       "</style>\n",
       "<table border=\"1\" class=\"dataframe\">\n",
       "  <thead>\n",
       "    <tr style=\"text-align: right;\">\n",
       "      <th></th>\n",
       "      <th>total_words</th>\n",
       "    </tr>\n",
       "    <tr>\n",
       "      <th>language</th>\n",
       "      <th></th>\n",
       "    </tr>\n",
       "  </thead>\n",
       "  <tbody>\n",
       "    <tr>\n",
       "      <th>HTML</th>\n",
       "      <td>167.0</td>\n",
       "    </tr>\n",
       "    <tr>\n",
       "      <th>Java</th>\n",
       "      <td>140.0</td>\n",
       "    </tr>\n",
       "    <tr>\n",
       "      <th>JavaScript</th>\n",
       "      <td>245.0</td>\n",
       "    </tr>\n",
       "    <tr>\n",
       "      <th>Python</th>\n",
       "      <td>196.0</td>\n",
       "    </tr>\n",
       "    <tr>\n",
       "      <th>R</th>\n",
       "      <td>169.0</td>\n",
       "    </tr>\n",
       "  </tbody>\n",
       "</table>\n",
       "</div>"
      ],
      "text/plain": [
       "            total_words\n",
       "language               \n",
       "HTML              167.0\n",
       "Java              140.0\n",
       "JavaScript        245.0\n",
       "Python            196.0\n",
       "R                 169.0"
      ]
     },
     "execution_count": 11,
     "metadata": {},
     "output_type": "execute_result"
    }
   ],
   "source": [
    "total_words = pd.DataFrame(df.total_words.groupby(df.language).mean().round())\n",
    "total_words"
   ]
  },
  {
   "cell_type": "code",
   "execution_count": 12,
   "id": "42961116",
   "metadata": {},
   "outputs": [],
   "source": [
    "#prep to make bins for the better visual\n",
    "conditions = [(df.total_words > 171),\n",
    "              (df.total_words >= 51) & (df.total_words <= 171),\n",
    "              (df.total_words < 51)]\n",
    "choices = ['high_count', 'med_count', 'low_count']\n",
    "\n",
    "df['count_bin'] = np.select(conditions, choices)"
   ]
  },
  {
   "cell_type": "code",
   "execution_count": 13,
   "id": "acdcd83a",
   "metadata": {},
   "outputs": [],
   "source": [
    "df_plot = df.groupby(['language', 'count_bin']).size().reset_index().pivot(columns='count_bin', index='language', values=0)"
   ]
  },
  {
   "cell_type": "code",
   "execution_count": 14,
   "id": "4c002dd4",
   "metadata": {},
   "outputs": [
    {
     "data": {
      "text/plain": [
       "<AxesSubplot:xlabel='language'>"
      ]
     },
     "execution_count": 14,
     "metadata": {},
     "output_type": "execute_result"
    },
    {
     "data": {
      "image/png": "[encoded data removed]",
      "text/plain": [
       "<Figure size 432x288 with 1 Axes>"
      ]
     },
     "metadata": {
      "needs_background": "light"
     },
     "output_type": "display_data"
    }
   ],
   "source": [
    "#I like this to show lang counts with bins\n",
    "\n",
    "df_plot.plot(kind='bar')"
   ]
  },
  {
   "cell_type": "markdown",
   "id": "d2d1ceb6",
   "metadata": {},
   "source": [
    "#### Takeaways:\n",
    "\n",
    "- There are certain languages that have a higher average readme word count than others.\n",
    "- Java has the lowest average word count while those from repositories using JavaScript have considerably more words than the other four programming languages. "
   ]
  },
  {
   "cell_type": "markdown",
   "id": "9d0db0a1",
   "metadata": {},
   "source": [
    "### Are the word counts for JavaScript significantly higher than the mean word counts of all languages?\n",
    "\n",
    "One Sample T-Test\n",
    "\n",
    "$\\alpha$ = .05\n",
    "\n",
    "$𝐻_{0}$: JavaScript's mean word count is <= than the combined mean word count of all languages.\n",
    "\n",
    "𝐻𝑎: JavaScript's mean word count is > than the combined mean word count of all programming languages."
   ]
  },
  {
   "cell_type": "code",
   "execution_count": 15,
   "id": "0f311489",
   "metadata": {},
   "outputs": [
    {
     "name": "stdout",
     "output_type": "stream",
     "text": [
      "P Value: 0.000\n",
      "Fail to reject the null hypothesis.\n"
     ]
    }
   ],
   "source": [
    "α = 0.05\n",
    "\n",
    "js_sample = word_counts.JavaScript\n",
    "\n",
    "overall_mean = word_counts.all_words.mean()\n",
    "\n",
    "t, p = stats.ttest_1samp(js_sample, overall_mean)\n",
    "\n",
    "print(f'P Value: {p/2:.3f}')\n",
    "\n",
    "if p/2 < α and t > 0:\n",
    "    print('Reject the null hypothesis')\n",
    "else:\n",
    "    print('Fail to reject the null hypothesis.')"
   ]
  },
  {
   "cell_type": "markdown",
   "id": "4fdb25d1",
   "metadata": {},
   "source": [
    "---"
   ]
  },
  {
   "cell_type": "markdown",
   "id": "6c4072bc",
   "metadata": {},
   "source": [
    "### Are the word counts for JavaScript significantly higher than the word counts of Python?\n",
    "\n",
    "Two Sample T-Test\n",
    "\n",
    "$\\alpha$ = .05\n",
    "\n",
    "$𝐻_{0}$: Javascript's mean word count is <= than the mean word count of Python.\n",
    "\n",
    "𝐻𝑎: Javascript's mean word count is > the mean word count of Python."
   ]
  },
  {
   "cell_type": "code",
   "execution_count": 16,
   "id": "faeaefed",
   "metadata": {},
   "outputs": [
    {
     "name": "stdout",
     "output_type": "stream",
     "text": [
      "Levene's F-statistic: 285.039\n",
      "P-value: 0.000\n",
      "Reject the null hypothesis.\n"
     ]
    }
   ],
   "source": [
    "#test for equal variance \n",
    "#H0 is that the variances are equal\n",
    "#Ha is that the variances are not equal\n",
    "# if p > .05, variances are not significantly different and set argument to equal_var = True\n",
    "#if p < .05, variances are significantly different and set argument to equal_var = False\n",
    "#Levene test on two groups\n",
    "\n",
    "\n",
    "#set alpha\n",
    "α = 0.05\n",
    "\n",
    "#perform test to determine variance\n",
    "f, p = stats.levene(word_counts.JavaScript,\n",
    "             word_counts.Python)\n",
    "\n",
    "#evaluate coefficient and p-value\n",
    "print(f'Levene\\'s F-statistic: {f:.3f}\\nP-value: {p:.3f}')\n",
    "\n",
    "\n",
    "#evaluate if \n",
    "if p < α:\n",
    "    print('Reject the null hypothesis.')\n",
    "else:\n",
    "    print('Fail to reject the null hypothesis.')"
   ]
  },
  {
   "cell_type": "code",
   "execution_count": 17,
   "id": "867c44a2",
   "metadata": {},
   "outputs": [
    {
     "name": "stdout",
     "output_type": "stream",
     "text": [
      "P Value: 0.000\n",
      "Reject the null hypothesis.\n"
     ]
    }
   ],
   "source": [
    "#set alpha\n",
    "α = 0.05\n",
    "\n",
    "#perform test\n",
    "t, p = stats.ttest_ind(word_counts.JavaScript, word_counts.Python, equal_var = False)\n",
    "\n",
    "#print p-value\n",
    "print(f'P Value: {p/2:.3f}')\n",
    "\n",
    "#evaluate if mean of the word counts associated w/ JavaScript is significantly higher than the mean \n",
    "# of the mean word counts associated with Python, is p/2 < a and t > 0?\n",
    "if p/2 < α and t > 0:\n",
    "    print('Reject the null hypothesis.')\n",
    "else:\n",
    "    print('Fail to reject the null hypothesis.')"
   ]
  },
  {
   "cell_type": "markdown",
   "id": "84bb8caa",
   "metadata": {},
   "source": [
    "---"
   ]
  },
  {
   "cell_type": "markdown",
   "id": "46ac42c5",
   "metadata": {},
   "source": [
    "### Are the word counts for R significantly lower than the word counts of Python?\n",
    "\n",
    "Two Sample T-Test\n",
    "\n",
    "$\\alpha$ = .05\n",
    "\n",
    "$𝐻_{0}$: R's mean word count is >= than the mean word count of Python.\n",
    "\n",
    "𝐻𝑎: R's mean word count is < the mean word count of Python."
   ]
  },
  {
   "cell_type": "code",
   "execution_count": 18,
   "id": "749393f1",
   "metadata": {},
   "outputs": [
    {
     "name": "stdout",
     "output_type": "stream",
     "text": [
      "Levene's F-statistic: 267.514\n",
      "P-value: 0.000\n",
      "Reject the null hypothesis.\n"
     ]
    }
   ],
   "source": [
    "#test for equal variance \n",
    "#H0 is that the variances are equal\n",
    "#Ha is that the variances are not equal\n",
    "# if p > .05, variances are not significantly different and set argument to equal_var = True\n",
    "#if p < .05, variances are significantly different and set argument to equal_var = False\n",
    "#Levene test on two groups\n",
    "\n",
    "\n",
    "#set alpha\n",
    "α = 0.05\n",
    "\n",
    "#perform test to determine variance\n",
    "f, p = stats.levene(word_counts.R,\n",
    "             word_counts.Python)\n",
    "\n",
    "#evaluate coefficient and p-value\n",
    "print(f'Levene\\'s F-statistic: {f:.3f}\\nP-value: {p:.3f}')\n",
    "\n",
    "\n",
    "#evaluate if \n",
    "if p < α:\n",
    "    print('Reject the null hypothesis.')\n",
    "else:\n",
    "    print('Fail to reject the null hypothesis.')"
   ]
  },
  {
   "cell_type": "code",
   "execution_count": 19,
   "id": "8486ab71",
   "metadata": {},
   "outputs": [
    {
     "name": "stdout",
     "output_type": "stream",
     "text": [
      "P Value: 0.000\n",
      "Reject the null hypothesis.\n"
     ]
    }
   ],
   "source": [
    "#set alpha\n",
    "α = 0.05\n",
    "\n",
    "#perform test\n",
    "t, p = stats.ttest_ind(word_counts.R, word_counts.Python, equal_var = False)\n",
    "\n",
    "#print p-value\n",
    "print(f'P Value: {p/2:.3f}')\n",
    "\n",
    "#evaluate if mean of the word counts associated w/ R is significantly lower than the mean \n",
    "# of the mean word counts associated with Python, is p/2 < a and t < 0?\n",
    "if p/2 < α and t < 0:\n",
    "    print('Reject the null hypothesis.')\n",
    "else:\n",
    "    print('Fail to reject the null hypothesis.')"
   ]
  },
  {
   "cell_type": "markdown",
   "id": "28193af4",
   "metadata": {},
   "source": [
    "### QUESTION 2: \n",
    "- are certain frequently occurring words share across more than one language?\n",
    "\n",
    "   - in this section: \n",
    "   \n",
    "            - make a top_words dataframe that includes the top 20 most frequently occureing words in each language\n",
    "            - see if any of of a language's top 20 readme words (not including stopwords) are shared with other language's/s' top 20\n",
    "            - summarize findings"
   ]
  },
  {
   "cell_type": "code",
   "execution_count": 20,
   "id": "9b536ed4",
   "metadata": {},
   "outputs": [],
   "source": [
    "#makes dfs for arranging top words by the diff langs to help compare\n",
    "#if tops in some langs may be way different than tops in others\n",
    "js_top = word_counts.sort_values(by='JavaScript', ascending=False).head(20)\n",
    "html_top = word_counts.sort_values(by='HTML', ascending=False).head(20)\n",
    "python_top = word_counts.sort_values(by='Python', ascending=False).head(20)\n",
    "java_top = word_counts.sort_values(by='Java', ascending=False).head(20)\n",
    "r_top = word_counts.sort_values(by='R', ascending=False).head(20)"
   ]
  },
  {
   "cell_type": "code",
   "execution_count": 21,
   "id": "b04afeae",
   "metadata": {},
   "outputs": [
    {
     "data": {
      "text/html": [
       "<div>\n",
       "<style scoped>\n",
       "    .dataframe tbody tr th:only-of-type {\n",
       "        vertical-align: middle;\n",
       "    }\n",
       "\n",
       "    .dataframe tbody tr th {\n",
       "        vertical-align: top;\n",
       "    }\n",
       "\n",
       "    .dataframe thead th {\n",
       "        text-align: right;\n",
       "    }\n",
       "</style>\n",
       "<table border=\"1\" class=\"dataframe\">\n",
       "  <thead>\n",
       "    <tr style=\"text-align: right;\">\n",
       "      <th></th>\n",
       "      <th>HTML</th>\n",
       "      <th>Java</th>\n",
       "      <th>JavaScript</th>\n",
       "      <th>Python</th>\n",
       "      <th>R</th>\n",
       "      <th>all_words</th>\n",
       "    </tr>\n",
       "  </thead>\n",
       "  <tbody>\n",
       "    <tr>\n",
       "      <th>build</th>\n",
       "      <td>90</td>\n",
       "      <td>41</td>\n",
       "      <td>1268</td>\n",
       "      <td>54</td>\n",
       "      <td>22</td>\n",
       "      <td>1475</td>\n",
       "    </tr>\n",
       "    <tr>\n",
       "      <th>react</th>\n",
       "      <td>47</td>\n",
       "      <td>24</td>\n",
       "      <td>1209</td>\n",
       "      <td>22</td>\n",
       "      <td>0</td>\n",
       "      <td>1302</td>\n",
       "    </tr>\n",
       "    <tr>\n",
       "      <th>npm</th>\n",
       "      <td>93</td>\n",
       "      <td>33</td>\n",
       "      <td>1207</td>\n",
       "      <td>15</td>\n",
       "      <td>0</td>\n",
       "      <td>1348</td>\n",
       "    </tr>\n",
       "    <tr>\n",
       "      <th>section</th>\n",
       "      <td>219</td>\n",
       "      <td>8</td>\n",
       "      <td>843</td>\n",
       "      <td>42</td>\n",
       "      <td>18</td>\n",
       "      <td>1130</td>\n",
       "    </tr>\n",
       "    <tr>\n",
       "      <th>test</th>\n",
       "      <td>125</td>\n",
       "      <td>55</td>\n",
       "      <td>782</td>\n",
       "      <td>127</td>\n",
       "      <td>26</td>\n",
       "      <td>1115</td>\n",
       "    </tr>\n",
       "  </tbody>\n",
       "</table>\n",
       "</div>"
      ],
      "text/plain": [
       "         HTML  Java  JavaScript  Python   R  all_words\n",
       "build      90    41        1268      54  22       1475\n",
       "react      47    24        1209      22   0       1302\n",
       "npm        93    33        1207      15   0       1348\n",
       "section   219     8         843      42  18       1130\n",
       "test      125    55         782     127  26       1115"
      ]
     },
     "execution_count": 21,
     "metadata": {},
     "output_type": "execute_result"
    }
   ],
   "source": [
    "#makes one df of the top 20 words in all dfs \n",
    "top_words = (pd.concat([js_top, html_top, python_top, java_top,\n",
    "                    r_top], axis=0, sort=True)\n",
    "                .fillna(0)\n",
    "                .apply(lambda s: s.astype(int)))\n",
    "\n",
    "top_words.head()"
   ]
  },
  {
   "cell_type": "code",
   "execution_count": 22,
   "id": "1461dda0",
   "metadata": {},
   "outputs": [],
   "source": [
    "#drops all as we don't need that to compare for next step\n",
    "top_words= top_words.drop(columns=['all_words'])"
   ]
  },
  {
   "cell_type": "markdown",
   "id": "acbc6a4b",
   "metadata": {},
   "source": [
    "### Graph this?"
   ]
  },
  {
   "cell_type": "code",
   "execution_count": 23,
   "id": "6eadded9",
   "metadata": {},
   "outputs": [
    {
     "data": {
      "text/plain": [
       "<AxesSubplot:>"
      ]
     },
     "execution_count": 23,
     "metadata": {},
     "output_type": "execute_result"
    },
    {
     "data": {
      "image/png": "[encoded data removed]",
      "text/plain": [
       "<Figure size 432x288 with 1 Axes>"
      ]
     },
     "metadata": {
      "needs_background": "light"
     },
     "output_type": "display_data"
    }
   ],
   "source": [
    "#if you want to graph somehow, but not super necessary to include this\n",
    "top_words.plot()"
   ]
  },
  {
   "cell_type": "code",
   "execution_count": 24,
   "id": "b94ef206",
   "metadata": {},
   "outputs": [
    {
     "data": {
      "text/html": [
       "<div>\n",
       "<style scoped>\n",
       "    .dataframe tbody tr th:only-of-type {\n",
       "        vertical-align: middle;\n",
       "    }\n",
       "\n",
       "    .dataframe tbody tr th {\n",
       "        vertical-align: top;\n",
       "    }\n",
       "\n",
       "    .dataframe thead th {\n",
       "        text-align: right;\n",
       "    }\n",
       "</style>\n",
       "<table border=\"1\" class=\"dataframe\">\n",
       "  <thead>\n",
       "    <tr style=\"text-align: right;\">\n",
       "      <th></th>\n",
       "      <th>HTML</th>\n",
       "      <th>Java</th>\n",
       "      <th>JavaScript</th>\n",
       "      <th>Python</th>\n",
       "      <th>R</th>\n",
       "    </tr>\n",
       "  </thead>\n",
       "  <tbody>\n",
       "    <tr>\n",
       "      <th>build</th>\n",
       "      <td>90</td>\n",
       "      <td>41</td>\n",
       "      <td>1268</td>\n",
       "      <td>54</td>\n",
       "      <td>22</td>\n",
       "    </tr>\n",
       "    <tr>\n",
       "      <th>react</th>\n",
       "      <td>47</td>\n",
       "      <td>24</td>\n",
       "      <td>1209</td>\n",
       "      <td>22</td>\n",
       "      <td>0</td>\n",
       "    </tr>\n",
       "    <tr>\n",
       "      <th>npm</th>\n",
       "      <td>93</td>\n",
       "      <td>33</td>\n",
       "      <td>1207</td>\n",
       "      <td>15</td>\n",
       "      <td>0</td>\n",
       "    </tr>\n",
       "    <tr>\n",
       "      <th>section</th>\n",
       "      <td>219</td>\n",
       "      <td>8</td>\n",
       "      <td>843</td>\n",
       "      <td>42</td>\n",
       "      <td>18</td>\n",
       "    </tr>\n",
       "    <tr>\n",
       "      <th>test</th>\n",
       "      <td>125</td>\n",
       "      <td>55</td>\n",
       "      <td>782</td>\n",
       "      <td>127</td>\n",
       "      <td>26</td>\n",
       "    </tr>\n",
       "    <tr>\n",
       "      <th>...</th>\n",
       "      <td>...</td>\n",
       "      <td>...</td>\n",
       "      <td>...</td>\n",
       "      <td>...</td>\n",
       "      <td>...</td>\n",
       "    </tr>\n",
       "    <tr>\n",
       "      <th>using</th>\n",
       "      <td>264</td>\n",
       "      <td>127</td>\n",
       "      <td>666</td>\n",
       "      <td>331</td>\n",
       "      <td>89</td>\n",
       "    </tr>\n",
       "    <tr>\n",
       "      <th>tech</th>\n",
       "      <td>89</td>\n",
       "      <td>3</td>\n",
       "      <td>86</td>\n",
       "      <td>44</td>\n",
       "      <td>81</td>\n",
       "    </tr>\n",
       "    <tr>\n",
       "      <th>width</th>\n",
       "      <td>66</td>\n",
       "      <td>22</td>\n",
       "      <td>129</td>\n",
       "      <td>31</td>\n",
       "      <td>76</td>\n",
       "    </tr>\n",
       "    <tr>\n",
       "      <th>folder</th>\n",
       "      <td>72</td>\n",
       "      <td>14</td>\n",
       "      <td>318</td>\n",
       "      <td>92</td>\n",
       "      <td>73</td>\n",
       "    </tr>\n",
       "    <tr>\n",
       "      <th>file</th>\n",
       "      <td>119</td>\n",
       "      <td>37</td>\n",
       "      <td>404</td>\n",
       "      <td>132</td>\n",
       "      <td>72</td>\n",
       "    </tr>\n",
       "  </tbody>\n",
       "</table>\n",
       "<p>100 rows × 5 columns</p>\n",
       "</div>"
      ],
      "text/plain": [
       "         HTML  Java  JavaScript  Python   R\n",
       "build      90    41        1268      54  22\n",
       "react      47    24        1209      22   0\n",
       "npm        93    33        1207      15   0\n",
       "section   219     8         843      42  18\n",
       "test      125    55         782     127  26\n",
       "...       ...   ...         ...     ...  ..\n",
       "using     264   127         666     331  89\n",
       "tech       89     3          86      44  81\n",
       "width      66    22         129      31  76\n",
       "folder     72    14         318      92  73\n",
       "file      119    37         404     132  72\n",
       "\n",
       "[100 rows x 5 columns]"
      ]
     },
     "execution_count": 24,
     "metadata": {},
     "output_type": "execute_result"
    }
   ],
   "source": [
    "top_words"
   ]
  },
  {
   "cell_type": "code",
   "execution_count": 25,
   "id": "08f864ad",
   "metadata": {},
   "outputs": [],
   "source": [
    "# sns.catplot(data = top_words,\n",
    "#            x = top_words.index,\n",
    "#            y = 'HTML')"
   ]
  },
  {
   "cell_type": "code",
   "execution_count": 26,
   "id": "cbac184e",
   "metadata": {},
   "outputs": [
    {
     "data": {
      "text/plain": [
       "Index(['section', 'test', 'using', 'install', 'make', 'need', 'feature',\n",
       "       'user', 'time', 'information', 'file', 'data', 'people', 'one',\n",
       "       'application', 'model', 'analysis', 'dataset'],\n",
       "      dtype='object')"
      ]
     },
     "execution_count": 26,
     "metadata": {},
     "output_type": "execute_result"
    }
   ],
   "source": [
    "#these are the frequent words that are shared amongst 2 or more programming languages\n",
    "tops = top_words[top_words.index.value_counts() > 1]\n",
    "tops.index.unique()"
   ]
  },
  {
   "cell_type": "markdown",
   "id": "f24e32cd",
   "metadata": {},
   "source": [
    "### QUESTION 2 summary: \n",
    "\n",
    "- are certain frequently occurring words share across more than one language?\n",
    "\n",
    "The following words are amongst the top 20 frequently occurring words (excluding stop words) in 2 or more languages:\n",
    "\n",
    "'section', 'test', 'install', 'make', 'need', 'feature', 'user', 'time',\n",
    "       'information', 'file', 'command', 'people', 'one', 'application',\n",
    "       'model', 'dataset', 'analysis', 'following'"
   ]
  },
  {
   "cell_type": "markdown",
   "id": "d491094d",
   "metadata": {},
   "source": [
    "---"
   ]
  },
  {
   "cell_type": "markdown",
   "id": "9a809875",
   "metadata": {},
   "source": [
    "# Mindy Redoing, wait!"
   ]
  },
  {
   "cell_type": "markdown",
   "id": "c54135c2",
   "metadata": {},
   "source": [
    "### QUESTION 3: \n",
    "- what words, if any, are frequently occuring in readmes for certain langauges that are barely prevelant in other language readmes?\n",
    "\n",
    "   - in this section: \n",
    "   \n",
    "            - make dfs (divided for graphing) that looks at the top 20 most frequently occuring words (in all records)\n",
    "            -change the counts to percentages to show word prevelance per language of the top words\n",
    "            - graph the relationships\n",
    "            - run statistical tests to see what top words, if any, have a significant frequency difference in different languages\n",
    "            - summarize findings"
   ]
  },
  {
   "cell_type": "code",
   "execution_count": 27,
   "id": "d28bf218",
   "metadata": {},
   "outputs": [],
   "source": [
    "#just makes dfs of some of the most freq words. divided like this just to make graphs\n",
    "#look nicer\n",
    "#most_freq_700 is 700-799 words\n",
    "#most_freq_800 is 800-999 words\n",
    "#most_freq is is 1000+\n",
    "most_freq_700 = word_counts[word_counts['all_words'] > 700] \n",
    "most_freq_700 = most_freq_700[most_freq_700['all_words'] < 800]\n",
    "most_freq_800 = word_counts[word_counts['all_words'] >= 800]\n",
    "most_freq_800 = most_freq_800[most_freq_800['all_words'] < 1000]\n",
    "most_freq = word_counts[word_counts['all_words'] >= 1000]"
   ]
  },
  {
   "cell_type": "code",
   "execution_count": 28,
   "id": "aca2f958",
   "metadata": {},
   "outputs": [],
   "source": [
    "#making dfs to look at these as a percentage and give each language\n",
    "#equal weight looking at word importance as our records are evenly \n",
    "#distributed\n",
    "word_perc = pd.DataFrame()\n",
    "for col in most_freq.columns:\n",
    "    word_perc = word_perc.append(most_freq[col].sort_values(ascending=False)/most_freq[col].sum())\n",
    "\n",
    "word_perc_700 = pd.DataFrame()\n",
    "for col in most_freq_700.columns:\n",
    "    word_perc_700 = word_perc_700.append(most_freq_700[col].sort_values(ascending=False)/most_freq_700[col].sum())\n",
    "    \n",
    "word_perc_800 = pd.DataFrame()\n",
    "for col in most_freq_800.columns:\n",
    "    word_perc_800 = word_perc_800.append(most_freq_800[col].sort_values(ascending=False)/most_freq_800[col].sum())"
   ]
  },
  {
   "cell_type": "code",
   "execution_count": 29,
   "id": "f0ed70d9",
   "metadata": {},
   "outputs": [
    {
     "data": {
      "text/plain": [
       "<AxesSubplot:>"
      ]
     },
     "execution_count": 29,
     "metadata": {},
     "output_type": "execute_result"
    },
    {
     "data": {
      "image/png": "[encoded data removed]",
      "text/plain": [
       "<Figure size 1440x720 with 1 Axes>"
      ]
     },
     "metadata": {
      "needs_background": "light"
     },
     "output_type": "display_data"
    }
   ],
   "source": [
    "#incase we wanted to use the counts (can do with the 3 most_freq dfs, but I\n",
    "#think we could skip this and just do the word_perc dfs for the graphs\n",
    "#as I think they are more meaningful)\n",
    "plt.rcParams[\"figure.figsize\"] = (20,10)\n",
    "most_freq.plot(kind='bar')"
   ]
  },
  {
   "cell_type": "code",
   "execution_count": 30,
   "id": "0ff78ac7",
   "metadata": {},
   "outputs": [],
   "source": [
    "#transponsing dfs to make better graphs\n",
    "word_perc_T = word_perc.T\n",
    "word_perc_700_T = word_perc_700.T\n",
    "word_perc_800_T = word_perc_800.T"
   ]
  },
  {
   "cell_type": "markdown",
   "id": "e2c9fb9d",
   "metadata": {},
   "source": [
    "to look at similarities, we simple look at bars w similar heights. That will show they have a similar distribution of that specific word"
   ]
  },
  {
   "cell_type": "code",
   "execution_count": 31,
   "id": "b3b9f7df",
   "metadata": {},
   "outputs": [
    {
     "data": {
      "text/plain": [
       "<AxesSubplot:>"
      ]
     },
     "execution_count": 31,
     "metadata": {},
     "output_type": "execute_result"
    },
    {
     "data": {
      "image/png": "[encoded data removed]",
      "text/plain": [
       "<Figure size 1440x576 with 1 Axes>"
      ]
     },
     "metadata": {
      "needs_background": "light"
     },
     "output_type": "display_data"
    }
   ],
   "source": [
    "#the next 3 would make sense to do subplots. I'll make a function\n",
    "#for them, I think we should get rid of all here too\n",
    "plt.rcParams[\"figure.figsize\"] = (20,8)\n",
    "word_perc_T.plot(kind='bar')"
   ]
  },
  {
   "cell_type": "code",
   "execution_count": 32,
   "id": "17c0fa22",
   "metadata": {},
   "outputs": [
    {
     "data": {
      "text/plain": [
       "<AxesSubplot:>"
      ]
     },
     "execution_count": 32,
     "metadata": {},
     "output_type": "execute_result"
    },
    {
     "data": {
      "image/png": "[encoded data removed]",
      "text/plain": [
       "<Figure size 1440x576 with 1 Axes>"
      ]
     },
     "metadata": {
      "needs_background": "light"
     },
     "output_type": "display_data"
    }
   ],
   "source": [
    "plt.rcParams[\"figure.figsize\"] = (20,8)\n",
    "word_perc_700_T.plot(kind='bar')"
   ]
  },
  {
   "cell_type": "code",
   "execution_count": 33,
   "id": "675199e7",
   "metadata": {},
   "outputs": [
    {
     "data": {
      "text/plain": [
       "<AxesSubplot:>"
      ]
     },
     "execution_count": 33,
     "metadata": {},
     "output_type": "execute_result"
    },
    {
     "data": {
      "image/png": "[encoded data removed]",
      "text/plain": [
       "<Figure size 1440x576 with 1 Axes>"
      ]
     },
     "metadata": {
      "needs_background": "light"
     },
     "output_type": "display_data"
    }
   ],
   "source": [
    "plt.rcParams[\"figure.figsize\"] = (20,8)\n",
    "word_perc_800_T.plot(kind='bar')"
   ]
  },
  {
   "cell_type": "markdown",
   "id": "2f56d2c1",
   "metadata": {},
   "source": [
    "### QUESTION 3 summary: \n",
    "\n",
    "- what words, if any, are frequently occuring in readmes for certain langauges that are barely prevelant in other language readmes?\n",
    "\n",
    "Looking at graphs (and stat tests), these top occuring words may be helpful in identifying said languages:\n",
    "\n",
    "- 'file': R\n",
    "- 'website': HTML\n",
    "- 'application': Java"
   ]
  },
  {
   "cell_type": "markdown",
   "id": "2a340492",
   "metadata": {},
   "source": [
    "# Bigrams/Trigrams?"
   ]
  },
  {
   "cell_type": "markdown",
   "id": "c6461568",
   "metadata": {},
   "source": [
    "# Wordcloud?"
   ]
  },
  {
   "cell_type": "code",
   "execution_count": 34,
   "id": "420aa035",
   "metadata": {},
   "outputs": [],
   "source": [
    "# js_words = clean(' '.join(df[df.language == 'JavaScript'].lemmatized))\n",
    "# HTML_words = clean(' '.join(df[df.language == 'HTML'].lemmatized))\n",
    "# Python_words = clean(' '.join(df[df.language == 'Python'].lemmatized))\n",
    "# Java_words = clean(' '.join(df[df.language == 'Java'].lemmatized))\n",
    "# R_words = clean(' '.join(df[df.language == 'R'].lemmatized))\n",
    "\n",
    "# words_all = clean(' '.join(df.lemmatized))"
   ]
  },
  {
   "cell_type": "code",
   "execution_count": 35,
   "id": "1639385e",
   "metadata": {},
   "outputs": [],
   "source": [
    "# from wordcloud import WordCloud\n",
    "\n",
    "# #all_cloud = WordCloud(background_color='white', height=1000, width=400).generate(' '.join(all_words))\n",
    "# js_cloud = WordCloud(background_color='white', height=600, width=800).generate(' '.join(js_words))\n",
    "# html_cloud = WordCloud(background_color='white', height=600, width=800).generate(' '.join(HTML_words))\n",
    "# python_cloud = WordCloud(background_color='white', height=600, width=800).generate(' '.join(Python_words))\n",
    "# java_cloud = WordCloud(background_color='white', height=600, width=800).generate(' '.join(Java_words))\n",
    "# R_cloud = WordCloud(background_color='white', height=600, width=800).generate(' '.join(R_words))\n",
    "\n",
    "# # plt.figure(figsize=(10, 8))\n",
    "# axs = [plt.axes([0, 0, .5, .5]), plt.axes([0, 1, .5, .5]), plt.axes([1, 0, .5, .5]), plt.axes([1, 1, .5, .5])]\n",
    "\n",
    "# #axs[0].imshow(words_all)\n",
    "# axs[0].imshow(js_cloud)\n",
    "# axs[1].imshow(html_cloud)\n",
    "# axs[2].imshow(python_cloud)\n",
    "# axs[3].imshow(java_cloud)\n",
    "# axs[4].imshow(R_cloud)\n",
    "\n",
    "\n",
    "\n",
    "# # axs[0].set_title('All Words')\n",
    "# axs[0].set_title('js_words')\n",
    "# axs[1].set_title('HTML_words')\n",
    "# axs[2].set_title('Python_words')\n",
    "# axs[3].set_title('Java_words')\n",
    "# axs[4].set_title('R_words')\n",
    "\n",
    "# for ax in axs: ax.axis('off')"
   ]
  },
  {
   "cell_type": "markdown",
   "id": "353134c9",
   "metadata": {},
   "source": [
    "### QUESTION 4: \n",
    "- what language's readme trends are closest related to the trends of all readmes?"
   ]
  },
  {
   "cell_type": "code",
   "execution_count": null,
   "id": "afe6b37e",
   "metadata": {},
   "outputs": [],
   "source": []
  },
  {
   "cell_type": "markdown",
   "id": "7e72792d",
   "metadata": {},
   "source": [
    "# Modeling"
   ]
  },
  {
   "cell_type": "markdown",
   "id": "1c07a929",
   "metadata": {},
   "source": [
    "#### Our approach is to:\n",
    "- split our data into train, validate and test\n",
    "- use the TFIDF and the count vectorizers to encode the values \n",
    "- use the logistic regression, and the decision trees for modeling(predicting the language)\n",
    "- use the confusion matrix to dissect the accuacy of our models\n",
    "- finally use the the test sample on our best model\n",
    "\n"
   ]
  },
  {
   "cell_type": "code",
   "execution_count": 36,
   "id": "f6ba2f0c",
   "metadata": {},
   "outputs": [
    {
     "data": {
      "text/plain": [
       "((910, 7), (391, 7), (326, 7))"
      ]
     },
     "execution_count": 36,
     "metadata": {},
     "output_type": "execute_result"
    }
   ],
   "source": [
    "#splitting the data to train validate split\n",
    "train,validate,test = prepare.split_df(df)\n",
    "train.shape,validate.shape, test.shape"
   ]
  },
  {
   "cell_type": "code",
   "execution_count": 37,
   "id": "c0df2f3a",
   "metadata": {},
   "outputs": [],
   "source": [
    "# Setup the X variables\n",
    "X_train = train.lemmatized\n",
    "X_validate = validate.lemmatized\n",
    "X_test = test.lemmatized\n",
    "\n",
    "# Setup the y variables\n",
    "y_train = train.language\n",
    "y_validate = validate.language\n",
    "y_test = test.language\n",
    "\n"
   ]
  },
  {
   "cell_type": "code",
   "execution_count": 71,
   "id": "431d332b",
   "metadata": {},
   "outputs": [],
   "source": [
    "# Create the tfidf vectorizer object\n",
    "# encodes these values for classification purposes\n",
    "tfidf = TfidfVectorizer()\n",
    "\n",
    "# Fit on the training data\n",
    "tfidf.fit(X_train)\n",
    "\n",
    "# Use the object\n",
    "X_train_vectorized = tfidf.transform(X_train)\n",
    "X_validate_vectorized = tfidf.transform(X_validate)\n",
    "X_test_vectorized = tfidf.transform(X_test)"
   ]
  },
  {
   "cell_type": "markdown",
   "id": "5d4da533",
   "metadata": {},
   "source": [
    "### Logistic Regression  (TFIDF Vectorizer)"
   ]
  },
  {
   "cell_type": "code",
   "execution_count": 72,
   "id": "35085b9a",
   "metadata": {},
   "outputs": [
    {
     "data": {
      "text/plain": [
       "LogisticRegression()"
      ]
     },
     "execution_count": 72,
     "metadata": {},
     "output_type": "execute_result"
    }
   ],
   "source": [
    "#after vectorizing, we are ready to model\n",
    "lm = LogisticRegression()\n",
    "\n",
    "# Fit the classification model to vectorized train data\n",
    "lm.fit(X_train_vectorized, y_train)"
   ]
  },
  {
   "cell_type": "code",
   "execution_count": 73,
   "id": "286908fb",
   "metadata": {},
   "outputs": [],
   "source": [
    "#creating a data frame that will be used to append any values\n",
    "train = pd.DataFrame(dict(actual=y_train))\n",
    "validate = pd.DataFrame(dict(actual=y_validate))\n",
    "test = pd.DataFrame(dict(actual=y_test))"
   ]
  },
  {
   "cell_type": "code",
   "execution_count": 74,
   "id": "0d1c0d51",
   "metadata": {},
   "outputs": [
    {
     "name": "stdout",
     "output_type": "stream",
     "text": [
      "Train Accuracy Score: 91.76%\n",
      "Validate Accuracy Score: 54.48%\n"
     ]
    }
   ],
   "source": [
    "# Use the trained model to predict y given those vectorized inputs of X\n",
    "train['predicted_lm'] = lm.predict(X_train_vectorized)\n",
    "validate[\"predicted_lm\"] = lm.predict(X_validate_vectorized)\n",
    "# test['predicted'] = lm.predict(X_test_vectorized)\n",
    "print(f'Train Accuracy Score: {lm.score(X_train_vectorized, y_train) * 100:.2f}%')\n",
    "print(f'Validate Accuracy Score: {lm.score(X_validate_vectorized, y_validate) * 100:.2f}%')"
   ]
  },
  {
   "cell_type": "markdown",
   "id": "71454e3b",
   "metadata": {},
   "source": []
  },
  {
   "cell_type": "markdown",
   "id": "6a1457b5",
   "metadata": {},
   "source": [
    "#### Training Accuracy Matrix"
   ]
  },
  {
   "cell_type": "code",
   "execution_count": 41,
   "id": "f6c3015e",
   "metadata": {},
   "outputs": [
    {
     "name": "stdout",
     "output_type": "stream",
     "text": [
      "Accuracy: 91.21%\n",
      "---\n",
      "Confusion Matrix\n",
      "actual        HTML  Java  JavaScript  Python   R\n",
      "predicted_lm                                    \n",
      "HTML           210     7           4       4   3\n",
      "Java             0    46           0       0   0\n",
      "JavaScript      10    27         331      10   6\n",
      "Python           1     3           1     165   3\n",
      "R                1     0           0       0  78\n",
      "---\n",
      "              precision    recall  f1-score   support\n",
      "\n",
      "        HTML       0.92      0.95      0.93       222\n",
      "        Java       1.00      0.55      0.71        83\n",
      "  JavaScript       0.86      0.99      0.92       336\n",
      "      Python       0.95      0.92      0.94       179\n",
      "           R       0.99      0.87      0.92        90\n",
      "\n",
      "    accuracy                           0.91       910\n",
      "   macro avg       0.94      0.85      0.89       910\n",
      "weighted avg       0.92      0.91      0.91       910\n",
      "\n"
     ]
    }
   ],
   "source": [
    "# accuracy matrix\n",
    "print('Accuracy: {:.2%}'.format(accuracy_score(train.actual, train.predicted_lm)))\n",
    "print('---')\n",
    "print('Confusion Matrix')\n",
    "print(pd.crosstab(train.predicted_lm, train.actual))\n",
    "print('---')\n",
    "print(classification_report(train.actual, train.predicted_lm))"
   ]
  },
  {
   "cell_type": "markdown",
   "id": "71475e70",
   "metadata": {},
   "source": [
    "#### Validate Accuracy Matrix"
   ]
  },
  {
   "cell_type": "code",
   "execution_count": 42,
   "id": "df1e0d3f",
   "metadata": {},
   "outputs": [
    {
     "name": "stdout",
     "output_type": "stream",
     "text": [
      "Accuracy: 59.59%\n",
      "---\n",
      "Confusion Matrix\n",
      "actual        HTML  Java  JavaScript  Python   R\n",
      "predicted_lm                                    \n",
      "HTML            54    10          20      14   7\n",
      "Java             0     5           0       0   0\n",
      "JavaScript      34    18         117      20   7\n",
      "Python           5     3           7      38   6\n",
      "R                2     0           0       5  19\n",
      "---\n",
      "              precision    recall  f1-score   support\n",
      "\n",
      "        HTML       0.51      0.57      0.54        95\n",
      "        Java       1.00      0.14      0.24        36\n",
      "  JavaScript       0.60      0.81      0.69       144\n",
      "      Python       0.64      0.49      0.56        77\n",
      "           R       0.73      0.49      0.58        39\n",
      "\n",
      "    accuracy                           0.60       391\n",
      "   macro avg       0.70      0.50      0.52       391\n",
      "weighted avg       0.64      0.60      0.58       391\n",
      "\n"
     ]
    }
   ],
   "source": [
    "# accuracy matrix\n",
    "print('Accuracy: {:.2%}'.format(accuracy_score(validate.actual, validate.predicted_lm)))\n",
    "print('---')\n",
    "print('Confusion Matrix')\n",
    "print(pd.crosstab(validate.predicted_lm, validate.actual))\n",
    "print('---')\n",
    "print(classification_report(validate.actual, validate.predicted_lm))"
   ]
  },
  {
   "cell_type": "markdown",
   "id": "cf454226",
   "metadata": {},
   "source": [
    "\n",
    "#### The logistic regression model with the tfidf vectorizer yields a 91% accuracy on the train set and 59% on validate. This clearly shows the model is overfitting.\n",
    "\n",
    "- as illustrated by the f1 score for Java, there is a small representation of the sample so the model is not so efficient at predicting the language \n",
    "- we decided not to apply the test set on this model"
   ]
  },
  {
   "cell_type": "code",
   "execution_count": null,
   "id": "31e9ea00",
   "metadata": {},
   "outputs": [],
   "source": []
  },
  {
   "cell_type": "markdown",
   "id": "12b7d5b7",
   "metadata": {},
   "source": [
    "### Decision Tree Classifier (tfidf vectorizer)"
   ]
  },
  {
   "cell_type": "code",
   "execution_count": 70,
   "id": "f6e777c7",
   "metadata": {},
   "outputs": [
    {
     "name": "stdout",
     "output_type": "stream",
     "text": [
      "Train Accuracy Score: 57.47%\n",
      "Validate Accuracy Score: 50.90%\n"
     ]
    }
   ],
   "source": [
    "#decision tree classifier\n",
    "tree = DecisionTreeClassifier(max_depth=5, random_state=123)\n",
    "tree.fit(X_train_vectorized, y_train)\n",
    "# Use the trained model to predict y given those vectorized inputs of X\n",
    "train['predicted_t'] = tree.predict(X_train_vectorized)\n",
    "validate[\"predicted_t\"] = tree.predict(X_validate_vectorized)\n",
    "# test['predicted'] = lm.predict(X_test_vectorized)\n",
    "print(f'Train Accuracy Score: {tree.score(X_train_vectorized, y_train) * 100:.2f}%')\n",
    "print(f'Validate Accuracy Score: {tree.score(X_validate_vectorized, y_validate) * 100:.2f}%')"
   ]
  },
  {
   "cell_type": "markdown",
   "id": "8964f544",
   "metadata": {},
   "source": [
    "#### Train accuracy matrix Decision Tree Classifier (tfidf vectorizer)\n"
   ]
  },
  {
   "cell_type": "code",
   "execution_count": 52,
   "id": "f2763dd4",
   "metadata": {
    "scrolled": true
   },
   "outputs": [
    {
     "name": "stdout",
     "output_type": "stream",
     "text": [
      "Accuracy: 70.99%\n",
      "---\n",
      "Confusion Matrix\n",
      "actual       HTML  Java  JavaScript  Python   R\n",
      "predicted_t                                    \n",
      "HTML          125     1           9       3   1\n",
      "Java            0    48           0       1   1\n",
      "JavaScript     80    34         313      59  23\n",
      "Python          2     0           2      95   0\n",
      "R              15     0          12      21  65\n",
      "---\n",
      "              precision    recall  f1-score   support\n",
      "\n",
      "        HTML       0.90      0.56      0.69       222\n",
      "        Java       0.96      0.58      0.72        83\n",
      "  JavaScript       0.61      0.93      0.74       336\n",
      "      Python       0.96      0.53      0.68       179\n",
      "           R       0.58      0.72      0.64        90\n",
      "\n",
      "    accuracy                           0.71       910\n",
      "   macro avg       0.80      0.67      0.70       910\n",
      "weighted avg       0.78      0.71      0.71       910\n",
      "\n"
     ]
    }
   ],
   "source": [
    "## accuracy matrix Decision Tree Classifier (tfidf vectorizer)\n",
    "print('Accuracy: {:.2%}'.format(accuracy_score(train.actual, train.predicted_t)))\n",
    "print('---')\n",
    "print('Confusion Matrix')\n",
    "print(pd.crosstab(train.predicted_t, train.actual))\n",
    "print('---')\n",
    "print(classification_report(train.actual, train.predicted_t))"
   ]
  },
  {
   "cell_type": "code",
   "execution_count": 53,
   "id": "cd9d4dbb",
   "metadata": {
    "scrolled": true
   },
   "outputs": [
    {
     "name": "stdout",
     "output_type": "stream",
     "text": [
      "Accuracy: 49.36%\n",
      "---\n",
      "Confusion Matrix\n",
      "actual       HTML  Java  JavaScript  Python   R\n",
      "predicted_t                                    \n",
      "HTML           29     6          21       9   3\n",
      "Java            1    13           5       1   1\n",
      "JavaScript     46    16         105      30  11\n",
      "Python          7     0          10      24   2\n",
      "R              12     1           3      13  22\n",
      "---\n",
      "              precision    recall  f1-score   support\n",
      "\n",
      "        HTML       0.43      0.31      0.36        95\n",
      "        Java       0.62      0.36      0.46        36\n",
      "  JavaScript       0.50      0.73      0.60       144\n",
      "      Python       0.56      0.31      0.40        77\n",
      "           R       0.43      0.56      0.49        39\n",
      "\n",
      "    accuracy                           0.49       391\n",
      "   macro avg       0.51      0.45      0.46       391\n",
      "weighted avg       0.50      0.49      0.48       391\n",
      "\n"
     ]
    }
   ],
   "source": [
    "## accuracy matrix Decision Tree Classifier (tfidf vectorizer)\n",
    "print('Accuracy: {:.2%}'.format(accuracy_score(validate.actual, validate.predicted_t)))\n",
    "print('---')\n",
    "print('Confusion Matrix')\n",
    "print(pd.crosstab(validate.predicted_t, validate.actual))\n",
    "print('---')\n",
    "print(classification_report(validate.actual, validate.predicted_t))"
   ]
  },
  {
   "cell_type": "markdown",
   "id": "c8498d48",
   "metadata": {},
   "source": [
    "#### Decision Tree Classifier (tfidf vectorizer)  had an accuracy of 57% and 50% on validate.\n",
    "- the model is a decision tree with a max depth of 5 models\n",
    "- the accuracy was low, however, it doesnt seem to be overfitting\n",
    "\n"
   ]
  },
  {
   "cell_type": "code",
   "execution_count": null,
   "id": "1fcf76dc",
   "metadata": {},
   "outputs": [],
   "source": []
  },
  {
   "cell_type": "code",
   "execution_count": null,
   "id": "13807baa",
   "metadata": {},
   "outputs": [],
   "source": []
  },
  {
   "cell_type": "markdown",
   "id": "5e5ae240",
   "metadata": {},
   "source": [
    "### Logistic Regression  ( CountVectorizer)"
   ]
  },
  {
   "cell_type": "code",
   "execution_count": 64,
   "id": "81b672c5",
   "metadata": {},
   "outputs": [
    {
     "data": {
      "text/plain": [
       "LogisticRegression()"
      ]
     },
     "execution_count": 64,
     "metadata": {},
     "output_type": "execute_result"
    }
   ],
   "source": [
    "# Create the cv vectorizer object\n",
    "# encodes these values for classification purposes\n",
    "cv = CountVectorizer(ngram_range=(1,3))\n",
    "\n",
    "# Fit on the training data\n",
    "cv.fit(X_train)\n",
    "# Use the object\n",
    "X_train_cv = cv.transform(X_train)\n",
    "X_validate_cv = cv.transform(X_validate)\n",
    "X_test_cv = cv.transform(X_test)\n",
    "\n",
    "#after vectorizing, we are ready to model\n",
    "lm = LogisticRegression()\n",
    "\n",
    "# Fit the classification model to vectorized train data\n",
    "lm.fit(X_train_cv, y_train)"
   ]
  },
  {
   "cell_type": "code",
   "execution_count": 65,
   "id": "f3d2ac3f",
   "metadata": {},
   "outputs": [
    {
     "name": "stdout",
     "output_type": "stream",
     "text": [
      "Train Accuracy Score: 99.78%\n",
      "Validate Accuracy Score: 60.36%\n"
     ]
    }
   ],
   "source": [
    "# Use the trained model to predict y given those vectorized inputs of X\n",
    "train['predicted_cv'] = lm.predict(X_train_cv)\n",
    "validate[\"predicted_cv\"] = lm.predict(X_validate_cv)\n",
    "# test['predicted'] = lm.predict(X_test_vectorized)\n",
    "print(f'Train Accuracy Score: {lm.score(X_train_cv, y_train) * 100:.2f}%')\n",
    "print(f'Validate Accuracy Score: {lm.score(X_validate_cv, y_validate) * 100:.2f}%')"
   ]
  },
  {
   "cell_type": "markdown",
   "id": "22fc9c2f",
   "metadata": {},
   "source": [
    "#### Training Accuracy Confusion Matrix"
   ]
  },
  {
   "cell_type": "code",
   "execution_count": 46,
   "id": "9451a31f",
   "metadata": {},
   "outputs": [
    {
     "name": "stdout",
     "output_type": "stream",
     "text": [
      "Train Accuracy: 99.78%\n",
      "---\n",
      "Confusion Matrix\n",
      "actual        HTML  Java  JavaScript  Python   R\n",
      "predicted_cv                                    \n",
      "HTML           220     0           0       0   0\n",
      "Java             0    83           0       0   0\n",
      "JavaScript       2     0         336       0   0\n",
      "Python           0     0           0     179   0\n",
      "R                0     0           0       0  90\n",
      "---\n",
      "              precision    recall  f1-score   support\n",
      "\n",
      "        HTML       1.00      0.99      1.00       222\n",
      "        Java       1.00      1.00      1.00        83\n",
      "  JavaScript       0.99      1.00      1.00       336\n",
      "      Python       1.00      1.00      1.00       179\n",
      "           R       1.00      1.00      1.00        90\n",
      "\n",
      "    accuracy                           1.00       910\n",
      "   macro avg       1.00      1.00      1.00       910\n",
      "weighted avg       1.00      1.00      1.00       910\n",
      "\n"
     ]
    }
   ],
   "source": [
    "print('Train Accuracy: {:.2%}'.format(accuracy_score(train.actual, train.predicted_cv)))\n",
    "print('---')\n",
    "print('Confusion Matrix')\n",
    "print(pd.crosstab(train.predicted_cv, train.actual))\n",
    "print('---')\n",
    "print(classification_report(train.actual, train.predicted_cv))"
   ]
  },
  {
   "cell_type": "code",
   "execution_count": 47,
   "id": "f8bfc5fb",
   "metadata": {},
   "outputs": [
    {
     "name": "stdout",
     "output_type": "stream",
     "text": [
      "Accuracy: 60.10%\n",
      "---\n",
      "Confusion Matrix\n",
      "actual        HTML  Java  JavaScript  Python   R\n",
      "predicted_cv                                    \n",
      "HTML            62    11          24      13   6\n",
      "Java             3    10           5       5   0\n",
      "JavaScript      19    11         104      15   3\n",
      "Python           6     3          10      36   7\n",
      "R                5     1           1       8  23\n",
      "---\n",
      "              precision    recall  f1-score   support\n",
      "\n",
      "        HTML       0.53      0.65      0.59        95\n",
      "        Java       0.43      0.28      0.34        36\n",
      "  JavaScript       0.68      0.72      0.70       144\n",
      "      Python       0.58      0.47      0.52        77\n",
      "           R       0.61      0.59      0.60        39\n",
      "\n",
      "    accuracy                           0.60       391\n",
      "   macro avg       0.57      0.54      0.55       391\n",
      "weighted avg       0.60      0.60      0.59       391\n",
      "\n"
     ]
    }
   ],
   "source": [
    "print('Accuracy: {:.2%}'.format(accuracy_score(validate.actual, validate.predicted_cv)))\n",
    "print('---')\n",
    "print('Confusion Matrix')\n",
    "print(pd.crosstab(validate.predicted_cv, validate.actual))\n",
    "print('---')\n",
    "print(classification_report(validate.actual, validate.predicted_cv))"
   ]
  },
  {
   "cell_type": "markdown",
   "id": "c0ef5f75",
   "metadata": {},
   "source": [
    "#### The logistic regression model with the count vectorizer yields a 99% accuracy on the train set and 60% on validate. This clearly shows the model is overfitting.\n",
    "- we will not proceed to use the test data with this model\n"
   ]
  },
  {
   "cell_type": "markdown",
   "id": "8ca93e7b",
   "metadata": {},
   "source": [
    "### Decision Tree Classifier (CountVectorizer)"
   ]
  },
  {
   "cell_type": "code",
   "execution_count": 68,
   "id": "cfbe3d36",
   "metadata": {},
   "outputs": [
    {
     "name": "stdout",
     "output_type": "stream",
     "text": [
      "Train Accuracy Score: 52.20%\n",
      "Validate Accuracy Score: 53.96%\n",
      "Test Accuracy Score: 54.60%\n"
     ]
    }
   ],
   "source": [
    "#decision tree classifier\n",
    "tree = DecisionTreeClassifier(max_depth=5, random_state=123)\n",
    "tree.fit(X_train_cv, y_train)\n",
    "# Use the trained model to predict y given those vectorized inputs of X\n",
    "train['predicted_cv_dt'] = tree.predict(X_train_cv)\n",
    "validate[\"predicted_cv_dt\"] = tree.predict(X_validate_cv)\n",
    "test['predicted_cv_dt'] = tree.predict(X_test_cv)\n",
    "print(f'Train Accuracy Score: {tree.score(X_train_cv, y_train) * 100:.2f}%')\n",
    "print(f'Validate Accuracy Score: {tree.score(X_validate_cv, y_validate) * 100:.2f}%')\n",
    "print(f'Test Accuracy Score: {tree.score(X_test_cv, y_test) * 100:.2f}%')\n"
   ]
  },
  {
   "cell_type": "markdown",
   "id": "2f04e9e4",
   "metadata": {},
   "source": [
    "#### Training Confusion Matrix"
   ]
  },
  {
   "cell_type": "code",
   "execution_count": 49,
   "id": "c5b83a4a",
   "metadata": {},
   "outputs": [
    {
     "name": "stdout",
     "output_type": "stream",
     "text": [
      "Accuracy: 51.65%\n",
      "---\n",
      "Confusion Matrix\n",
      "actual           HTML  Java  JavaScript  Python   R\n",
      "predicted_cv_dt                                    \n",
      "HTML              206    49         155     117  87\n",
      "Java                0    32           2       0   0\n",
      "JavaScript          9     2         172       3   0\n",
      "Python              7     0           7      59   2\n",
      "R                   0     0           0       0   1\n",
      "---\n",
      "              precision    recall  f1-score   support\n",
      "\n",
      "        HTML       0.34      0.93      0.49       222\n",
      "        Java       0.94      0.39      0.55        83\n",
      "  JavaScript       0.92      0.51      0.66       336\n",
      "      Python       0.79      0.33      0.46       179\n",
      "           R       1.00      0.01      0.02        90\n",
      "\n",
      "    accuracy                           0.52       910\n",
      "   macro avg       0.80      0.43      0.44       910\n",
      "weighted avg       0.76      0.52      0.51       910\n",
      "\n"
     ]
    }
   ],
   "source": [
    "print('Accuracy: {:.2%}'.format(accuracy_score(train.actual, train.predicted_cv_dt)))\n",
    "print('---')\n",
    "print('Confusion Matrix')\n",
    "print(pd.crosstab(train.predicted_cv_dt, train.actual))\n",
    "print('---')\n",
    "print(classification_report(train.actual, train.predicted_cv_dt))"
   ]
  },
  {
   "cell_type": "markdown",
   "id": "3becdcbe",
   "metadata": {},
   "source": [
    "#### Validate Confusion Matrix"
   ]
  },
  {
   "cell_type": "code",
   "execution_count": 50,
   "id": "5caf9afa",
   "metadata": {
    "scrolled": true
   },
   "outputs": [
    {
     "name": "stdout",
     "output_type": "stream",
     "text": [
      "Accuracy: 52.69%\n",
      "---\n",
      "Confusion Matrix\n",
      "actual           HTML  Java  JavaScript  Python   R\n",
      "predicted_cv_dt                                    \n",
      "HTML               86    22          59      46  38\n",
      "Java                1    14           1       1   0\n",
      "JavaScript          4     0          78       2   0\n",
      "Python              4     0           5      28   1\n",
      "R                   0     0           1       0   0\n",
      "---\n",
      "              precision    recall  f1-score   support\n",
      "\n",
      "        HTML       0.34      0.91      0.50        95\n",
      "        Java       0.82      0.39      0.53        36\n",
      "  JavaScript       0.93      0.54      0.68       144\n",
      "      Python       0.74      0.36      0.49        77\n",
      "           R       0.00      0.00      0.00        39\n",
      "\n",
      "    accuracy                           0.53       391\n",
      "   macro avg       0.57      0.44      0.44       391\n",
      "weighted avg       0.65      0.53      0.52       391\n",
      "\n"
     ]
    }
   ],
   "source": [
    "print('Accuracy: {:.2%}'.format(accuracy_score(validate.actual, validate.predicted_cv_dt)))\n",
    "print('---')\n",
    "print('Confusion Matrix')\n",
    "print(pd.crosstab(validate.predicted_cv_dt, validate.actual))\n",
    "print('---')\n",
    "print(classification_report(validate.actual, validate.predicted_cv_dt))"
   ]
  },
  {
   "cell_type": "markdown",
   "id": "2ce0cf24",
   "metadata": {},
   "source": [
    "#### Test Confusion Matrix"
   ]
  },
  {
   "cell_type": "code",
   "execution_count": null,
   "id": "95c80698",
   "metadata": {},
   "outputs": [],
   "source": []
  },
  {
   "cell_type": "code",
   "execution_count": 69,
   "id": "12e7dbd6",
   "metadata": {},
   "outputs": [
    {
     "name": "stdout",
     "output_type": "stream",
     "text": [
      "Accuracy: 54.60%\n",
      "---\n",
      "Confusion Matrix\n",
      "actual           HTML  Java  JavaScript  Python   R\n",
      "predicted_cv_dt                                    \n",
      "HTML               69    17          44      34  33\n",
      "Java                1    11           0       0   0\n",
      "JavaScript          6     2          71       3   0\n",
      "Python              3     0           5      27   0\n",
      "---\n",
      "              precision    recall  f1-score   support\n",
      "\n",
      "        HTML       0.35      0.87      0.50        79\n",
      "        Java       0.92      0.37      0.52        30\n",
      "  JavaScript       0.87      0.59      0.70       120\n",
      "      Python       0.77      0.42      0.55        64\n",
      "           R       0.00      0.00      0.00        33\n",
      "\n",
      "    accuracy                           0.55       326\n",
      "   macro avg       0.58      0.45      0.45       326\n",
      "weighted avg       0.64      0.55      0.54       326\n",
      "\n"
     ]
    }
   ],
   "source": [
    "print('Accuracy: {:.2%}'.format(accuracy_score(test.actual, test.predicted_cv_dt)))\n",
    "print('---')\n",
    "print('Confusion Matrix')\n",
    "print(pd.crosstab(test.predicted_cv_dt, test.actual))\n",
    "print('---')\n",
    "print(classification_report(test.actual, test.predicted_cv_dt))"
   ]
  },
  {
   "cell_type": "markdown",
   "id": "8b015042",
   "metadata": {},
   "source": [
    "#### Decision Tree Classifier (tfidf vectorizer)  had an accuracy of 52% , 53% on validate and 54% on test.\n",
    "- the model is a decision tree with a max depth of 5\n",
    "- the accuracy was low, however, it doesnt seem to be overfitting\n",
    "- since the train and validate results on the model are almost identical in accuracy, we went ahead and tested it on test data \n",
    "- this yeilded an accuracy of 54%, similar to the vlidate test set\n",
    "\n"
   ]
  },
  {
   "cell_type": "code",
   "execution_count": null,
   "id": "c1e4176b",
   "metadata": {},
   "outputs": [],
   "source": []
  },
  {
   "cell_type": "markdown",
   "id": "8d685b39",
   "metadata": {},
   "source": [
    "# Conclusion"
   ]
  },
  {
   "cell_type": "markdown",
   "id": "61065b88",
   "metadata": {},
   "source": [
    "- Predicting programming languages based on the readme"
   ]
  }
 ],
 "metadata": {
  "hide_input": false,
  "kernelspec": {
   "display_name": "Python 3 (ipykernel)",
   "language": "python",
   "name": "python3"
  },
  "language_info": {
   "codemirror_mode": {
    "name": "ipython",
    "version": 3
   },
   "file_extension": ".py",
   "mimetype": "text/x-python",
   "name": "python",
   "nbconvert_exporter": "python",
   "pygments_lexer": "ipython3",
   "version": "3.9.7"
  }
 },
 "nbformat": 4,
 "nbformat_minor": 5
}
