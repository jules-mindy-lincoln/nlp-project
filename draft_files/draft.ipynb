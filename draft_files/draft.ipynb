{
 "cells": [
  {
   "cell_type": "code",
   "execution_count": 29,
   "id": "2c7d1fca",
   "metadata": {},
   "outputs": [],
   "source": [
    "#ignore warnings\n",
    "import warnings\n",
    "warnings.filterwarnings(\"ignore\")\n",
    "\n",
    "import pandas as pd\n",
    "import numpy as np\n",
    "\n",
    "import seaborn as sns\n",
    "import matplotlib as plt\n",
    "\n",
    "import unicodedata\n",
    "import re\n",
    "import json\n",
    "\n",
    "import nltk\n",
    "from nltk.tokenize.toktok import ToktokTokenizer\n",
    "from nltk.corpus import stopwords\n",
    "from nltk import trigrams\n",
    "from nltk import bigrams\n",
    "from collections import Counter\n",
    "from typing import Dict, List, Optional, Union, cast\n",
    "\n",
    "from sklearn.feature_extraction.text import TfidfVectorizer\n",
    "from sklearn.feature_extraction.text import CountVectorizer\n",
    "\n",
    "from pprint import pprint\n",
    "\n",
    "from sklearn.model_selection import train_test_split\n",
    "from sklearn.linear_model import LogisticRegression\n",
    "from sklearn.metrics import classification_report, accuracy_score\n",
    "from sklearn.model_selection import train_test_split\n",
    "from sklearn.tree import DecisionTreeClassifier, export_graphviz\n",
    "from sklearn.metrics import classification_report\n",
    "\n",
    "import os\n",
    "import time\n",
    "import csv\n",
    "\n",
    "\n",
    "import requests\n",
    "import prepare\n",
    "\n",
    "from sklearn.model_selection import train_test_split\n",
    "\n",
    "#statistical testing\n",
    "from scipy import stats\n",
    "from scipy.stats import pearsonr, spearmanr"
   ]
  },
  {
   "cell_type": "markdown",
   "id": "43d232ba",
   "metadata": {},
   "source": [
    "# Project Planning"
   ]
  },
  {
   "cell_type": "markdown",
   "id": "8e58c446",
   "metadata": {},
   "source": [
    "The goal of this project is to use Natural Language Processing in order to build a predictive model of programming languages using the text from a users Github repository's readme.md. Planning for this project involved:\n",
    "\n",
    "- Acquire data by webscraping Github to obtain enough text from repositories of *finish this sentence\n",
    "\n",
    "- Create a readme.md, data dictionary, visualizations to accompany a formal presentation, and a Final Report Notebook.\n",
    "\n",
    "- Clean and prepare the data for the first iteration through the data science pipeline, and automate these processes by storing as functions where applicable.\n",
    "\n",
    "- Clearly define at least two hypotheses, set an alpha, run statistical tests as needed, reject or fail to reject the Null Hypothesis, and document findings and takeaways.\n",
    "\n",
    "- Establish the baseline accuracy and document well.\n",
    "\n",
    "- Train several classification models.\n",
    "\n",
    "- Evaluate models on train and validate datasets.\n",
    "\n",
    "- Document executive summary, conclusions, takeaways, and next steps in the Final Report Notebook.\n",
    "\n",
    "- Upload readme.md, data dictionary, prepare.py, acquire.py, and Final Report Notebook."
   ]
  },
  {
   "cell_type": "markdown",
   "id": "344531b1",
   "metadata": {},
   "source": [
    "### Notes\n",
    "\n",
    "- Who would use this model and why?\n",
    "\n",
    "- The Baseline language is JavaScript which accounted for 37% of our corpus\n",
    "\n",
    "- Our initial hypothesis, we chose mental health bc its such an important topic, and due to the subject matter we assumed that languages like R, which is used heavily in academia, that we would find a lot of readme's with R or Python\n",
    "\n",
    "- Next steps given more time, gather more samples, explore mental health sub-topics, take more time to analyze which individual words bigrams and trigrams are the most predictive and work on tailoring the model even further\n",
    "\n",
    "- Slides flowy, more for a non-technical audience, quantify for a non-technical audience\n",
    "\n",
    "- Explore on everything"
   ]
  },
  {
   "cell_type": "markdown",
   "id": "3bbc6950",
   "metadata": {},
   "source": [
    "# Executive Summary"
   ]
  },
  {
   "cell_type": "markdown",
   "id": "f2642922",
   "metadata": {},
   "source": [
    "- For this project our team chose to focus on the topic of mental health, and formed an initial hypothesis that due to the academic quantitative analysis of mental health, that certain languages, such as R, would be robust in the scrapped data.\n",
    "\n",
    "- After some initial exploration of Github, we chose Python, Java, R, HTML, and JavaScript as the only languages of focus to build the predictive model. \n",
    "\n",
    "- The models used were *insert model names here* with the best performing model being the Count Vectorized Decision Tree.\n",
    "\n",
    "- *insert interesting observation/takeaway*\n",
    "\n",
    "- The model did beat the baseline accuracy of  *insert percentage increase*\n",
    "\n",
    "- Although JavaScript was the most represented language in this dataset, certain words proved useful and unique to specific programming languages, additional study could prove useful in building a better predictive model in future iterations of this project. "
   ]
  },
  {
   "cell_type": "markdown",
   "id": "10b8f592",
   "metadata": {},
   "source": [
    "# Acquire\n",
    "\n",
    "- This data was obtained from Github repositories using those that appeared in the results after searching for mental health.\n",
    "\n",
    "- We scrapped *insert number of pages*\n",
    "\n",
    "- *something, something Darth Maul*"
   ]
  },
  {
   "cell_type": "code",
   "execution_count": 3,
   "id": "2677bd00",
   "metadata": {},
   "outputs": [
    {
     "name": "stdout",
     "output_type": "stream",
     "text": [
      "<class 'pandas.core.frame.DataFrame'>\n",
      "Int64Index: 1627 entries, 0 to 2142\n",
      "Data columns (total 6 columns):\n",
      " #   Column           Non-Null Count  Dtype \n",
      "---  ------           --------------  ----- \n",
      " 0   repo             1627 non-null   object\n",
      " 1   language         1627 non-null   object\n",
      " 2   readme_contents  1627 non-null   object\n",
      " 3   stemmed          1627 non-null   object\n",
      " 4   lemmatized       1627 non-null   object\n",
      " 5   total_words      1627 non-null   int64 \n",
      "dtypes: int64(1), object(5)\n",
      "memory usage: 89.0+ KB\n"
     ]
    }
   ],
   "source": [
    "df = prepare.wrangle_data()\n",
    "df.info()"
   ]
  },
  {
   "cell_type": "markdown",
   "id": "2f27732d",
   "metadata": {},
   "source": [
    "# Prepare\n",
    "\n",
    "- We scraped *insert how many* Github repositories\n",
    "\n",
    "- Initially, *insert how many languages* were included\n",
    "\n",
    "- In order to improve accuracy during the modeling process, this project focused on some of the top five programming languages that came up in the repository search mental health, which are:\n",
    "\n",
    "    - Java\n",
    "    - HTML\n",
    "    - Python\n",
    "    - R\n",
    "    - JavaScript"
   ]
  },
  {
   "cell_type": "markdown",
   "id": "03f0994e",
   "metadata": {},
   "source": [
    "# Explore"
   ]
  },
  {
   "cell_type": "markdown",
   "id": "213602b2",
   "metadata": {},
   "source": [
    "### Language Histograms/ Visualization?"
   ]
  },
  {
   "cell_type": "code",
   "execution_count": 56,
   "id": "2bdaaae5",
   "metadata": {
    "scrolled": true
   },
   "outputs": [
    {
     "data": {
      "text/plain": [
       "<AxesSubplot:>"
      ]
     },
     "execution_count": 56,
     "metadata": {},
     "output_type": "execute_result"
    },
    {
     "data": {
      "image/png": "[encoded data removed]",
      "text/plain": [
       "<Figure size 432x288 with 1 Axes>"
      ]
     },
     "metadata": {
      "needs_background": "light"
     },
     "output_type": "display_data"
    }
   ],
   "source": [
    "df.language.hist()"
   ]
  },
  {
   "cell_type": "code",
   "execution_count": 58,
   "id": "45ee954f",
   "metadata": {},
   "outputs": [
    {
     "data": {
      "text/plain": [
       "array([[<AxesSubplot:title={'center':'total_words'}>]], dtype=object)"
      ]
     },
     "execution_count": 58,
     "metadata": {},
     "output_type": "execute_result"
    },
    {
     "data": {
      "image/png": "[encoded data removed]",
      "text/plain": [
       "<Figure size 432x288 with 1 Axes>"
      ]
     },
     "metadata": {
      "needs_background": "light"
     },
     "output_type": "display_data"
    }
   ],
   "source": [
    "df.loc[df['language'] == 'HTML'].hist()"
   ]
  },
  {
   "cell_type": "code",
   "execution_count": 59,
   "id": "e45bd034",
   "metadata": {},
   "outputs": [
    {
     "data": {
      "text/plain": [
       "<seaborn.axisgrid.FacetGrid at 0x140b458e0>"
      ]
     },
     "execution_count": 59,
     "metadata": {},
     "output_type": "execute_result"
    },
    {
     "data": {
      "image/png": "[encoded data removed]",
      "text/plain": [
       "<Figure size 360x360 with 1 Axes>"
      ]
     },
     "metadata": {
      "needs_background": "light"
     },
     "output_type": "display_data"
    }
   ],
   "source": [
    "#plt.figure(fig_size = (10, 8))\n",
    "sns.catplot(data = df,\n",
    "           x = 'total_words',\n",
    "           y = 'language',\n",
    "           kind = 'swarm')"
   ]
  },
  {
   "cell_type": "code",
   "execution_count": 60,
   "id": "29c1a453",
   "metadata": {},
   "outputs": [
    {
     "data": {
      "text/plain": [
       "<seaborn.axisgrid.FacetGrid at 0x137796640>"
      ]
     },
     "execution_count": 60,
     "metadata": {},
     "output_type": "execute_result"
    },
    {
     "data": {
      "image/png": "[encoded data removed]",
      "text/plain": [
       "<Figure size 360x360 with 1 Axes>"
      ]
     },
     "metadata": {
      "needs_background": "light"
     },
     "output_type": "display_data"
    }
   ],
   "source": [
    "sns.catplot(data = df,\n",
    "           x = 'total_words',\n",
    "           y = 'language',\n",
    "           kind = 'violin')"
   ]
  },
  {
   "cell_type": "code",
   "execution_count": null,
   "id": "fb99147f",
   "metadata": {},
   "outputs": [],
   "source": []
  },
  {
   "cell_type": "code",
   "execution_count": null,
   "id": "8d1c8652",
   "metadata": {},
   "outputs": [],
   "source": []
  },
  {
   "cell_type": "markdown",
   "id": "74ca8f54",
   "metadata": {},
   "source": [
    "---"
   ]
  },
  {
   "cell_type": "markdown",
   "id": "5d6209d2",
   "metadata": {},
   "source": [
    "- Put this in a function"
   ]
  },
  {
   "cell_type": "code",
   "execution_count": 9,
   "id": "1925b385",
   "metadata": {},
   "outputs": [
    {
     "data": {
      "text/html": [
       "<div>\n",
       "<style scoped>\n",
       "    .dataframe tbody tr th:only-of-type {\n",
       "        vertical-align: middle;\n",
       "    }\n",
       "\n",
       "    .dataframe tbody tr th {\n",
       "        vertical-align: top;\n",
       "    }\n",
       "\n",
       "    .dataframe thead th {\n",
       "        text-align: right;\n",
       "    }\n",
       "</style>\n",
       "<table border=\"1\" class=\"dataframe\">\n",
       "  <thead>\n",
       "    <tr style=\"text-align: right;\">\n",
       "      <th></th>\n",
       "      <th>counts</th>\n",
       "      <th>percent</th>\n",
       "    </tr>\n",
       "  </thead>\n",
       "  <tbody>\n",
       "    <tr>\n",
       "      <th>JavaScript</th>\n",
       "      <td>600</td>\n",
       "      <td>0.368777</td>\n",
       "    </tr>\n",
       "    <tr>\n",
       "      <th>HTML</th>\n",
       "      <td>396</td>\n",
       "      <td>0.243393</td>\n",
       "    </tr>\n",
       "    <tr>\n",
       "      <th>Python</th>\n",
       "      <td>320</td>\n",
       "      <td>0.196681</td>\n",
       "    </tr>\n",
       "    <tr>\n",
       "      <th>R</th>\n",
       "      <td>162</td>\n",
       "      <td>0.099570</td>\n",
       "    </tr>\n",
       "    <tr>\n",
       "      <th>Java</th>\n",
       "      <td>149</td>\n",
       "      <td>0.091580</td>\n",
       "    </tr>\n",
       "  </tbody>\n",
       "</table>\n",
       "</div>"
      ],
      "text/plain": [
       "            counts   percent\n",
       "JavaScript     600  0.368777\n",
       "HTML           396  0.243393\n",
       "Python         320  0.196681\n",
       "R              162  0.099570\n",
       "Java           149  0.091580"
      ]
     },
     "execution_count": 9,
     "metadata": {},
     "output_type": "execute_result"
    }
   ],
   "source": [
    "langs = pd.concat([df.language.value_counts(),\n",
    "                    df.language.value_counts(normalize=True)], axis=1)\n",
    "langs.columns = ['counts', 'percent']\n",
    "langs\n",
    "\n",
    "#maybe show this as histograms or count plots"
   ]
  },
  {
   "cell_type": "code",
   "execution_count": null,
   "id": "2cdc7be6",
   "metadata": {},
   "outputs": [],
   "source": []
  },
  {
   "cell_type": "markdown",
   "id": "efea8196",
   "metadata": {},
   "source": [
    "- Function?"
   ]
  },
  {
   "cell_type": "code",
   "execution_count": 10,
   "id": "26946bd7",
   "metadata": {},
   "outputs": [
    {
     "data": {
      "text/html": [
       "<div>\n",
       "<style scoped>\n",
       "    .dataframe tbody tr th:only-of-type {\n",
       "        vertical-align: middle;\n",
       "    }\n",
       "\n",
       "    .dataframe tbody tr th {\n",
       "        vertical-align: top;\n",
       "    }\n",
       "\n",
       "    .dataframe thead th {\n",
       "        text-align: right;\n",
       "    }\n",
       "</style>\n",
       "<table border=\"1\" class=\"dataframe\">\n",
       "  <thead>\n",
       "    <tr style=\"text-align: right;\">\n",
       "      <th></th>\n",
       "      <th>all_words</th>\n",
       "      <th>JavaScript</th>\n",
       "      <th>HTML</th>\n",
       "      <th>Python</th>\n",
       "      <th>Java</th>\n",
       "      <th>R</th>\n",
       "    </tr>\n",
       "  </thead>\n",
       "  <tbody>\n",
       "    <tr>\n",
       "      <th>aa</th>\n",
       "      <td>2</td>\n",
       "      <td>0</td>\n",
       "      <td>1</td>\n",
       "      <td>0</td>\n",
       "      <td>1</td>\n",
       "      <td>0</td>\n",
       "    </tr>\n",
       "    <tr>\n",
       "      <th>aaa</th>\n",
       "      <td>1</td>\n",
       "      <td>0</td>\n",
       "      <td>0</td>\n",
       "      <td>0</td>\n",
       "      <td>1</td>\n",
       "      <td>0</td>\n",
       "    </tr>\n",
       "    <tr>\n",
       "      <th>aaaa</th>\n",
       "      <td>3</td>\n",
       "      <td>0</td>\n",
       "      <td>0</td>\n",
       "      <td>1</td>\n",
       "      <td>0</td>\n",
       "      <td>2</td>\n",
       "    </tr>\n",
       "    <tr>\n",
       "      <th>aac</th>\n",
       "      <td>1</td>\n",
       "      <td>0</td>\n",
       "      <td>0</td>\n",
       "      <td>0</td>\n",
       "      <td>1</td>\n",
       "      <td>0</td>\n",
       "    </tr>\n",
       "    <tr>\n",
       "      <th>aachal</th>\n",
       "      <td>2</td>\n",
       "      <td>2</td>\n",
       "      <td>0</td>\n",
       "      <td>0</td>\n",
       "      <td>0</td>\n",
       "      <td>0</td>\n",
       "    </tr>\n",
       "  </tbody>\n",
       "</table>\n",
       "</div>"
      ],
      "text/plain": [
       "        all_words  JavaScript  HTML  Python  Java  R\n",
       "aa              2           0     1       0     1  0\n",
       "aaa             1           0     0       0     1  0\n",
       "aaaa            3           0     0       1     0  2\n",
       "aac             1           0     0       0     1  0\n",
       "aachal          2           2     0       0     0  0"
      ]
     },
     "execution_count": 10,
     "metadata": {},
     "output_type": "execute_result"
    }
   ],
   "source": [
    "ADDITIONAL = ['The', 'I', 'This', 'app', 'run', 'project', 'user', 'use', 'mental', 'file', 'health',\n",
    "       'create', 'page', 'code', 'also', 'help', 'used']\n",
    "             \n",
    "def clean(readme_contents):\n",
    "    'A simple function to cleanup text data'\n",
    "    wnl = nltk.stem.WordNetLemmatizer()\n",
    "    stopwords = nltk.corpus.stopwords.words('english') + ADDITIONAL\n",
    "    text = (unicodedata.normalize('NFKD', readme_contents)\n",
    "             .encode('ascii', 'ignore')\n",
    "             .decode('utf-8', 'ignore')\n",
    "             .lower())\n",
    "    #words = re.sub(r'[^a-z\\s]', '', text).split()\n",
    "    words = re.sub (r'([^a-zA-Z ]+?)', \"\", text).split()\n",
    "    #words = re.sub(r'[\\D]', '', words).split()\n",
    "    \n",
    "    \n",
    "    return [wnl.lemmatize(word) for word in words if word not in stopwords]\n",
    "\n",
    "\n",
    "#making dfs with clean function for all langs\n",
    "JavaScript_words = clean(' '.join(df[df.language == 'JavaScript'].readme_contents))\n",
    "HTML_words = clean(' '.join(df[df.language == 'HTML'].readme_contents))\n",
    "Python_words = clean(' '.join(df[df.language == 'Python'].readme_contents))\n",
    "Java_words = clean(' '.join(df[df.language == 'Java'].readme_contents))\n",
    "R_words = clean(' '.join(df[df.language == 'R'].readme_contents))\n",
    "all_words = clean(' '.join(df.readme_contents))\n",
    "\n",
    "\n",
    "#make dfs to show frequencies of words\n",
    "\n",
    "JavaScript_freq = pd.Series(JavaScript_words).value_counts()\n",
    "HTML_freq = pd.Series(HTML_words).value_counts()\n",
    "Python_freq = pd.Series(Python_words).value_counts()\n",
    "Java_freq = pd.Series(Java_words).value_counts()\n",
    "R_freq = pd.Series(R_words).value_counts()\n",
    "all_freq = pd.Series(all_words).value_counts()\n",
    "\n",
    "\n",
    "word_counts = (pd.concat([all_freq, JavaScript_freq, HTML_freq, Python_freq, \n",
    "                    Java_freq, R_freq], axis=1, sort=True)\n",
    "                .set_axis(['all_words', 'JavaScript', 'HTML', 'Python', 'Java', 'R'], axis=1, inplace=False)\n",
    "                .fillna(0)\n",
    "                .apply(lambda s: s.astype(int)))\n",
    "\n",
    "word_counts.head()"
   ]
  },
  {
   "cell_type": "markdown",
   "id": "654fbd1b",
   "metadata": {},
   "source": [
    "### hypos/questions\n",
    "\n",
    "- QUESTION 1: do certain languages have a higher average readme word count than others?\n",
    "- QUESTION 2: are certain frequently occuring words share across more than one language?\n",
    "- QUESTION 3: what words, if any, are frequently occuring in readmes for certain langauges that are barely prevelant in other language readmes?\n",
    "- QUESTION 4: what language's readme trends are closest related to the trends of all readmes?"
   ]
  },
  {
   "cell_type": "markdown",
   "id": "b4748ff9",
   "metadata": {},
   "source": [
    "### QUESTION 1\n",
    "\n",
    "- do certain languages have a higher average readme word count than others?\n",
    "\n",
    "   \n",
    "   - in this section: \n",
    "            - make bins of high, med, and low readme word counts\n",
    "            - graph these counts for comparison \n",
    "            - run T-test/s on language vs. total counts column\n",
    "            - summarize findings"
   ]
  },
  {
   "cell_type": "code",
   "execution_count": 11,
   "id": "da5342de",
   "metadata": {},
   "outputs": [
    {
     "data": {
      "text/plain": [
       "language\n",
       "HTML          167.0\n",
       "Java          140.0\n",
       "JavaScript    245.0\n",
       "Python        196.0\n",
       "R             169.0\n",
       "Name: total_words, dtype: float64"
      ]
     },
     "execution_count": 11,
     "metadata": {},
     "output_type": "execute_result"
    }
   ],
   "source": [
    "#show averages with group by:\n",
    "df.total_words.groupby(df.language).mean().round()"
   ]
  },
  {
   "cell_type": "code",
   "execution_count": 27,
   "id": "ba11ca92",
   "metadata": {},
   "outputs": [
    {
     "data": {
      "text/html": [
       "<div>\n",
       "<style scoped>\n",
       "    .dataframe tbody tr th:only-of-type {\n",
       "        vertical-align: middle;\n",
       "    }\n",
       "\n",
       "    .dataframe tbody tr th {\n",
       "        vertical-align: top;\n",
       "    }\n",
       "\n",
       "    .dataframe thead th {\n",
       "        text-align: right;\n",
       "    }\n",
       "</style>\n",
       "<table border=\"1\" class=\"dataframe\">\n",
       "  <thead>\n",
       "    <tr style=\"text-align: right;\">\n",
       "      <th></th>\n",
       "      <th>total_words</th>\n",
       "    </tr>\n",
       "    <tr>\n",
       "      <th>language</th>\n",
       "      <th></th>\n",
       "    </tr>\n",
       "  </thead>\n",
       "  <tbody>\n",
       "    <tr>\n",
       "      <th>HTML</th>\n",
       "      <td>167.0</td>\n",
       "    </tr>\n",
       "    <tr>\n",
       "      <th>Java</th>\n",
       "      <td>140.0</td>\n",
       "    </tr>\n",
       "    <tr>\n",
       "      <th>JavaScript</th>\n",
       "      <td>245.0</td>\n",
       "    </tr>\n",
       "    <tr>\n",
       "      <th>Python</th>\n",
       "      <td>196.0</td>\n",
       "    </tr>\n",
       "    <tr>\n",
       "      <th>R</th>\n",
       "      <td>169.0</td>\n",
       "    </tr>\n",
       "  </tbody>\n",
       "</table>\n",
       "</div>"
      ],
      "text/plain": [
       "            total_words\n",
       "language               \n",
       "HTML              167.0\n",
       "Java              140.0\n",
       "JavaScript        245.0\n",
       "Python            196.0\n",
       "R                 169.0"
      ]
     },
     "execution_count": 27,
     "metadata": {},
     "output_type": "execute_result"
    }
   ],
   "source": [
    "total_words = pd.DataFrame(df.total_words.groupby(df.language).mean().round())\n",
    "total_words"
   ]
  },
  {
   "cell_type": "code",
   "execution_count": 12,
   "id": "42961116",
   "metadata": {},
   "outputs": [],
   "source": [
    "#prep to make bins for the better visual\n",
    "conditions = [(df.total_words > 171),\n",
    "              (df.total_words >= 51) & (df.total_words <= 171),\n",
    "              (df.total_words < 51)]\n",
    "choices = ['high_count', 'med_count', 'low_count']\n",
    "\n",
    "df['count_bin'] = np.select(conditions, choices)"
   ]
  },
  {
   "cell_type": "code",
   "execution_count": 13,
   "id": "acdcd83a",
   "metadata": {},
   "outputs": [],
   "source": [
    "df_plot = df.groupby(['language', 'count_bin']).size().reset_index().pivot(columns='count_bin', index='language', values=0)"
   ]
  },
  {
   "cell_type": "code",
   "execution_count": 14,
   "id": "4c002dd4",
   "metadata": {},
   "outputs": [
    {
     "data": {
      "text/plain": [
       "<AxesSubplot:xlabel='language'>"
      ]
     },
     "execution_count": 14,
     "metadata": {},
     "output_type": "execute_result"
    },
    {
     "data": {
      "image/png": "[encoded data removed]",
      "text/plain": [
       "<Figure size 432x288 with 1 Axes>"
      ]
     },
     "metadata": {
      "needs_background": "light"
     },
     "output_type": "display_data"
    }
   ],
   "source": [
    "#I like this to show lang counts with bins\n",
    "\n",
    "df_plot.plot(kind='bar')"
   ]
  },
  {
   "cell_type": "markdown",
   "id": "d2d1ceb6",
   "metadata": {},
   "source": [
    "#### Takeaways:\n",
    "\n",
    "- There are certain languages that have a higher average readme word count than others.\n",
    "- Java has the lowest average word count while those from repositories using JavaScript have considerably more words than the other four programming languages. "
   ]
  },
  {
   "cell_type": "markdown",
   "id": "9d0db0a1",
   "metadata": {},
   "source": [
    "### Are the word counts for JavaScript significantly higher than the mean word counts of all languages?\n",
    "\n",
    "One Sample T-Test\n",
    "\n",
    "$\\alpha$ = .05\n",
    "\n",
    "$𝐻_{0}$: JavaScript's mean word count is <= than the combined mean word count of all languages.\n",
    "\n",
    "𝐻𝑎: JavaScript's mean word count is > than the combined mean word count of all programming languages."
   ]
  },
  {
   "cell_type": "code",
   "execution_count": 15,
   "id": "0f311489",
   "metadata": {},
   "outputs": [
    {
     "name": "stdout",
     "output_type": "stream",
     "text": [
      "P Value: 0.000\n",
      "Fail to reject the null hypothesis.\n"
     ]
    }
   ],
   "source": [
    "α = 0.05\n",
    "\n",
    "js_sample = word_counts.JavaScript\n",
    "\n",
    "overall_mean = word_counts.all_words.mean()\n",
    "\n",
    "t, p = stats.ttest_1samp(js_sample, overall_mean)\n",
    "\n",
    "print(f'P Value: {p/2:.3f}')\n",
    "\n",
    "if p/2 < α and t > 0:\n",
    "    print('Reject the null hypothesis')\n",
    "else:\n",
    "    print('Fail to reject the null hypothesis.')"
   ]
  },
  {
   "cell_type": "markdown",
   "id": "4fdb25d1",
   "metadata": {},
   "source": [
    "---"
   ]
  },
  {
   "cell_type": "markdown",
   "id": "6c4072bc",
   "metadata": {},
   "source": [
    "### Are the word counts for JavaScript significantly higher than the word counts of Python?\n",
    "\n",
    "Two Sample T-Test\n",
    "\n",
    "$\\alpha$ = .05\n",
    "\n",
    "$𝐻_{0}$: Javascript's mean word count is <= than the mean word count of Python.\n",
    "\n",
    "𝐻𝑎: Javascript's mean word count is > the mean word count of Python."
   ]
  },
  {
   "cell_type": "code",
   "execution_count": 16,
   "id": "faeaefed",
   "metadata": {},
   "outputs": [
    {
     "name": "stdout",
     "output_type": "stream",
     "text": [
      "Levene's F-statistic: 285.039\n",
      "P-value: 0.000\n",
      "Reject the null hypothesis.\n"
     ]
    }
   ],
   "source": [
    "#test for equal variance \n",
    "#H0 is that the variances are equal\n",
    "#Ha is that the variances are not equal\n",
    "# if p > .05, variances are not significantly different and set argument to equal_var = True\n",
    "#if p < .05, variances are significantly different and set argument to equal_var = False\n",
    "#Levene test on two groups\n",
    "\n",
    "\n",
    "#set alpha\n",
    "α = 0.05\n",
    "\n",
    "#perform test to determine variance\n",
    "f, p = stats.levene(word_counts.JavaScript,\n",
    "             word_counts.Python)\n",
    "\n",
    "#evaluate coefficient and p-value\n",
    "print(f'Levene\\'s F-statistic: {f:.3f}\\nP-value: {p:.3f}')\n",
    "\n",
    "\n",
    "#evaluate if \n",
    "if p < α:\n",
    "    print('Reject the null hypothesis.')\n",
    "else:\n",
    "    print('Fail to reject the null hypothesis.')"
   ]
  },
  {
   "cell_type": "code",
   "execution_count": 17,
   "id": "867c44a2",
   "metadata": {},
   "outputs": [
    {
     "name": "stdout",
     "output_type": "stream",
     "text": [
      "P Value: 0.000\n",
      "Reject the null hypothesis.\n"
     ]
    }
   ],
   "source": [
    "#set alpha\n",
    "α = 0.05\n",
    "\n",
    "#perform test\n",
    "t, p = stats.ttest_ind(word_counts.JavaScript, word_counts.Python, equal_var = False)\n",
    "\n",
    "#print p-value\n",
    "print(f'P Value: {p/2:.3f}')\n",
    "\n",
    "#evaluate if mean of the word counts associated w/ JavaScript is significantly higher than the mean \n",
    "# of the mean word counts associated with Python, is p/2 < a and t > 0?\n",
    "if p/2 < α and t > 0:\n",
    "    print('Reject the null hypothesis.')\n",
    "else:\n",
    "    print('Fail to reject the null hypothesis.')"
   ]
  },
  {
   "cell_type": "markdown",
   "id": "84bb8caa",
   "metadata": {},
   "source": [
    "---"
   ]
  },
  {
   "cell_type": "markdown",
   "id": "46ac42c5",
   "metadata": {},
   "source": [
    "### Are the word counts for R significantly lower than the word counts of Python?\n",
    "\n",
    "Two Sample T-Test\n",
    "\n",
    "$\\alpha$ = .05\n",
    "\n",
    "$𝐻_{0}$: R's mean word count is >= than the mean word count of Python.\n",
    "\n",
    "𝐻𝑎: R's mean word count is < the mean word count of Python."
   ]
  },
  {
   "cell_type": "code",
   "execution_count": 18,
   "id": "749393f1",
   "metadata": {},
   "outputs": [
    {
     "name": "stdout",
     "output_type": "stream",
     "text": [
      "Levene's F-statistic: 267.514\n",
      "P-value: 0.000\n",
      "Reject the null hypothesis.\n"
     ]
    }
   ],
   "source": [
    "#test for equal variance \n",
    "#H0 is that the variances are equal\n",
    "#Ha is that the variances are not equal\n",
    "# if p > .05, variances are not significantly different and set argument to equal_var = True\n",
    "#if p < .05, variances are significantly different and set argument to equal_var = False\n",
    "#Levene test on two groups\n",
    "\n",
    "\n",
    "#set alpha\n",
    "α = 0.05\n",
    "\n",
    "#perform test to determine variance\n",
    "f, p = stats.levene(word_counts.R,\n",
    "             word_counts.Python)\n",
    "\n",
    "#evaluate coefficient and p-value\n",
    "print(f'Levene\\'s F-statistic: {f:.3f}\\nP-value: {p:.3f}')\n",
    "\n",
    "\n",
    "#evaluate if \n",
    "if p < α:\n",
    "    print('Reject the null hypothesis.')\n",
    "else:\n",
    "    print('Fail to reject the null hypothesis.')"
   ]
  },
  {
   "cell_type": "code",
   "execution_count": 19,
   "id": "8486ab71",
   "metadata": {},
   "outputs": [
    {
     "name": "stdout",
     "output_type": "stream",
     "text": [
      "P Value: 0.000\n",
      "Reject the null hypothesis.\n"
     ]
    }
   ],
   "source": [
    "#set alpha\n",
    "α = 0.05\n",
    "\n",
    "#perform test\n",
    "t, p = stats.ttest_ind(word_counts.R, word_counts.Python, equal_var = False)\n",
    "\n",
    "#print p-value\n",
    "print(f'P Value: {p/2:.3f}')\n",
    "\n",
    "#evaluate if mean of the word counts associated w/ R is significantly lower than the mean \n",
    "# of the mean word counts associated with Python, is p/2 < a and t < 0?\n",
    "if p/2 < α and t < 0:\n",
    "    print('Reject the null hypothesis.')\n",
    "else:\n",
    "    print('Fail to reject the null hypothesis.')"
   ]
  },
  {
   "cell_type": "markdown",
   "id": "28193af4",
   "metadata": {},
   "source": [
    "### QUESTION 2: \n",
    "- are certain frequently occurring words share across more than one language?\n",
    "\n",
    "   - in this section: \n",
    "   \n",
    "            - make a top_words dataframe that includes the top 20 most frequently occureing words in each language\n",
    "            - see if any of of a language's top 20 readme words (not including stopwords) are shared with other language's/s' top 20\n",
    "            - summarize findings"
   ]
  },
  {
   "cell_type": "code",
   "execution_count": 20,
   "id": "9b536ed4",
   "metadata": {},
   "outputs": [],
   "source": [
    "#makes dfs for arranging top words by the diff langs to help compare\n",
    "#if tops in some langs may be way different than tops in others\n",
    "js_top = word_counts.sort_values(by='JavaScript', ascending=False).head(20)\n",
    "html_top = word_counts.sort_values(by='HTML', ascending=False).head(20)\n",
    "python_top = word_counts.sort_values(by='Python', ascending=False).head(20)\n",
    "java_top = word_counts.sort_values(by='Java', ascending=False).head(20)\n",
    "r_top = word_counts.sort_values(by='R', ascending=False).head(20)"
   ]
  },
  {
   "cell_type": "code",
   "execution_count": 21,
   "id": "b04afeae",
   "metadata": {},
   "outputs": [
    {
     "data": {
      "text/html": [
       "<div>\n",
       "<style scoped>\n",
       "    .dataframe tbody tr th:only-of-type {\n",
       "        vertical-align: middle;\n",
       "    }\n",
       "\n",
       "    .dataframe tbody tr th {\n",
       "        vertical-align: top;\n",
       "    }\n",
       "\n",
       "    .dataframe thead th {\n",
       "        text-align: right;\n",
       "    }\n",
       "</style>\n",
       "<table border=\"1\" class=\"dataframe\">\n",
       "  <thead>\n",
       "    <tr style=\"text-align: right;\">\n",
       "      <th></th>\n",
       "      <th>HTML</th>\n",
       "      <th>Java</th>\n",
       "      <th>JavaScript</th>\n",
       "      <th>Python</th>\n",
       "      <th>R</th>\n",
       "      <th>all_words</th>\n",
       "    </tr>\n",
       "  </thead>\n",
       "  <tbody>\n",
       "    <tr>\n",
       "      <th>build</th>\n",
       "      <td>90</td>\n",
       "      <td>41</td>\n",
       "      <td>1268</td>\n",
       "      <td>54</td>\n",
       "      <td>22</td>\n",
       "      <td>1475</td>\n",
       "    </tr>\n",
       "    <tr>\n",
       "      <th>react</th>\n",
       "      <td>47</td>\n",
       "      <td>24</td>\n",
       "      <td>1209</td>\n",
       "      <td>22</td>\n",
       "      <td>0</td>\n",
       "      <td>1302</td>\n",
       "    </tr>\n",
       "    <tr>\n",
       "      <th>npm</th>\n",
       "      <td>93</td>\n",
       "      <td>33</td>\n",
       "      <td>1207</td>\n",
       "      <td>15</td>\n",
       "      <td>0</td>\n",
       "      <td>1348</td>\n",
       "    </tr>\n",
       "    <tr>\n",
       "      <th>section</th>\n",
       "      <td>219</td>\n",
       "      <td>8</td>\n",
       "      <td>843</td>\n",
       "      <td>42</td>\n",
       "      <td>18</td>\n",
       "      <td>1130</td>\n",
       "    </tr>\n",
       "    <tr>\n",
       "      <th>test</th>\n",
       "      <td>125</td>\n",
       "      <td>55</td>\n",
       "      <td>782</td>\n",
       "      <td>127</td>\n",
       "      <td>26</td>\n",
       "      <td>1115</td>\n",
       "    </tr>\n",
       "  </tbody>\n",
       "</table>\n",
       "</div>"
      ],
      "text/plain": [
       "         HTML  Java  JavaScript  Python   R  all_words\n",
       "build      90    41        1268      54  22       1475\n",
       "react      47    24        1209      22   0       1302\n",
       "npm        93    33        1207      15   0       1348\n",
       "section   219     8         843      42  18       1130\n",
       "test      125    55         782     127  26       1115"
      ]
     },
     "execution_count": 21,
     "metadata": {},
     "output_type": "execute_result"
    }
   ],
   "source": [
    "#makes one df of the top 20 words in all dfs \n",
    "top_words = (pd.concat([js_top, html_top, python_top, java_top,\n",
    "                    r_top], axis=0, sort=True)\n",
    "                .fillna(0)\n",
    "                .apply(lambda s: s.astype(int)))\n",
    "\n",
    "top_words.head()"
   ]
  },
  {
   "cell_type": "code",
   "execution_count": 23,
   "id": "1461dda0",
   "metadata": {},
   "outputs": [],
   "source": [
    "#drops all as we don't need that to compare for next step\n",
    "top_words= top_words.drop(columns=['all_words'])"
   ]
  },
  {
   "cell_type": "markdown",
   "id": "acbc6a4b",
   "metadata": {},
   "source": [
    "### Graph this?"
   ]
  },
  {
   "cell_type": "code",
   "execution_count": 26,
   "id": "6eadded9",
   "metadata": {},
   "outputs": [
    {
     "data": {
      "text/plain": [
       "<AxesSubplot:>"
      ]
     },
     "execution_count": 26,
     "metadata": {},
     "output_type": "execute_result"
    },
    {
     "data": {
      "image/png": "[encoded data removed]",
      "text/plain": [
       "<Figure size 432x288 with 1 Axes>"
      ]
     },
     "metadata": {
      "needs_background": "light"
     },
     "output_type": "display_data"
    }
   ],
   "source": [
    "#if you want to graph somehow, but not super necessary to include this\n",
    "top_words.plot()"
   ]
  },
  {
   "cell_type": "code",
   "execution_count": null,
   "id": "cdce8227",
   "metadata": {},
   "outputs": [],
   "source": [
    "top_words"
   ]
  },
  {
   "cell_type": "code",
   "execution_count": 48,
   "id": "3cf05048",
   "metadata": {},
   "outputs": [
    {
     "ename": "ValueError",
     "evalue": "The truth value of an array with more than one element is ambiguous. Use a.any() or a.all()",
     "output_type": "error",
     "traceback": [
      "\u001b[0;31m---------------------------------------------------------------------------\u001b[0m",
      "\u001b[0;31mValueError\u001b[0m                                Traceback (most recent call last)",
      "Input \u001b[0;32mIn [48]\u001b[0m, in \u001b[0;36m<cell line: 1>\u001b[0;34m()\u001b[0m\n\u001b[0;32m----> 1\u001b[0m \u001b[43msns\u001b[49m\u001b[38;5;241;43m.\u001b[39;49m\u001b[43mcatplot\u001b[49m\u001b[43m(\u001b[49m\u001b[43mdata\u001b[49m\u001b[43m \u001b[49m\u001b[38;5;241;43m=\u001b[39;49m\u001b[43m \u001b[49m\u001b[43mtop_words\u001b[49m\u001b[43m,\u001b[49m\n\u001b[1;32m      2\u001b[0m \u001b[43m           \u001b[49m\u001b[43mx\u001b[49m\u001b[43m \u001b[49m\u001b[38;5;241;43m=\u001b[39;49m\u001b[43m \u001b[49m\u001b[43mtop_words\u001b[49m\u001b[38;5;241;43m.\u001b[39;49m\u001b[43mindex\u001b[49m\u001b[43m,\u001b[49m\n\u001b[1;32m      3\u001b[0m \u001b[43m           \u001b[49m\u001b[43my\u001b[49m\u001b[43m \u001b[49m\u001b[38;5;241;43m=\u001b[39;49m\u001b[43m \u001b[49m\u001b[38;5;124;43m'\u001b[39;49m\u001b[38;5;124;43mHTML\u001b[39;49m\u001b[38;5;124;43m'\u001b[39;49m\u001b[43m)\u001b[49m\n",
      "File \u001b[0;32m/opt/homebrew/anaconda3/lib/python3.9/site-packages/seaborn/_decorators.py:46\u001b[0m, in \u001b[0;36m_deprecate_positional_args.<locals>.inner_f\u001b[0;34m(*args, **kwargs)\u001b[0m\n\u001b[1;32m     36\u001b[0m     warnings\u001b[38;5;241m.\u001b[39mwarn(\n\u001b[1;32m     37\u001b[0m         \u001b[38;5;124m\"\u001b[39m\u001b[38;5;124mPass the following variable\u001b[39m\u001b[38;5;132;01m{}\u001b[39;00m\u001b[38;5;124m as \u001b[39m\u001b[38;5;132;01m{}\u001b[39;00m\u001b[38;5;124mkeyword arg\u001b[39m\u001b[38;5;132;01m{}\u001b[39;00m\u001b[38;5;124m: \u001b[39m\u001b[38;5;132;01m{}\u001b[39;00m\u001b[38;5;124m. \u001b[39m\u001b[38;5;124m\"\u001b[39m\n\u001b[1;32m     38\u001b[0m         \u001b[38;5;124m\"\u001b[39m\u001b[38;5;124mFrom version 0.12, the only valid positional argument \u001b[39m\u001b[38;5;124m\"\u001b[39m\n\u001b[0;32m   (...)\u001b[0m\n\u001b[1;32m     43\u001b[0m         \u001b[38;5;167;01mFutureWarning\u001b[39;00m\n\u001b[1;32m     44\u001b[0m     )\n\u001b[1;32m     45\u001b[0m kwargs\u001b[38;5;241m.\u001b[39mupdate({k: arg \u001b[38;5;28;01mfor\u001b[39;00m k, arg \u001b[38;5;129;01min\u001b[39;00m \u001b[38;5;28mzip\u001b[39m(sig\u001b[38;5;241m.\u001b[39mparameters, args)})\n\u001b[0;32m---> 46\u001b[0m \u001b[38;5;28;01mreturn\u001b[39;00m \u001b[43mf\u001b[49m\u001b[43m(\u001b[49m\u001b[38;5;241;43m*\u001b[39;49m\u001b[38;5;241;43m*\u001b[39;49m\u001b[43mkwargs\u001b[49m\u001b[43m)\u001b[49m\n",
      "File \u001b[0;32m/opt/homebrew/anaconda3/lib/python3.9/site-packages/seaborn/categorical.py:3847\u001b[0m, in \u001b[0;36mcatplot\u001b[0;34m(x, y, hue, data, row, col, col_wrap, estimator, ci, n_boot, units, seed, order, hue_order, row_order, col_order, kind, height, aspect, orient, color, palette, legend, legend_out, sharex, sharey, margin_titles, facet_kws, **kwargs)\u001b[0m\n\u001b[1;32m   3844\u001b[0m g \u001b[38;5;241m=\u001b[39m FacetGrid(\u001b[38;5;241m*\u001b[39m\u001b[38;5;241m*\u001b[39mfacet_kws)\n\u001b[1;32m   3846\u001b[0m \u001b[38;5;66;03m# Draw the plot onto the facets\u001b[39;00m\n\u001b[0;32m-> 3847\u001b[0m \u001b[43mg\u001b[49m\u001b[38;5;241;43m.\u001b[39;49m\u001b[43mmap_dataframe\u001b[49m\u001b[43m(\u001b[49m\u001b[43mplot_func\u001b[49m\u001b[43m,\u001b[49m\u001b[43m \u001b[49m\u001b[43mx\u001b[49m\u001b[38;5;241;43m=\u001b[39;49m\u001b[43mx\u001b[49m\u001b[43m,\u001b[49m\u001b[43m \u001b[49m\u001b[43my\u001b[49m\u001b[38;5;241;43m=\u001b[39;49m\u001b[43my\u001b[49m\u001b[43m,\u001b[49m\u001b[43m \u001b[49m\u001b[43mhue\u001b[49m\u001b[38;5;241;43m=\u001b[39;49m\u001b[43mhue\u001b[49m\u001b[43m,\u001b[49m\u001b[43m \u001b[49m\u001b[38;5;241;43m*\u001b[39;49m\u001b[38;5;241;43m*\u001b[39;49m\u001b[43mplot_kws\u001b[49m\u001b[43m)\u001b[49m\n\u001b[1;32m   3849\u001b[0m \u001b[38;5;28;01mif\u001b[39;00m p\u001b[38;5;241m.\u001b[39morient \u001b[38;5;241m==\u001b[39m \u001b[38;5;124m\"\u001b[39m\u001b[38;5;124mh\u001b[39m\u001b[38;5;124m\"\u001b[39m:\n\u001b[1;32m   3850\u001b[0m     g\u001b[38;5;241m.\u001b[39mset_axis_labels(p\u001b[38;5;241m.\u001b[39mvalue_label, p\u001b[38;5;241m.\u001b[39mgroup_label)\n",
      "File \u001b[0;32m/opt/homebrew/anaconda3/lib/python3.9/site-packages/seaborn/axisgrid.py:784\u001b[0m, in \u001b[0;36mFacetGrid.map_dataframe\u001b[0;34m(self, func, *args, **kwargs)\u001b[0m\n\u001b[1;32m    782\u001b[0m \u001b[38;5;28;01mfor\u001b[39;00m i, val \u001b[38;5;129;01min\u001b[39;00m \u001b[38;5;28menumerate\u001b[39m(args[:\u001b[38;5;241m2\u001b[39m]):\n\u001b[1;32m    783\u001b[0m     axis_labels[i] \u001b[38;5;241m=\u001b[39m val\n\u001b[0;32m--> 784\u001b[0m \u001b[38;5;28;43mself\u001b[39;49m\u001b[38;5;241;43m.\u001b[39;49m\u001b[43m_finalize_grid\u001b[49m\u001b[43m(\u001b[49m\u001b[43maxis_labels\u001b[49m\u001b[43m)\u001b[49m\n\u001b[1;32m    786\u001b[0m \u001b[38;5;28;01mreturn\u001b[39;00m \u001b[38;5;28mself\u001b[39m\n",
      "File \u001b[0;32m/opt/homebrew/anaconda3/lib/python3.9/site-packages/seaborn/axisgrid.py:813\u001b[0m, in \u001b[0;36mFacetGrid._finalize_grid\u001b[0;34m(self, axlabels)\u001b[0m\n\u001b[1;32m    811\u001b[0m \u001b[38;5;28;01mdef\u001b[39;00m \u001b[38;5;21m_finalize_grid\u001b[39m(\u001b[38;5;28mself\u001b[39m, axlabels):\n\u001b[1;32m    812\u001b[0m     \u001b[38;5;124;03m\"\"\"Finalize the annotations and layout.\"\"\"\u001b[39;00m\n\u001b[0;32m--> 813\u001b[0m     \u001b[38;5;28;43mself\u001b[39;49m\u001b[38;5;241;43m.\u001b[39;49m\u001b[43mset_axis_labels\u001b[49m\u001b[43m(\u001b[49m\u001b[38;5;241;43m*\u001b[39;49m\u001b[43maxlabels\u001b[49m\u001b[43m)\u001b[49m\n\u001b[1;32m    814\u001b[0m     \u001b[38;5;28mself\u001b[39m\u001b[38;5;241m.\u001b[39mset_titles()\n\u001b[1;32m    815\u001b[0m     \u001b[38;5;28mself\u001b[39m\u001b[38;5;241m.\u001b[39mtight_layout()\n",
      "File \u001b[0;32m/opt/homebrew/anaconda3/lib/python3.9/site-packages/seaborn/axisgrid.py:840\u001b[0m, in \u001b[0;36mFacetGrid.set_axis_labels\u001b[0;34m(self, x_var, y_var, clear_inner, **kwargs)\u001b[0m\n\u001b[1;32m    838\u001b[0m \u001b[38;5;28;01mif\u001b[39;00m x_var \u001b[38;5;129;01mis\u001b[39;00m \u001b[38;5;129;01mnot\u001b[39;00m \u001b[38;5;28;01mNone\u001b[39;00m:\n\u001b[1;32m    839\u001b[0m     \u001b[38;5;28mself\u001b[39m\u001b[38;5;241m.\u001b[39m_x_var \u001b[38;5;241m=\u001b[39m x_var\n\u001b[0;32m--> 840\u001b[0m     \u001b[38;5;28;43mself\u001b[39;49m\u001b[38;5;241;43m.\u001b[39;49m\u001b[43mset_xlabels\u001b[49m\u001b[43m(\u001b[49m\u001b[43mx_var\u001b[49m\u001b[43m,\u001b[49m\u001b[43m \u001b[49m\u001b[43mclear_inner\u001b[49m\u001b[38;5;241;43m=\u001b[39;49m\u001b[43mclear_inner\u001b[49m\u001b[43m,\u001b[49m\u001b[43m \u001b[49m\u001b[38;5;241;43m*\u001b[39;49m\u001b[38;5;241;43m*\u001b[39;49m\u001b[43mkwargs\u001b[49m\u001b[43m)\u001b[49m\n\u001b[1;32m    841\u001b[0m \u001b[38;5;28;01mif\u001b[39;00m y_var \u001b[38;5;129;01mis\u001b[39;00m \u001b[38;5;129;01mnot\u001b[39;00m \u001b[38;5;28;01mNone\u001b[39;00m:\n\u001b[1;32m    842\u001b[0m     \u001b[38;5;28mself\u001b[39m\u001b[38;5;241m.\u001b[39m_y_var \u001b[38;5;241m=\u001b[39m y_var\n",
      "File \u001b[0;32m/opt/homebrew/anaconda3/lib/python3.9/site-packages/seaborn/axisgrid.py:852\u001b[0m, in \u001b[0;36mFacetGrid.set_xlabels\u001b[0;34m(self, label, clear_inner, **kwargs)\u001b[0m\n\u001b[1;32m    850\u001b[0m     label \u001b[38;5;241m=\u001b[39m \u001b[38;5;28mself\u001b[39m\u001b[38;5;241m.\u001b[39m_x_var\n\u001b[1;32m    851\u001b[0m \u001b[38;5;28;01mfor\u001b[39;00m ax \u001b[38;5;129;01min\u001b[39;00m \u001b[38;5;28mself\u001b[39m\u001b[38;5;241m.\u001b[39m_bottom_axes:\n\u001b[0;32m--> 852\u001b[0m     \u001b[43max\u001b[49m\u001b[38;5;241;43m.\u001b[39;49m\u001b[43mset_xlabel\u001b[49m\u001b[43m(\u001b[49m\u001b[43mlabel\u001b[49m\u001b[43m,\u001b[49m\u001b[43m \u001b[49m\u001b[38;5;241;43m*\u001b[39;49m\u001b[38;5;241;43m*\u001b[39;49m\u001b[43mkwargs\u001b[49m\u001b[43m)\u001b[49m\n\u001b[1;32m    853\u001b[0m \u001b[38;5;28;01mif\u001b[39;00m clear_inner:\n\u001b[1;32m    854\u001b[0m     \u001b[38;5;28;01mfor\u001b[39;00m ax \u001b[38;5;129;01min\u001b[39;00m \u001b[38;5;28mself\u001b[39m\u001b[38;5;241m.\u001b[39m_not_bottom_axes:\n",
      "File \u001b[0;32m/opt/homebrew/anaconda3/lib/python3.9/site-packages/matplotlib/axes/_base.py:3504\u001b[0m, in \u001b[0;36m_AxesBase.set_xlabel\u001b[0;34m(self, xlabel, fontdict, labelpad, loc, **kwargs)\u001b[0m\n\u001b[1;32m   3501\u001b[0m     \u001b[38;5;28;01melif\u001b[39;00m loc \u001b[38;5;241m==\u001b[39m \u001b[38;5;124m'\u001b[39m\u001b[38;5;124mright\u001b[39m\u001b[38;5;124m'\u001b[39m:\n\u001b[1;32m   3502\u001b[0m         kwargs\u001b[38;5;241m.\u001b[39mupdate(x\u001b[38;5;241m=\u001b[39m\u001b[38;5;241m1\u001b[39m, horizontalalignment\u001b[38;5;241m=\u001b[39m\u001b[38;5;124m'\u001b[39m\u001b[38;5;124mright\u001b[39m\u001b[38;5;124m'\u001b[39m)\n\u001b[0;32m-> 3504\u001b[0m \u001b[38;5;28;01mreturn\u001b[39;00m \u001b[38;5;28;43mself\u001b[39;49m\u001b[38;5;241;43m.\u001b[39;49m\u001b[43mxaxis\u001b[49m\u001b[38;5;241;43m.\u001b[39;49m\u001b[43mset_label_text\u001b[49m\u001b[43m(\u001b[49m\u001b[43mxlabel\u001b[49m\u001b[43m,\u001b[49m\u001b[43m \u001b[49m\u001b[43mfontdict\u001b[49m\u001b[43m,\u001b[49m\u001b[43m \u001b[49m\u001b[38;5;241;43m*\u001b[39;49m\u001b[38;5;241;43m*\u001b[39;49m\u001b[43mkwargs\u001b[49m\u001b[43m)\u001b[49m\n",
      "File \u001b[0;32m/opt/homebrew/anaconda3/lib/python3.9/site-packages/matplotlib/axis.py:1560\u001b[0m, in \u001b[0;36mAxis.set_label_text\u001b[0;34m(self, label, fontdict, **kwargs)\u001b[0m\n\u001b[1;32m   1547\u001b[0m \u001b[38;5;124;03m\"\"\"\u001b[39;00m\n\u001b[1;32m   1548\u001b[0m \u001b[38;5;124;03mSet the text value of the axis label.\u001b[39;00m\n\u001b[1;32m   1549\u001b[0m \n\u001b[0;32m   (...)\u001b[0m\n\u001b[1;32m   1557\u001b[0m \u001b[38;5;124;03m    Merged into fontdict.\u001b[39;00m\n\u001b[1;32m   1558\u001b[0m \u001b[38;5;124;03m\"\"\"\u001b[39;00m\n\u001b[1;32m   1559\u001b[0m \u001b[38;5;28mself\u001b[39m\u001b[38;5;241m.\u001b[39misDefault_label \u001b[38;5;241m=\u001b[39m \u001b[38;5;28;01mFalse\u001b[39;00m\n\u001b[0;32m-> 1560\u001b[0m \u001b[38;5;28;43mself\u001b[39;49m\u001b[38;5;241;43m.\u001b[39;49m\u001b[43mlabel\u001b[49m\u001b[38;5;241;43m.\u001b[39;49m\u001b[43mset_text\u001b[49m\u001b[43m(\u001b[49m\u001b[43mlabel\u001b[49m\u001b[43m)\u001b[49m\n\u001b[1;32m   1561\u001b[0m \u001b[38;5;28;01mif\u001b[39;00m fontdict \u001b[38;5;129;01mis\u001b[39;00m \u001b[38;5;129;01mnot\u001b[39;00m \u001b[38;5;28;01mNone\u001b[39;00m:\n\u001b[1;32m   1562\u001b[0m     \u001b[38;5;28mself\u001b[39m\u001b[38;5;241m.\u001b[39mlabel\u001b[38;5;241m.\u001b[39mupdate(fontdict)\n",
      "File \u001b[0;32m/opt/homebrew/anaconda3/lib/python3.9/site-packages/matplotlib/text.py:1223\u001b[0m, in \u001b[0;36mText.set_text\u001b[0;34m(self, s)\u001b[0m\n\u001b[1;32m   1221\u001b[0m \u001b[38;5;28;01mif\u001b[39;00m s \u001b[38;5;129;01mis\u001b[39;00m \u001b[38;5;28;01mNone\u001b[39;00m:\n\u001b[1;32m   1222\u001b[0m     s \u001b[38;5;241m=\u001b[39m \u001b[38;5;124m'\u001b[39m\u001b[38;5;124m'\u001b[39m\n\u001b[0;32m-> 1223\u001b[0m \u001b[38;5;28;01mif\u001b[39;00m s \u001b[38;5;241m!=\u001b[39m \u001b[38;5;28mself\u001b[39m\u001b[38;5;241m.\u001b[39m_text:\n\u001b[1;32m   1224\u001b[0m     \u001b[38;5;28mself\u001b[39m\u001b[38;5;241m.\u001b[39m_text \u001b[38;5;241m=\u001b[39m \u001b[38;5;28mstr\u001b[39m(s)\n\u001b[1;32m   1225\u001b[0m     \u001b[38;5;28mself\u001b[39m\u001b[38;5;241m.\u001b[39mstale \u001b[38;5;241m=\u001b[39m \u001b[38;5;28;01mTrue\u001b[39;00m\n",
      "\u001b[0;31mValueError\u001b[0m: The truth value of an array with more than one element is ambiguous. Use a.any() or a.all()"
     ]
    },
    {
     "data": {
      "image/png": "[encoded data removed]",
      "text/plain": [
       "<Figure size 360x360 with 1 Axes>"
      ]
     },
     "metadata": {
      "needs_background": "light"
     },
     "output_type": "display_data"
    }
   ],
   "source": [
    "sns.catplot(data = top_words,\n",
    "           x = top_words.index,\n",
    "           y = 'HTML')"
   ]
  },
  {
   "cell_type": "code",
   "execution_count": null,
   "id": "cbac184e",
   "metadata": {},
   "outputs": [],
   "source": [
    "#these are the frequent words that are shared amongst 2 or more programming languages\n",
    "tops = top_words[top_words.index.value_counts() > 1]\n",
    "tops.index.unique()"
   ]
  },
  {
   "cell_type": "markdown",
   "id": "f24e32cd",
   "metadata": {},
   "source": [
    "### QUESTION 2 summary: \n",
    "\n",
    "- Are certain frequently occurring words shared across more than one language?\n",
    "\n",
    "The following words are amongst the top 20 frequently occurring words (with the exception of stop words) in 2 or more languages:\n",
    "\n",
    "'section', 'test', 'install', 'make', 'need', 'feature', 'user', 'time',\n",
    "       'information', 'file', 'command', 'people', 'one', 'application',\n",
    "       'model', 'dataset', 'analysis', 'following'"
   ]
  },
  {
   "cell_type": "markdown",
   "id": "d491094d",
   "metadata": {},
   "source": [
    "---"
   ]
  },
  {
   "cell_type": "markdown",
   "id": "9a809875",
   "metadata": {},
   "source": [
    "# Mindy Redoing, wait!"
   ]
  },
  {
   "cell_type": "markdown",
   "id": "c54135c2",
   "metadata": {},
   "source": [
    "### QUESTION 3: \n",
    "- what words, if any, are frequently occuring in readmes for certain langauges that are barely prevelant in other language readmes?\n",
    "\n",
    "   - in this section: \n",
    "   \n",
    "            - make dfs (divided for graphing) that looks at the top 20 most frequently occuring words (in all records)\n",
    "            -change the counts to percentages to show word prevelance per language of the top words\n",
    "            - graph the relationships\n",
    "            - run statistical tests to see what top words, if any, have a significant frequency difference in different languages\n",
    "            - summarize findings"
   ]
  },
  {
   "cell_type": "code",
   "execution_count": null,
   "id": "d28bf218",
   "metadata": {},
   "outputs": [],
   "source": [
    "#just makes dfs of some of the most freq words. divided like this just to make graphs\n",
    "#look nicer\n",
    "#most_freq_700 is 700-799 words\n",
    "#most_freq_800 is 800-999 words\n",
    "#most_freq is is 1000+\n",
    "most_freq_700 = word_counts[word_counts['all'] > 700] \n",
    "most_freq_700 = most_freq_700[most_freq_700['all'] < 800]\n",
    "most_freq_800 = word_counts[word_counts['all'] >= 800]\n",
    "most_freq_800 = most_freq_800[most_freq_800['all'] < 1000]\n",
    "most_freq = word_counts[word_counts['all'] >= 1000]"
   ]
  },
  {
   "cell_type": "code",
   "execution_count": null,
   "id": "aca2f958",
   "metadata": {},
   "outputs": [],
   "source": [
    "#making dfs to look at these as a percentage and give each language\n",
    "#equal weight looking at word importance as our records are evenly \n",
    "#distributed\n",
    "word_perc = pd.DataFrame()\n",
    "for col in most_freq.columns:\n",
    "    word_perc = word_perc.append(most_freq[col].sort_values(ascending=False)/most_freq[col].sum())\n",
    "\n",
    "word_perc_700 = pd.DataFrame()\n",
    "for col in most_freq_700.columns:\n",
    "    word_perc_700 = word_perc_700.append(most_freq_700[col].sort_values(ascending=False)/most_freq_700[col].sum())\n",
    "    \n",
    "word_perc_800 = pd.DataFrame()\n",
    "for col in most_freq_800.columns:\n",
    "    word_perc_800 = word_perc_800.append(most_freq_800[col].sort_values(ascending=False)/most_freq_800[col].sum())"
   ]
  },
  {
   "cell_type": "code",
   "execution_count": null,
   "id": "f0ed70d9",
   "metadata": {},
   "outputs": [],
   "source": [
    "#incase we wanted to use the counts (can do with the 3 most_freq dfs, but I\n",
    "#think we could skip this and just do the word_perc dfs for the graphs\n",
    "#as I think they are more meaningful)\n",
    "plt.rcParams[\"figure.figsize\"] = (20,10)\n",
    "most_freq.plot(kind='bar')"
   ]
  },
  {
   "cell_type": "code",
   "execution_count": null,
   "id": "0ff78ac7",
   "metadata": {},
   "outputs": [],
   "source": [
    "#transponsing dfs to make better graphs\n",
    "word_perc_T = word_perc.T\n",
    "word_perc_700_T = word_perc_700.T\n",
    "word_perc_800_T = word_perc_800.T"
   ]
  },
  {
   "cell_type": "markdown",
   "id": "e2c9fb9d",
   "metadata": {},
   "source": [
    "to look at similarities, we simple look at bars w similar heights. That will show they have a similar distribution of that specific word"
   ]
  },
  {
   "cell_type": "code",
   "execution_count": null,
   "id": "b3b9f7df",
   "metadata": {},
   "outputs": [],
   "source": [
    "#the next 3 would make sense to do subplots. I'll make a function\n",
    "#for them, I think we should get rid of all here too\n",
    "plt.rcParams[\"figure.figsize\"] = (20,8)\n",
    "word_perc_T.plot(kind='bar')"
   ]
  },
  {
   "cell_type": "code",
   "execution_count": null,
   "id": "17c0fa22",
   "metadata": {},
   "outputs": [],
   "source": [
    "plt.rcParams[\"figure.figsize\"] = (20,8)\n",
    "word_perc_700_T.plot(kind='bar')"
   ]
  },
  {
   "cell_type": "code",
   "execution_count": null,
   "id": "675199e7",
   "metadata": {},
   "outputs": [],
   "source": [
    "plt.rcParams[\"figure.figsize\"] = (20,8)\n",
    "word_perc_800_T.plot(kind='bar')"
   ]
  },
  {
   "cell_type": "markdown",
   "id": "2f56d2c1",
   "metadata": {},
   "source": [
    "### QUESTION 3 summary: \n",
    "\n",
    "- There are words that frequently occur in some programming languages and are otherwise note prevalent in other programming languages.\n",
    "\n",
    "These top occurring words that may be helpful in identifying programming languages:\n",
    "\n",
    "- 'file': R\n",
    "- 'website': HTML\n",
    "- 'application': Java"
   ]
  },
  {
   "cell_type": "markdown",
   "id": "2a340492",
   "metadata": {},
   "source": [
    "# Bigrams/Trigrams?"
   ]
  },
  {
   "cell_type": "markdown",
   "id": "c6461568",
   "metadata": {},
   "source": [
    "# Wordcloud?"
   ]
  },
  {
   "cell_type": "markdown",
   "id": "353134c9",
   "metadata": {},
   "source": [
    "### QUESTION 4: \n",
    "- what language's readme trends are closest related to the trends of all readmes?"
   ]
  },
  {
   "cell_type": "code",
   "execution_count": null,
   "id": "afe6b37e",
   "metadata": {},
   "outputs": [],
   "source": []
  },
  {
   "cell_type": "markdown",
   "id": "7e72792d",
   "metadata": {},
   "source": [
    "# Modeling"
   ]
  },
  {
   "cell_type": "code",
   "execution_count": 30,
   "id": "068ee563",
   "metadata": {},
   "outputs": [],
   "source": [
    "def split_df(df):\n",
    "    '''\n",
    "    This function performs split on repo data, stratifying on languages.\n",
    "    Returns train, validate, and test dfs.\n",
    "    '''\n",
    "    train_validate, test = train_test_split(df, test_size=.2, \n",
    "                                        random_state=123, \n",
    "                                        stratify=df.language)\n",
    "    train, validate = train_test_split(train_validate, test_size=.3, \n",
    "                                   random_state=123, \n",
    "                                   stratify=train_validate.language)\n",
    "    return train, validate, test\n",
    "\n"
   ]
  },
  {
   "cell_type": "code",
   "execution_count": 31,
   "id": "b6376a23",
   "metadata": {},
   "outputs": [
    {
     "data": {
      "text/plain": [
       "((910, 7), (391, 7), (326, 7))"
      ]
     },
     "execution_count": 31,
     "metadata": {},
     "output_type": "execute_result"
    }
   ],
   "source": [
    "train,validate,test = split_df(df)\n",
    "train.shape,validate.shape, test.shape"
   ]
  },
  {
   "cell_type": "code",
   "execution_count": 32,
   "id": "c0cb06c0",
   "metadata": {},
   "outputs": [],
   "source": [
    "# Setup the X variables\n",
    "X_train = train.lemmatized\n",
    "X_validate = validate.lemmatized\n",
    "X_test = test.lemmatized\n",
    "\n",
    "# Setup the y variables\n",
    "y_train = train.language\n",
    "y_validate = validate.language\n",
    "y_test = test.language\n",
    "\n",
    "# Create the tfidf vectorizer object\n",
    "# encodes these values for classification purposes\n",
    "tfidf = TfidfVectorizer()\n",
    "\n",
    "# Fit on the training data\n",
    "tfidf.fit(X_train)\n",
    "\n",
    "# Use the object\n",
    "X_train_vectorized = tfidf.transform(X_train)\n",
    "X_validate_vectorized = tfidf.transform(X_validate)\n",
    "X_test_vectorized = tfidf.transform(X_test)"
   ]
  },
  {
   "cell_type": "markdown",
   "id": "8a339a8c",
   "metadata": {},
   "source": [
    "### Logistic Regression  (TFIDF Vectorizer)"
   ]
  },
  {
   "cell_type": "code",
   "execution_count": 34,
   "id": "6e01ece8",
   "metadata": {},
   "outputs": [
    {
     "data": {
      "text/plain": [
       "LogisticRegression()"
      ]
     },
     "execution_count": 34,
     "metadata": {},
     "output_type": "execute_result"
    }
   ],
   "source": [
    "#after vectorizing, we are ready to model\n",
    "lm = LogisticRegression()\n",
    "\n",
    "# Fit the classification model to vectorized train data\n",
    "lm.fit(X_train_vectorized, y_train)"
   ]
  },
  {
   "cell_type": "code",
   "execution_count": 33,
   "id": "f2f5f337",
   "metadata": {},
   "outputs": [],
   "source": [
    "train = pd.DataFrame(dict(actual=y_train))\n",
    "validate = pd.DataFrame(dict(actual=y_validate))\n",
    "test = pd.DataFrame(dict(actual=y_test))"
   ]
  },
  {
   "cell_type": "code",
   "execution_count": 35,
   "id": "c70df31c",
   "metadata": {},
   "outputs": [
    {
     "name": "stdout",
     "output_type": "stream",
     "text": [
      "Train Accuracy Score: 91.21%\n",
      "Validate Accuracy Score: 59.59%\n"
     ]
    }
   ],
   "source": [
    "# Use the trained model to predict y given those vectorized inputs of X\n",
    "train['predicted_lm'] = lm.predict(X_train_vectorized)\n",
    "validate[\"predicted_lm\"] = lm.predict(X_validate_vectorized)\n",
    "# test['predicted'] = lm.predict(X_test_vectorized)\n",
    "print(f'Train Accuracy Score: {lm.score(X_train_vectorized, y_train) * 100:.2f}%')\n",
    "print(f'Validate Accuracy Score: {lm.score(X_validate_vectorized, y_validate) * 100:.2f}%')"
   ]
  },
  {
   "cell_type": "markdown",
   "id": "9389c767",
   "metadata": {},
   "source": [
    "#### Training Accuracy Matrix"
   ]
  },
  {
   "cell_type": "code",
   "execution_count": 36,
   "id": "0e82b329",
   "metadata": {},
   "outputs": [
    {
     "name": "stdout",
     "output_type": "stream",
     "text": [
      "Accuracy: 91.21%\n",
      "---\n",
      "Confusion Matrix\n",
      "actual        HTML  Java  JavaScript  Python   R\n",
      "predicted_lm                                    \n",
      "HTML           210     7           4       4   3\n",
      "Java             0    46           0       0   0\n",
      "JavaScript      10    27         331      10   6\n",
      "Python           1     3           1     165   3\n",
      "R                1     0           0       0  78\n",
      "---\n",
      "              precision    recall  f1-score   support\n",
      "\n",
      "        HTML       0.92      0.95      0.93       222\n",
      "        Java       1.00      0.55      0.71        83\n",
      "  JavaScript       0.86      0.99      0.92       336\n",
      "      Python       0.95      0.92      0.94       179\n",
      "           R       0.99      0.87      0.92        90\n",
      "\n",
      "    accuracy                           0.91       910\n",
      "   macro avg       0.94      0.85      0.89       910\n",
      "weighted avg       0.92      0.91      0.91       910\n",
      "\n"
     ]
    }
   ],
   "source": [
    "# accuracy matrix\n",
    "print('Accuracy: {:.2%}'.format(accuracy_score(train.actual, train.predicted_lm)))\n",
    "print('---')\n",
    "print('Confusion Matrix')\n",
    "print(pd.crosstab(train.predicted_lm, train.actual))\n",
    "print('---')\n",
    "print(classification_report(train.actual, train.predicted_lm))"
   ]
  },
  {
   "cell_type": "markdown",
   "id": "686292d1",
   "metadata": {},
   "source": [
    "#### Validate Accuracy Matrix"
   ]
  },
  {
   "cell_type": "code",
   "execution_count": 37,
   "id": "ea4f10d5",
   "metadata": {},
   "outputs": [
    {
     "name": "stdout",
     "output_type": "stream",
     "text": [
      "Accuracy: 59.59%\n",
      "---\n",
      "Confusion Matrix\n",
      "actual        HTML  Java  JavaScript  Python   R\n",
      "predicted_lm                                    \n",
      "HTML            54    10          20      14   7\n",
      "Java             0     5           0       0   0\n",
      "JavaScript      34    18         117      20   7\n",
      "Python           5     3           7      38   6\n",
      "R                2     0           0       5  19\n",
      "---\n",
      "              precision    recall  f1-score   support\n",
      "\n",
      "        HTML       0.51      0.57      0.54        95\n",
      "        Java       1.00      0.14      0.24        36\n",
      "  JavaScript       0.60      0.81      0.69       144\n",
      "      Python       0.64      0.49      0.56        77\n",
      "           R       0.73      0.49      0.58        39\n",
      "\n",
      "    accuracy                           0.60       391\n",
      "   macro avg       0.70      0.50      0.52       391\n",
      "weighted avg       0.64      0.60      0.58       391\n",
      "\n"
     ]
    }
   ],
   "source": [
    "# accuracy matrix\n",
    "print('Accuracy: {:.2%}'.format(accuracy_score(validate.actual, validate.predicted_lm)))\n",
    "print('---')\n",
    "print('Confusion Matrix')\n",
    "print(pd.crosstab(validate.predicted_lm, validate.actual))\n",
    "print('---')\n",
    "print(classification_report(validate.actual, validate.predicted_lm))"
   ]
  },
  {
   "cell_type": "code",
   "execution_count": null,
   "id": "c48e67c8",
   "metadata": {},
   "outputs": [],
   "source": []
  },
  {
   "cell_type": "code",
   "execution_count": null,
   "id": "b1d1a4b8",
   "metadata": {},
   "outputs": [],
   "source": []
  },
  {
   "cell_type": "markdown",
   "id": "06c54ca1",
   "metadata": {},
   "source": [
    "### Decision Tree Classifier (tfidf vectorizer)"
   ]
  },
  {
   "cell_type": "code",
   "execution_count": 39,
   "id": "dd9f8f15",
   "metadata": {},
   "outputs": [
    {
     "name": "stdout",
     "output_type": "stream",
     "text": [
      "Train Accuracy Score: 70.99%\n",
      "Validate Accuracy Score: 49.36%\n"
     ]
    }
   ],
   "source": [
    "#decision tree classifier\n",
    "tree = DecisionTreeClassifier(max_depth=10, random_state=123)\n",
    "tree.fit(X_train_vectorized, y_train)\n",
    "# Use the trained model to predict y given those vectorized inputs of X\n",
    "train['predicted_t'] = tree.predict(X_train_vectorized)\n",
    "validate[\"predicted_t\"] = tree.predict(X_validate_vectorized)\n",
    "# test['predicted'] = lm.predict(X_test_vectorized)\n",
    "print(f'Train Accuracy Score: {tree.score(X_train_vectorized, y_train) * 100:.2f}%')\n",
    "print(f'Validate Accuracy Score: {tree.score(X_validate_vectorized, y_validate) * 100:.2f}%')"
   ]
  },
  {
   "cell_type": "code",
   "execution_count": null,
   "id": "b0da0e49",
   "metadata": {},
   "outputs": [],
   "source": []
  },
  {
   "cell_type": "markdown",
   "id": "f1151831",
   "metadata": {},
   "source": [
    "### Logistic Regression ( CountVectorizer)"
   ]
  },
  {
   "cell_type": "code",
   "execution_count": 49,
   "id": "97951fd1",
   "metadata": {},
   "outputs": [
    {
     "data": {
      "text/plain": [
       "LogisticRegression()"
      ]
     },
     "execution_count": 49,
     "metadata": {},
     "output_type": "execute_result"
    }
   ],
   "source": [
    "# Create the cv vectorizer object\n",
    "# encodes these values for classification purposes\n",
    "cv = CountVectorizer()\n",
    "\n",
    "# Fit on the training data\n",
    "cv.fit(X_train)\n",
    "# Use the object\n",
    "X_train_cv = cv.transform(X_train)\n",
    "X_validate_cv = cv.transform(X_validate)\n",
    "X_test_cv = cv.transform(X_test)\n",
    "\n",
    "#after vectorizing, we are ready to model\n",
    "lm = LogisticRegression()\n",
    "\n",
    "# Fit the classification model to vectorized train data\n",
    "lm.fit(X_train_cv, y_train)"
   ]
  },
  {
   "cell_type": "code",
   "execution_count": 50,
   "id": "9dc72df3",
   "metadata": {},
   "outputs": [
    {
     "name": "stdout",
     "output_type": "stream",
     "text": [
      "Train Accuracy Score: 99.78%\n",
      "Validate Accuracy Score: 60.10%\n"
     ]
    }
   ],
   "source": [
    "# Use the trained model to predict y given those vectorized inputs of X\n",
    "train['predicted_cv'] = lm.predict(X_train_cv)\n",
    "validate[\"predicted_cv\"] = lm.predict(X_validate_cv)\n",
    "# test['predicted'] = lm.predict(X_test_vectorized)\n",
    "print(f'Train Accuracy Score: {lm.score(X_train_cv, y_train) * 100:.2f}%')\n",
    "print(f'Validate Accuracy Score: {lm.score(X_validate_cv, y_validate) * 100:.2f}%')"
   ]
  },
  {
   "cell_type": "markdown",
   "id": "482ce788",
   "metadata": {},
   "source": [
    "#### Training Accuracy Confusion Matrix"
   ]
  },
  {
   "cell_type": "code",
   "execution_count": 51,
   "id": "6b98fd49",
   "metadata": {},
   "outputs": [
    {
     "name": "stdout",
     "output_type": "stream",
     "text": [
      "Train Accuracy: 99.78%\n",
      "---\n",
      "Confusion Matrix\n",
      "actual        HTML  Java  JavaScript  Python   R\n",
      "predicted_cv                                    \n",
      "HTML           220     0           0       0   0\n",
      "Java             0    83           0       0   0\n",
      "JavaScript       2     0         336       0   0\n",
      "Python           0     0           0     179   0\n",
      "R                0     0           0       0  90\n",
      "---\n",
      "              precision    recall  f1-score   support\n",
      "\n",
      "        HTML       1.00      0.99      1.00       222\n",
      "        Java       1.00      1.00      1.00        83\n",
      "  JavaScript       0.99      1.00      1.00       336\n",
      "      Python       1.00      1.00      1.00       179\n",
      "           R       1.00      1.00      1.00        90\n",
      "\n",
      "    accuracy                           1.00       910\n",
      "   macro avg       1.00      1.00      1.00       910\n",
      "weighted avg       1.00      1.00      1.00       910\n",
      "\n"
     ]
    }
   ],
   "source": [
    "print('Train Accuracy: {:.2%}'.format(accuracy_score(train.actual, train.predicted_cv)))\n",
    "print('---')\n",
    "print('Confusion Matrix')\n",
    "print(pd.crosstab(train.predicted_cv, train.actual))\n",
    "print('---')\n",
    "print(classification_report(train.actual, train.predicted_cv))"
   ]
  },
  {
   "cell_type": "code",
   "execution_count": 52,
   "id": "f0696f8d",
   "metadata": {},
   "outputs": [
    {
     "name": "stdout",
     "output_type": "stream",
     "text": [
      "Accuracy: 60.10%\n",
      "---\n",
      "Confusion Matrix\n",
      "actual        HTML  Java  JavaScript  Python   R\n",
      "predicted_cv                                    \n",
      "HTML            62    11          24      13   6\n",
      "Java             3    10           5       5   0\n",
      "JavaScript      19    11         104      15   3\n",
      "Python           6     3          10      36   7\n",
      "R                5     1           1       8  23\n",
      "---\n",
      "              precision    recall  f1-score   support\n",
      "\n",
      "        HTML       0.53      0.65      0.59        95\n",
      "        Java       0.43      0.28      0.34        36\n",
      "  JavaScript       0.68      0.72      0.70       144\n",
      "      Python       0.58      0.47      0.52        77\n",
      "           R       0.61      0.59      0.60        39\n",
      "\n",
      "    accuracy                           0.60       391\n",
      "   macro avg       0.57      0.54      0.55       391\n",
      "weighted avg       0.60      0.60      0.59       391\n",
      "\n"
     ]
    }
   ],
   "source": [
    "print('Accuracy: {:.2%}'.format(accuracy_score(validate.actual, validate.predicted_cv)))\n",
    "print('---')\n",
    "print('Confusion Matrix')\n",
    "print(pd.crosstab(validate.predicted_cv, validate.actual))\n",
    "print('---')\n",
    "print(classification_report(validate.actual, validate.predicted_cv))"
   ]
  },
  {
   "cell_type": "code",
   "execution_count": null,
   "id": "332d75d4",
   "metadata": {},
   "outputs": [],
   "source": []
  },
  {
   "cell_type": "markdown",
   "id": "5f5edf04",
   "metadata": {},
   "source": [
    "### THIS IS THE MODEL Decision Tree Classifier (CountVectorizer)"
   ]
  },
  {
   "cell_type": "code",
   "execution_count": 53,
   "id": "06f98612",
   "metadata": {},
   "outputs": [
    {
     "name": "stdout",
     "output_type": "stream",
     "text": [
      "Train Accuracy Score: 51.65%\n",
      "Validate Accuracy Score: 52.69%\n"
     ]
    }
   ],
   "source": [
    "#decision tree classifier\n",
    "tree = DecisionTreeClassifier(max_depth=5, random_state=123)\n",
    "tree.fit(X_train_cv, y_train)\n",
    "# Use the trained model to predict y given those vectorized inputs of X\n",
    "train['predicted_cv_dt'] = tree.predict(X_train_cv)\n",
    "validate[\"predicted_cv_dt\"] = tree.predict(X_validate_cv)\n",
    "# test['predicted'] = lm.predict(X_test_vectorized)\n",
    "print(f'Train Accuracy Score: {tree.score(X_train_cv, y_train) * 100:.2f}%')\n",
    "print(f'Validate Accuracy Score: {tree.score(X_validate_cv, y_validate) * 100:.2f}%')"
   ]
  },
  {
   "cell_type": "markdown",
   "id": "853f0de7",
   "metadata": {},
   "source": [
    "#### Training Confusion Matrix"
   ]
  },
  {
   "cell_type": "code",
   "execution_count": 54,
   "id": "fdcdc105",
   "metadata": {},
   "outputs": [
    {
     "name": "stdout",
     "output_type": "stream",
     "text": [
      "Accuracy: 51.65%\n",
      "---\n",
      "Confusion Matrix\n",
      "actual           HTML  Java  JavaScript  Python   R\n",
      "predicted_cv_dt                                    \n",
      "HTML              206    49         155     117  87\n",
      "Java                0    32           2       0   0\n",
      "JavaScript          9     2         172       3   0\n",
      "Python              7     0           7      59   2\n",
      "R                   0     0           0       0   1\n",
      "---\n",
      "              precision    recall  f1-score   support\n",
      "\n",
      "        HTML       0.34      0.93      0.49       222\n",
      "        Java       0.94      0.39      0.55        83\n",
      "  JavaScript       0.92      0.51      0.66       336\n",
      "      Python       0.79      0.33      0.46       179\n",
      "           R       1.00      0.01      0.02        90\n",
      "\n",
      "    accuracy                           0.52       910\n",
      "   macro avg       0.80      0.43      0.44       910\n",
      "weighted avg       0.76      0.52      0.51       910\n",
      "\n"
     ]
    }
   ],
   "source": [
    "print('Accuracy: {:.2%}'.format(accuracy_score(train.actual, train.predicted_cv_dt)))\n",
    "print('---')\n",
    "print('Confusion Matrix')\n",
    "print(pd.crosstab(train.predicted_cv_dt, train.actual))\n",
    "print('---')\n",
    "print(classification_report(train.actual, train.predicted_cv_dt))"
   ]
  },
  {
   "cell_type": "markdown",
   "id": "39cd6670",
   "metadata": {},
   "source": [
    "#### Validate Confusion Matrix"
   ]
  },
  {
   "cell_type": "code",
   "execution_count": 55,
   "id": "1fccb20b",
   "metadata": {},
   "outputs": [
    {
     "name": "stdout",
     "output_type": "stream",
     "text": [
      "Accuracy: 52.69%\n",
      "---\n",
      "Confusion Matrix\n",
      "actual           HTML  Java  JavaScript  Python   R\n",
      "predicted_cv_dt                                    \n",
      "HTML               86    22          59      46  38\n",
      "Java                1    14           1       1   0\n",
      "JavaScript          4     0          78       2   0\n",
      "Python              4     0           5      28   1\n",
      "R                   0     0           1       0   0\n",
      "---\n",
      "              precision    recall  f1-score   support\n",
      "\n",
      "        HTML       0.34      0.91      0.50        95\n",
      "        Java       0.82      0.39      0.53        36\n",
      "  JavaScript       0.93      0.54      0.68       144\n",
      "      Python       0.74      0.36      0.49        77\n",
      "           R       0.00      0.00      0.00        39\n",
      "\n",
      "    accuracy                           0.53       391\n",
      "   macro avg       0.57      0.44      0.44       391\n",
      "weighted avg       0.65      0.53      0.52       391\n",
      "\n"
     ]
    }
   ],
   "source": [
    "print('Accuracy: {:.2%}'.format(accuracy_score(validate.actual, validate.predicted_cv_dt)))\n",
    "print('---')\n",
    "print('Confusion Matrix')\n",
    "print(pd.crosstab(validate.predicted_cv_dt, validate.actual))\n",
    "print('---')\n",
    "print(classification_report(validate.actual, validate.predicted_cv_dt))"
   ]
  },
  {
   "cell_type": "code",
   "execution_count": null,
   "id": "6e17bda7",
   "metadata": {},
   "outputs": [],
   "source": []
  },
  {
   "cell_type": "code",
   "execution_count": null,
   "id": "7fa1940f",
   "metadata": {},
   "outputs": [],
   "source": []
  },
  {
   "cell_type": "code",
   "execution_count": null,
   "id": "4d6d7bd9",
   "metadata": {},
   "outputs": [],
   "source": []
  },
  {
   "cell_type": "markdown",
   "id": "5c4fa5db",
   "metadata": {},
   "source": [
    "# Test"
   ]
  },
  {
   "cell_type": "code",
   "execution_count": null,
   "id": "e2b2a4d6",
   "metadata": {},
   "outputs": [],
   "source": [
    "#insert best performing model"
   ]
  },
  {
   "cell_type": "markdown",
   "id": "8d685b39",
   "metadata": {},
   "source": [
    "# Conclusion"
   ]
  },
  {
   "cell_type": "markdown",
   "id": "fc0282c1",
   "metadata": {},
   "source": [
    "- Predicting programming languages based on a repository's readme proved most usefu"
   ]
  }
 ],
 "metadata": {
  "kernelspec": {
   "display_name": "Python 3 (ipykernel)",
   "language": "python",
   "name": "python3"
  },
  "language_info": {
   "codemirror_mode": {
    "name": "ipython",
    "version": 3
   },
   "file_extension": ".py",
   "mimetype": "text/x-python",
   "name": "python",
   "nbconvert_exporter": "python",
   "pygments_lexer": "ipython3",
   "version": "3.9.7"
  }
 },
 "nbformat": 4,
 "nbformat_minor": 5
}
