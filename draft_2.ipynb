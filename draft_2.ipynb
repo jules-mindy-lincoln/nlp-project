{
 "cells": [
  {
   "cell_type": "code",
   "execution_count": 68,
   "id": "2c7d1fca",
   "metadata": {},
   "outputs": [],
   "source": [
    "#ignore warnings\n",
    "import warnings\n",
    "warnings.filterwarnings(\"ignore\")\n",
    "\n",
    "import pandas as pd\n",
    "import numpy as np\n",
    "\n",
    "import seaborn as sns\n",
    "import matplotlib.pyplot as plt\n",
    "\n",
    "import unicodedata\n",
    "import re\n",
    "import json\n",
    "\n",
    "import nltk\n",
    "from nltk.tokenize.toktok import ToktokTokenizer\n",
    "from nltk.corpus import stopwords\n",
    "from nltk import trigrams\n",
    "from nltk import bigrams\n",
    "from collections import Counter\n",
    "from typing import Dict, List, Optional, Union, cast\n",
    "\n",
    "from sklearn.feature_extraction.text import TfidfVectorizer\n",
    "from sklearn.feature_extraction.text import CountVectorizer\n",
    "\n",
    "from pprint import pprint\n",
    "\n",
    "from sklearn.model_selection import train_test_split\n",
    "from sklearn.linear_model import LogisticRegression\n",
    "from sklearn.metrics import classification_report, accuracy_score\n",
    "from sklearn.model_selection import train_test_split\n",
    "from sklearn.tree import DecisionTreeClassifier, export_graphviz\n",
    "from sklearn.metrics import classification_report\n",
    "\n",
    "import os\n",
    "import time\n",
    "import csv\n",
    "\n",
    "\n",
    "import requests\n",
    "import prepare\n",
    "\n",
    "from sklearn.model_selection import train_test_split\n",
    "\n",
    "#statistical testing\n",
    "from scipy import stats\n",
    "from scipy.stats import pearsonr, spearmanr"
   ]
  },
  {
   "cell_type": "markdown",
   "id": "43d232ba",
   "metadata": {},
   "source": [
    "# Project Planning"
   ]
  },
  {
   "cell_type": "markdown",
   "id": "8e58c446",
   "metadata": {},
   "source": [
    "The goal of this project is to use Natural Language Processing in order to build a predictive model of programming languages using the text from a users Github repository's readme.md. Planning for this project involved:\n",
    "\n",
    "- Acquire data by webscraping Github to obtain enough text from repositories of *finish this sentence\n",
    "\n",
    "- Create a readme.md, data dictionary, visualizations to accompany a formal presentation, and a Final Report Notebook.\n",
    "\n",
    "- Clean and prepare the data for the first iteration through the data science pipeline, and automate these processes by storing as functions where applicable.\n",
    "\n",
    "- Clearly define at least two hypotheses, set an alpha, run statistical tests as needed, reject or fail to reject the Null Hypothesis, and document findings and takeaways.\n",
    "\n",
    "- Establish the baseline accuracy and document well.\n",
    "\n",
    "- Train several classification models.\n",
    "\n",
    "- Evaluate models on train and validate datasets.\n",
    "\n",
    "- Document executive summary, conclusions, takeaways, and next steps in the Final Report Notebook.\n",
    "\n",
    "- Upload readme.md, data dictionary, prepare.py, acquire.py, and Final Report Notebook."
   ]
  },
  {
   "cell_type": "code",
   "execution_count": null,
   "id": "9cd30c04",
   "metadata": {},
   "outputs": [],
   "source": []
  },
  {
   "cell_type": "markdown",
   "id": "3bbc6950",
   "metadata": {},
   "source": [
    "# Executive Summary"
   ]
  },
  {
   "cell_type": "markdown",
   "id": "f2642922",
   "metadata": {},
   "source": [
    "- For this project our team chose to focus on the topic of mental health, and formed an initial hypothesis that due to the academic quantitative analysis of mental health, that certain languages, such as R, would be robust in the scrapped data.\n",
    "\n",
    "- After some initial exploration of Github, we chose Python, Java, R, HTML, and JavaScript as the only languages of focus to build the predictive model. \n",
    "\n",
    "- The models used were a TFIDF and Count Vectorizer Logistic Regression and a TFIDF and Count Vectorizer Decision Tree model. The best performing model for this dataset was the Count Vectorized Decision Tree.\n",
    "\n",
    "- The model did beat the baseline accuracy of 37%, and improving programming language prediction by 48%. \n",
    "\n",
    "- Although JavaScript was the most represented language in this dataset, certain words proved useful and unique to specific programming languages, additional study could prove useful in building a better predictive model in future iterations of this project."
   ]
  },
  {
   "cell_type": "markdown",
   "id": "65469e4f",
   "metadata": {},
   "source": [
    "![image_finished.png](image_finished.png)"
   ]
  },
  {
   "cell_type": "code",
   "execution_count": null,
   "id": "384e6580",
   "metadata": {},
   "outputs": [],
   "source": []
  },
  {
   "cell_type": "markdown",
   "id": "10b8f592",
   "metadata": {},
   "source": [
    "# Acquire\n",
    "\n",
    "- This data was obtained from Github repositories using those that appeared in the results after searching for mental health.\n",
    "\n",
    "- Approximately 290 search results pages were scraped to obtain a robust dataset.\n",
    "\n",
    "- The readme's from the repositories that fit our search criteria were added to our corpus."
   ]
  },
  {
   "cell_type": "code",
   "execution_count": 69,
   "id": "2677bd00",
   "metadata": {},
   "outputs": [
    {
     "name": "stdout",
     "output_type": "stream",
     "text": [
      "<class 'pandas.core.frame.DataFrame'>\n",
      "Int64Index: 1627 entries, 0 to 2142\n",
      "Data columns (total 6 columns):\n",
      " #   Column           Non-Null Count  Dtype \n",
      "---  ------           --------------  ----- \n",
      " 0   repo             1627 non-null   object\n",
      " 1   language         1627 non-null   object\n",
      " 2   readme_contents  1627 non-null   object\n",
      " 3   stemmed          1627 non-null   object\n",
      " 4   lemmatized       1627 non-null   object\n",
      " 5   total_words      1627 non-null   int64 \n",
      "dtypes: int64(1), object(5)\n",
      "memory usage: 89.0+ KB\n"
     ]
    }
   ],
   "source": [
    "df = prepare.wrangle_data()\n",
    "df.info()"
   ]
  },
  {
   "cell_type": "markdown",
   "id": "2f27732d",
   "metadata": {},
   "source": [
    "# Prepare\n",
    "\n",
    "- We scraped *insert how many* Github repositories\n",
    "\n",
    "- In order to improve accuracy during the modeling process, this project focused on some of the top five programming languages that came up in the repository search mental health, which are:\n",
    "\n",
    "    - Java\n",
    "    - HTML\n",
    "    - Python\n",
    "    - R\n",
    "    - JavaScript"
   ]
  },
  {
   "cell_type": "markdown",
   "id": "03f0994e",
   "metadata": {},
   "source": [
    "# Explore"
   ]
  },
  {
   "cell_type": "markdown",
   "id": "213602b2",
   "metadata": {},
   "source": [
    "### Language Histograms/ Visualization?"
   ]
  },
  {
   "cell_type": "code",
   "execution_count": 3,
   "id": "2bdaaae5",
   "metadata": {
    "scrolled": true
   },
   "outputs": [
    {
     "data": {
      "text/plain": [
       "<AxesSubplot:>"
      ]
     },
     "execution_count": 3,
     "metadata": {},
     "output_type": "execute_result"
    },
    {
     "data": {
      "image/png": "[encoded data removed]",
      "text/plain": [
       "<Figure size 432x288 with 1 Axes>"
      ]
     },
     "metadata": {
      "needs_background": "light"
     },
     "output_type": "display_data"
    }
   ],
   "source": [
    "df.language.hist()"
   ]
  },
  {
   "cell_type": "code",
   "execution_count": 4,
   "id": "45ee954f",
   "metadata": {},
   "outputs": [
    {
     "data": {
      "text/plain": [
       "array([[<AxesSubplot:title={'center':'total_words'}>]], dtype=object)"
      ]
     },
     "execution_count": 4,
     "metadata": {},
     "output_type": "execute_result"
    },
    {
     "data": {
      "image/png": "[encoded data removed]",
      "text/plain": [
       "<Figure size 432x288 with 1 Axes>"
      ]
     },
     "metadata": {
      "needs_background": "light"
     },
     "output_type": "display_data"
    }
   ],
   "source": [
    "df.loc[df['language'] == 'HTML'].hist()"
   ]
  },
  {
   "cell_type": "code",
   "execution_count": 5,
   "id": "e45bd034",
   "metadata": {},
   "outputs": [
    {
     "data": {
      "text/plain": [
       "<seaborn.axisgrid.FacetGrid at 0x147c5d340>"
      ]
     },
     "execution_count": 5,
     "metadata": {},
     "output_type": "execute_result"
    },
    {
     "data": {
      "image/png": "[encoded data removed]",
      "text/plain": [
       "<Figure size 360x360 with 1 Axes>"
      ]
     },
     "metadata": {
      "needs_background": "light"
     },
     "output_type": "display_data"
    }
   ],
   "source": [
    "#plt.figure(fig_size = (10, 8))\n",
    "sns.catplot(data = df,\n",
    "           x = 'total_words',\n",
    "           y = 'language',\n",
    "           kind = 'swarm')"
   ]
  },
  {
   "cell_type": "code",
   "execution_count": 6,
   "id": "29c1a453",
   "metadata": {},
   "outputs": [
    {
     "data": {
      "text/plain": [
       "<seaborn.axisgrid.FacetGrid at 0x1066d1730>"
      ]
     },
     "execution_count": 6,
     "metadata": {},
     "output_type": "execute_result"
    },
    {
     "data": {
      "image/png": "[encoded data removed]",
      "text/plain": [
       "<Figure size 360x360 with 1 Axes>"
      ]
     },
     "metadata": {
      "needs_background": "light"
     },
     "output_type": "display_data"
    }
   ],
   "source": [
    "sns.catplot(data = df,\n",
    "           x = 'total_words',\n",
    "           y = 'language',\n",
    "           kind = 'violin')"
   ]
  },
  {
   "cell_type": "markdown",
   "id": "74ca8f54",
   "metadata": {},
   "source": [
    "---"
   ]
  },
  {
   "cell_type": "markdown",
   "id": "5d6209d2",
   "metadata": {},
   "source": [
    "- Put this in a function"
   ]
  },
  {
   "cell_type": "code",
   "execution_count": 7,
   "id": "1925b385",
   "metadata": {},
   "outputs": [
    {
     "data": {
      "text/html": [
       "<div>\n",
       "<style scoped>\n",
       "    .dataframe tbody tr th:only-of-type {\n",
       "        vertical-align: middle;\n",
       "    }\n",
       "\n",
       "    .dataframe tbody tr th {\n",
       "        vertical-align: top;\n",
       "    }\n",
       "\n",
       "    .dataframe thead th {\n",
       "        text-align: right;\n",
       "    }\n",
       "</style>\n",
       "<table border=\"1\" class=\"dataframe\">\n",
       "  <thead>\n",
       "    <tr style=\"text-align: right;\">\n",
       "      <th></th>\n",
       "      <th>counts</th>\n",
       "      <th>percent</th>\n",
       "    </tr>\n",
       "  </thead>\n",
       "  <tbody>\n",
       "    <tr>\n",
       "      <th>JavaScript</th>\n",
       "      <td>600</td>\n",
       "      <td>0.368777</td>\n",
       "    </tr>\n",
       "    <tr>\n",
       "      <th>HTML</th>\n",
       "      <td>396</td>\n",
       "      <td>0.243393</td>\n",
       "    </tr>\n",
       "    <tr>\n",
       "      <th>Python</th>\n",
       "      <td>320</td>\n",
       "      <td>0.196681</td>\n",
       "    </tr>\n",
       "    <tr>\n",
       "      <th>R</th>\n",
       "      <td>162</td>\n",
       "      <td>0.099570</td>\n",
       "    </tr>\n",
       "    <tr>\n",
       "      <th>Java</th>\n",
       "      <td>149</td>\n",
       "      <td>0.091580</td>\n",
       "    </tr>\n",
       "  </tbody>\n",
       "</table>\n",
       "</div>"
      ],
      "text/plain": [
       "            counts   percent\n",
       "JavaScript     600  0.368777\n",
       "HTML           396  0.243393\n",
       "Python         320  0.196681\n",
       "R              162  0.099570\n",
       "Java           149  0.091580"
      ]
     },
     "execution_count": 7,
     "metadata": {},
     "output_type": "execute_result"
    }
   ],
   "source": [
    "langs = pd.concat([df.language.value_counts(),\n",
    "                    df.language.value_counts(normalize=True)], axis=1)\n",
    "langs.columns = ['counts', 'percent']\n",
    "langs\n",
    "\n",
    "#maybe show this as histograms or count plots"
   ]
  },
  {
   "cell_type": "code",
   "execution_count": null,
   "id": "2cdc7be6",
   "metadata": {},
   "outputs": [],
   "source": []
  },
  {
   "cell_type": "markdown",
   "id": "efea8196",
   "metadata": {},
   "source": [
    "- Function?"
   ]
  },
  {
   "cell_type": "code",
   "execution_count": 8,
   "id": "26946bd7",
   "metadata": {},
   "outputs": [
    {
     "data": {
      "text/html": [
       "<div>\n",
       "<style scoped>\n",
       "    .dataframe tbody tr th:only-of-type {\n",
       "        vertical-align: middle;\n",
       "    }\n",
       "\n",
       "    .dataframe tbody tr th {\n",
       "        vertical-align: top;\n",
       "    }\n",
       "\n",
       "    .dataframe thead th {\n",
       "        text-align: right;\n",
       "    }\n",
       "</style>\n",
       "<table border=\"1\" class=\"dataframe\">\n",
       "  <thead>\n",
       "    <tr style=\"text-align: right;\">\n",
       "      <th></th>\n",
       "      <th>all_words</th>\n",
       "      <th>JavaScript</th>\n",
       "      <th>HTML</th>\n",
       "      <th>Python</th>\n",
       "      <th>Java</th>\n",
       "      <th>R</th>\n",
       "    </tr>\n",
       "  </thead>\n",
       "  <tbody>\n",
       "    <tr>\n",
       "      <th>aa</th>\n",
       "      <td>2</td>\n",
       "      <td>0</td>\n",
       "      <td>1</td>\n",
       "      <td>0</td>\n",
       "      <td>1</td>\n",
       "      <td>0</td>\n",
       "    </tr>\n",
       "    <tr>\n",
       "      <th>aaa</th>\n",
       "      <td>1</td>\n",
       "      <td>0</td>\n",
       "      <td>0</td>\n",
       "      <td>0</td>\n",
       "      <td>1</td>\n",
       "      <td>0</td>\n",
       "    </tr>\n",
       "    <tr>\n",
       "      <th>aaaa</th>\n",
       "      <td>3</td>\n",
       "      <td>0</td>\n",
       "      <td>0</td>\n",
       "      <td>1</td>\n",
       "      <td>0</td>\n",
       "      <td>2</td>\n",
       "    </tr>\n",
       "    <tr>\n",
       "      <th>aac</th>\n",
       "      <td>1</td>\n",
       "      <td>0</td>\n",
       "      <td>0</td>\n",
       "      <td>0</td>\n",
       "      <td>1</td>\n",
       "      <td>0</td>\n",
       "    </tr>\n",
       "    <tr>\n",
       "      <th>aachal</th>\n",
       "      <td>2</td>\n",
       "      <td>2</td>\n",
       "      <td>0</td>\n",
       "      <td>0</td>\n",
       "      <td>0</td>\n",
       "      <td>0</td>\n",
       "    </tr>\n",
       "  </tbody>\n",
       "</table>\n",
       "</div>"
      ],
      "text/plain": [
       "        all_words  JavaScript  HTML  Python  Java  R\n",
       "aa              2           0     1       0     1  0\n",
       "aaa             1           0     0       0     1  0\n",
       "aaaa            3           0     0       1     0  2\n",
       "aac             1           0     0       0     1  0\n",
       "aachal          2           2     0       0     0  0"
      ]
     },
     "execution_count": 8,
     "metadata": {},
     "output_type": "execute_result"
    }
   ],
   "source": [
    "ADDITIONAL = ['The', 'I', 'This', 'app', 'run', 'project', 'user', 'use', 'mental', 'file', 'health',\n",
    "       'create', 'page', 'code', 'also', 'help', 'used']\n",
    "             \n",
    "def clean(readme_contents):\n",
    "    'A simple function to cleanup text data'\n",
    "    wnl = nltk.stem.WordNetLemmatizer()\n",
    "    stopwords = nltk.corpus.stopwords.words('english') + ADDITIONAL\n",
    "    text = (unicodedata.normalize('NFKD', readme_contents)\n",
    "             .encode('ascii', 'ignore')\n",
    "             .decode('utf-8', 'ignore')\n",
    "             .lower())\n",
    "    #words = re.sub(r'[^a-z\\s]', '', text).split()\n",
    "    words = re.sub (r'([^a-zA-Z ]+?)', \"\", text).split()\n",
    "    #words = re.sub(r'[\\D]', '', words).split()\n",
    "    \n",
    "    \n",
    "    return [wnl.lemmatize(word) for word in words if word not in stopwords]\n",
    "\n",
    "\n",
    "#making dfs with clean function for all langs\n",
    "JavaScript_words = clean(' '.join(df[df.language == 'JavaScript'].readme_contents))\n",
    "HTML_words = clean(' '.join(df[df.language == 'HTML'].readme_contents))\n",
    "Python_words = clean(' '.join(df[df.language == 'Python'].readme_contents))\n",
    "Java_words = clean(' '.join(df[df.language == 'Java'].readme_contents))\n",
    "R_words = clean(' '.join(df[df.language == 'R'].readme_contents))\n",
    "all_words = clean(' '.join(df.readme_contents))\n",
    "\n",
    "\n",
    "#make dfs to show frequencies of words\n",
    "\n",
    "JavaScript_freq = pd.Series(JavaScript_words).value_counts()\n",
    "HTML_freq = pd.Series(HTML_words).value_counts()\n",
    "Python_freq = pd.Series(Python_words).value_counts()\n",
    "Java_freq = pd.Series(Java_words).value_counts()\n",
    "R_freq = pd.Series(R_words).value_counts()\n",
    "all_freq = pd.Series(all_words).value_counts()\n",
    "\n",
    "\n",
    "word_counts = (pd.concat([all_freq, JavaScript_freq, HTML_freq, Python_freq, \n",
    "                    Java_freq, R_freq], axis=1, sort=True)\n",
    "                .set_axis(['all_words', 'JavaScript', 'HTML', 'Python', 'Java', 'R'], axis=1, inplace=False)\n",
    "                .fillna(0)\n",
    "                .apply(lambda s: s.astype(int)))\n",
    "\n",
    "word_counts.head()"
   ]
  },
  {
   "cell_type": "markdown",
   "id": "b4748ff9",
   "metadata": {},
   "source": [
    "### Question 1: Do certain languages have a higher average readme word count than others?"
   ]
  },
  {
   "cell_type": "code",
   "execution_count": 9,
   "id": "da5342de",
   "metadata": {},
   "outputs": [
    {
     "data": {
      "text/plain": [
       "language\n",
       "HTML          167.0\n",
       "Java          140.0\n",
       "JavaScript    245.0\n",
       "Python        196.0\n",
       "R             169.0\n",
       "Name: total_words, dtype: float64"
      ]
     },
     "execution_count": 9,
     "metadata": {},
     "output_type": "execute_result"
    }
   ],
   "source": [
    "#show averages with group by:\n",
    "df.total_words.groupby(df.language).mean().round()"
   ]
  },
  {
   "cell_type": "code",
   "execution_count": 10,
   "id": "ba11ca92",
   "metadata": {},
   "outputs": [
    {
     "data": {
      "text/html": [
       "<div>\n",
       "<style scoped>\n",
       "    .dataframe tbody tr th:only-of-type {\n",
       "        vertical-align: middle;\n",
       "    }\n",
       "\n",
       "    .dataframe tbody tr th {\n",
       "        vertical-align: top;\n",
       "    }\n",
       "\n",
       "    .dataframe thead th {\n",
       "        text-align: right;\n",
       "    }\n",
       "</style>\n",
       "<table border=\"1\" class=\"dataframe\">\n",
       "  <thead>\n",
       "    <tr style=\"text-align: right;\">\n",
       "      <th></th>\n",
       "      <th>total_words</th>\n",
       "    </tr>\n",
       "    <tr>\n",
       "      <th>language</th>\n",
       "      <th></th>\n",
       "    </tr>\n",
       "  </thead>\n",
       "  <tbody>\n",
       "    <tr>\n",
       "      <th>HTML</th>\n",
       "      <td>167.0</td>\n",
       "    </tr>\n",
       "    <tr>\n",
       "      <th>Java</th>\n",
       "      <td>140.0</td>\n",
       "    </tr>\n",
       "    <tr>\n",
       "      <th>JavaScript</th>\n",
       "      <td>245.0</td>\n",
       "    </tr>\n",
       "    <tr>\n",
       "      <th>Python</th>\n",
       "      <td>196.0</td>\n",
       "    </tr>\n",
       "    <tr>\n",
       "      <th>R</th>\n",
       "      <td>169.0</td>\n",
       "    </tr>\n",
       "  </tbody>\n",
       "</table>\n",
       "</div>"
      ],
      "text/plain": [
       "            total_words\n",
       "language               \n",
       "HTML              167.0\n",
       "Java              140.0\n",
       "JavaScript        245.0\n",
       "Python            196.0\n",
       "R                 169.0"
      ]
     },
     "execution_count": 10,
     "metadata": {},
     "output_type": "execute_result"
    }
   ],
   "source": [
    "total_words = pd.DataFrame(df.total_words.groupby(df.language).mean().round())\n",
    "total_words"
   ]
  },
  {
   "cell_type": "code",
   "execution_count": 11,
   "id": "42961116",
   "metadata": {},
   "outputs": [],
   "source": [
    "#prep to make bins for the better visual\n",
    "conditions = [(df.total_words > 171),\n",
    "              (df.total_words >= 51) & (df.total_words <= 171),\n",
    "              (df.total_words < 51)]\n",
    "choices = ['high_count', 'med_count', 'low_count']\n",
    "\n",
    "df['count_bin'] = np.select(conditions, choices)"
   ]
  },
  {
   "cell_type": "code",
   "execution_count": 12,
   "id": "acdcd83a",
   "metadata": {},
   "outputs": [],
   "source": [
    "df_plot = df.groupby(['language', 'count_bin']).size().reset_index().pivot(columns='count_bin', index='language', values=0)"
   ]
  },
  {
   "cell_type": "code",
   "execution_count": 13,
   "id": "4c002dd4",
   "metadata": {},
   "outputs": [
    {
     "data": {
      "text/plain": [
       "<AxesSubplot:xlabel='language'>"
      ]
     },
     "execution_count": 13,
     "metadata": {},
     "output_type": "execute_result"
    },
    {
     "data": {
      "image/png": "[encoded data removed]",
      "text/plain": [
       "<Figure size 432x288 with 1 Axes>"
      ]
     },
     "metadata": {
      "needs_background": "light"
     },
     "output_type": "display_data"
    }
   ],
   "source": [
    "#I like this to show lang counts with bins\n",
    "\n",
    "df_plot.plot(kind='bar')"
   ]
  },
  {
   "cell_type": "markdown",
   "id": "d2d1ceb6",
   "metadata": {},
   "source": [
    "#### Takeaways:\n",
    "\n",
    "- There are certain languages that have a higher average readme word count than others.\n",
    "- Java has the lowest average word count while those from repositories using JavaScript have considerably more words than the other four programming languages. "
   ]
  },
  {
   "cell_type": "markdown",
   "id": "9d0db0a1",
   "metadata": {},
   "source": [
    "### Are the word counts for JavaScript significantly higher than the mean word counts of all languages?\n",
    "\n",
    "One Sample T-Test\n",
    "\n",
    "$\\alpha$ = .05\n",
    "\n",
    "$𝐻_{0}$: JavaScript's mean word count is <= than the combined mean word count of all languages.\n",
    "\n",
    "𝐻𝑎: JavaScript's mean word count is > than the combined mean word count of all programming languages."
   ]
  },
  {
   "cell_type": "code",
   "execution_count": 14,
   "id": "0f311489",
   "metadata": {},
   "outputs": [
    {
     "name": "stdout",
     "output_type": "stream",
     "text": [
      "P Value: 0.000\n",
      "Fail to reject the null hypothesis.\n"
     ]
    }
   ],
   "source": [
    "α = 0.05\n",
    "\n",
    "js_sample = word_counts.JavaScript\n",
    "\n",
    "overall_mean = word_counts.all_words.mean()\n",
    "\n",
    "t, p = stats.ttest_1samp(js_sample, overall_mean)\n",
    "\n",
    "print(f'P Value: {p/2:.3f}')\n",
    "\n",
    "if p/2 < α and t > 0:\n",
    "    print('Reject the null hypothesis')\n",
    "else:\n",
    "    print('Fail to reject the null hypothesis.')"
   ]
  },
  {
   "cell_type": "markdown",
   "id": "4fdb25d1",
   "metadata": {},
   "source": [
    "---"
   ]
  },
  {
   "cell_type": "markdown",
   "id": "6c4072bc",
   "metadata": {},
   "source": [
    "### Are the word counts for JavaScript significantly higher than the word counts of Python?\n",
    "\n",
    "Two Sample T-Test\n",
    "\n",
    "$\\alpha$ = .05\n",
    "\n",
    "$𝐻_{0}$: Javascript's mean word count is <= than the mean word count of Python.\n",
    "\n",
    "𝐻𝑎: Javascript's mean word count is > the mean word count of Python."
   ]
  },
  {
   "cell_type": "code",
   "execution_count": 15,
   "id": "faeaefed",
   "metadata": {},
   "outputs": [
    {
     "name": "stdout",
     "output_type": "stream",
     "text": [
      "Levene's F-statistic: 285.039\n",
      "P-value: 0.000\n",
      "Reject the null hypothesis.\n"
     ]
    }
   ],
   "source": [
    "#test for equal variance \n",
    "#H0 is that the variances are equal\n",
    "#Ha is that the variances are not equal\n",
    "# if p > .05, variances are not significantly different and set argument to equal_var = True\n",
    "#if p < .05, variances are significantly different and set argument to equal_var = False\n",
    "#Levene test on two groups\n",
    "\n",
    "\n",
    "#set alpha\n",
    "α = 0.05\n",
    "\n",
    "#perform test to determine variance\n",
    "f, p = stats.levene(word_counts.JavaScript,\n",
    "             word_counts.Python)\n",
    "\n",
    "#evaluate coefficient and p-value\n",
    "print(f'Levene\\'s F-statistic: {f:.3f}\\nP-value: {p:.3f}')\n",
    "\n",
    "\n",
    "#evaluate if \n",
    "if p < α:\n",
    "    print('Reject the null hypothesis.')\n",
    "else:\n",
    "    print('Fail to reject the null hypothesis.')"
   ]
  },
  {
   "cell_type": "code",
   "execution_count": 16,
   "id": "867c44a2",
   "metadata": {},
   "outputs": [
    {
     "name": "stdout",
     "output_type": "stream",
     "text": [
      "P Value: 0.000\n",
      "Reject the null hypothesis.\n"
     ]
    }
   ],
   "source": [
    "#set alpha\n",
    "α = 0.05\n",
    "\n",
    "#perform test\n",
    "t, p = stats.ttest_ind(word_counts.JavaScript, word_counts.Python, equal_var = False)\n",
    "\n",
    "#print p-value\n",
    "print(f'P Value: {p/2:.3f}')\n",
    "\n",
    "#evaluate if mean of the word counts associated w/ JavaScript is significantly higher than the mean \n",
    "# of the mean word counts associated with Python, is p/2 < a and t > 0?\n",
    "if p/2 < α and t > 0:\n",
    "    print('Reject the null hypothesis.')\n",
    "else:\n",
    "    print('Fail to reject the null hypothesis.')"
   ]
  },
  {
   "cell_type": "markdown",
   "id": "84bb8caa",
   "metadata": {},
   "source": [
    "---"
   ]
  },
  {
   "cell_type": "markdown",
   "id": "46ac42c5",
   "metadata": {},
   "source": [
    "### Are the word counts for R significantly lower than the word counts of Python?\n",
    "\n",
    "Two Sample T-Test\n",
    "\n",
    "$\\alpha$ = .05\n",
    "\n",
    "$𝐻_{0}$: R's mean word count is >= than the mean word count of Python.\n",
    "\n",
    "𝐻𝑎: R's mean word count is < the mean word count of Python."
   ]
  },
  {
   "cell_type": "code",
   "execution_count": 17,
   "id": "749393f1",
   "metadata": {},
   "outputs": [
    {
     "name": "stdout",
     "output_type": "stream",
     "text": [
      "Levene's F-statistic: 267.514\n",
      "P-value: 0.000\n",
      "Reject the null hypothesis.\n"
     ]
    }
   ],
   "source": [
    "#test for equal variance \n",
    "#H0 is that the variances are equal\n",
    "#Ha is that the variances are not equal\n",
    "# if p > .05, variances are not significantly different and set argument to equal_var = True\n",
    "#if p < .05, variances are significantly different and set argument to equal_var = False\n",
    "#Levene test on two groups\n",
    "\n",
    "\n",
    "#set alpha\n",
    "α = 0.05\n",
    "\n",
    "#perform test to determine variance\n",
    "f, p = stats.levene(word_counts.R,\n",
    "             word_counts.Python)\n",
    "\n",
    "#evaluate coefficient and p-value\n",
    "print(f'Levene\\'s F-statistic: {f:.3f}\\nP-value: {p:.3f}')\n",
    "\n",
    "\n",
    "#evaluate if \n",
    "if p < α:\n",
    "    print('Reject the null hypothesis.')\n",
    "else:\n",
    "    print('Fail to reject the null hypothesis.')"
   ]
  },
  {
   "cell_type": "code",
   "execution_count": 18,
   "id": "8486ab71",
   "metadata": {},
   "outputs": [
    {
     "name": "stdout",
     "output_type": "stream",
     "text": [
      "P Value: 0.000\n",
      "Reject the null hypothesis.\n"
     ]
    }
   ],
   "source": [
    "#set alpha\n",
    "α = 0.05\n",
    "\n",
    "#perform test\n",
    "t, p = stats.ttest_ind(word_counts.R, word_counts.Python, equal_var = False)\n",
    "\n",
    "#print p-value\n",
    "print(f'P Value: {p/2:.3f}')\n",
    "\n",
    "#evaluate if mean of the word counts associated w/ R is significantly lower than the mean \n",
    "# of the mean word counts associated with Python, is p/2 < a and t < 0?\n",
    "if p/2 < α and t < 0:\n",
    "    print('Reject the null hypothesis.')\n",
    "else:\n",
    "    print('Fail to reject the null hypothesis.')"
   ]
  },
  {
   "cell_type": "markdown",
   "id": "28193af4",
   "metadata": {},
   "source": [
    "#### QUESTION 2: Are certain frequently occurring words shared across more than one language?"
   ]
  },
  {
   "cell_type": "code",
   "execution_count": 19,
   "id": "9b536ed4",
   "metadata": {},
   "outputs": [],
   "source": [
    "#makes dfs for arranging top words by the diff langs to help compare\n",
    "#if tops in some langs may be way different than tops in others\n",
    "js_top = word_counts.sort_values(by='JavaScript', ascending=False).head(20)\n",
    "html_top = word_counts.sort_values(by='HTML', ascending=False).head(20)\n",
    "python_top = word_counts.sort_values(by='Python', ascending=False).head(20)\n",
    "java_top = word_counts.sort_values(by='Java', ascending=False).head(20)\n",
    "r_top = word_counts.sort_values(by='R', ascending=False).head(20)"
   ]
  },
  {
   "cell_type": "code",
   "execution_count": 20,
   "id": "b04afeae",
   "metadata": {},
   "outputs": [
    {
     "data": {
      "text/html": [
       "<div>\n",
       "<style scoped>\n",
       "    .dataframe tbody tr th:only-of-type {\n",
       "        vertical-align: middle;\n",
       "    }\n",
       "\n",
       "    .dataframe tbody tr th {\n",
       "        vertical-align: top;\n",
       "    }\n",
       "\n",
       "    .dataframe thead th {\n",
       "        text-align: right;\n",
       "    }\n",
       "</style>\n",
       "<table border=\"1\" class=\"dataframe\">\n",
       "  <thead>\n",
       "    <tr style=\"text-align: right;\">\n",
       "      <th></th>\n",
       "      <th>HTML</th>\n",
       "      <th>Java</th>\n",
       "      <th>JavaScript</th>\n",
       "      <th>Python</th>\n",
       "      <th>R</th>\n",
       "      <th>all_words</th>\n",
       "    </tr>\n",
       "  </thead>\n",
       "  <tbody>\n",
       "    <tr>\n",
       "      <th>build</th>\n",
       "      <td>90</td>\n",
       "      <td>41</td>\n",
       "      <td>1268</td>\n",
       "      <td>54</td>\n",
       "      <td>22</td>\n",
       "      <td>1475</td>\n",
       "    </tr>\n",
       "    <tr>\n",
       "      <th>react</th>\n",
       "      <td>47</td>\n",
       "      <td>24</td>\n",
       "      <td>1209</td>\n",
       "      <td>22</td>\n",
       "      <td>0</td>\n",
       "      <td>1302</td>\n",
       "    </tr>\n",
       "    <tr>\n",
       "      <th>npm</th>\n",
       "      <td>93</td>\n",
       "      <td>33</td>\n",
       "      <td>1207</td>\n",
       "      <td>15</td>\n",
       "      <td>0</td>\n",
       "      <td>1348</td>\n",
       "    </tr>\n",
       "    <tr>\n",
       "      <th>section</th>\n",
       "      <td>219</td>\n",
       "      <td>8</td>\n",
       "      <td>843</td>\n",
       "      <td>42</td>\n",
       "      <td>18</td>\n",
       "      <td>1130</td>\n",
       "    </tr>\n",
       "    <tr>\n",
       "      <th>test</th>\n",
       "      <td>125</td>\n",
       "      <td>55</td>\n",
       "      <td>782</td>\n",
       "      <td>127</td>\n",
       "      <td>26</td>\n",
       "      <td>1115</td>\n",
       "    </tr>\n",
       "  </tbody>\n",
       "</table>\n",
       "</div>"
      ],
      "text/plain": [
       "         HTML  Java  JavaScript  Python   R  all_words\n",
       "build      90    41        1268      54  22       1475\n",
       "react      47    24        1209      22   0       1302\n",
       "npm        93    33        1207      15   0       1348\n",
       "section   219     8         843      42  18       1130\n",
       "test      125    55         782     127  26       1115"
      ]
     },
     "execution_count": 20,
     "metadata": {},
     "output_type": "execute_result"
    }
   ],
   "source": [
    "#makes one df of the top 20 words in all dfs \n",
    "top_words = (pd.concat([js_top, html_top, python_top, java_top,\n",
    "                    r_top], axis=0, sort=True)\n",
    "                .fillna(0)\n",
    "                .apply(lambda s: s.astype(int)))\n",
    "\n",
    "top_words.head()"
   ]
  },
  {
   "cell_type": "code",
   "execution_count": 21,
   "id": "1461dda0",
   "metadata": {},
   "outputs": [],
   "source": [
    "#drops all as we don't need that to compare for next step\n",
    "top_words= top_words.drop(columns=['all_words'])"
   ]
  },
  {
   "cell_type": "markdown",
   "id": "acbc6a4b",
   "metadata": {},
   "source": [
    "### Graph this?"
   ]
  },
  {
   "cell_type": "code",
   "execution_count": 22,
   "id": "6eadded9",
   "metadata": {},
   "outputs": [
    {
     "data": {
      "text/plain": [
       "<AxesSubplot:>"
      ]
     },
     "execution_count": 22,
     "metadata": {},
     "output_type": "execute_result"
    },
    {
     "data": {
      "image/png": "[encoded data removed]",
      "text/plain": [
       "<Figure size 432x288 with 1 Axes>"
      ]
     },
     "metadata": {
      "needs_background": "light"
     },
     "output_type": "display_data"
    }
   ],
   "source": [
    "#if you want to graph somehow, but not super necessary to include this\n",
    "top_words.plot()"
   ]
  },
  {
   "cell_type": "code",
   "execution_count": 24,
   "id": "1925ab72",
   "metadata": {},
   "outputs": [],
   "source": [
    "#top_words"
   ]
  },
  {
   "cell_type": "code",
   "execution_count": 25,
   "id": "09d13ca6",
   "metadata": {},
   "outputs": [],
   "source": [
    "# sns.catplot(data = top_words,\n",
    "#            x = top_words.index,\n",
    "#            y = 'HTML')"
   ]
  },
  {
   "cell_type": "code",
   "execution_count": 26,
   "id": "cbac184e",
   "metadata": {},
   "outputs": [
    {
     "data": {
      "text/plain": [
       "Index(['section', 'test', 'using', 'install', 'make', 'need', 'feature',\n",
       "       'user', 'time', 'information', 'file', 'data', 'people', 'one',\n",
       "       'application', 'model', 'analysis', 'dataset'],\n",
       "      dtype='object')"
      ]
     },
     "execution_count": 26,
     "metadata": {},
     "output_type": "execute_result"
    }
   ],
   "source": [
    "#these are the frequent words that are shared amongst 2 or more programming languages\n",
    "tops = top_words[top_words.index.value_counts() > 1]\n",
    "tops.index.unique()"
   ]
  },
  {
   "cell_type": "markdown",
   "id": "f24e32cd",
   "metadata": {},
   "source": [
    "#### Takeaways: \n",
    "\n",
    "- There are words that occur frequently and are shared across several languages.\n",
    "\n",
    "- The following words are amongst the top 20 frequently occurring words (with the exception of stop words) in two or more languages:\n",
    "\n",
    "'section', 'test', 'install', 'make', 'need', 'feature', 'user', 'time',\n",
    "       'information', 'file', 'command', 'people', 'one', 'application',\n",
    "       'model', 'dataset', 'analysis', 'following'"
   ]
  },
  {
   "cell_type": "markdown",
   "id": "d491094d",
   "metadata": {},
   "source": [
    "---"
   ]
  },
  {
   "cell_type": "markdown",
   "id": "c54135c2",
   "metadata": {},
   "source": [
    "### QUESTION 3: What words, if any, are frequently occurring in readmes for certain languages that are barely prevalent in other language readmes?"
   ]
  },
  {
   "cell_type": "code",
   "execution_count": 27,
   "id": "d28bf218",
   "metadata": {},
   "outputs": [],
   "source": [
    "#making the new df with top counts\n",
    "most_freq = (word_counts[word_counts['all_words'] > 730])"
   ]
  },
  {
   "cell_type": "code",
   "execution_count": 28,
   "id": "aca2f958",
   "metadata": {},
   "outputs": [
    {
     "data": {
      "text/html": [
       "<div>\n",
       "<style scoped>\n",
       "    .dataframe tbody tr th:only-of-type {\n",
       "        vertical-align: middle;\n",
       "    }\n",
       "\n",
       "    .dataframe tbody tr th {\n",
       "        vertical-align: top;\n",
       "    }\n",
       "\n",
       "    .dataframe thead th {\n",
       "        text-align: right;\n",
       "    }\n",
       "</style>\n",
       "<table border=\"1\" class=\"dataframe\">\n",
       "  <thead>\n",
       "    <tr style=\"text-align: right;\">\n",
       "      <th></th>\n",
       "      <th>JavaScript</th>\n",
       "      <th>HTML</th>\n",
       "      <th>Python</th>\n",
       "      <th>Java</th>\n",
       "      <th>R</th>\n",
       "    </tr>\n",
       "  </thead>\n",
       "  <tbody>\n",
       "    <tr>\n",
       "      <th>data</th>\n",
       "      <td>0.030058</td>\n",
       "      <td>0.116667</td>\n",
       "      <td>0.174959</td>\n",
       "      <td>0.066007</td>\n",
       "      <td>0.440279</td>\n",
       "    </tr>\n",
       "    <tr>\n",
       "      <th>using</th>\n",
       "      <td>0.054398</td>\n",
       "      <td>0.077193</td>\n",
       "      <td>0.109061</td>\n",
       "      <td>0.104785</td>\n",
       "      <td>0.077594</td>\n",
       "    </tr>\n",
       "    <tr>\n",
       "      <th>build</th>\n",
       "      <td>0.103569</td>\n",
       "      <td>0.026316</td>\n",
       "      <td>0.017792</td>\n",
       "      <td>0.033828</td>\n",
       "      <td>0.019180</td>\n",
       "    </tr>\n",
       "    <tr>\n",
       "      <th>npm</th>\n",
       "      <td>0.098587</td>\n",
       "      <td>0.027193</td>\n",
       "      <td>0.004942</td>\n",
       "      <td>0.027228</td>\n",
       "      <td>0.000000</td>\n",
       "    </tr>\n",
       "    <tr>\n",
       "      <th>react</th>\n",
       "      <td>0.098750</td>\n",
       "      <td>0.013743</td>\n",
       "      <td>0.007249</td>\n",
       "      <td>0.019802</td>\n",
       "      <td>0.000000</td>\n",
       "    </tr>\n",
       "    <tr>\n",
       "      <th>section</th>\n",
       "      <td>0.068856</td>\n",
       "      <td>0.064035</td>\n",
       "      <td>0.013839</td>\n",
       "      <td>0.006601</td>\n",
       "      <td>0.015693</td>\n",
       "    </tr>\n",
       "    <tr>\n",
       "      <th>test</th>\n",
       "      <td>0.063873</td>\n",
       "      <td>0.036550</td>\n",
       "      <td>0.041845</td>\n",
       "      <td>0.045380</td>\n",
       "      <td>0.022668</td>\n",
       "    </tr>\n",
       "    <tr>\n",
       "      <th>user</th>\n",
       "      <td>0.039369</td>\n",
       "      <td>0.063158</td>\n",
       "      <td>0.061614</td>\n",
       "      <td>0.116337</td>\n",
       "      <td>0.014821</td>\n",
       "    </tr>\n",
       "    <tr>\n",
       "      <th>feature</th>\n",
       "      <td>0.042473</td>\n",
       "      <td>0.042982</td>\n",
       "      <td>0.086985</td>\n",
       "      <td>0.051980</td>\n",
       "      <td>0.018309</td>\n",
       "    </tr>\n",
       "    <tr>\n",
       "      <th>install</th>\n",
       "      <td>0.046802</td>\n",
       "      <td>0.033041</td>\n",
       "      <td>0.071829</td>\n",
       "      <td>0.029703</td>\n",
       "      <td>0.028771</td>\n",
       "    </tr>\n",
       "    <tr>\n",
       "      <th>need</th>\n",
       "      <td>0.044025</td>\n",
       "      <td>0.046784</td>\n",
       "      <td>0.044481</td>\n",
       "      <td>0.039604</td>\n",
       "      <td>0.040105</td>\n",
       "    </tr>\n",
       "    <tr>\n",
       "      <th>make</th>\n",
       "      <td>0.045250</td>\n",
       "      <td>0.052047</td>\n",
       "      <td>0.040857</td>\n",
       "      <td>0.033003</td>\n",
       "      <td>0.020052</td>\n",
       "    </tr>\n",
       "    <tr>\n",
       "      <th>people</th>\n",
       "      <td>0.024177</td>\n",
       "      <td>0.092982</td>\n",
       "      <td>0.051071</td>\n",
       "      <td>0.043729</td>\n",
       "      <td>0.060157</td>\n",
       "    </tr>\n",
       "    <tr>\n",
       "      <th>information</th>\n",
       "      <td>0.033080</td>\n",
       "      <td>0.059357</td>\n",
       "      <td>0.034926</td>\n",
       "      <td>0.061056</td>\n",
       "      <td>0.053182</td>\n",
       "    </tr>\n",
       "    <tr>\n",
       "      <th>time</th>\n",
       "      <td>0.033489</td>\n",
       "      <td>0.054094</td>\n",
       "      <td>0.050082</td>\n",
       "      <td>0.052805</td>\n",
       "      <td>0.027027</td>\n",
       "    </tr>\n",
       "    <tr>\n",
       "      <th>application</th>\n",
       "      <td>0.028833</td>\n",
       "      <td>0.043860</td>\n",
       "      <td>0.042175</td>\n",
       "      <td>0.129538</td>\n",
       "      <td>0.037489</td>\n",
       "    </tr>\n",
       "    <tr>\n",
       "      <th>like</th>\n",
       "      <td>0.040431</td>\n",
       "      <td>0.040058</td>\n",
       "      <td>0.030313</td>\n",
       "      <td>0.029703</td>\n",
       "      <td>0.024412</td>\n",
       "    </tr>\n",
       "    <tr>\n",
       "      <th>file</th>\n",
       "      <td>0.032998</td>\n",
       "      <td>0.034795</td>\n",
       "      <td>0.043493</td>\n",
       "      <td>0.030528</td>\n",
       "      <td>0.062772</td>\n",
       "    </tr>\n",
       "    <tr>\n",
       "      <th>get</th>\n",
       "      <td>0.032018</td>\n",
       "      <td>0.040351</td>\n",
       "      <td>0.041845</td>\n",
       "      <td>0.055281</td>\n",
       "      <td>0.016565</td>\n",
       "    </tr>\n",
       "    <tr>\n",
       "      <th>see</th>\n",
       "      <td>0.038961</td>\n",
       "      <td>0.034795</td>\n",
       "      <td>0.030643</td>\n",
       "      <td>0.023102</td>\n",
       "      <td>0.020924</td>\n",
       "    </tr>\n",
       "  </tbody>\n",
       "</table>\n",
       "</div>"
      ],
      "text/plain": [
       "             JavaScript      HTML    Python      Java         R\n",
       "data           0.030058  0.116667  0.174959  0.066007  0.440279\n",
       "using          0.054398  0.077193  0.109061  0.104785  0.077594\n",
       "build          0.103569  0.026316  0.017792  0.033828  0.019180\n",
       "npm            0.098587  0.027193  0.004942  0.027228  0.000000\n",
       "react          0.098750  0.013743  0.007249  0.019802  0.000000\n",
       "section        0.068856  0.064035  0.013839  0.006601  0.015693\n",
       "test           0.063873  0.036550  0.041845  0.045380  0.022668\n",
       "user           0.039369  0.063158  0.061614  0.116337  0.014821\n",
       "feature        0.042473  0.042982  0.086985  0.051980  0.018309\n",
       "install        0.046802  0.033041  0.071829  0.029703  0.028771\n",
       "need           0.044025  0.046784  0.044481  0.039604  0.040105\n",
       "make           0.045250  0.052047  0.040857  0.033003  0.020052\n",
       "people         0.024177  0.092982  0.051071  0.043729  0.060157\n",
       "information    0.033080  0.059357  0.034926  0.061056  0.053182\n",
       "time           0.033489  0.054094  0.050082  0.052805  0.027027\n",
       "application    0.028833  0.043860  0.042175  0.129538  0.037489\n",
       "like           0.040431  0.040058  0.030313  0.029703  0.024412\n",
       "file           0.032998  0.034795  0.043493  0.030528  0.062772\n",
       "get            0.032018  0.040351  0.041845  0.055281  0.016565\n",
       "see            0.038961  0.034795  0.030643  0.023102  0.020924"
      ]
     },
     "execution_count": 28,
     "metadata": {},
     "output_type": "execute_result"
    }
   ],
   "source": [
    "#changing df to show percentages and transposing to visualize best\n",
    "\n",
    "word_perc = pd.DataFrame()\n",
    "for col in most_freq.columns:\n",
    "    word_perc = word_perc.append(most_freq[col].sort_values(ascending=False)/most_freq[col].sum())\n",
    "\n",
    "word_perc_T = word_perc.T\n",
    "word_perc_T = word_perc_T\n",
    "word_perc_T = word_perc_T.drop(columns=['all_words'])\n",
    "#dropping the all column prior to graphing just bc it's not relevant to\n",
    "#the question and don't want to cloud visual\n",
    "word_perc_T"
   ]
  },
  {
   "cell_type": "code",
   "execution_count": 29,
   "id": "f0ed70d9",
   "metadata": {},
   "outputs": [
    {
     "data": {
      "text/plain": [
       "Text(0.5, 1.0, 'Proportion of languages for the 20 most common words')"
      ]
     },
     "execution_count": 29,
     "metadata": {},
     "output_type": "execute_result"
    },
    {
     "data": {
      "image/png": "[encoded data removed]",
      "text/plain": [
       "<Figure size 720x576 with 1 Axes>"
      ]
     },
     "metadata": {
      "needs_background": "light"
     },
     "output_type": "display_data"
    }
   ],
   "source": [
    "plt.rcParams[\"figure.figsize\"] = (10,8)\n",
    "word_perc_T.plot(kind = 'barh', stacked=True)\n",
    "\n",
    "plt.title('Proportion of languages for the 20 most common words')"
   ]
  },
  {
   "cell_type": "markdown",
   "id": "2f56d2c1",
   "metadata": {},
   "source": [
    "#### Takeaways: \n",
    "\n",
    "- There are words that frequently occur in some programming languages and are otherwise note prevalent in other programming languages. Certain words, like test, have a relatively similar distribution across languages while other words, like data, have a higher proportionality to languages like R and Python.\n",
    "\n",
    "These top occurring words that may be helpful in identifying programming languages:\n",
    "\n",
    "- 'data' : R\n",
    "- 'file': R\n",
    "- 'website': HTML\n",
    "- 'application': Java\n",
    "- 'react', 'build', 'npm': JavaScript"
   ]
  },
  {
   "cell_type": "markdown",
   "id": "c528fdae",
   "metadata": {},
   "source": [
    "### Question 4: Can small groups of sequential words (bigrams and trigrams) in readmes be predictive of the target variable?"
   ]
  },
  {
   "cell_type": "code",
   "execution_count": 30,
   "id": "bb071e8e",
   "metadata": {},
   "outputs": [
    {
     "data": {
      "text/plain": [
       "Text(0.5, 1.0, 'Proportion of languages for the 20 most common bigrams')"
      ]
     },
     "execution_count": 30,
     "metadata": {},
     "output_type": "execute_result"
    },
    {
     "data": {
      "image/png": "[encoded data removed]",
      "text/plain": [
       "<Figure size 720x576 with 1 Axes>"
      ]
     },
     "metadata": {
      "needs_background": "light"
     },
     "output_type": "display_data"
    }
   ],
   "source": [
    "#this shows the 20 top most frequently occuring birgrams\n",
    "\n",
    "bigrams_all = (pd.Series(nltk.ngrams(all_words, 2))\n",
    "                      .value_counts())\n",
    "bigrams_JavaScript = (pd.Series(nltk.ngrams(JavaScript_words, 2))\n",
    "                      .value_counts())\n",
    "bigrams_HTML = (pd.Series(nltk.ngrams(HTML_words, 2))\n",
    "                      .value_counts())\n",
    "bigrams_Python = (pd.Series(nltk.ngrams(Python_words, 2))\n",
    "                      .value_counts())\n",
    "bigrams_Java = (pd.Series(nltk.ngrams(Java_words, 2))\n",
    "                      .value_counts())\n",
    "bigrams_R = (pd.Series(nltk.ngrams(R_words, 2))\n",
    "                      .value_counts())\n",
    "\n",
    "bigram_counts = (pd.concat([bigrams_all, bigrams_JavaScript, bigrams_HTML, bigrams_Python, \n",
    "                    bigrams_Java, bigrams_R], axis=1, sort=True)\n",
    "                .set_axis(['all', 'JavaScript', 'HTML', 'Python', 'Java', 'R'], axis=1, inplace=False)\n",
    "                .fillna(0)\n",
    "                .apply(lambda s: s.astype(int)))\n",
    "\n",
    "most_freq_bigrams = (bigram_counts[bigram_counts['all'] >= 105])\n",
    "\n",
    "word_perc_bigrams = pd.DataFrame()\n",
    "for col in most_freq_bigrams.columns:\n",
    "    word_perc_bigrams = word_perc_bigrams.append(most_freq_bigrams[col].sort_values(ascending=False)/most_freq_bigrams[col].sum())\n",
    "\n",
    "word_perc_bigrams_T = word_perc_bigrams.T\n",
    "word_perc_bigrams_T = word_perc_bigrams_T.drop(columns=['all'])\n",
    "#dropping the all column prior to graphing just bc it's not relevant to\n",
    "#the question and don't want to cloud visual\n",
    "\n",
    "plt.rcParams[\"figure.figsize\"] = (10,8)\n",
    "word_perc_bigrams_T.plot(kind = 'barh', stacked=True)\n",
    "plt.title('Proportion of languages for the 20 most common bigrams')"
   ]
  },
  {
   "cell_type": "code",
   "execution_count": 31,
   "id": "110673b7",
   "metadata": {},
   "outputs": [
    {
     "data": {
      "text/plain": [
       "Text(0.5, 1.0, 'High Frequency Bigrams of Languages Compared')"
      ]
     },
     "execution_count": 31,
     "metadata": {},
     "output_type": "execute_result"
    },
    {
     "data": {
      "image/png": "[encoded data removed]",
      "text/plain": [
       "<Figure size 720x216 with 1 Axes>"
      ]
     },
     "metadata": {
      "needs_background": "light"
     },
     "output_type": "display_data"
    }
   ],
   "source": [
    "#This shows bigrams that have higher distribution (above 10%) in a certain languages\n",
    "#this can be used to show what bigrams may be most predictive regardless of\n",
    "#overall frequency\n",
    "Java_high = word_perc_bigrams_T[word_perc_bigrams_T.Java > .1]\n",
    "Python_high = word_perc_bigrams_T[word_perc_bigrams_T.Python > .1]\n",
    "R_high = word_perc_bigrams_T[word_perc_bigrams_T.R > .1]\n",
    "HTML_high = word_perc_bigrams_T[word_perc_bigrams_T.HTML > .1]\n",
    "js_high = word_perc_bigrams_T[word_perc_bigrams_T.JavaScript > .1]\n",
    "\n",
    "langs_high_tris = pd.concat([HTML_high, R_high, Python_high, Java_high, js_high])\n",
    "\n",
    "plt.rcParams[\"figure.figsize\"] = (10,3)\n",
    "langs_high_tris.plot(kind = 'barh', stacked=True)\n",
    "plt.title('High Frequency Bigrams of Languages Compared')"
   ]
  },
  {
   "cell_type": "markdown",
   "id": "e37a1c17",
   "metadata": {},
   "source": [
    "#### Bigram Takeaways: \n",
    "Here this graph shows the most useful bigrams, although many of the most identifiable bigrams are shared with two or more languages. \n",
    "\n",
    "Therefore, we will attempt to build on the notion of grouping words together for predictive potential and explore the value of trigrams."
   ]
  },
  {
   "cell_type": "markdown",
   "id": "cadfb701",
   "metadata": {},
   "source": [
    "---"
   ]
  },
  {
   "cell_type": "code",
   "execution_count": 32,
   "id": "30c50114",
   "metadata": {},
   "outputs": [
    {
     "data": {
      "text/plain": [
       "Text(0.5, 1.0, 'High Frequency Trigrams of Languages Compared')"
      ]
     },
     "execution_count": 32,
     "metadata": {},
     "output_type": "execute_result"
    },
    {
     "data": {
      "image/png": "[encoded data removed]",
      "text/plain": [
       "<Figure size 1080x216 with 1 Axes>"
      ]
     },
     "metadata": {
      "needs_background": "light"
     },
     "output_type": "display_data"
    }
   ],
   "source": [
    "#This shows trigrams that have higher distribution (above 5%) in a certain languages\n",
    "#this can be used to show what trigrams may be most predictive regardless of\n",
    "#overall frequency\n",
    "#note: high frequency trigrams are very evenly distributed across\n",
    "#languages therefore the high frequency trigrams are not shown as there \n",
    "#is no potential predictivity there \n",
    "\n",
    "trigrams_all = (pd.Series(nltk.ngrams(all_words, 3))\n",
    "                      .value_counts())\n",
    "trigrams_JavaScript = (pd.Series(nltk.ngrams(JavaScript_words, 3))\n",
    "                      .value_counts())\n",
    "trigrams_HTML = (pd.Series(nltk.ngrams(HTML_words, 3))\n",
    "                      .value_counts())\n",
    "trigrams_Python = (pd.Series(nltk.ngrams(Python_words, 3))\n",
    "                      .value_counts())\n",
    "trigrams_Java = (pd.Series(nltk.ngrams(Java_words, 3))\n",
    "                      .value_counts())\n",
    "trigrams_R = (pd.Series(nltk.ngrams(R_words, 3))\n",
    "                      .value_counts())\n",
    "\n",
    "trigram_counts = (pd.concat([trigrams_all, trigrams_HTML, trigrams_Python, \n",
    "                    trigrams_Java, trigrams_R], axis=1, sort=True)\n",
    "                .set_axis(['all', 'HTML', 'Python', 'Java', 'R'], axis=1, inplace=False)\n",
    "                .fillna(0)\n",
    "                .apply(lambda s: s.astype(int)))\n",
    "\n",
    "most_freq_trigrams = (trigram_counts[trigram_counts['all'] >= 30 ])\n",
    "most_freq_trigrams = (most_freq_trigrams[most_freq_trigrams['all'] < 60])\n",
    "\n",
    "word_perc_trigrams = pd.DataFrame()\n",
    "for col in most_freq_trigrams.columns:\n",
    "    word_perc_trigrams = word_perc_trigrams.append(most_freq_trigrams[col].sort_values(ascending=False)/most_freq_trigrams[col].sum())\n",
    "\n",
    "word_perc_trigrams_T = word_perc_trigrams.T\n",
    "word_perc_trigrams_T = word_perc_trigrams_T.drop(columns=['all'])\n",
    "#dropping the all column prior to graphing just bc it's not relevant to\n",
    "#the question and don't want to cloud visual\n",
    "\n",
    "Java_high = word_perc_trigrams_T[word_perc_trigrams_T.Java > .05]\n",
    "Python_high = word_perc_trigrams_T[word_perc_trigrams_T.Python > .05]\n",
    "R_high = word_perc_trigrams_T[word_perc_trigrams_T.R > .05]\n",
    "HTML_high = word_perc_trigrams_T[word_perc_trigrams_T.HTML > .05]\n",
    "\n",
    "langs_high_tris = pd.concat([HTML_high, R_high, Python_high, Java_high])\n",
    "\n",
    "plt.rcParams[\"figure.figsize\"] = (15,3)\n",
    "langs_high_tris.plot(kind = 'barh', stacked=True)\n",
    "plt.title('High Frequency Trigrams of Languages Compared')"
   ]
  },
  {
   "cell_type": "markdown",
   "id": "31de7236",
   "metadata": {},
   "source": [
    "#### Trigram Takeaways:\n",
    "\n",
    "- The above graph shows the most useful trigrams. JavaScript does not have any highly predictive trigrams, but the other four languages so have at least one trigram that seems distinctive to their programming language."
   ]
  },
  {
   "cell_type": "code",
   "execution_count": 33,
   "id": "1280d20d",
   "metadata": {},
   "outputs": [
    {
     "data": {
      "text/plain": [
       "MultiIndex([(     'html',          'cs',      'javascript'),\n",
       "            (  'install',           'r', 'requirementstxt'),\n",
       "            (      'pip',     'install',               'r'),\n",
       "            ('startruns', 'development',        'modeopen')],\n",
       "           )"
      ]
     },
     "execution_count": 33,
     "metadata": {},
     "output_type": "execute_result"
    }
   ],
   "source": [
    "langs_high_tris.index.unique()"
   ]
  },
  {
   "cell_type": "code",
   "execution_count": 34,
   "id": "ae7926c3",
   "metadata": {},
   "outputs": [
    {
     "data": {
      "text/html": [
       "<div>\n",
       "<style scoped>\n",
       "    .dataframe tbody tr th:only-of-type {\n",
       "        vertical-align: middle;\n",
       "    }\n",
       "\n",
       "    .dataframe tbody tr th {\n",
       "        vertical-align: top;\n",
       "    }\n",
       "\n",
       "    .dataframe thead th {\n",
       "        text-align: right;\n",
       "    }\n",
       "</style>\n",
       "<table border=\"1\" class=\"dataframe\">\n",
       "  <thead>\n",
       "    <tr style=\"text-align: right;\">\n",
       "      <th></th>\n",
       "      <th></th>\n",
       "      <th></th>\n",
       "      <th>all</th>\n",
       "      <th>HTML</th>\n",
       "      <th>Python</th>\n",
       "      <th>Java</th>\n",
       "      <th>R</th>\n",
       "    </tr>\n",
       "  </thead>\n",
       "  <tbody>\n",
       "    <tr>\n",
       "      <th>html</th>\n",
       "      <th>cs</th>\n",
       "      <th>javascript</th>\n",
       "      <td>50</td>\n",
       "      <td>35</td>\n",
       "      <td>2</td>\n",
       "      <td>0</td>\n",
       "      <td>0</td>\n",
       "    </tr>\n",
       "    <tr>\n",
       "      <th>install</th>\n",
       "      <th>r</th>\n",
       "      <th>requirementstxt</th>\n",
       "      <td>38</td>\n",
       "      <td>9</td>\n",
       "      <td>21</td>\n",
       "      <td>0</td>\n",
       "      <td>1</td>\n",
       "    </tr>\n",
       "    <tr>\n",
       "      <th>pip</th>\n",
       "      <th>install</th>\n",
       "      <th>r</th>\n",
       "      <td>41</td>\n",
       "      <td>7</td>\n",
       "      <td>25</td>\n",
       "      <td>0</td>\n",
       "      <td>0</td>\n",
       "    </tr>\n",
       "    <tr>\n",
       "      <th>startruns</th>\n",
       "      <th>development</th>\n",
       "      <th>modeopen</th>\n",
       "      <td>58</td>\n",
       "      <td>3</td>\n",
       "      <td>1</td>\n",
       "      <td>1</td>\n",
       "      <td>0</td>\n",
       "    </tr>\n",
       "  </tbody>\n",
       "</table>\n",
       "</div>"
      ],
      "text/plain": [
       "                                       all  HTML  Python  Java  R\n",
       "html      cs          javascript        50    35       2     0  0\n",
       "install   r           requirementstxt   38     9      21     0  1\n",
       "pip       install     r                 41     7      25     0  0\n",
       "startruns development modeopen          58     3       1     1  0"
      ]
     },
     "execution_count": 34,
     "metadata": {},
     "output_type": "execute_result"
    }
   ],
   "source": [
    "tri_counts = trigram_counts[(trigram_counts.index == ('html', 'cs', 'javascript')) |\n",
    "(trigram_counts.index == ('install', 'r', 'requirementstxt')) |\n",
    "(trigram_counts.index == ('pip', 'install', 'r')) |\n",
    "(trigram_counts.index == ('install', 'r', 'requirementstxt')) |\n",
    "(trigram_counts.index == ('startruns', 'development', 'modeopen'))]\n",
    "tri_counts"
   ]
  },
  {
   "cell_type": "markdown",
   "id": "705d880a",
   "metadata": {},
   "source": [
    "---"
   ]
  },
  {
   "cell_type": "markdown",
   "id": "a8bf504e",
   "metadata": {},
   "source": [
    "$Chi^{2}$ Hypothesis\n",
    "\n",
    "$\\alpha$ = .05\n",
    "\n",
    "$𝐻_{0}$: The trigram 'html, cs, javascriptand' and language HTML are independent of one another.\n",
    "\n",
    "𝐻𝑎: The trigram 'html, cs, javascriptand' and language HTML have a relationship."
   ]
  },
  {
   "cell_type": "code",
   "execution_count": 36,
   "id": "15c80e4a",
   "metadata": {},
   "outputs": [
    {
     "name": "stdout",
     "output_type": "stream",
     "text": [
      "Reject the null hypothesis.\n"
     ]
    }
   ],
   "source": [
    "index = ['all', 'HTML']\n",
    "columns = ['total_words', 'trigram']\n",
    "\n",
    "observed = pd.DataFrame([[302457, 50], [60208, 35]], index=index, columns=columns)\n",
    "chi2, p, degf, expected = stats.chi2_contingency(observed)\n",
    "if p < α:\n",
    "    print('Reject the null hypothesis.')\n",
    "else:\n",
    "    print('Fail to reject the null hypothesis.')"
   ]
  },
  {
   "cell_type": "markdown",
   "id": "839722d7",
   "metadata": {},
   "source": [
    "---"
   ]
  },
  {
   "cell_type": "markdown",
   "id": "c0a13922",
   "metadata": {},
   "source": [
    "$Chi^{2}$ Hypothesis\n",
    "\n",
    "$\\alpha$ = .05\n",
    "\n",
    "$𝐻_{0}$: The trigram 'install, r, requirementstxt' and language Python are independent of one another.\n",
    "\n",
    "𝐻𝑎: The trigram 'install, r, requirementstxt' and language Python have a relationship."
   ]
  },
  {
   "cell_type": "code",
   "execution_count": 37,
   "id": "2e07f506",
   "metadata": {},
   "outputs": [
    {
     "name": "stdout",
     "output_type": "stream",
     "text": [
      "Reject the null hypothesis.\n"
     ]
    }
   ],
   "source": [
    "index = ['all', 'Python']\n",
    "columns = ['total_words', 'trigram']\n",
    "\n",
    "observed = pd.DataFrame([[302457, 38], [57710, 21]], index=index, columns=columns)\n",
    "chi2, p, degf, expected = stats.chi2_contingency(observed)\n",
    "if p < α:\n",
    "    print('Reject the null hypothesis.')\n",
    "else:\n",
    "    print('Fail to reject the null hypothesis.')"
   ]
  },
  {
   "cell_type": "markdown",
   "id": "cb32c507",
   "metadata": {},
   "source": [
    "---"
   ]
  },
  {
   "cell_type": "markdown",
   "id": "59ebc68a",
   "metadata": {},
   "source": [
    "$Chi^{2}$ Hypothesis\n",
    "\n",
    "$\\alpha$ = .05\n",
    "\n",
    "$𝐻_{0}$: The trigram 'pip, install, r' and language HTML are independent of one another.\n",
    "\n",
    "𝐻𝑎: The trigram 'pip, install, r' and language HTML have a relationship."
   ]
  },
  {
   "cell_type": "code",
   "execution_count": 38,
   "id": "84f487d9",
   "metadata": {},
   "outputs": [
    {
     "name": "stdout",
     "output_type": "stream",
     "text": [
      "Reject the null hypothesis.\n"
     ]
    }
   ],
   "source": [
    "index = ['all', 'Python']\n",
    "columns = ['total_words', 'trigram']\n",
    "\n",
    "observed = pd.DataFrame([[302457, 41], [57710, 25]], index=index, columns=columns)\n",
    "chi2, p, degf, expected = stats.chi2_contingency(observed)\n",
    "if p < α:\n",
    "    print('Reject the null hypothesis.')\n",
    "else:\n",
    "    print('Fail to reject the null hypothesis.')"
   ]
  },
  {
   "cell_type": "markdown",
   "id": "8adab8c3",
   "metadata": {},
   "source": [
    "---"
   ]
  },
  {
   "cell_type": "markdown",
   "id": "b1323cb4",
   "metadata": {},
   "source": [
    "$Chi^{2}$ Hypothesis\n",
    "\n",
    "$\\alpha$ = .05\n",
    "\n",
    "$𝐻_{0}$: The trigram 'startruns, development, modeopen' and language HTML are independent of one another.\n",
    "\n",
    "𝐻𝑎: The trigram 'startruns, development, modeopen' and language HTML have a relationship."
   ]
  },
  {
   "cell_type": "code",
   "execution_count": 39,
   "id": "3a7d7f55",
   "metadata": {},
   "outputs": [
    {
     "name": "stdout",
     "output_type": "stream",
     "text": [
      "Reject the null hypothesis.\n"
     ]
    }
   ],
   "source": [
    "index = ['all', 'HTML']\n",
    "columns = ['total_words', 'trigram']\n",
    "\n",
    "observed = pd.DataFrame([[302457, 58], [60208, 3]], index=index, columns=columns)\n",
    "chi2, p, degf, expected = stats.chi2_contingency(observed)\n",
    "if p < α:\n",
    "    print('Reject the null hypothesis.')\n",
    "else:\n",
    "    print('Fail to reject the null hypothesis.')"
   ]
  },
  {
   "cell_type": "markdown",
   "id": "98bb8a6e",
   "metadata": {},
   "source": [
    "#### Takeaways:\n",
    "- The 5 trigrams that visually showed the most predictive potential also all performed well in Chi^{2} testing, confirming that these five trigrams are likely useful in predicting the target."
   ]
  },
  {
   "cell_type": "markdown",
   "id": "7e72792d",
   "metadata": {},
   "source": [
    "# Modeling"
   ]
  },
  {
   "cell_type": "markdown",
   "id": "d419a9ee",
   "metadata": {},
   "source": [
    "#### Our approach is to:\n",
    "- Split the data into train, validate and test sets\n",
    "- Use the TFIDF and the Count Vectorizers to encode the values \n",
    "- Use the Logistic Regression, and the Decision Trees for modeling (predicting the language)\n",
    "- Use the confusion matrix to dissect the accuracy of our models\n",
    "- Use the the best performing model on test"
   ]
  },
  {
   "cell_type": "code",
   "execution_count": 70,
   "id": "dedec3d7",
   "metadata": {},
   "outputs": [
    {
     "name": "stdout",
     "output_type": "stream",
     "text": [
      "Baseline is:  36.88%\n"
     ]
    }
   ],
   "source": [
    "#establish baseline\n",
    "baseline = langs.loc['JavaScript', 'percent']\n",
    "\n",
    "print(f'Baseline is: ',  f'{baseline * 100:.2f}%')"
   ]
  },
  {
   "cell_type": "code",
   "execution_count": 71,
   "id": "292d4873",
   "metadata": {},
   "outputs": [
    {
     "data": {
      "text/plain": [
       "((910, 6), (391, 6), (326, 6))"
      ]
     },
     "execution_count": 71,
     "metadata": {},
     "output_type": "execute_result"
    }
   ],
   "source": [
    "#splitting the data to train validate split\n",
    "train,validate,test = prepare.split_df(df)\n",
    "train.shape,validate.shape, test.shape"
   ]
  },
  {
   "cell_type": "code",
   "execution_count": 72,
   "id": "f0bb7b68",
   "metadata": {},
   "outputs": [],
   "source": [
    "# Setup the X variables\n",
    "X_train = train.lemmatized\n",
    "X_validate = validate.lemmatized\n",
    "X_test = test.lemmatized\n",
    "\n",
    "# Setup the y variables\n",
    "y_train = train.language\n",
    "y_validate = validate.language\n",
    "y_test = test.language\n",
    "\n",
    "# Create the tfidf vectorizer object\n",
    "# encodes these values for classification purposes\n",
    "tfidf = TfidfVectorizer()\n",
    "\n",
    "# Fit on the training data\n",
    "tfidf.fit(X_train)\n",
    "\n",
    "# Use the object\n",
    "X_train_vectorized = tfidf.transform(X_train)\n",
    "X_validate_vectorized = tfidf.transform(X_validate)\n",
    "X_test_vectorized = tfidf.transform(X_test)"
   ]
  },
  {
   "cell_type": "markdown",
   "id": "05ea4bd8",
   "metadata": {},
   "source": [
    "### Logistic Regression  (TFIDF Vectorizer)"
   ]
  },
  {
   "cell_type": "code",
   "execution_count": 73,
   "id": "76dc2db2",
   "metadata": {},
   "outputs": [
    {
     "data": {
      "text/plain": [
       "LogisticRegression()"
      ]
     },
     "execution_count": 73,
     "metadata": {},
     "output_type": "execute_result"
    }
   ],
   "source": [
    "#after vectorizing, we are ready to model\n",
    "lm = LogisticRegression()\n",
    "\n",
    "# Fit the classification model to vectorized train data\n",
    "lm.fit(X_train_vectorized, y_train)"
   ]
  },
  {
   "cell_type": "code",
   "execution_count": 74,
   "id": "9509cc49",
   "metadata": {},
   "outputs": [],
   "source": [
    "train = pd.DataFrame(dict(actual=y_train))\n",
    "validate = pd.DataFrame(dict(actual=y_validate))\n",
    "test = pd.DataFrame(dict(actual=y_test))"
   ]
  },
  {
   "cell_type": "code",
   "execution_count": 75,
   "id": "6f82d1d1",
   "metadata": {},
   "outputs": [
    {
     "name": "stdout",
     "output_type": "stream",
     "text": [
      "Train Accuracy Score: 91.21%\n",
      "Validate Accuracy Score: 59.59%\n"
     ]
    }
   ],
   "source": [
    "# Use the trained model to predict y given those vectorized inputs of X\n",
    "train['predicted_lm'] = lm.predict(X_train_vectorized)\n",
    "validate[\"predicted_lm\"] = lm.predict(X_validate_vectorized)\n",
    "\n",
    "print(f'Train Accuracy Score: {lm.score(X_train_vectorized, y_train) * 100:.2f}%')\n",
    "print(f'Validate Accuracy Score: {lm.score(X_validate_vectorized, y_validate) * 100:.2f}%')"
   ]
  },
  {
   "cell_type": "markdown",
   "id": "6a00d817",
   "metadata": {},
   "source": [
    "#### Training Accuracy Matrix"
   ]
  },
  {
   "cell_type": "code",
   "execution_count": 76,
   "id": "06aa7e66",
   "metadata": {},
   "outputs": [
    {
     "name": "stdout",
     "output_type": "stream",
     "text": [
      "Accuracy: 91.21%\n",
      "---\n",
      "Confusion Matrix\n",
      "actual        HTML  Java  JavaScript  Python   R\n",
      "predicted_lm                                    \n",
      "HTML           210     7           4       4   3\n",
      "Java             0    46           0       0   0\n",
      "JavaScript      10    27         331      10   6\n",
      "Python           1     3           1     165   3\n",
      "R                1     0           0       0  78\n",
      "---\n",
      "              precision    recall  f1-score   support\n",
      "\n",
      "        HTML       0.92      0.95      0.93       222\n",
      "        Java       1.00      0.55      0.71        83\n",
      "  JavaScript       0.86      0.99      0.92       336\n",
      "      Python       0.95      0.92      0.94       179\n",
      "           R       0.99      0.87      0.92        90\n",
      "\n",
      "    accuracy                           0.91       910\n",
      "   macro avg       0.94      0.85      0.89       910\n",
      "weighted avg       0.92      0.91      0.91       910\n",
      "\n"
     ]
    }
   ],
   "source": [
    "# accuracy matrix\n",
    "print('Accuracy: {:.2%}'.format(accuracy_score(train.actual, train.predicted_lm)))\n",
    "print('---')\n",
    "print('Confusion Matrix')\n",
    "print(pd.crosstab(train.predicted_lm, train.actual))\n",
    "print('---')\n",
    "print(classification_report(train.actual, train.predicted_lm))"
   ]
  },
  {
   "cell_type": "markdown",
   "id": "9647d1fc",
   "metadata": {},
   "source": [
    "#### Validate Accuracy Matrix"
   ]
  },
  {
   "cell_type": "code",
   "execution_count": 37,
   "id": "841b21ef",
   "metadata": {},
   "outputs": [
    {
     "name": "stdout",
     "output_type": "stream",
     "text": [
      "Accuracy: 59.59%\n",
      "---\n",
      "Confusion Matrix\n",
      "actual        HTML  Java  JavaScript  Python   R\n",
      "predicted_lm                                    \n",
      "HTML            54    10          20      14   7\n",
      "Java             0     5           0       0   0\n",
      "JavaScript      34    18         117      20   7\n",
      "Python           5     3           7      38   6\n",
      "R                2     0           0       5  19\n",
      "---\n",
      "              precision    recall  f1-score   support\n",
      "\n",
      "        HTML       0.51      0.57      0.54        95\n",
      "        Java       1.00      0.14      0.24        36\n",
      "  JavaScript       0.60      0.81      0.69       144\n",
      "      Python       0.64      0.49      0.56        77\n",
      "           R       0.73      0.49      0.58        39\n",
      "\n",
      "    accuracy                           0.60       391\n",
      "   macro avg       0.70      0.50      0.52       391\n",
      "weighted avg       0.64      0.60      0.58       391\n",
      "\n"
     ]
    }
   ],
   "source": [
    "# accuracy matrix\n",
    "print('Accuracy: {:.2%}'.format(accuracy_score(validate.actual, validate.predicted_lm)))\n",
    "print('---')\n",
    "print('Confusion Matrix')\n",
    "print(pd.crosstab(validate.predicted_lm, validate.actual))\n",
    "print('---')\n",
    "print(classification_report(validate.actual, validate.predicted_lm))"
   ]
  },
  {
   "cell_type": "markdown",
   "id": "778e4df3",
   "metadata": {},
   "source": [
    "#### The logistic regression model with the TDIF Vectorizer yields a 91% accuracy on the train set and 59% on validate the validate set. This clearly shows the model is over-fitting on the train data.\n",
    "\n",
    "As illustrated by the f1-score for Java, there is a small representation of the sample, so the model is not very accurate when it comes to predicting languages. Due to over-fitting, this model will not be used."
   ]
  },
  {
   "cell_type": "markdown",
   "id": "5c1c7b40",
   "metadata": {},
   "source": [
    "---"
   ]
  },
  {
   "cell_type": "markdown",
   "id": "348eff2c",
   "metadata": {},
   "source": [
    "### Decision Tree Classifier (TFIDF Vectorizer)"
   ]
  },
  {
   "cell_type": "code",
   "execution_count": 77,
   "id": "6f79c1f8",
   "metadata": {},
   "outputs": [
    {
     "name": "stdout",
     "output_type": "stream",
     "text": [
      "Train Accuracy Score: 57.47%\n",
      "Validate Accuracy Score: 50.90%\n"
     ]
    }
   ],
   "source": [
    "#decision tree classifier\n",
    "tree = DecisionTreeClassifier(max_depth=5, random_state=123)\n",
    "tree.fit(X_train_vectorized, y_train)\n",
    "# Use the trained model to predict y given those vectorized inputs of X\n",
    "train['predicted_t'] = tree.predict(X_train_vectorized)\n",
    "validate[\"predicted_t\"] = tree.predict(X_validate_vectorized)\n",
    "# test['predicted'] = lm.predict(X_test_vectorized)\n",
    "print(f'Train Accuracy Score: {tree.score(X_train_vectorized, y_train) * 100:.2f}%')\n",
    "print(f'Validate Accuracy Score: {tree.score(X_validate_vectorized, y_validate) * 100:.2f}%')"
   ]
  },
  {
   "cell_type": "markdown",
   "id": "0164f089",
   "metadata": {},
   "source": [
    "#### Takeways:\n",
    "Decision Tree Classifier (TFIDF Vectorizer)  had an accuracy of 57% and 50% on validate. The model had a max depth of five, and although the accuracy is low, the model does not seem to be over-fit."
   ]
  },
  {
   "cell_type": "markdown",
   "id": "6dd4ac9b",
   "metadata": {},
   "source": [
    "### Logistic Regression ( CountVectorizer)"
   ]
  },
  {
   "cell_type": "code",
   "execution_count": 78,
   "id": "46d78d53",
   "metadata": {},
   "outputs": [
    {
     "data": {
      "text/plain": [
       "LogisticRegression()"
      ]
     },
     "execution_count": 78,
     "metadata": {},
     "output_type": "execute_result"
    }
   ],
   "source": [
    "# Create the cv vectorizer object\n",
    "# encodes these values for classification purposes\n",
    "cv = CountVectorizer(ngram_range=(1,3))\n",
    "\n",
    "# Fit on the training data\n",
    "cv.fit(X_train)\n",
    "# Use the object\n",
    "X_train_cv = cv.transform(X_train)\n",
    "X_validate_cv = cv.transform(X_validate)\n",
    "X_test_cv = cv.transform(X_test)\n",
    "\n",
    "#after vectorizing, we are ready to model\n",
    "lm = LogisticRegression()\n",
    "\n",
    "# Fit the classification model to vectorized train data\n",
    "lm.fit(X_train_cv, y_train)"
   ]
  },
  {
   "cell_type": "code",
   "execution_count": 79,
   "id": "6a1fe2bb",
   "metadata": {},
   "outputs": [
    {
     "name": "stdout",
     "output_type": "stream",
     "text": [
      "Train Accuracy Score: 99.78%\n",
      "Validate Accuracy Score: 60.36%\n"
     ]
    }
   ],
   "source": [
    "# Use the trained model to predict y given those vectorized inputs of X\n",
    "train['predicted_cv'] = lm.predict(X_train_cv)\n",
    "validate[\"predicted_cv\"] = lm.predict(X_validate_cv)\n",
    "# test['predicted'] = lm.predict(X_test_vectorized)\n",
    "print(f'Train Accuracy Score: {lm.score(X_train_cv, y_train) * 100:.2f}%')\n",
    "print(f'Validate Accuracy Score: {lm.score(X_validate_cv, y_validate) * 100:.2f}%')"
   ]
  },
  {
   "cell_type": "markdown",
   "id": "fe6a53c5",
   "metadata": {},
   "source": [
    "#### Training Accuracy Confusion Matrix"
   ]
  },
  {
   "cell_type": "code",
   "execution_count": 80,
   "id": "8aff4b22",
   "metadata": {},
   "outputs": [
    {
     "name": "stdout",
     "output_type": "stream",
     "text": [
      "Train Accuracy: 99.78%\n",
      "---\n",
      "Confusion Matrix\n",
      "actual        HTML  Java  JavaScript  Python   R\n",
      "predicted_cv                                    \n",
      "HTML           220     0           0       0   0\n",
      "Java             0    83           0       0   0\n",
      "JavaScript       2     0         336       0   0\n",
      "Python           0     0           0     179   0\n",
      "R                0     0           0       0  90\n",
      "---\n",
      "              precision    recall  f1-score   support\n",
      "\n",
      "        HTML       1.00      0.99      1.00       222\n",
      "        Java       1.00      1.00      1.00        83\n",
      "  JavaScript       0.99      1.00      1.00       336\n",
      "      Python       1.00      1.00      1.00       179\n",
      "           R       1.00      1.00      1.00        90\n",
      "\n",
      "    accuracy                           1.00       910\n",
      "   macro avg       1.00      1.00      1.00       910\n",
      "weighted avg       1.00      1.00      1.00       910\n",
      "\n"
     ]
    }
   ],
   "source": [
    "print('Train Accuracy: {:.2%}'.format(accuracy_score(train.actual, train.predicted_cv)))\n",
    "print('---')\n",
    "print('Confusion Matrix')\n",
    "print(pd.crosstab(train.predicted_cv, train.actual))\n",
    "print('---')\n",
    "print(classification_report(train.actual, train.predicted_cv))"
   ]
  },
  {
   "cell_type": "code",
   "execution_count": 81,
   "id": "0ce4fb19",
   "metadata": {},
   "outputs": [
    {
     "name": "stdout",
     "output_type": "stream",
     "text": [
      "Accuracy: 60.36%\n",
      "---\n",
      "Confusion Matrix\n",
      "actual        HTML  Java  JavaScript  Python   R\n",
      "predicted_cv                                    \n",
      "HTML            63    14          25      16   8\n",
      "Java             3     9           4       3   0\n",
      "JavaScript      19    13         107      18   2\n",
      "Python           4     0           8      33   5\n",
      "R                6     0           0       7  24\n",
      "---\n",
      "              precision    recall  f1-score   support\n",
      "\n",
      "        HTML       0.50      0.66      0.57        95\n",
      "        Java       0.47      0.25      0.33        36\n",
      "  JavaScript       0.67      0.74      0.71       144\n",
      "      Python       0.66      0.43      0.52        77\n",
      "           R       0.65      0.62      0.63        39\n",
      "\n",
      "    accuracy                           0.60       391\n",
      "   macro avg       0.59      0.54      0.55       391\n",
      "weighted avg       0.61      0.60      0.59       391\n",
      "\n"
     ]
    }
   ],
   "source": [
    "print('Accuracy: {:.2%}'.format(accuracy_score(validate.actual, validate.predicted_cv)))\n",
    "print('---')\n",
    "print('Confusion Matrix')\n",
    "print(pd.crosstab(validate.predicted_cv, validate.actual))\n",
    "print('---')\n",
    "print(classification_report(validate.actual, validate.predicted_cv))"
   ]
  },
  {
   "cell_type": "markdown",
   "id": "acdecc93",
   "metadata": {},
   "source": [
    "#### Takeaways: \n",
    "The logistic regression model with the Count Vectorizer yields a 99% accuracy on the train set and 60% on the validate set. The sizable difference from the training and validation set shows that this model is prone to over-fitting, we will not move forward this this model."
   ]
  },
  {
   "cell_type": "markdown",
   "id": "7c316d21",
   "metadata": {},
   "source": [
    "---"
   ]
  },
  {
   "cell_type": "markdown",
   "id": "f90d2749",
   "metadata": {},
   "source": [
    "### Decision Tree Classifier (CountVectorizer)"
   ]
  },
  {
   "cell_type": "code",
   "execution_count": 82,
   "id": "b80e77a4",
   "metadata": {},
   "outputs": [
    {
     "name": "stdout",
     "output_type": "stream",
     "text": [
      "Train Accuracy Score: 52.20%\n",
      "Validate Accuracy Score: 53.96%\n"
     ]
    }
   ],
   "source": [
    "#decision tree classifier\n",
    "tree = DecisionTreeClassifier(max_depth=5, random_state=123)\n",
    "tree.fit(X_train_cv, y_train)\n",
    "# Use the trained model to predict y given those vectorized inputs of X\n",
    "train['predicted_cv_dt'] = tree.predict(X_train_cv)\n",
    "validate[\"predicted_cv_dt\"] = tree.predict(X_validate_cv)\n",
    "# test['predicted'] = lm.predict(X_test_vectorized)\n",
    "print(f'Train Accuracy Score: {tree.score(X_train_cv, y_train) * 100:.2f}%')\n",
    "print(f'Validate Accuracy Score: {tree.score(X_validate_cv, y_validate) * 100:.2f}%')"
   ]
  },
  {
   "cell_type": "markdown",
   "id": "faf8ff9e",
   "metadata": {},
   "source": [
    "#### Training Confusion Matrix"
   ]
  },
  {
   "cell_type": "code",
   "execution_count": 83,
   "id": "af7fb2b9",
   "metadata": {},
   "outputs": [
    {
     "name": "stdout",
     "output_type": "stream",
     "text": [
      "Accuracy: 52.20%\n",
      "---\n",
      "Confusion Matrix\n",
      "actual           HTML  Java  JavaScript  Python   R\n",
      "predicted_cv_dt                                    \n",
      "HTML              203    49         150     110  87\n",
      "Java                0    32           2       0   0\n",
      "JavaScript          9     2         174       3   0\n",
      "Python             10     0          10      66   3\n",
      "---\n",
      "              precision    recall  f1-score   support\n",
      "\n",
      "        HTML       0.34      0.91      0.49       222\n",
      "        Java       0.94      0.39      0.55        83\n",
      "  JavaScript       0.93      0.52      0.66       336\n",
      "      Python       0.74      0.37      0.49       179\n",
      "           R       0.00      0.00      0.00        90\n",
      "\n",
      "    accuracy                           0.52       910\n",
      "   macro avg       0.59      0.44      0.44       910\n",
      "weighted avg       0.66      0.52      0.51       910\n",
      "\n"
     ]
    }
   ],
   "source": [
    "print('Accuracy: {:.2%}'.format(accuracy_score(train.actual, train.predicted_cv_dt)))\n",
    "print('---')\n",
    "print('Confusion Matrix')\n",
    "print(pd.crosstab(train.predicted_cv_dt, train.actual))\n",
    "print('---')\n",
    "print(classification_report(train.actual, train.predicted_cv_dt))"
   ]
  },
  {
   "cell_type": "markdown",
   "id": "5da8d175",
   "metadata": {},
   "source": [
    "#### Validate Confusion Matrix"
   ]
  },
  {
   "cell_type": "code",
   "execution_count": 84,
   "id": "03fc7f93",
   "metadata": {},
   "outputs": [
    {
     "name": "stdout",
     "output_type": "stream",
     "text": [
      "Accuracy: 53.96%\n",
      "---\n",
      "Confusion Matrix\n",
      "actual           HTML  Java  JavaScript  Python   R\n",
      "predicted_cv_dt                                    \n",
      "HTML               88    22          57      43  38\n",
      "Java                1    14           1       1   0\n",
      "JavaScript          4     0          78       2   0\n",
      "Python              2     0           8      31   1\n",
      "---\n",
      "              precision    recall  f1-score   support\n",
      "\n",
      "        HTML       0.35      0.93      0.51        95\n",
      "        Java       0.82      0.39      0.53        36\n",
      "  JavaScript       0.93      0.54      0.68       144\n",
      "      Python       0.74      0.40      0.52        77\n",
      "           R       0.00      0.00      0.00        39\n",
      "\n",
      "    accuracy                           0.54       391\n",
      "   macro avg       0.57      0.45      0.45       391\n",
      "weighted avg       0.65      0.54      0.53       391\n",
      "\n"
     ]
    }
   ],
   "source": [
    "print('Accuracy: {:.2%}'.format(accuracy_score(validate.actual, validate.predicted_cv_dt)))\n",
    "print('---')\n",
    "print('Confusion Matrix')\n",
    "print(pd.crosstab(validate.predicted_cv_dt, validate.actual))\n",
    "print('---')\n",
    "print(classification_report(validate.actual, validate.predicted_cv_dt))"
   ]
  },
  {
   "cell_type": "markdown",
   "id": "845e0750",
   "metadata": {},
   "source": [
    "### Test"
   ]
  },
  {
   "cell_type": "markdown",
   "id": "5c4fa5db",
   "metadata": {},
   "source": [
    "#### Decision Tree Classifier (CountVectorizer) "
   ]
  },
  {
   "cell_type": "code",
   "execution_count": 99,
   "id": "e2b2a4d6",
   "metadata": {},
   "outputs": [
    {
     "name": "stdout",
     "output_type": "stream",
     "text": [
      "Test Accuracy Score: 54.60%\n"
     ]
    }
   ],
   "source": [
    "#decision tree classifier\n",
    "tree = DecisionTreeClassifier(max_depth=5, random_state=123)\n",
    "#fit on train data\n",
    "tree.fit(X_train_cv, y_train)\n",
    "# Use the trained model to predict y given those vectorized inputs of X\n",
    "test['predicted_cv_dt'] = tree.predict(X_test_cv)\n",
    "\n",
    "print(f'Test Accuracy Score: {tree.score(X_test_cv, y_test) * 100:.2f}%')"
   ]
  },
  {
   "cell_type": "markdown",
   "id": "2e299c1e",
   "metadata": {},
   "source": [
    "#### Test Confusion Matrix"
   ]
  },
  {
   "cell_type": "code",
   "execution_count": 97,
   "id": "3827e894",
   "metadata": {},
   "outputs": [
    {
     "name": "stdout",
     "output_type": "stream",
     "text": [
      "Accuracy: 54.60%\n",
      "---\n",
      "Confusion Matrix\n",
      "actual           HTML  Java  JavaScript  Python   R\n",
      "predicted_cv_dt                                    \n",
      "HTML               69    17          44      34  33\n",
      "Java                1    11           0       0   0\n",
      "JavaScript          6     2          71       3   0\n",
      "Python              3     0           5      27   0\n",
      "---\n",
      "              precision    recall  f1-score   support\n",
      "\n",
      "        HTML       0.35      0.87      0.50        79\n",
      "        Java       0.92      0.37      0.52        30\n",
      "  JavaScript       0.87      0.59      0.70       120\n",
      "      Python       0.77      0.42      0.55        64\n",
      "           R       0.00      0.00      0.00        33\n",
      "\n",
      "    accuracy                           0.55       326\n",
      "   macro avg       0.58      0.45      0.45       326\n",
      "weighted avg       0.64      0.55      0.54       326\n",
      "\n"
     ]
    }
   ],
   "source": [
    "print('Accuracy: {:.2%}'.format(accuracy_score(test.actual, test.predicted_cv_dt)))\n",
    "print('---')\n",
    "print('Confusion Matrix')\n",
    "print(pd.crosstab(test.predicted_cv_dt, test.actual))\n",
    "print('---')\n",
    "print(classification_report(test.actual, test.predicted_cv_dt))"
   ]
  },
  {
   "cell_type": "markdown",
   "id": "020a1db3",
   "metadata": {},
   "source": [
    "---"
   ]
  },
  {
   "cell_type": "code",
   "execution_count": 98,
   "id": "4d2086dd",
   "metadata": {},
   "outputs": [
    {
     "name": "stdout",
     "output_type": "stream",
     "text": [
      "Overall Percentage Change:  48.06%\n"
     ]
    }
   ],
   "source": [
    "score = tree.score(X_test_cv, y_test)\n",
    "percent_change = ((score - baseline) / baseline) * 100\n",
    "print(f'Overall Percentage Change: ', f'{percent_change:.2f}%')"
   ]
  },
  {
   "cell_type": "markdown",
   "id": "5ec5a330",
   "metadata": {},
   "source": [
    "#### Takeaways:\n",
    "\n",
    "This Decision Tree Classifier (Count Vectorizer) had an accuracy of 52%, 53% on validate, and 54% on test. Similar to the TDIDF version of this model, over-fitting was not an issue. This model was chosen as the model to use on test due to an almost identical accuracy in the train and validate sets. The model beat the baseline accuracy of approximately 37% and showed an overall improvement in predictive ability of approximately 48%."
   ]
  },
  {
   "cell_type": "markdown",
   "id": "8d685b39",
   "metadata": {},
   "source": [
    "# Conclusion and Next Steps"
   ]
  },
  {
   "cell_type": "markdown",
   "id": "61a96a6d",
   "metadata": {},
   "source": [
    "Predicting programming languages based on readme's was not as intuitive as we hoped. Certain words are prevalent in some languages and rare in others, which is helpful for predictions. Although the initial hypothesis was that programming languages like R, and more recently, Python, would be over-represented due to the search topic, this proved not to be the case. While the model did outperform the baseline, there is still room for improvement. \n",
    "\n",
    "Given more time, we would like gather more samples to add to the corpus, explore mental health sub-topics, and take more time to analyze which individual words, bi-grams, and trigrams are the most predictive to increase predictive potential in future iterations."
   ]
  },
  {
   "cell_type": "code",
   "execution_count": null,
   "id": "f0523135",
   "metadata": {},
   "outputs": [],
   "source": []
  }
 ],
 "metadata": {
  "kernelspec": {
   "display_name": "Python 3 (ipykernel)",
   "language": "python",
   "name": "python3"
  },
  "language_info": {
   "codemirror_mode": {
    "name": "ipython",
    "version": 3
   },
   "file_extension": ".py",
   "mimetype": "text/x-python",
   "name": "python",
   "nbconvert_exporter": "python",
   "pygments_lexer": "ipython3",
   "version": "3.9.12"
  }
 },
 "nbformat": 4,
 "nbformat_minor": 5
}
