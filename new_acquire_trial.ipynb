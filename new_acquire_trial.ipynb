{
 "cells": [
  {
   "cell_type": "code",
   "execution_count": 1,
   "id": "fa0874b2",
   "metadata": {},
   "outputs": [],
   "source": [
    "import pandas as pd\n",
    "import os\n",
    "import time\n",
    "import csv\n",
    "import json"
   ]
  },
  {
   "cell_type": "code",
   "execution_count": 2,
   "id": "b95907f4",
   "metadata": {},
   "outputs": [],
   "source": [
    "df_html = pd.read_json('data.json')"
   ]
  },
  {
   "cell_type": "code",
   "execution_count": null,
   "id": "3f2948c1",
   "metadata": {},
   "outputs": [],
   "source": []
  },
  {
   "cell_type": "code",
   "execution_count": 3,
   "id": "cb2e36cd",
   "metadata": {},
   "outputs": [],
   "source": [
    "df_python = pd.read_json('data_python.json')"
   ]
  },
  {
   "cell_type": "code",
   "execution_count": 4,
   "id": "443489a7",
   "metadata": {},
   "outputs": [
    {
     "name": "stdout",
     "output_type": "stream",
     "text": [
      "<class 'pandas.core.frame.DataFrame'>\n",
      "RangeIndex: 511 entries, 0 to 510\n",
      "Data columns (total 3 columns):\n",
      " #   Column           Non-Null Count  Dtype \n",
      "---  ------           --------------  ----- \n",
      " 0   repo             511 non-null    object\n",
      " 1   language         508 non-null    object\n",
      " 2   readme_contents  411 non-null    object\n",
      "dtypes: object(3)\n",
      "memory usage: 12.1+ KB\n"
     ]
    }
   ],
   "source": [
    "df_python.info()"
   ]
  },
  {
   "cell_type": "code",
   "execution_count": 5,
   "id": "33c62a12",
   "metadata": {},
   "outputs": [],
   "source": [
    "df_java = pd.read_json('data_java.json')"
   ]
  },
  {
   "cell_type": "code",
   "execution_count": 6,
   "id": "94f22b62",
   "metadata": {},
   "outputs": [],
   "source": [
    "df_r = pd.read_json('data_r.json')"
   ]
  },
  {
   "cell_type": "code",
   "execution_count": 7,
   "id": "81fe6057",
   "metadata": {},
   "outputs": [],
   "source": [
    "df_js = pd.read_json('data_js.json')"
   ]
  },
  {
   "cell_type": "code",
   "execution_count": 8,
   "id": "08d490fd",
   "metadata": {},
   "outputs": [],
   "source": [
    "df_new= (pd.concat([df_python, df_html, df_java, df_r, df_js]))"
   ]
  },
  {
   "cell_type": "code",
   "execution_count": 9,
   "id": "8147338c",
   "metadata": {},
   "outputs": [
    {
     "name": "stdout",
     "output_type": "stream",
     "text": [
      "<class 'pandas.core.frame.DataFrame'>\n",
      "Int64Index: 2863 entries, 0 to 910\n",
      "Data columns (total 3 columns):\n",
      " #   Column           Non-Null Count  Dtype \n",
      "---  ------           --------------  ----- \n",
      " 0   repo             2863 non-null   object\n",
      " 1   language         2835 non-null   object\n",
      " 2   readme_contents  2167 non-null   object\n",
      "dtypes: object(3)\n",
      "memory usage: 89.5+ KB\n"
     ]
    }
   ],
   "source": [
    "df_new.info()"
   ]
  },
  {
   "cell_type": "code",
   "execution_count": 10,
   "id": "5131399d",
   "metadata": {},
   "outputs": [],
   "source": [
    "df_new = df_new.dropna()"
   ]
  },
  {
   "cell_type": "code",
   "execution_count": 11,
   "id": "8e17e827",
   "metadata": {},
   "outputs": [
    {
     "name": "stdout",
     "output_type": "stream",
     "text": [
      "<class 'pandas.core.frame.DataFrame'>\n",
      "Int64Index: 2144 entries, 0 to 910\n",
      "Data columns (total 3 columns):\n",
      " #   Column           Non-Null Count  Dtype \n",
      "---  ------           --------------  ----- \n",
      " 0   repo             2144 non-null   object\n",
      " 1   language         2144 non-null   object\n",
      " 2   readme_contents  2144 non-null   object\n",
      "dtypes: object(3)\n",
      "memory usage: 67.0+ KB\n"
     ]
    }
   ],
   "source": [
    "df_new.info()"
   ]
  },
  {
   "cell_type": "code",
   "execution_count": 12,
   "id": "2db6c64e",
   "metadata": {},
   "outputs": [
    {
     "data": {
      "text/plain": [
       "JavaScript    746\n",
       "HTML          607\n",
       "Python        407\n",
       "Java          198\n",
       "R             185\n",
       "Ruby            1\n",
       "Name: language, dtype: int64"
      ]
     },
     "execution_count": 12,
     "metadata": {},
     "output_type": "execute_result"
    }
   ],
   "source": [
    "df_new.language.value_counts()"
   ]
  },
  {
   "cell_type": "code",
   "execution_count": 13,
   "id": "ba9886f7",
   "metadata": {},
   "outputs": [],
   "source": [
    "df_new = df_new[df_new.language != 'Ruby']"
   ]
  },
  {
   "cell_type": "code",
   "execution_count": 14,
   "id": "092b6ce2",
   "metadata": {},
   "outputs": [],
   "source": [
    "import prepare"
   ]
  },
  {
   "cell_type": "code",
   "execution_count": 15,
   "id": "edf4348f",
   "metadata": {},
   "outputs": [],
   "source": [
    "df_new.to_csv('new_data.csv', index=False)"
   ]
  },
  {
   "cell_type": "code",
   "execution_count": 16,
   "id": "2d64f943",
   "metadata": {},
   "outputs": [
    {
     "name": "stderr",
     "output_type": "stream",
     "text": [
      "/Users/mindyshiben/codeup-data-science/nlp-project/prepare.py:67: SettingWithCopyWarning: \n",
      "A value is trying to be set on a copy of a slice from a DataFrame.\n",
      "Try using .loc[row_indexer,col_indexer] = value instead\n",
      "\n",
      "See the caveats in the documentation: https://pandas.pydata.org/pandas-docs/stable/user_guide/indexing.html#returning-a-view-versus-a-copy\n",
      "  df['stemmed'] = clean_tokens.apply(stem)\n",
      "/Users/mindyshiben/codeup-data-science/nlp-project/prepare.py:68: SettingWithCopyWarning: \n",
      "A value is trying to be set on a copy of a slice from a DataFrame.\n",
      "Try using .loc[row_indexer,col_indexer] = value instead\n",
      "\n",
      "See the caveats in the documentation: https://pandas.pydata.org/pandas-docs/stable/user_guide/indexing.html#returning-a-view-versus-a-copy\n",
      "  df['lemmatized'] = clean_tokens.apply(lemmatize)\n",
      "/Users/mindyshiben/codeup-data-science/nlp-project/prepare.py:69: SettingWithCopyWarning: \n",
      "A value is trying to be set on a copy of a slice from a DataFrame.\n",
      "Try using .loc[row_indexer,col_indexer] = value instead\n",
      "\n",
      "See the caveats in the documentation: https://pandas.pydata.org/pandas-docs/stable/user_guide/indexing.html#returning-a-view-versus-a-copy\n",
      "  df['total_words'] = df['lemmatized'].str.split().str.len()\n"
     ]
    }
   ],
   "source": [
    "df = prepare.wrangle_data()"
   ]
  },
  {
   "cell_type": "code",
   "execution_count": 17,
   "id": "1e140b62",
   "metadata": {},
   "outputs": [
    {
     "name": "stdout",
     "output_type": "stream",
     "text": [
      "<class 'pandas.core.frame.DataFrame'>\n",
      "Int64Index: 1627 entries, 0 to 2142\n",
      "Data columns (total 6 columns):\n",
      " #   Column           Non-Null Count  Dtype \n",
      "---  ------           --------------  ----- \n",
      " 0   repo             1627 non-null   object\n",
      " 1   language         1627 non-null   object\n",
      " 2   readme_contents  1627 non-null   object\n",
      " 3   stemmed          1627 non-null   object\n",
      " 4   lemmatized       1627 non-null   object\n",
      " 5   total_words      1627 non-null   int64 \n",
      "dtypes: int64(1), object(5)\n",
      "memory usage: 89.0+ KB\n"
     ]
    }
   ],
   "source": [
    "df.info()"
   ]
  },
  {
   "cell_type": "code",
   "execution_count": 21,
   "id": "52f42c9d",
   "metadata": {},
   "outputs": [
    {
     "data": {
      "text/plain": [
       "JavaScript    600\n",
       "HTML          396\n",
       "Python        320\n",
       "R             162\n",
       "Java          149\n",
       "Name: language, dtype: int64"
      ]
     },
     "execution_count": 21,
     "metadata": {},
     "output_type": "execute_result"
    }
   ],
   "source": [
    "df.language.value_counts()"
   ]
  },
  {
   "cell_type": "code",
   "execution_count": 19,
   "id": "5925314b",
   "metadata": {},
   "outputs": [],
   "source": [
    "#df = df[df.total_words >= 10]"
   ]
  },
  {
   "cell_type": "code",
   "execution_count": 20,
   "id": "a58a7581",
   "metadata": {},
   "outputs": [],
   "source": [
    "# keep 10+ words (look at options)\n",
    "# numbers, look at exluding in clean function\n",
    "# make index = false in prepare"
   ]
  },
  {
   "cell_type": "code",
   "execution_count": null,
   "id": "d9595666",
   "metadata": {},
   "outputs": [],
   "source": []
  },
  {
   "cell_type": "code",
   "execution_count": null,
   "id": "b73a8142",
   "metadata": {},
   "outputs": [],
   "source": []
  }
 ],
 "metadata": {
  "kernelspec": {
   "display_name": "Python 3 (ipykernel)",
   "language": "python",
   "name": "python3"
  },
  "language_info": {
   "codemirror_mode": {
    "name": "ipython",
    "version": 3
   },
   "file_extension": ".py",
   "mimetype": "text/x-python",
   "name": "python",
   "nbconvert_exporter": "python",
   "pygments_lexer": "ipython3",
   "version": "3.9.7"
  }
 },
 "nbformat": 4,
 "nbformat_minor": 5
}
